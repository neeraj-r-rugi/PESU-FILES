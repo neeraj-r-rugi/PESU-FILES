{
 "cells": [
  {
   "cell_type": "code",
   "execution_count": 7,
   "id": "a237038f-28cd-4780-95a4-684d571e9f6e",
   "metadata": {},
   "outputs": [
    {
     "name": "stdout",
     "output_type": "stream",
     "text": [
      "two\n",
      "two three four\n",
      "<built-in function print>\n",
      "printing here\n"
     ]
    },
    {
     "ename": "NameError",
     "evalue": "name 'Print' is not defined",
     "output_type": "error",
     "traceback": [
      "\u001b[1;31m---------------------------------------------------------------------------\u001b[0m",
      "\u001b[1;31mNameError\u001b[0m                                 Traceback (most recent call last)",
      "Cell \u001b[1;32mIn[7], line 21\u001b[0m\n\u001b[0;32m     17\u001b[0m (\n\u001b[0;32m     18\u001b[0m \u001b[38;5;124m\"\u001b[39m\u001b[38;5;124mprinting here doesnt print \u001b[39m\u001b[38;5;124m\"\u001b[39m\n\u001b[0;32m     19\u001b[0m )\n\u001b[0;32m     20\u001b[0m \u001b[38;5;66;03m#escaping the new line\u001b[39;00m\n\u001b[1;32m---> 21\u001b[0m Print(\u001b[38;5;124m\"\u001b[39m\u001b[38;5;124mcase sensitive\u001b[39m\u001b[38;5;124m\"\u001b[39m)       \u001b[38;5;66;03m#case sensitive. p should be small in print\u001b[39;00m\n\u001b[0;32m     22\u001b[0m \u001b[38;5;28mprint\u001b[39m(\u001b[38;5;124m\"\u001b[39m\u001b[38;5;124mindentation\u001b[39m\u001b[38;5;124m\"\u001b[39m)\t\t\u001b[38;5;66;03m# indentationError\u001b[39;00m\n\u001b[0;32m     23\u001b[0m \u001b[38;5;28mprint\u001b[39m                      \n",
      "\u001b[1;31mNameError\u001b[0m: name 'Print' is not defined"
     ]
    }
   ],
   "source": [
    "#Execute each of these separately while commenting other statements\n",
    "#observe the outputs carefully\n",
    "\n",
    "\n",
    "# print in 3.x : is a function\n",
    "#\t\t\t\tparentheses are a must\n",
    "#print \"one\"      # error\n",
    "print(\"two\")\n",
    "\n",
    "# how many arg? variable # of arg; all are significant; \n",
    "#no comma operator\n",
    "print(\"two\", \"three\", \"four\")\n",
    "print(print)\n",
    "\n",
    "print(\"printing here\")\n",
    "print        # no output\n",
    "(\n",
    "\"printing here doesnt print \"\n",
    ")\n",
    "#escaping the new line\n",
    "Print(\"case sensitive\")       #case sensitive. p should be small in print\n",
    "print(\"indentation\")\t\t# indentationError\n",
    "print                      \n",
    "(\n",
    "\"printing here\"\n",
    ")\n"
   ]
  },
  {
   "cell_type": "code",
   "execution_count": 11,
   "id": "9e93cd03-27ab-41c3-ab96-323cab0c6b59",
   "metadata": {},
   "outputs": [
    {
     "name": "stdout",
     "output_type": "stream",
     "text": [
      "Hi\n",
      "Python\n"
     ]
    },
    {
     "ename": "NameError",
     "evalue": "name 'y1' is not defined",
     "output_type": "error",
     "traceback": [
      "\u001b[1;31m---------------------------------------------------------------------------\u001b[0m",
      "\u001b[1;31mNameError\u001b[0m                                 Traceback (most recent call last)",
      "Cell \u001b[1;32mIn[11], line 5\u001b[0m\n\u001b[0;32m      3\u001b[0m y\u001b[38;5;241m=\u001b[39m\u001b[38;5;124m\"\u001b[39m\u001b[38;5;124mPython\u001b[39m\u001b[38;5;124m\"\u001b[39m\n\u001b[0;32m      4\u001b[0m \u001b[38;5;28mprint\u001b[39m(y)\n\u001b[1;32m----> 5\u001b[0m \u001b[38;5;28mprint\u001b[39m(y1)\n",
      "\u001b[1;31mNameError\u001b[0m: name 'y1' is not defined"
     ]
    }
   ],
   "source": [
    "print(\"Hi\")\n",
    "x=10\n",
    "y=\"Python\"\n",
    "print(y)\n",
    "print(y1)\n",
    "#if (x<10):\n",
    "#   print(\"welcome\")\n",
    "    "
   ]
  },
  {
   "cell_type": "code",
   "execution_count": 13,
   "id": "8b4b1c31-be60-4243-8a00-9fd4dd12f8e5",
   "metadata": {},
   "outputs": [
    {
     "data": {
      "text/plain": [
       "str"
      ]
     },
     "execution_count": 13,
     "metadata": {},
     "output_type": "execute_result"
    }
   ],
   "source": [
    "type( ('a') )"
   ]
  },
  {
   "cell_type": "code",
   "execution_count": 17,
   "id": "23eb7583-a455-4332-87d8-d0af071b0549",
   "metadata": {},
   "outputs": [
    {
     "data": {
      "text/plain": [
       "tuple"
      ]
     },
     "execution_count": 17,
     "metadata": {},
     "output_type": "execute_result"
    }
   ],
   "source": [
    "type((1,))"
   ]
  },
  {
   "cell_type": "code",
   "execution_count": null,
   "id": "e6a8f6ba-f633-4570-892d-0ad6092ac63c",
   "metadata": {},
   "outputs": [],
   "source": [
    "type( ('a',) )\n",
    "<type 'tuple'>"
   ]
  },
  {
   "cell_type": "code",
   "execution_count": 19,
   "id": "7bdfa0ff-a414-4adf-bd1c-4d76b99df56e",
   "metadata": {},
   "outputs": [
    {
     "name": "stdout",
     "output_type": "stream",
     "text": [
      "1\n",
      "2\n",
      "3\n",
      "4\n",
      "(6, 7, 8)\n"
     ]
    }
   ],
   "source": [
    "t=(1,2,3,4,(6,7,8))\n",
    "for i in t:\n",
    "    print(i)"
   ]
  },
  {
   "cell_type": "code",
   "execution_count": 27,
   "id": "e96e4a54-1b1c-4fbf-87dc-393fd98bd085",
   "metadata": {},
   "outputs": [
    {
     "data": {
      "text/plain": [
       "1"
      ]
     },
     "execution_count": 27,
     "metadata": {},
     "output_type": "execute_result"
    }
   ],
   "source": [
    "t.count(4)"
   ]
  },
  {
   "cell_type": "code",
   "execution_count": 7,
   "id": "6dd1a9a1-50e7-4bb3-8a67-af8f91d89e3d",
   "metadata": {},
   "outputs": [
    {
     "data": {
      "text/plain": [
       "-2"
      ]
     },
     "execution_count": 7,
     "metadata": {},
     "output_type": "execute_result"
    }
   ],
   "source": [
    "6%-4"
   ]
  },
  {
   "cell_type": "code",
   "execution_count": 1,
   "id": "8284c5bf-537e-4ec1-82c2-87cd54fd3166",
   "metadata": {},
   "outputs": [
    {
     "name": "stdout",
     "output_type": "stream",
     "text": [
      "welcome\n"
     ]
    }
   ],
   "source": [
    "print(\"welcome\")"
   ]
  },
  {
   "cell_type": "code",
   "execution_count": 3,
   "id": "54f61e0f-5688-4f35-9f98-05f82ec8a58a",
   "metadata": {},
   "outputs": [
    {
     "name": "stdout",
     "output_type": "stream",
     "text": [
      "Welcome\n",
      "Welcome\n",
      "Welcome\n",
      "Welcome\n",
      "Welcome\n"
     ]
    }
   ],
   "source": [
    "for i in range(5):\n",
    "    print(\"Welcome\")"
   ]
  },
  {
   "cell_type": "code",
   "execution_count": 13,
   "id": "ad20c10b-cf79-4fc7-8aea-cdf8e6604f24",
   "metadata": {},
   "outputs": [
    {
     "name": "stdout",
     "output_type": "stream",
     "text": [
      "[0, 1, 2, 3, 4]\n"
     ]
    }
   ],
   "source": [
    "l=[*range(5)]\n",
    "print(l)\n"
   ]
  },
  {
   "cell_type": "code",
   "execution_count": 15,
   "id": "27700bb7-384a-4063-983b-433ee68bc69b",
   "metadata": {},
   "outputs": [
    {
     "name": "stdout",
     "output_type": "stream",
     "text": [
      "welcome\n",
      "python\n"
     ]
    }
   ],
   "source": [
    "print(\"welcome\");x=\"python\"; print(x)"
   ]
  },
  {
   "cell_type": "code",
   "execution_count": 19,
   "id": "53c03f24-2d81-454a-82d0-d6f3de30289a",
   "metadata": {},
   "outputs": [
    {
     "name": "stdout",
     "output_type": "stream",
     "text": [
      "welcome\n"
     ]
    }
   ],
   "source": [
    "''' Hi welcome\n",
    "to python lskjgklaffjgkldafg ldkgjlkfdjgklfd 's;dljgdflkjgklfdg s;dlfkglsdfgldfkg;dflkgl;dfgkdfljgkfladkjggklfd'''\n",
    "print\\\n",
    "(\"welcome\"\\\n",
    ")"
   ]
  },
  {
   "cell_type": "code",
   "execution_count": 21,
   "id": "261239bf-a57a-4f32-a1ce-9e8898cf2027",
   "metadata": {},
   "outputs": [
    {
     "name": "stdout",
     "output_type": "stream",
     "text": [
      "30\n"
     ]
    }
   ],
   "source": [
    "#this is a program for adding two number\n",
    "c=10+20\n",
    "print(c)"
   ]
  },
  {
   "cell_type": "code",
   "execution_count": 11,
   "id": "9caccdad-3c6b-4c2e-866b-d19996171d31",
   "metadata": {},
   "outputs": [
    {
     "ename": "SyntaxError",
     "evalue": "unexpected character after line continuation character (3096806195.py, line 1)",
     "output_type": "error",
     "traceback": [
      "\u001b[1;36m  Cell \u001b[1;32mIn[11], line 1\u001b[1;36m\u001b[0m\n\u001b[1;33m    print\\\u001b[0m\n\u001b[1;37m          ^\u001b[0m\n\u001b[1;31mSyntaxError\u001b[0m\u001b[1;31m:\u001b[0m unexpected character after line continuation character\n"
     ]
    }
   ],
   "source": [
    "print\\              \n",
    "(\\\n",
    "\"printing here\" \\\n",
    ") "
   ]
  },
  {
   "cell_type": "code",
   "execution_count": 17,
   "id": "08758732-7802-45b0-a001-5ea32c19d3c1",
   "metadata": {},
   "outputs": [],
   "source": [
    "l=list()\n",
    "t=tuple()\n",
    "s=set()\n",
    "d=dict()"
   ]
  },
  {
   "cell_type": "code",
   "execution_count": 19,
   "id": "e08921c6-5280-45d2-8166-628ddcbd35d4",
   "metadata": {},
   "outputs": [
    {
     "data": {
      "text/plain": [
       "1876657291648"
      ]
     },
     "execution_count": 19,
     "metadata": {},
     "output_type": "execute_result"
    }
   ],
   "source": [
    "id(l)"
   ]
  },
  {
   "cell_type": "code",
   "execution_count": 15,
   "id": "6d71a14c-6635-495c-98a8-d22789cc9023",
   "metadata": {},
   "outputs": [
    {
     "ename": "SyntaxError",
     "evalue": "unexpected character after line continuation character (2476318760.py, line 1)",
     "output_type": "error",
     "traceback": [
      "\u001b[1;36m  Cell \u001b[1;32mIn[15], line 1\u001b[1;36m\u001b[0m\n\u001b[1;33m    print\\(\u001b[0m\n\u001b[1;37m          ^\u001b[0m\n\u001b[1;31mSyntaxError\u001b[0m\u001b[1;31m:\u001b[0m unexpected character after line continuation character\n"
     ]
    }
   ],
   "source": [
    "print\\(\n",
    "    \"\"\" Hi welcome \n",
    "to python\"\"\")"
   ]
  },
  {
   "cell_type": "code",
   "execution_count": 7,
   "id": "c983ba55-ccb1-44e6-9d09-74082fb4347f",
   "metadata": {},
   "outputs": [
    {
     "name": "stdout",
     "output_type": "stream",
     "text": [
      " Hi welcome \n",
      "to python\n"
     ]
    }
   ],
   "source": [
    "print(\\\n",
    "    \"\"\" Hi welcome \n",
    "to python\"\"\")"
   ]
  },
  {
   "cell_type": "code",
   "execution_count": 17,
   "id": "b5e5c58f-88fe-4380-9df4-c3e2b1526680",
   "metadata": {},
   "outputs": [
    {
     "name": "stdout",
     "output_type": "stream",
     "text": [
      "rama bheema shyama\n"
     ]
    }
   ],
   "source": [
    "print(\"rama\", \"bheema\",\"shyama\")"
   ]
  },
  {
   "cell_type": "code",
   "execution_count": 29,
   "id": "822ad8e3-820e-4ed6-b084-0750da3975c3",
   "metadata": {},
   "outputs": [
    {
     "name": "stdout",
     "output_type": "stream",
     "text": [
      "10 20 30\n"
     ]
    }
   ],
   "source": [
    "print(10,20,30)"
   ]
  },
  {
   "cell_type": "code",
   "execution_count": 31,
   "id": "b60cfadd-43a1-4778-ac48-188ab2b43e3d",
   "metadata": {},
   "outputs": [
    {
     "name": "stdout",
     "output_type": "stream",
     "text": [
      "10,,20,,30\tNone\n",
      "Hi welcome\n"
     ]
    }
   ],
   "source": [
    "print(10,20,30,sep=',,', end='\\t')\n",
    "print(None)\n",
    "print(\"Hi welcome\")"
   ]
  },
  {
   "cell_type": "code",
   "execution_count": 9,
   "id": "e00d5732-f6c8-47fd-9692-255900530f95",
   "metadata": {},
   "outputs": [],
   "source": [
    "l=[*range(5)]"
   ]
  },
  {
   "cell_type": "code",
   "execution_count": 11,
   "id": "869fe257-73eb-4d83-ab74-968cf8adff80",
   "metadata": {},
   "outputs": [
    {
     "name": "stdout",
     "output_type": "stream",
     "text": [
      "[0, 1, 2, 3, 4]\n"
     ]
    }
   ],
   "source": [
    "print(l)"
   ]
  },
  {
   "cell_type": "code",
   "execution_count": 15,
   "id": "e4da8f17-f94e-45bd-bbf5-49dbd202161a",
   "metadata": {},
   "outputs": [],
   "source": [
    "l1=[1,2,3,\"Hi\"]"
   ]
  },
  {
   "cell_type": "code",
   "execution_count": 17,
   "id": "75f96fae-3b13-4575-bfa0-104882aec7ac",
   "metadata": {},
   "outputs": [
    {
     "name": "stdout",
     "output_type": "stream",
     "text": [
      "[1, 2, 3, 'Hi']\n"
     ]
    }
   ],
   "source": [
    "print(l1)"
   ]
  },
  {
   "cell_type": "code",
   "execution_count": 23,
   "id": "1f0d6b0a-aa9b-482a-a2c4-f6d9e9fc28e4",
   "metadata": {},
   "outputs": [],
   "source": [
    "m=range(1,6)"
   ]
  },
  {
   "cell_type": "code",
   "execution_count": 27,
   "id": "4682555b-baf5-4bd4-b8e8-901a084ec62f",
   "metadata": {},
   "outputs": [
    {
     "data": {
      "text/plain": [
       "range"
      ]
     },
     "execution_count": 27,
     "metadata": {},
     "output_type": "execute_result"
    }
   ],
   "source": [
    "type(m)"
   ]
  },
  {
   "cell_type": "code",
   "execution_count": 33,
   "id": "79fcf8ee-dcf3-44e5-b24f-3264e296b14b",
   "metadata": {},
   "outputs": [
    {
     "name": "stdout",
     "output_type": "stream",
     "text": [
      "Hi welcome to Python nice to start with Python\n"
     ]
    }
   ],
   "source": [
    "print(\"Hi welcome to Python\",end=' '); print(\"nice to start with Python\")\n"
   ]
  },
  {
   "cell_type": "code",
   "execution_count": 7,
   "id": "8a567e94-0dbb-4b70-96c6-26919bab809c",
   "metadata": {},
   "outputs": [
    {
     "name": "stdout",
     "output_type": "stream",
     "text": [
      "Hi\n"
     ]
    }
   ],
   "source": [
    " print(\"Hi\")\n",
    "x=0\n",
    "if (x<0):\n",
    "    print(\"x is -ve\")\n",
    "    "
   ]
  },
  {
   "cell_type": "code",
   "execution_count": 15,
   "id": "33809a8d-0c54-45e7-9592-6f08e946542f",
   "metadata": {},
   "outputs": [
    {
     "name": "stdout",
     "output_type": "stream",
     "text": [
      "python\n"
     ]
    },
    {
     "data": {
      "text/plain": [
       "'print(\\'python\\')#valid\\n#print(\"python\\')# error ,SyntaxError: EOL while scanning string literal\\n#print(\\'python\")# error ,SyntaxError: EOL while scanning string literal\\n\\nprint(\"python\")# error,IndentationError: unexpected indent'"
      ]
     },
     "execution_count": 15,
     "metadata": {},
     "output_type": "execute_result"
    }
   ],
   "source": [
    " print(\"python\") #valid \n",
    "'''print('python')#valid\n",
    "#print(\"python')# error ,SyntaxError: EOL while scanning string literal\n",
    "#print('python\")# error ,SyntaxError: EOL while scanning string literal\n",
    "\n",
    "print(\"python\")# error,IndentationError: unexpected indent'''\n"
   ]
  },
  {
   "cell_type": "code",
   "execution_count": 11,
   "id": "61dd65c9-1f45-4d7a-af88-f946f474f4cc",
   "metadata": {},
   "outputs": [
    {
     "name": "stdout",
     "output_type": "stream",
     "text": [
      "Hi\n"
     ]
    }
   ],
   "source": [
    " print(\"Hi\")"
   ]
  },
  {
   "cell_type": "code",
   "execution_count": 39,
   "id": "5dacb3e7-c6a6-45d9-ba50-4eea924248f0",
   "metadata": {},
   "outputs": [
    {
     "name": "stdout",
     "output_type": "stream",
     "text": [
      "20.0\n"
     ]
    }
   ],
   "source": [
    "print(5*4/(3-2))"
   ]
  },
  {
   "cell_type": "code",
   "execution_count": 21,
   "id": "5ba65a47-73ac-4ea3-b154-949cfe2ecbf3",
   "metadata": {},
   "outputs": [
    {
     "name": "stdout",
     "output_type": "stream",
     "text": [
      "140728346199112 140728346199112\n",
      "140728346199112 140728346199752\n"
     ]
    }
   ],
   "source": [
    "num=10\n",
    "k=num\n",
    "print(id(num),id(k))\n",
    "k=30\n",
    "print(id(num),id(k))\n"
   ]
  },
  {
   "cell_type": "code",
   "execution_count": 27,
   "id": "0dba35fd-037a-4878-8c3b-7bfb30de2f3d",
   "metadata": {},
   "outputs": [
    {
     "name": "stdout",
     "output_type": "stream",
     "text": [
      "3162734607888\n",
      "3162734599440\n"
     ]
    }
   ],
   "source": [
    "num=10.0\n",
    "print(id(num))\n",
    "num=num+20.67\n",
    "print(id(num))\n"
   ]
  },
  {
   "cell_type": "code",
   "execution_count": 35,
   "id": "6fb7f309-1568-4dd2-96ea-824e6499bf28",
   "metadata": {},
   "outputs": [
    {
     "name": "stdout",
     "output_type": "stream",
     "text": [
      "hihihihihi\n"
     ]
    }
   ],
   "source": [
    "y=\"hi\"\n",
    "print(5*y)"
   ]
  },
  {
   "cell_type": "code",
   "execution_count": 55,
   "id": "3c012a77-ba4e-4448-93f8-92a74aa7982d",
   "metadata": {},
   "outputs": [
    {
     "name": "stdout",
     "output_type": "stream",
     "text": [
      "140711832372616 140711832372616\n"
     ]
    }
   ],
   "source": [
    "num=k=20\n",
    "print(id(num),id(k))\n"
   ]
  },
  {
   "cell_type": "code",
   "execution_count": 37,
   "id": "8fbb0f94-cbdc-4ee6-843d-cf34c1277d47",
   "metadata": {},
   "outputs": [
    {
     "data": {
      "text/plain": [
       "int"
      ]
     },
     "execution_count": 37,
     "metadata": {},
     "output_type": "execute_result"
    }
   ],
   "source": [
    "type(k)\n"
   ]
  },
  {
   "cell_type": "code",
   "execution_count": 43,
   "id": "989ce19c-6841-4420-851f-c5a2083193ca",
   "metadata": {},
   "outputs": [
    {
     "data": {
      "text/plain": [
       "int"
      ]
     },
     "execution_count": 43,
     "metadata": {},
     "output_type": "execute_result"
    }
   ],
   "source": [
    "x=100000000000000000000000000000000\n",
    "type(x)"
   ]
  },
  {
   "cell_type": "code",
   "execution_count": 45,
   "id": "7e484f27-2e40-459c-bb98-63fe2eb12749",
   "metadata": {},
   "outputs": [
    {
     "data": {
      "text/plain": [
       "str"
      ]
     },
     "execution_count": 45,
     "metadata": {},
     "output_type": "execute_result"
    }
   ],
   "source": [
    "type(\"welcome\")"
   ]
  },
  {
   "cell_type": "code",
   "execution_count": 59,
   "id": "b83399f9-94d5-473f-86ac-11b0a14996a8",
   "metadata": {},
   "outputs": [
    {
     "name": "stdout",
     "output_type": "stream",
     "text": [
      "True\n"
     ]
    }
   ],
   "source": [
    "b=bool()\n",
    "b=True\n",
    "print(b)"
   ]
  },
  {
   "cell_type": "code",
   "execution_count": 69,
   "id": "1dc58126-4c7b-4d31-bcf3-b19ae252c55e",
   "metadata": {},
   "outputs": [
    {
     "name": "stdout",
     "output_type": "stream",
     "text": [
      "1909328782937488327123092850391485\n"
     ]
    }
   ],
   "source": [
    "x=int()\n",
    "x=1909328782937488327123092850391485\n",
    "\n",
    "print(x)"
   ]
  },
  {
   "cell_type": "code",
   "execution_count": 3,
   "id": "2dab4169-4575-4110-aaa3-3bdee482ae07",
   "metadata": {},
   "outputs": [
    {
     "name": "stdout",
     "output_type": "stream",
     "text": [
      "Hi\n"
     ]
    }
   ],
   "source": [
    " print(\"Hi\")\n",
    "    "
   ]
  },
  {
   "cell_type": "code",
   "execution_count": 51,
   "id": "b791840f-c9b0-40a2-8101-f9c3fd57e51e",
   "metadata": {},
   "outputs": [
    {
     "name": "stdin",
     "output_type": "stream",
     "text": [
      " 45\n"
     ]
    }
   ],
   "source": [
    "x=input()"
   ]
  },
  {
   "cell_type": "code",
   "execution_count": 53,
   "id": "d60db08b-12db-4014-910f-7e64bd90b362",
   "metadata": {},
   "outputs": [
    {
     "data": {
      "text/plain": [
       "str"
      ]
     },
     "execution_count": 53,
     "metadata": {},
     "output_type": "execute_result"
    }
   ],
   "source": [
    "type(x)"
   ]
  },
  {
   "cell_type": "code",
   "execution_count": null,
   "id": "ece09857-2b00-4019-b570-f29c01fae950",
   "metadata": {},
   "outputs": [],
   "source": [
    "x="
   ]
  },
  {
   "cell_type": "code",
   "execution_count": 3,
   "id": "ae4f183e-2dd8-4a4e-9845-d5b54e72c115",
   "metadata": {},
   "outputs": [
    {
     "name": "stdin",
     "output_type": "stream",
     "text": [
      "Enter 2 marks 45 67\n"
     ]
    },
    {
     "data": {
      "text/plain": [
       "list"
      ]
     },
     "execution_count": 3,
     "metadata": {},
     "output_type": "execute_result"
    }
   ],
   "source": [
    "marks=input(\"Enter 2 marks\")\n",
    "\n",
    "marks=marks.split()\n",
    "type(marks)"
   ]
  },
  {
   "cell_type": "code",
   "execution_count": 5,
   "id": "b2823f3a-9e54-47ea-9342-00d25b814280",
   "metadata": {},
   "outputs": [
    {
     "name": "stdout",
     "output_type": "stream",
     "text": [
      "['45', '67']\n"
     ]
    }
   ],
   "source": [
    "print(marks)"
   ]
  },
  {
   "cell_type": "code",
   "execution_count": 9,
   "id": "cdf36cd5-3f1f-4b0e-8f19-f06cbadfa626",
   "metadata": {},
   "outputs": [
    {
     "data": {
      "text/plain": [
       "True"
      ]
     },
     "execution_count": 9,
     "metadata": {},
     "output_type": "execute_result"
    }
   ],
   "source": [
    "x=20\n",
    "y=20\n",
    "x is y"
   ]
  },
  {
   "cell_type": "code",
   "execution_count": 13,
   "id": "24afee52-a142-4135-bb6b-f3b3cdbad8ea",
   "metadata": {},
   "outputs": [
    {
     "data": {
      "text/plain": [
       "False"
      ]
     },
     "execution_count": 13,
     "metadata": {},
     "output_type": "execute_result"
    }
   ],
   "source": [
    "45 in marks"
   ]
  },
  {
   "cell_type": "code",
   "execution_count": 17,
   "id": "f4a30c0f-8ecb-4f2f-8645-849be60eb381",
   "metadata": {},
   "outputs": [
    {
     "data": {
      "text/plain": [
       "False"
      ]
     },
     "execution_count": 17,
     "metadata": {},
     "output_type": "execute_result"
    }
   ],
   "source": [
    "x= 5<1\n",
    "x"
   ]
  },
  {
   "cell_type": "code",
   "execution_count": 19,
   "id": "f1b611c5-98e9-46ad-b7e4-268f7f89f1c4",
   "metadata": {},
   "outputs": [
    {
     "ename": "SyntaxError",
     "evalue": "invalid syntax (3387993841.py, line 2)",
     "output_type": "error",
     "traceback": [
      "\u001b[1;36m  Cell \u001b[1;32mIn[19], line 2\u001b[1;36m\u001b[0m\n\u001b[1;33m    x++\u001b[0m\n\u001b[1;37m       ^\u001b[0m\n\u001b[1;31mSyntaxError\u001b[0m\u001b[1;31m:\u001b[0m invalid syntax\n"
     ]
    }
   ],
   "source": [
    "x=10\n",
    "x++"
   ]
  },
  {
   "cell_type": "code",
   "execution_count": 21,
   "id": "8cf4d0ea-0f06-4104-9bee-0e815607441b",
   "metadata": {},
   "outputs": [
    {
     "data": {
      "text/plain": [
       "-1"
      ]
     },
     "execution_count": 21,
     "metadata": {},
     "output_type": "execute_result"
    }
   ],
   "source": [
    "5%-2"
   ]
  },
  {
   "cell_type": "code",
   "execution_count": 23,
   "id": "4f30396f-c7cc-4cf6-b475-ee69eca48310",
   "metadata": {},
   "outputs": [
    {
     "data": {
      "text/plain": [
       "-1"
      ]
     },
     "execution_count": 23,
     "metadata": {},
     "output_type": "execute_result"
    }
   ],
   "source": [
    "-5%-2"
   ]
  },
  {
   "cell_type": "code",
   "execution_count": 25,
   "id": "cab0a3a6-0c27-41d9-917c-bdc5c44bdf99",
   "metadata": {},
   "outputs": [
    {
     "data": {
      "text/plain": [
       "1"
      ]
     },
     "execution_count": 25,
     "metadata": {},
     "output_type": "execute_result"
    }
   ],
   "source": [
    "-5%2"
   ]
  },
  {
   "cell_type": "code",
   "execution_count": null,
   "id": "bdc64f40-4a3a-45d7-9a1a-43a743851029",
   "metadata": {},
   "outputs": [],
   "source": [
    "x=input(\"Enter 3 numbers\").split()\n",
    "x"
   ]
  },
  {
   "cell_type": "code",
   "execution_count": 11,
   "id": "900d8a5b-f6d3-410d-93e0-37f615981cd2",
   "metadata": {},
   "outputs": [
    {
     "name": "stdin",
     "output_type": "stream",
     "text": [
      "Enter 3 numbers 4*3*8\n"
     ]
    },
    {
     "data": {
      "text/plain": [
       "['4', '3', '8']"
      ]
     },
     "execution_count": 11,
     "metadata": {},
     "output_type": "execute_result"
    }
   ],
   "source": [
    "x=input(\"Enter 3 numbers\").split(sep='*')\n",
    "x"
   ]
  },
  {
   "cell_type": "code",
   "execution_count": 35,
   "id": "0d065c78-d68d-436e-b5e0-37c5759a3e25",
   "metadata": {},
   "outputs": [
    {
     "name": "stdin",
     "output_type": "stream",
     "text": [
      "Enter 3 numbers tt&yy&uu\n"
     ]
    },
    {
     "name": "stdout",
     "output_type": "stream",
     "text": [
      "['tt', 'yy', 'uu']\n"
     ]
    }
   ],
   "source": [
    "x=input(\"Enter 3 numbers\").split(sep='&')\n",
    "print(x)\n",
    "#y=x.split()\n",
    "#print(y)\n",
    "#x=int(x)\n",
    "#type(x)"
   ]
  },
  {
   "cell_type": "code",
   "execution_count": 39,
   "id": "8d6896fb-9aeb-4e30-812d-b71803e4df20",
   "metadata": {},
   "outputs": [
    {
     "ename": "TypeError",
     "evalue": "'int' object is not iterable",
     "output_type": "error",
     "traceback": [
      "\u001b[1;31m---------------------------------------------------------------------------\u001b[0m",
      "\u001b[1;31mTypeError\u001b[0m                                 Traceback (most recent call last)",
      "Cell \u001b[1;32mIn[39], line 2\u001b[0m\n\u001b[0;32m      1\u001b[0m x\u001b[38;5;241m=\u001b[39m\u001b[38;5;241m2345\u001b[39m\n\u001b[1;32m----> 2\u001b[0m y\u001b[38;5;241m=\u001b[39m\u001b[38;5;28mlist\u001b[39m(x)\n\u001b[0;32m      3\u001b[0m \u001b[38;5;28mprint\u001b[39m(y)\n",
      "\u001b[1;31mTypeError\u001b[0m: 'int' object is not iterable"
     ]
    }
   ],
   "source": [
    "x='2345'\n",
    "y=list(x)\n",
    "print(y)"
   ]
  },
  {
   "cell_type": "code",
   "execution_count": 47,
   "id": "84fc126a-c3f8-437d-95fb-aa6b3c7d7e3f",
   "metadata": {},
   "outputs": [
    {
     "data": {
      "text/plain": [
       "16"
      ]
     },
     "execution_count": 47,
     "metadata": {},
     "output_type": "execute_result"
    }
   ],
   "source": [
    "x=float()\n",
    "x=10.5\n",
    "y=6\n",
    "z=int()\n",
    "z=int(x+y)\n",
    "z"
   ]
  },
  {
   "cell_type": "code",
   "execution_count": 3,
   "id": "be7855b2-19f5-4558-8728-195a8a247aef",
   "metadata": {},
   "outputs": [
    {
     "name": "stdin",
     "output_type": "stream",
     "text": [
      "enter your name gggg\n"
     ]
    },
    {
     "name": "stdout",
     "output_type": "stream",
     "text": [
      "welcome  gggg\n"
     ]
    }
   ],
   "source": [
    "name=input(\"enter your name\")\n",
    "print(\"welcome \", name)"
   ]
  },
  {
   "cell_type": "code",
   "execution_count": 11,
   "id": "0da5cd6b-edc8-4272-88db-b523ecff73b5",
   "metadata": {},
   "outputs": [
    {
     "name": "stdout",
     "output_type": "stream",
     "text": [
      "a\n"
     ]
    }
   ],
   "source": [
    "print(chr(97))"
   ]
  },
  {
   "cell_type": "code",
   "execution_count": 15,
   "id": "1e6f1c97-cee1-43d3-9c01-7696eaf09e25",
   "metadata": {},
   "outputs": [
    {
     "data": {
      "text/plain": [
       "True"
      ]
     },
     "execution_count": 15,
     "metadata": {},
     "output_type": "execute_result"
    }
   ],
   "source": [
    "'red' in ('red','blue')"
   ]
  },
  {
   "cell_type": "code",
   "execution_count": 17,
   "id": "0c99bccd-3c1f-4698-8376-5ead0b6ac297",
   "metadata": {},
   "outputs": [
    {
     "data": {
      "text/plain": [
       "True"
      ]
     },
     "execution_count": 17,
     "metadata": {},
     "output_type": "execute_result"
    }
   ],
   "source": [
    "'python' in 'welcome to python'"
   ]
  },
  {
   "cell_type": "code",
   "execution_count": 25,
   "id": "b2a720fc-40d7-4e95-9975-1bc1ad135d16",
   "metadata": {},
   "outputs": [
    {
     "data": {
      "text/plain": [
       "True"
      ]
     },
     "execution_count": 25,
     "metadata": {},
     "output_type": "execute_result"
    }
   ],
   "source": [
    "l=[] \n",
    "bool(0) is False\n"
   ]
  },
  {
   "cell_type": "code",
   "execution_count": 1,
   "id": "29b5079a-c346-4216-9cf2-17458cc5436f",
   "metadata": {},
   "outputs": [
    {
     "data": {
      "text/plain": [
       "True"
      ]
     },
     "execution_count": 1,
     "metadata": {},
     "output_type": "execute_result"
    }
   ],
   "source": [
    "x=(5>2 or 4<3)\n",
    "x"
   ]
  },
  {
   "cell_type": "code",
   "execution_count": 39,
   "id": "a44b6c89-b549-4107-8df0-930cbc8bc7c1",
   "metadata": {},
   "outputs": [
    {
     "data": {
      "text/plain": [
       "12"
      ]
     },
     "execution_count": 39,
     "metadata": {},
     "output_type": "execute_result"
    }
   ],
   "source": [
    "x=12 | 4\n",
    "x"
   ]
  },
  {
   "cell_type": "code",
   "execution_count": 45,
   "id": "8d642d63-8651-4e79-aeb9-66fda92ffc9d",
   "metadata": {},
   "outputs": [
    {
     "name": "stdout",
     "output_type": "stream",
     "text": [
      "1\n"
     ]
    }
   ],
   "source": [
    "print(1^0)"
   ]
  },
  {
   "cell_type": "code",
   "execution_count": 57,
   "id": "eb5dde97-b878-4fbc-8016-888664a26ef3",
   "metadata": {},
   "outputs": [
    {
     "data": {
      "text/plain": [
       "-1"
      ]
     },
     "execution_count": 57,
     "metadata": {},
     "output_type": "execute_result"
    }
   ],
   "source": [
    "-5%-2"
   ]
  },
  {
   "cell_type": "code",
   "execution_count": 61,
   "id": "c80ba43a-fcad-466e-a3db-155fc21be808",
   "metadata": {},
   "outputs": [
    {
     "name": "stdout",
     "output_type": "stream",
     "text": [
      "welcome to print function\n",
      "The value of a is pes\n",
      "4\n",
      "5\n",
      "2+3\n",
      "red greenblue\n",
      "red\n",
      "green\n",
      "red\n",
      "green\n",
      "red\n",
      "green\n",
      "\"I'm going to college\"\n",
      "red----green----white**2pes\n",
      "(6+1j)\n"
     ]
    }
   ],
   "source": [
    "print (\"\"\"welcome to print function\"\"\")\n",
    "a=\"pes\"\n",
    "print(\"The value of a is\",a)\n",
    "# expression as arg : evaluated before the call\n",
    "print(2 + 2)\n",
    "print(2+3)                  #expression is evaluated\n",
    "print(\"2+3\")\t\t\t#a string\n",
    "print(\"red\",'green' \"blue\")\n",
    "print(\"red\")\n",
    "print('green')\n",
    "print(\"red\");print(\"green\")\n",
    "#how to print in two separate lines using a single statement.--> use \\n control character\n",
    "print('red\\ngreen')\n",
    "print(\"\\\"I'm going to college\\\"\")\n",
    "print(\"red\",\"green\",\"white\",sep=\"----\",end=\"**\")  #keyword arguments are sep=\"----\" and end=\"**\"\n",
    "# always positional args first and then the keyword arguments\n",
    "\n",
    "print(\"2\"+\"pes\")   #error\n",
    "a=2+3j\n",
    "b=4-2j\n",
    "print(a+b)     # 2+3j\n"
   ]
  },
  {
   "cell_type": "code",
   "execution_count": 26,
   "id": "23423ce2-5382-4ca5-bd8e-0693babb5dca",
   "metadata": {},
   "outputs": [
    {
     "name": "stdout",
     "output_type": "stream",
     "text": [
      "red green blue\n"
     ]
    }
   ],
   "source": [
    "print(\"red\",'green', \"blue\")"
   ]
  },
  {
   "cell_type": "code",
   "execution_count": 7,
   "id": "e16430c8-6b20-4595-9e31-a2d47bf3878a",
   "metadata": {},
   "outputs": [
    {
     "name": "stdout",
     "output_type": "stream",
     "text": [
      "\"I'm going to college\"\n"
     ]
    }
   ],
   "source": [
    "print(\"\\\"I'm going to college\\\"\")"
   ]
  },
  {
   "cell_type": "code",
   "execution_count": 9,
   "id": "bca6af3f-d3f7-40e7-9cef-d034bddb1fca",
   "metadata": {},
   "outputs": [
    {
     "name": "stdout",
     "output_type": "stream",
     "text": [
      "rama krishna\n",
      "apple@banana\n",
      "*\n"
     ]
    }
   ],
   "source": [
    "sep = \"*\"\n",
    "print(\"rama\", \"krishna\")\n",
    "print(\"apple\", \"banana\", sep = \"@\") # does not create a variable called sep\n",
    "print(sep)  # * not @\n"
   ]
  },
  {
   "cell_type": "code",
   "execution_count": 11,
   "id": "bb6b20ed-96ad-4b60-b6bd-b79b033a29fc",
   "metadata": {},
   "outputs": [
    {
     "name": "stdout",
     "output_type": "stream",
     "text": [
      "rama krishna parama  hamsa   not  ----\n"
     ]
    }
   ],
   "source": [
    "sep = \"----\"\n",
    "# value of variable sep is substituted and nothing special\n",
    "print(\"rama\", \"krishna\", \"parama \", \"hamsa \", \" not \", sep)"
   ]
  },
  {
   "cell_type": "code",
   "execution_count": 13,
   "id": "8de2f1ab-5809-4004-b1e9-d22045fcf404",
   "metadata": {},
   "outputs": [
    {
     "name": "stdout",
     "output_type": "stream",
     "text": [
      "140706078901320\n",
      "140706078901320\n",
      "140706078901320\n"
     ]
    }
   ],
   "source": [
    "a = 10\n",
    "#write the diagram for these statements\n",
    "b = 10\n",
    "# below lines must give the same output\n",
    "print(id(10))\n",
    "print(id(a))\n",
    "print(id(b))\n",
    "# id function returns the unique identity value associated with \n",
    "#the given value\n"
   ]
  },
  {
   "cell_type": "code",
   "execution_count": 2,
   "id": "d46e4479-ea1b-4583-8eea-c83724b24d8e",
   "metadata": {},
   "outputs": [
    {
     "data": {
      "text/plain": [
       "512"
      ]
     },
     "execution_count": 2,
     "metadata": {},
     "output_type": "execute_result"
    }
   ],
   "source": [
    "2**3**2"
   ]
  },
  {
   "cell_type": "code",
   "execution_count": 10,
   "id": "8480d883-0e67-4844-9334-0eeb4cdad174",
   "metadata": {},
   "outputs": [
    {
     "data": {
      "text/plain": [
       "-1"
      ]
     },
     "execution_count": 10,
     "metadata": {},
     "output_type": "execute_result"
    }
   ],
   "source": [
    "-5%-2"
   ]
  },
  {
   "cell_type": "code",
   "execution_count": 20,
   "id": "69576b9f-d261-4aa7-b4f5-268053193276",
   "metadata": {},
   "outputs": [
    {
     "data": {
      "text/plain": [
       "-2"
      ]
     },
     "execution_count": 20,
     "metadata": {},
     "output_type": "execute_result"
    }
   ],
   "source": [
    "~1"
   ]
  },
  {
   "cell_type": "code",
   "execution_count": 22,
   "id": "0883ed29-ae91-4bf2-afff-89a0ceb71045",
   "metadata": {},
   "outputs": [
    {
     "name": "stdout",
     "output_type": "stream",
     "text": [
      "welcome to print function\n"
     ]
    }
   ],
   "source": [
    "print (\"\"\"welcome to print function\"\"\")"
   ]
  },
  {
   "cell_type": "code",
   "execution_count": 32,
   "id": "29fd7962-ef55-4e51-9ca7-00926685c3b7",
   "metadata": {},
   "outputs": [
    {
     "name": "stdout",
     "output_type": "stream",
     "text": [
      "\"Hi welcome\"\n"
     ]
    }
   ],
   "source": [
    "print('\"Hi welcome\"')"
   ]
  },
  {
   "cell_type": "code",
   "execution_count": 65,
   "id": "3b66e0f3-96a8-461a-9f1d-0d112c01e924",
   "metadata": {},
   "outputs": [
    {
     "data": {
      "text/plain": [
       "109896793"
      ]
     },
     "execution_count": 65,
     "metadata": {},
     "output_type": "execute_result"
    }
   ],
   "source": [
    "109896793"
   ]
  },
  {
   "cell_type": "code",
   "execution_count": 38,
   "id": "aeaf0ef6-3cab-40fd-a6e8-3809a7905885",
   "metadata": {},
   "outputs": [
    {
     "name": "stdout",
     "output_type": "stream",
     "text": [
      "together\n"
     ]
    }
   ],
   "source": [
    "print(\"to\", end = \"\")\n",
    "print(\"get\", end = \"\")\n",
    "print(\"her\")\n"
   ]
  },
  {
   "cell_type": "code",
   "execution_count": 40,
   "id": "c038c510-01aa-46d1-929a-d5202fcfc454",
   "metadata": {},
   "outputs": [
    {
     "name": "stdout",
     "output_type": "stream",
     "text": [
      "rama krishna parama  hamsa   not  ----\n"
     ]
    }
   ],
   "source": [
    "sep = \"----\"\n",
    "# value of variable sep is substituted and nothing special\n",
    "print(\"rama\", \"krishna\", \"parama \", \"hamsa \", \" not \", sep)"
   ]
  },
  {
   "cell_type": "code",
   "execution_count": 15,
   "id": "8d642097-bbcc-4518-af59-db57bbd5939d",
   "metadata": {},
   "outputs": [
    {
     "name": "stdout",
     "output_type": "stream",
     "text": [
      "140734245487688\n",
      "140734245487688\n",
      "140734245487688\n"
     ]
    }
   ],
   "source": [
    "a = 10\n",
    "#write the diagram for these statements\n",
    "b = 10\n",
    "# below lines must give the same output\n",
    "print(id(10))\n",
    "print(id(a))\n",
    "print(id(b))\n",
    "# id function returns the unique identity value associated with \n",
    "#the given value\n"
   ]
  },
  {
   "cell_type": "code",
   "execution_count": 44,
   "id": "ee68795f-9ada-4e4a-b96e-a797055a8087",
   "metadata": {},
   "outputs": [
    {
     "data": {
      "text/plain": [
       "390625"
      ]
     },
     "execution_count": 44,
     "metadata": {},
     "output_type": "execute_result"
    }
   ],
   "source": [
    "5**2**3"
   ]
  },
  {
   "cell_type": "code",
   "execution_count": 46,
   "id": "65a48f2c-9d47-4e0c-b474-3078ce25b7cd",
   "metadata": {},
   "outputs": [
    {
     "name": "stdin",
     "output_type": "stream",
     "text": [
      "Enter first number 45\n",
      "Enter second number 56\n"
     ]
    },
    {
     "name": "stdout",
     "output_type": "stream",
     "text": [
      "101\n",
      "-11\n",
      "2520\n",
      "0.8035714285714286\n",
      "0\n",
      "45\n",
      "380102539714517509119234755043630811768952009743379517880956797171165817417204380035400390625\n"
     ]
    }
   ],
   "source": [
    "a = int(input(\"Enter first number\"))\n",
    "b = int(input(\"Enter second number\"))\n",
    "#binary operators\n",
    "d = a + b\n",
    "print(d)\n",
    "d = a - b\n",
    "print(d)\n",
    "d = a * b\n",
    "print(d)\n",
    "d = a / b    #true division operator\n",
    "print(d)\n",
    "d= a // b  #Integer Division or floor division  or truncating division operator\n",
    "print(d)\n",
    "d = a % b\t\t# % operator gives the remainder of a//b\n",
    "print(d)\n",
    "d = a**b\t\t#Power operator\n",
    "print(d)\n"
   ]
  },
  {
   "cell_type": "code",
   "execution_count": 48,
   "id": "7fa3995d-74c8-4eeb-867e-6b832e98e61e",
   "metadata": {},
   "outputs": [
    {
     "name": "stdout",
     "output_type": "stream",
     "text": [
      "11\n",
      "1\n",
      "0\n",
      "256\n",
      "64\n",
      "512\n",
      "40\n"
     ]
    }
   ],
   "source": [
    "print(3+2*4)      \n",
    "print(2*4//5)\n",
    "print(4//5*2)\n",
    "print(2**2**3)    # right to left associativity\n",
    "print((2**2)**3)\n",
    "print(2*2**8)    # only order of precedence is required to solve this\n",
    "print(10*4%3**2**2) "
   ]
  },
  {
   "cell_type": "code",
   "execution_count": 54,
   "id": "07f92955-ec0b-44e3-9736-4810f2377d24",
   "metadata": {},
   "outputs": [
    {
     "data": {
      "text/plain": [
       "4"
      ]
     },
     "execution_count": 54,
     "metadata": {},
     "output_type": "execute_result"
    }
   ],
   "source": [
    "0 or 1"
   ]
  },
  {
   "cell_type": "code",
   "execution_count": 58,
   "id": "1d491a73-a1a1-4ba4-9daa-a781d44ef175",
   "metadata": {},
   "outputs": [
    {
     "name": "stdin",
     "output_type": "stream",
     "text": [
      "Enter the first number 4\n",
      "Enter the second number 5\n",
      "Enter the third number 6\n"
     ]
    },
    {
     "name": "stdout",
     "output_type": "stream",
     "text": [
      "a and b: 5\n",
      "a or b: 4\n",
      "not a: False\n",
      "a and b and c: 6\n",
      "a or b or c: 4\n",
      "a and b or c: 5\n",
      "a or b and c: 4\n",
      "not a and b: False\n",
      "2\n",
      "5\n",
      "1\n",
      "1\n",
      "7\n",
      "False\n",
      "True\n",
      "True\n",
      "False\n",
      "True\n"
     ]
    }
   ],
   "source": [
    "\n",
    "a = int(input(\"Enter the first number\"))   # use float() and enter float numbers and check the output\n",
    "b = int(input(\"Enter the second number\"))\n",
    "c = int(input(\"Enter the third number\"))\n",
    "\n",
    "print(\"a and b:\", a and b)\n",
    "print(\"a or b:\", a or b)\n",
    "print(\"not a:\", not a)\t\t\t#any non - zero is true\n",
    "print(\"a and b and c:\", a and b and c)\n",
    "print(\"a or b or c:\", a or b or c)\n",
    "print(\"a and b or c:\", a and b or c)\n",
    "print(\"a or b and c:\", a or b and c)\n",
    "print(\"not a and b:\", not a and b)   # see the precedence mentioned above\n",
    "#print(and a)    #Syntax Error\n",
    "\n",
    "print( 5 and 2 or 0)\n",
    "print( 5 or 0 or 2)\n",
    "print(0 or 1 or 4)\n",
    "print(1 or 5 or 0)\n",
    "print(1 and 0 or 7)\n",
    "#not of any non-zero value is False\n",
    "#empty string (\"\") is equivalent to false value\n",
    "print(not 5.5)    #False\n",
    "print(not 0.0)   #True\n",
    "print(not 0)  #True\n",
    "print (not \"facebook\") # False\n",
    "print(not \"\")   # True"
   ]
  },
  {
   "cell_type": "code",
   "execution_count": 13,
   "id": "29754444-a2fa-4712-8170-234b0643f9b9",
   "metadata": {},
   "outputs": [
    {
     "ename": "TypeError",
     "evalue": "'>' not supported between instances of 'int' and 'str'",
     "output_type": "error",
     "traceback": [
      "\u001b[1;31m---------------------------------------------------------------------------\u001b[0m",
      "\u001b[1;31mTypeError\u001b[0m                                 Traceback (most recent call last)",
      "Cell \u001b[1;32mIn[13], line 1\u001b[0m\n\u001b[1;32m----> 1\u001b[0m [\u001b[38;5;241m10\u001b[39m,\u001b[38;5;241m20\u001b[39m,\u001b[38;5;241m30\u001b[39m] \u001b[38;5;241m>\u001b[39m [\u001b[38;5;124m\"\u001b[39m\u001b[38;5;124mHi\u001b[39m\u001b[38;5;124m\"\u001b[39m,\u001b[38;5;241m20\u001b[39m]\n",
      "\u001b[1;31mTypeError\u001b[0m: '>' not supported between instances of 'int' and 'str'"
     ]
    }
   ],
   "source": [
    "[10,20,30] > [\"Hi\",20]"
   ]
  },
  {
   "cell_type": "code",
   "execution_count": 25,
   "id": "1ace140d-ec65-499b-9333-14436348145b",
   "metadata": {},
   "outputs": [
    {
     "name": "stdout",
     "output_type": "stream",
     "text": [
      "2\n"
     ]
    }
   ],
   "source": [
    "print( 5 and 2 or 0)"
   ]
  },
  {
   "cell_type": "code",
   "execution_count": 29,
   "id": "5c933085-22f3-494d-a88a-4aa7fe71a4c5",
   "metadata": {},
   "outputs": [],
   "source": [
    "if (5>10):\n",
    "    print(\"Hi\")"
   ]
  },
  {
   "cell_type": "code",
   "execution_count": 31,
   "id": "a9c7717a-86a3-48c7-b517-7bb7c90cd13d",
   "metadata": {},
   "outputs": [
    {
     "data": {
      "text/plain": [
       "7"
      ]
     },
     "execution_count": 31,
     "metadata": {},
     "output_type": "execute_result"
    }
   ],
   "source": [
    "0 and 1 or 7"
   ]
  },
  {
   "cell_type": "code",
   "execution_count": 23,
   "id": "fbf430c6-b796-4b47-8093-e17a42c1ccdf",
   "metadata": {},
   "outputs": [
    {
     "data": {
      "text/plain": [
       "True"
      ]
     },
     "execution_count": 23,
     "metadata": {},
     "output_type": "execute_result"
    }
   ],
   "source": [
    "not 0.0"
   ]
  },
  {
   "cell_type": "code",
   "execution_count": 35,
   "id": "d110fd76-e17f-4874-982f-de425381cf35",
   "metadata": {},
   "outputs": [
    {
     "data": {
      "text/plain": [
       "5"
      ]
     },
     "execution_count": 35,
     "metadata": {},
     "output_type": "execute_result"
    }
   ],
   "source": [
    "not 0 and 5"
   ]
  },
  {
   "cell_type": "code",
   "execution_count": 37,
   "id": "a555c65a-c803-4ed9-a995-63dc5553daaa",
   "metadata": {},
   "outputs": [
    {
     "data": {
      "text/plain": [
       "2"
      ]
     },
     "execution_count": 37,
     "metadata": {},
     "output_type": "execute_result"
    }
   ],
   "source": [
    "10>>2"
   ]
  },
  {
   "cell_type": "code",
   "execution_count": 39,
   "id": "e601e7d1-c7b7-49ec-91e0-bb1cdf23b334",
   "metadata": {},
   "outputs": [
    {
     "data": {
      "text/plain": [
       "832"
      ]
     },
     "execution_count": 39,
     "metadata": {},
     "output_type": "execute_result"
    }
   ],
   "source": [
    "104<<3"
   ]
  },
  {
   "cell_type": "code",
   "execution_count": 43,
   "id": "b34c1b0a-9557-4c32-bd61-b0f77f45025a",
   "metadata": {},
   "outputs": [
    {
     "ename": "TypeError",
     "evalue": "can't multiply sequence by non-int of type 'float'",
     "output_type": "error",
     "traceback": [
      "\u001b[1;31m---------------------------------------------------------------------------\u001b[0m",
      "\u001b[1;31mTypeError\u001b[0m                                 Traceback (most recent call last)",
      "Cell \u001b[1;32mIn[43], line 1\u001b[0m\n\u001b[1;32m----> 1\u001b[0m \u001b[38;5;124m'\u001b[39m\u001b[38;5;124mHi\u001b[39m\u001b[38;5;124m'\u001b[39m\u001b[38;5;241m*\u001b[39m\u001b[38;5;241m10.0\u001b[39m\n",
      "\u001b[1;31mTypeError\u001b[0m: can't multiply sequence by non-int of type 'float'"
     ]
    }
   ],
   "source": [
    "'Hi'*10.0"
   ]
  },
  {
   "cell_type": "code",
   "execution_count": 45,
   "id": "363350b3-8d5d-4b45-805e-26dc67ebc32a",
   "metadata": {},
   "outputs": [
    {
     "data": {
      "text/plain": [
       "'HiHiHiHiHiHiHiHiHiHi'"
      ]
     },
     "execution_count": 45,
     "metadata": {},
     "output_type": "execute_result"
    }
   ],
   "source": [
    "10*'Hi'"
   ]
  },
  {
   "cell_type": "code",
   "execution_count": 57,
   "id": "468edc1d-d68c-43a0-bff4-6c2ca4a932e9",
   "metadata": {},
   "outputs": [
    {
     "name": "stdout",
     "output_type": "stream",
     "text": [
      "{1, 2}\n",
      "{1, 2, 3, 'b', 'a', 'c'}\n"
     ]
    }
   ],
   "source": [
    "s1={1,2,3}\n",
    "s2={'a','b','c',1,2}\n",
    "print(s1&s2)\n",
    "print(s1|s2)"
   ]
  },
  {
   "cell_type": "code",
   "execution_count": 67,
   "id": "7241bc6d-9956-4da5-a7f6-cbe7204af211",
   "metadata": {},
   "outputs": [
    {
     "name": "stdout",
     "output_type": "stream",
     "text": [
      "True\n",
      "False\n",
      "True\n",
      "False\n",
      "False\n",
      "True\n",
      "False\n",
      "False\n",
      "True\n"
     ]
    }
   ],
   "source": [
    "#Relational Operators\n",
    "\t#used for comparison purpose\n",
    "\t#Result of these operations is always boolean. -->True or False\n",
    "\t#\t\t==\t\tDetermining or checking if two values are equal . Not assignment(=)\n",
    "\t#\t\t!=\n",
    "\t#\t\t<\t\t\n",
    "\t#\t\t>\n",
    "\t#\t\t<=\n",
    "\t#\t\t>=\n",
    "\t#\t\t\n",
    "#a=float(input(\"enter the number\"))\n",
    "#b=float(input(\"enter the number\"))\n",
    "a=10\n",
    "b=20\n",
    "#Arithmetic Comparison\n",
    "print(a<b)\n",
    "print(a>b)\n",
    "print(a<=b)\n",
    "print(a>=b)\n",
    "print(a==b)\n",
    "print(a!=b)\n",
    "print(a!=b==a==a==a)    #False\n",
    "\t#Line 20 is interpreted as (a !=b and b==a and a===a and a==a)\n",
    "print(a!=b and not 1)   # False\n",
    "print(a!=(b and not 1))   # True\n",
    "\n"
   ]
  },
  {
   "cell_type": "code",
   "execution_count": 31,
   "id": "9c0cf6b8-79ef-4f30-adf4-29261651adec",
   "metadata": {},
   "outputs": [
    {
     "name": "stdin",
     "output_type": "stream",
     "text": [
      "Enter first number 4\n",
      "Enter second number 6\n"
     ]
    },
    {
     "name": "stdout",
     "output_type": "stream",
     "text": [
      "a & b: 4\n",
      "a | b: 6\n",
      "a ^ b: 2\n",
      "a & b & b: 4\n",
      "a & b | b: 6\n",
      "a | b & b: 6\n",
      "a | b ^ a: 6\n",
      "a & b ^ a: 0\n",
      "a | b & a ^ b: 6\n",
      "~a: -5\n",
      "a | ~b & a ^ b: 6\n",
      "a << 3: 112\n",
      "a >> 3: 1\n",
      "-8\n",
      "-2\n"
     ]
    }
   ],
   "source": [
    "#Bitwise Operators\n",
    "#\tUses: Embedded system software\n",
    "#\t\t  Bit stream serialization\n",
    "#\t\t  Encoding algorithms\n",
    "#(&, |, ~, ^, <<, >>)\n",
    "\n",
    "\n",
    "# Here all examples are solved using 8 bits. If the number is more than (2**7) - 1 .. Please use more bits\n",
    "#Any queries, meet me\n",
    "#Precedence of Bitwise operators\n",
    "'''\t\t\t~\t\t\n",
    "\t\t\t>> <<   L to R\n",
    "\t\t\t&\t\tL to R\n",
    "\t\t\t| ^\t\tL to R\n",
    "'''\n",
    "\n",
    "a = int(input(\"Enter first number\"))\n",
    "b = int(input(\"Enter second number\"))\n",
    "\n",
    "# bitwise &, | and ^\n",
    "print(\"a & b:\", a & b)\n",
    "print(\"a | b:\", a | b)\n",
    "print(\"a ^ b:\", a ^ b)\n",
    "\n",
    "\n",
    "print(\"a & b & b:\", a & b & b)\n",
    "print(\"a & b | b:\", a & b | b)\n",
    "print(\"a | b & b:\", a | b & b) # & operator has more precedence than |\n",
    "print(\"a | b ^ a:\", a | b ^ a) # ^ and | has same precedence. So Left to right associativity\n",
    "print(\"a & b ^ a:\", a & b ^ a) # & operator has more precedence than ^\n",
    "print(\"a | b & a ^ b:\", a | b & a ^ b)\n",
    "\n",
    "#Bitwise negation or complement\n",
    "print(\"~a:\", ~a )\n",
    "#\tIf a is a positive number ex: 2\n",
    "#\t\t\t~a =-3\n",
    "#\t\t\ta = 00000010\n",
    "#\t\t\ti's complement of a is = 11111101\n",
    "#\t\t\tMSB is 1. So negative number  .. Now take the 2's complement of 1111101.\n",
    "#\t\t\t\t\t1's complement is 0000010. Adding 1 to this gives 2's complement.\n",
    "#\t\t\t\t\tAnswer is 0000011 = 3\n",
    "\n",
    "#    If a is a negative number ex: -2\n",
    "#\t\t\t~a =1\n",
    "#Negative Numbers are represented in 2s complement form\n",
    "#\t\t\tFirst get the binary for -2. This can be found by 2's complement of 2\n",
    "#\t\t\t2 = 00000010\n",
    "#\t\t\t1's complement is 11111101. Add 1 to this to get binary for -2 = 11111110. This is how it is stored in memory.\n",
    "#\t\t\t1's complement of 11111110 is 00000001 = 1\n",
    "# \t\t\tAnswer is 00000001 = 1\t\n",
    "\n",
    "\n",
    "print(\"a | ~b & a ^ b:\", a | ~b & a ^ b)\n",
    "\n",
    "\n",
    "#Bitwise left shift (<<) and right shift(>>)\n",
    "a=14     # change the value of a to bigger values and analyse the output\n",
    "print(\"a << 3:\", a << 3)   #multiplying the number a by 2**3(where 3 is the number of bits to be shifted to left)\n",
    "print(\"a >> 3:\", a >> 3)   #Dividing the number a by 2**3(where 3 is the number of bits to be shifted to right)\n",
    "\n",
    "a=-4   # change the value to -5 and higher and see the output\n",
    "\n",
    "print(a<<1)   # #multiplying the number a by 2**1\n",
    "#take the binary of -4 by finding the 2's complement of 4. \n",
    "#     -4 = 11111100\n",
    "#Now left shift it by one position = 11111000  adding 0 to\n",
    "#LSB. MSB is 1 means it is a -ve number. \n",
    "Now get the 2's complement of 1111000 i.e equals to 00001111+1 =0001000\n",
    "#Answer is -8\n",
    "\n",
    "print(a>>1)\t\t#dividing the number a by 2**1\n",
    "#     -4 = 11111100\n",
    "#Now right shift it by one position = 11111110 by adding 1 to MSB. \n",
    "#MSB is 1 means it is a -ve number. \n",
    "#Now get the 2's complement of 1111110 i.e equals to 0000001+1 = 0000010\n",
    "#Answer is -2\n",
    "\n",
    "\n"
   ]
  },
  {
   "cell_type": "code",
   "execution_count": 43,
   "id": "79928aa2-0c67-4ff6-8136-0658ed9ac11c",
   "metadata": {},
   "outputs": [
    {
     "data": {
      "text/plain": [
       "6"
      ]
     },
     "execution_count": 43,
     "metadata": {},
     "output_type": "execute_result"
    }
   ],
   "source": [
    "a=4\n",
    "b=6\n",
    "#a | ~b & a ^ b: 6\n",
    "-7&4^6"
   ]
  },
  {
   "cell_type": "code",
   "execution_count": 39,
   "id": "c88266e1-1050-48b7-8a70-4bce0661d728",
   "metadata": {},
   "outputs": [
    {
     "data": {
      "text/plain": [
       "-7"
      ]
     },
     "execution_count": 39,
     "metadata": {},
     "output_type": "execute_result"
    }
   ],
   "source": [
    "b=6\n",
    "~b"
   ]
  },
  {
   "cell_type": "code",
   "execution_count": 9,
   "id": "1f274658-3339-4983-b178-7d6834f978e4",
   "metadata": {},
   "outputs": [
    {
     "name": "stdout",
     "output_type": "stream",
     "text": [
      "False\n"
     ]
    },
    {
     "name": "stderr",
     "output_type": "stream",
     "text": [
      "<>:2: SyntaxWarning: \"is\" with a literal. Did you mean \"==\"?\n",
      "<>:2: SyntaxWarning: \"is\" with a literal. Did you mean \"==\"?\n",
      "C:\\Users\\farit\\AppData\\Local\\Temp\\ipykernel_16780\\3475348653.py:2: SyntaxWarning: \"is\" with a literal. Did you mean \"==\"?\n",
      "  print(a is 1000)\n"
     ]
    }
   ],
   "source": [
    "a=1000\n",
    "print(a is 1000)"
   ]
  },
  {
   "cell_type": "code",
   "execution_count": null,
   "id": "30ce08b1-8921-4467-bae3-71f59c90253b",
   "metadata": {},
   "outputs": [],
   "source": []
  },
  {
   "cell_type": "code",
   "execution_count": null,
   "id": "9eb9a903-536a-4653-8e1f-00585f55b68a",
   "metadata": {},
   "outputs": [],
   "source": []
  },
  {
   "cell_type": "code",
   "execution_count": 45,
   "id": "32b28ae2-1fba-4c41-9c85-1c255484d55b",
   "metadata": {},
   "outputs": [
    {
     "data": {
      "text/plain": [
       "1"
      ]
     },
     "execution_count": 45,
     "metadata": {},
     "output_type": "execute_result"
    }
   ],
   "source": [
    "~-2"
   ]
  },
  {
   "cell_type": "code",
   "execution_count": 7,
   "id": "a9181536-c7cc-4656-9408-f8a16e07e3b5",
   "metadata": {},
   "outputs": [
    {
     "data": {
      "text/plain": [
       "-2"
      ]
     },
     "execution_count": 7,
     "metadata": {},
     "output_type": "execute_result"
    }
   ],
   "source": [
    "-4>>1"
   ]
  },
  {
   "cell_type": "code",
   "execution_count": 25,
   "id": "c4c26134-6979-4521-b634-05de94e0ccc4",
   "metadata": {},
   "outputs": [
    {
     "name": "stdout",
     "output_type": "stream",
     "text": [
      "-8\n"
     ]
    }
   ],
   "source": [
    "a=-4\n",
    "print(a<<1)"
   ]
  },
  {
   "cell_type": "code",
   "execution_count": 13,
   "id": "9e585839-9730-452e-82c5-1c4039792433",
   "metadata": {},
   "outputs": [
    {
     "name": "stdout",
     "output_type": "stream",
     "text": [
      "False\n",
      "2317731514800\n",
      "2317731514416\n"
     ]
    }
   ],
   "source": [
    "a=1000\n",
    "b=1000\n",
    "print(a is b)\n",
    "print(id(a))\n",
    "print(id(b))\n"
   ]
  },
  {
   "cell_type": "code",
   "execution_count": 35,
   "id": "2a38d2f6-12bd-4184-83a9-71895e603994",
   "metadata": {},
   "outputs": [
    {
     "name": "stdout",
     "output_type": "stream",
     "text": [
      "1951867591760\n",
      "1951867596144\n",
      "1951867596144\n"
     ]
    }
   ],
   "source": [
    "a=b=1000\n",
    "\n",
    "print(id(1000))\n",
    "print(id(a))\n",
    "print(id(b))\n"
   ]
  },
  {
   "cell_type": "code",
   "execution_count": 17,
   "id": "7b5f7bf1-c83a-445d-9d88-3c14789660d1",
   "metadata": {},
   "outputs": [
    {
     "name": "stdout",
     "output_type": "stream",
     "text": [
      "True\n"
     ]
    }
   ],
   "source": [
    "a=1000\n",
    "print(a == 1000)"
   ]
  },
  {
   "cell_type": "code",
   "execution_count": 9,
   "id": "5cd63152-c4f5-4135-ad2d-ba0d80056e12",
   "metadata": {},
   "outputs": [
    {
     "ename": "TypeError",
     "evalue": "'d' is an invalid keyword argument for print()",
     "output_type": "error",
     "traceback": [
      "\u001b[1;31m---------------------------------------------------------------------------\u001b[0m",
      "\u001b[1;31mTypeError\u001b[0m                                 Traceback (most recent call last)",
      "Cell \u001b[1;32mIn[9], line 1\u001b[0m\n\u001b[1;32m----> 1\u001b[0m \u001b[38;5;28mprint\u001b[39m(d\u001b[38;5;241m=\u001b[39m\u001b[38;5;241m4\u001b[39m)\n",
      "\u001b[1;31mTypeError\u001b[0m: 'd' is an invalid keyword argument for print()"
     ]
    }
   ],
   "source": [
    "print(d=4)"
   ]
  },
  {
   "cell_type": "code",
   "execution_count": 15,
   "id": "01b79058-3d91-49ce-a02f-451a3bb8024e",
   "metadata": {},
   "outputs": [
    {
     "name": "stdout",
     "output_type": "stream",
     "text": [
      "a | ~b & a ^ b: 6\n"
     ]
    },
    {
     "data": {
      "text/plain": [
       "-5"
      ]
     },
     "execution_count": 15,
     "metadata": {},
     "output_type": "execute_result"
    }
   ],
   "source": [
    "a=4\n",
    "b=6\n",
    "print(\"a | ~b & a ^ b:\", a | ~b & a ^ b)\n",
    "~a"
   ]
  },
  {
   "cell_type": "code",
   "execution_count": 11,
   "id": "5b895eb1-6387-446a-bed8-53324fb64061",
   "metadata": {},
   "outputs": [
    {
     "data": {
      "text/plain": [
       "6"
      ]
     },
     "execution_count": 11,
     "metadata": {},
     "output_type": "execute_result"
    }
   ],
   "source": [
    "\n",
    "4|(-7)&6^6"
   ]
  },
  {
   "cell_type": "code",
   "execution_count": 19,
   "id": "a3df7d92-3281-427a-b370-55645e643091",
   "metadata": {},
   "outputs": [
    {
     "ename": "TypeError",
     "evalue": "bad operand type for unary ~: 'float'",
     "output_type": "error",
     "traceback": [
      "\u001b[1;31m---------------------------------------------------------------------------\u001b[0m",
      "\u001b[1;31mTypeError\u001b[0m                                 Traceback (most recent call last)",
      "Cell \u001b[1;32mIn[19], line 1\u001b[0m\n\u001b[1;32m----> 1\u001b[0m \u001b[38;5;241m~\u001b[39m(\u001b[38;5;241m2.5\u001b[39m)\n",
      "\u001b[1;31mTypeError\u001b[0m: bad operand type for unary ~: 'float'"
     ]
    }
   ],
   "source": [
    "~(2.5)"
   ]
  },
  {
   "cell_type": "code",
   "execution_count": 21,
   "id": "2e1ddd15-2976-4b1f-82d9-0d2f893c870e",
   "metadata": {},
   "outputs": [
    {
     "name": "stdout",
     "output_type": "stream",
     "text": [
      "a >> 3: 0\n"
     ]
    }
   ],
   "source": [
    "a=4\n",
    "print(\"a >> 3:\", a >> 3) "
   ]
  },
  {
   "cell_type": "code",
   "execution_count": null,
   "id": "df7bb782-dfd3-45db-aeef-748ee19e7de0",
   "metadata": {},
   "outputs": [],
   "source": []
  },
  {
   "cell_type": "code",
   "execution_count": 9,
   "id": "794ea739-b5b9-40a4-8556-8a4c0213899f",
   "metadata": {},
   "outputs": [
    {
     "data": {
      "text/plain": [
       "-5"
      ]
     },
     "execution_count": 9,
     "metadata": {},
     "output_type": "execute_result"
    }
   ],
   "source": [
    "~4"
   ]
  },
  {
   "cell_type": "code",
   "execution_count": 15,
   "id": "b314bbe6-fbe1-4350-85af-fad581e9b543",
   "metadata": {},
   "outputs": [
    {
     "data": {
      "text/plain": [
       "6"
      ]
     },
     "execution_count": 15,
     "metadata": {},
     "output_type": "execute_result"
    }
   ],
   "source": [
    "4|6"
   ]
  },
  {
   "cell_type": "code",
   "execution_count": 23,
   "id": "15a7c9f0-4946-41ba-834a-1e488db283d0",
   "metadata": {},
   "outputs": [
    {
     "data": {
      "text/plain": [
       "6"
      ]
     },
     "execution_count": 23,
     "metadata": {},
     "output_type": "execute_result"
    }
   ],
   "source": [
    "4|6^4"
   ]
  },
  {
   "cell_type": "code",
   "execution_count": 29,
   "id": "dcdd4cf5-726d-4f37-b4c6-28b03034dc2e",
   "metadata": {},
   "outputs": [
    {
     "data": {
      "text/plain": [
       "0"
      ]
     },
     "execution_count": 29,
     "metadata": {},
     "output_type": "execute_result"
    }
   ],
   "source": [
    "4>>3"
   ]
  },
  {
   "cell_type": "code",
   "execution_count": 1,
   "id": "8fa5e3ef-bc49-48c2-aa9a-1435df79b98b",
   "metadata": {},
   "outputs": [
    {
     "name": "stdout",
     "output_type": "stream",
     "text": [
      "4 pes (4+3j)\n"
     ]
    },
    {
     "ename": "TypeError",
     "evalue": "'d' is an invalid keyword argument for print()",
     "output_type": "error",
     "traceback": [
      "\u001b[1;31m---------------------------------------------------------------------------\u001b[0m",
      "\u001b[1;31mTypeError\u001b[0m                                 Traceback (most recent call last)",
      "Cell \u001b[1;32mIn[1], line 7\u001b[0m\n\u001b[0;32m      5\u001b[0m c\u001b[38;5;241m=\u001b[39m\u001b[38;5;241m4\u001b[39m\u001b[38;5;241m+\u001b[39m\u001b[38;5;241m3\u001b[39mj\n\u001b[0;32m      6\u001b[0m \u001b[38;5;28mprint\u001b[39m(a,b,c)\n\u001b[1;32m----> 7\u001b[0m \u001b[38;5;28mprint\u001b[39m(d\u001b[38;5;241m=\u001b[39m\u001b[38;5;241m4\u001b[39m)\n",
      "\u001b[1;31mTypeError\u001b[0m: 'd' is an invalid keyword argument for print()"
     ]
    }
   ],
   "source": [
    "#Assignment operator\n",
    "#\t=\n",
    "a=4\n",
    "b=\"pes\"\n",
    "c=4+3j\n",
    "print(a,b,c)\n",
    "print(d=4)  "
   ]
  },
  {
   "cell_type": "code",
   "execution_count": 3,
   "id": "6b3900e3-d57a-4593-bf86-f775126e0935",
   "metadata": {},
   "outputs": [
    {
     "name": "stdout",
     "output_type": "stream",
     "text": [
      "True\n",
      "True\n",
      "False\n",
      "True\n",
      "False\n",
      "False\n",
      "True\n",
      "False\n",
      "True\n",
      "False\n"
     ]
    }
   ],
   "source": [
    "a=[12,45,12,0,\"pes\"]\n",
    "print(12 in a)\n",
    "s=\"pes\"\n",
    "print(s in a)\n",
    "print(s not in a)\n",
    "\n",
    "print(12 in (-1,23,90,12))\n",
    "\n",
    "#variations\n",
    "\n",
    "print([12] in a)   # False   checking for the [12] in a.  \n",
    "print(13 in a)\n",
    "c=\"e\"\n",
    "d=\"E\"\n",
    "print(c in \"pes\")\n",
    "print(d in \"pes\")\n",
    "print(\"app\" in \"watsapp\")    #True\n",
    "print(\"pap\" in \"watsapp\")   #False   checks for the string \"pap\" in \"whatsapp\". Not the character p and a and p\n"
   ]
  },
  {
   "cell_type": "code",
   "execution_count": 21,
   "id": "1d6b5c94-00b7-4bf5-838e-c8c359b235a7",
   "metadata": {},
   "outputs": [
    {
     "name": "stdout",
     "output_type": "stream",
     "text": [
      "3094750501584\n",
      "3094750500816\n",
      "3094750502288\n"
     ]
    }
   ],
   "source": [
    "a=1000\n",
    "b=1000\n",
    "print(a is b)\n",
    "print(id(1000))\n",
    "print(id(a))\n",
    "print(id(b))"
   ]
  },
  {
   "cell_type": "code",
   "execution_count": 9,
   "id": "13f91254-8acd-4569-901e-a360308fd0ea",
   "metadata": {},
   "outputs": [
    {
     "name": "stdout",
     "output_type": "stream",
     "text": [
      "False\n"
     ]
    },
    {
     "name": "stderr",
     "output_type": "stream",
     "text": [
      "<>:2: SyntaxWarning: \"is\" with a literal. Did you mean \"==\"?\n",
      "<>:2: SyntaxWarning: \"is\" with a literal. Did you mean \"==\"?\n",
      "C:\\Users\\farit\\AppData\\Local\\Temp\\ipykernel_20468\\3475348653.py:2: SyntaxWarning: \"is\" with a literal. Did you mean \"==\"?\n",
      "  print(a is 1000)\n"
     ]
    }
   ],
   "source": [
    "a=1000\n",
    "print(a is 1000)"
   ]
  },
  {
   "cell_type": "code",
   "execution_count": 19,
   "id": "5b4d635e-6c32-4180-977b-cf89979f1ee5",
   "metadata": {},
   "outputs": [
    {
     "name": "stdout",
     "output_type": "stream",
     "text": [
      "140734245487688\n",
      "140734245487688\n",
      "140734245487688\n"
     ]
    }
   ],
   "source": [
    "a=10\n",
    "b=10\n",
    "print(id(10))\n",
    "print(id(a))\n",
    "print(id(b))"
   ]
  },
  {
   "cell_type": "code",
   "execution_count": 29,
   "id": "2bf07059-fe33-416a-9055-0985ae26b66e",
   "metadata": {},
   "outputs": [
    {
     "name": "stdout",
     "output_type": "stream",
     "text": [
      "False\n",
      "3094750501040\n",
      "3094750501680\n",
      "3094750500592\n"
     ]
    }
   ],
   "source": [
    "a=1000\n",
    "b=1000\n",
    "print(a is b)\n",
    "print(id(1000))\n",
    "print(id(a))\n",
    "print(id(b))"
   ]
  },
  {
   "cell_type": "code",
   "execution_count": 25,
   "id": "3f37424e-6816-455b-94ed-cf64cb48c4a0",
   "metadata": {},
   "outputs": [
    {
     "name": "stdout",
     "output_type": "stream",
     "text": [
      "True\n",
      "140734245487400\n",
      "140734245487400\n"
     ]
    }
   ],
   "source": [
    "a=1\n",
    "b=1\n",
    "print(a is b)    #True. It checks for the id(a) and id(b)\n",
    "print(id(a))\n",
    "print(id(b))"
   ]
  },
  {
   "cell_type": "code",
   "execution_count": 42,
   "id": "6a23a717-4ddf-4a4a-957e-439c206e7c81",
   "metadata": {},
   "outputs": [
    {
     "ename": "IndentationError",
     "evalue": "unindent does not match any outer indentation level (<tokenize>, line 3)",
     "output_type": "error",
     "traceback": [
      "\u001b[1;36m  File \u001b[1;32m<tokenize>:3\u001b[1;36m\u001b[0m\n\u001b[1;33m    else:\u001b[0m\n\u001b[1;37m    ^\u001b[0m\n\u001b[1;31mIndentationError\u001b[0m\u001b[1;31m:\u001b[0m unindent does not match any outer indentation level\n"
     ]
    }
   ],
   "source": [
    "if(True):\n",
    "    print(\"Hi\")\n",
    "else:\n",
    "    print(\"No\")"
   ]
  },
  {
   "cell_type": "code",
   "execution_count": 1,
   "id": "e33fcc78-009d-4caf-9ebf-ed1050507b4b",
   "metadata": {},
   "outputs": [
    {
     "data": {
      "text/plain": [
       "-2"
      ]
     },
     "execution_count": 1,
     "metadata": {},
     "output_type": "execute_result"
    }
   ],
   "source": [
    "-4>>1"
   ]
  },
  {
   "cell_type": "code",
   "execution_count": 21,
   "id": "dabf32c8-cc8d-49d8-9ba9-5d870a0a51a2",
   "metadata": {},
   "outputs": [
    {
     "name": "stdin",
     "output_type": "stream",
     "text": [
      "enter number 5\n",
      "enter number 55\n",
      "enter number 67\n",
      "enter number 12\n",
      "enter number 33\n"
     ]
    },
    {
     "name": "stdout",
     "output_type": "stream",
     "text": [
      "172\n"
     ]
    }
   ],
   "source": [
    "s=0\n",
    "for i in range(5):\n",
    "    x=int(input(\"enter number\"))\n",
    "    s=s+x\n",
    "print(s)"
   ]
  },
  {
   "cell_type": "code",
   "execution_count": 5,
   "id": "da82d6d1-84d9-4b78-9900-202a826ae23d",
   "metadata": {},
   "outputs": [
    {
     "name": "stdout",
     "output_type": "stream",
     "text": [
      "0\n",
      "1\n",
      "4\n",
      "9\n",
      "16\n",
      "25\n",
      "36\n",
      "49\n",
      "64\n",
      "81\n",
      "end\n"
     ]
    }
   ],
   "source": [
    "x=int()\n",
    "while(x<10):\n",
    "    print(x*x)\n",
    "    x=x+1\n",
    "print(\"end\")"
   ]
  },
  {
   "cell_type": "code",
   "execution_count": 9,
   "id": "2105c346-3c6f-47c3-addb-32e098df6f92",
   "metadata": {},
   "outputs": [
    {
     "name": "stdin",
     "output_type": "stream",
     "text": [
      "enter a number 56\n",
      "enter a number 45\n",
      "enter a number 789\n"
     ]
    },
    {
     "name": "stdout",
     "output_type": "stream",
     "text": [
      "largest is 789\n"
     ]
    }
   ],
   "source": [
    "a=int(input(\"enter a number\"))\n",
    "b=int(input(\"enter a number\"))\n",
    "c=int(input(\"enter a number\"))\n",
    "if ((a>b) and (a>c)) :\n",
    "    l=a\n",
    "elif (b>c):\n",
    "    l=b\n",
    "else:\n",
    "    l=c\n",
    "\n",
    "print(\"largest is %d\" % l)"
   ]
  },
  {
   "cell_type": "code",
   "execution_count": 15,
   "id": "902ff172-9d2e-461d-b7ee-3add7a342d9e",
   "metadata": {},
   "outputs": [
    {
     "name": "stdin",
     "output_type": "stream",
     "text": [
      "enter a number 56\n",
      "enter a number 45\n",
      "enter a number 33\n"
     ]
    },
    {
     "name": "stdout",
     "output_type": "stream",
     "text": [
      "largest is 56\n"
     ]
    }
   ],
   "source": [
    "a=int(input(\"enter a number\"))\n",
    "b=int(input(\"enter a number\"))\n",
    "c=int(input(\"enter a number\"))\n",
    "if (a>b>c) :\n",
    "    l=a\n",
    "elif (b>c):\n",
    "    l=b\n",
    "else:\n",
    "    l=c\n",
    "\n",
    "print(\"largest is %d\" % l)"
   ]
  },
  {
   "cell_type": "code",
   "execution_count": 21,
   "id": "d07aac1a-484b-4741-b3b2-adc5b0a7fb2d",
   "metadata": {},
   "outputs": [
    {
     "name": "stdin",
     "output_type": "stream",
     "text": [
      "enter a number 4\n",
      "enter a number 4\n",
      "enter a number 4\n"
     ]
    },
    {
     "name": "stdout",
     "output_type": "stream",
     "text": [
      "Equilateral\n"
     ]
    }
   ],
   "source": [
    "\n",
    "a=int(input(\"enter a number\"))\n",
    "b=int(input(\"enter a number\"))\n",
    "c=int(input(\"enter a number\"))\n",
    "if (a+b>c) and (a+c>b) and (b+c>a) :\n",
    "    if a==b and b==c :\n",
    "        print(\"Equilateral\")\n",
    "    elif a==b or b==c or c==a :\n",
    "        print(\"Isocelese\")\n",
    "    else:\n",
    "        print(\"scalene\")\n",
    "else:\n",
    "    print(\"Triangle cannot be formed with a,b,c\")\n",
    "\n",
    "    "
   ]
  },
  {
   "cell_type": "code",
   "execution_count": 19,
   "id": "4e8b86a8-84f7-4282-abf5-b8b61c8558f6",
   "metadata": {},
   "outputs": [
    {
     "name": "stdin",
     "output_type": "stream",
     "text": [
      "enter a number 345\n"
     ]
    },
    {
     "name": "stdout",
     "output_type": "stream",
     "text": [
      "59685\n"
     ]
    }
   ],
   "source": [
    "#sum of first n numbers\n",
    "n=int(input(\"enter a number\"))\n",
    "i=1\n",
    "s=0\n",
    "while (i<=n):\n",
    "    s=s+i\n",
    "    i+=1\n",
    "    \n",
    "print(s)"
   ]
  },
  {
   "cell_type": "code",
   "execution_count": 25,
   "id": "f41f05eb-e9d7-4c98-b404-135407cf8680",
   "metadata": {},
   "outputs": [
    {
     "name": "stdout",
     "output_type": "stream",
     "text": [
      "A is %d 10\n"
     ]
    }
   ],
   "source": [
    "a=10\n",
    "print(\"A is %d\"%a)"
   ]
  },
  {
   "cell_type": "code",
   "execution_count": 23,
   "id": "1253bc31-7359-46d3-b626-5535a2a6a6dd",
   "metadata": {},
   "outputs": [
    {
     "name": "stdin",
     "output_type": "stream",
     "text": [
      "enter a count 5\n",
      "enter a number 23\n",
      "enter a number 67\n",
      "enter a number 453\n",
      "enter a number 43\n",
      "enter a number 689\n"
     ]
    },
    {
     "name": "stdout",
     "output_type": "stream",
     "text": [
      "Sum= 1275\n",
      "Average = 255.00\n"
     ]
    }
   ],
   "source": [
    "#sum of first n numbers\n",
    "n=int(input(\"enter a count\"))\n",
    "i=0\n",
    "s=0\n",
    "while i<n:\n",
    "    num=float(input(\"enter a number\"))\n",
    "    s=s+num\n",
    "    i+=1\n",
    "print(\"Sum= %d\" % s)\n",
    "a=s/n\n",
    "print(\"Average = %0.2f\" % a)"
   ]
  },
  {
   "cell_type": "code",
   "execution_count": 29,
   "id": "b61e4612-2522-4d35-8588-d495df37052d",
   "metadata": {},
   "outputs": [
    {
     "name": "stdin",
     "output_type": "stream",
     "text": [
      "enter a count 5\n",
      "enter a number 56\n",
      "enter a number 78\n",
      "enter a number 34\n",
      "enter a number 12\n",
      "enter a number 38\n"
     ]
    },
    {
     "name": "stdout",
     "output_type": "stream",
     "text": [
      "Sum= 218\n",
      "Average = 43.600000\n"
     ]
    }
   ],
   "source": [
    "#sum of n numbers and average\n",
    "n=int(input(\"enter a count\"))\n",
    "s=0\n",
    "i=1\n",
    "while(i<=n):\n",
    "    num=int(input(\"enter a number\"))\n",
    "    s=s+num\n",
    "    i+=1\n",
    "print(\"Sum= %d\" % s)\n",
    "a=s/n\n",
    "print(\"Average = %f\" % (s/n))\n"
   ]
  },
  {
   "cell_type": "code",
   "execution_count": 3,
   "id": "cf50ac32-e1a3-4130-9471-6cbf81d0768a",
   "metadata": {},
   "outputs": [
    {
     "name": "stdin",
     "output_type": "stream",
     "text": [
      "enter a number 45\n"
     ]
    },
    {
     "name": "stdout",
     "output_type": "stream",
     "text": [
      "factorial value of 45 = 119622220865480194561963161495657715064383733760000000000\n"
     ]
    }
   ],
   "source": [
    "#factorial\n",
    "n=int(input(\"enter a number\"))\n",
    "f=1\n",
    "for i in range(1,n+1):\n",
    "    f=f*i\n",
    "print(\"factorial value of %d = %d\" % (n,f))"
   ]
  },
  {
   "cell_type": "code",
   "execution_count": 9,
   "id": "fe5bf9cb-96a0-4efa-9eee-e0c9ff90343f",
   "metadata": {},
   "outputs": [
    {
     "name": "stdin",
     "output_type": "stream",
     "text": [
      " Hi Welcome\n"
     ]
    },
    {
     "name": "stdout",
     "output_type": "stream",
     "text": [
      "H\n",
      "i\n",
      " \n",
      "W\n",
      "e\n",
      "l\n",
      "c\n",
      "o\n",
      "m\n",
      "e\n"
     ]
    }
   ],
   "source": [
    "s=input()\n",
    "for i in range(0,len(s)):\n",
    "    print(s[i])"
   ]
  },
  {
   "cell_type": "code",
   "execution_count": 1,
   "id": "8fc80e8c-324a-424e-8436-e3acf7d0ad0d",
   "metadata": {},
   "outputs": [
    {
     "name": "stdin",
     "output_type": "stream",
     "text": [
      "enter a number 3\n"
     ]
    },
    {
     "name": "stdout",
     "output_type": "stream",
     "text": [
      "3\n",
      "2\n",
      "1\n",
      "0\n"
     ]
    }
   ],
   "source": [
    "n=int(input(\"enter a number\"))\n",
    "for i in range(n,-1,-1):\n",
    "    print(i)"
   ]
  },
  {
   "cell_type": "code",
   "execution_count": 3,
   "id": "ba938536-9ba8-4c58-bbf5-fb0fc15d4696",
   "metadata": {},
   "outputs": [
    {
     "name": "stdin",
     "output_type": "stream",
     "text": [
      "enter a number 45\n",
      "enter a number 67\n"
     ]
    },
    {
     "name": "stdout",
     "output_type": "stream",
     "text": [
      "67 is greater\n"
     ]
    }
   ],
   "source": [
    "#greatest of two numbers\n",
    "n1=int(input(\"enter a number\"))\n",
    "n2=int(input(\"enter a number\"))\n",
    "if n1>n2 :\n",
    "    print(\"%d is greater\" % n1)\n",
    "elif n2>n1:\n",
    "    print(\"%d is greater\" % n2)\n",
    "else:\n",
    "    print(\"%d is equal to %d\" % (n1,n2))   "
   ]
  },
  {
   "cell_type": "code",
   "execution_count": 31,
   "id": "9aea46e9-2940-4677-b382-3698fd5943b6",
   "metadata": {},
   "outputs": [
    {
     "name": "stdin",
     "output_type": "stream",
     "text": [
      "enter a number 1234\n"
     ]
    },
    {
     "name": "stdout",
     "output_type": "stream",
     "text": [
      "4\n",
      "10\n"
     ]
    }
   ],
   "source": [
    "#counting number of digits and summing digit in a integer\n",
    "n=int(input(\"enter a number\"))\n",
    "c=0\n",
    "s=0\n",
    "while(n>0):\n",
    "    d=n % 10\n",
    "    s=s+d\n",
    "    c = c + 1\n",
    "    n = n//10\n",
    "    #print(c)\n",
    "    \n",
    "print(c)\n",
    "print(s)"
   ]
  },
  {
   "cell_type": "code",
   "execution_count": 79,
   "id": "6f85b41e-5573-4634-9622-2cd8f324ea8f",
   "metadata": {},
   "outputs": [
    {
     "name": "stdin",
     "output_type": "stream",
     "text": [
      "enter a number 123456\n"
     ]
    },
    {
     "name": "stdout",
     "output_type": "stream",
     "text": [
      "654321\n"
     ]
    }
   ],
   "source": [
    "#reversing a number\n",
    "n=int(input(\"enter a number\"))\n",
    "rnum = 0\n",
    "while n > 0:\n",
    "        d= n % 10\n",
    "        rnum = rnum * 10 +d\n",
    "        n = n // 10\n",
    "print(rnum)    "
   ]
  },
  {
   "cell_type": "code",
   "execution_count": 11,
   "id": "ee727012-0e5a-46c0-b00e-d80cc02bd30c",
   "metadata": {},
   "outputs": [
    {
     "name": "stdin",
     "output_type": "stream",
     "text": [
      "enter a number 153\n"
     ]
    },
    {
     "name": "stdout",
     "output_type": "stream",
     "text": [
      "153 Armstrong Number\n"
     ]
    }
   ],
   "source": [
    "#checking Armstrong number\n",
    "n=int(input(\"enter a number\"))\n",
    "sum = 0\n",
    "c=0\n",
    "ndub=n1=n\n",
    "while(n1>0):\n",
    "    c = c + 1\n",
    "    n1 = n1//10\n",
    "while n > 0:\n",
    "        d= n % 10\n",
    "        sum = sum+d**c\n",
    "        n =n//10\n",
    "if (sum==ndub):\n",
    "    print(\"%d Armstrong Number\" % ndub)\n",
    "else:\n",
    "    print(\"%d is not Armstrong Number\" % ndub)    "
   ]
  },
  {
   "cell_type": "code",
   "execution_count": 69,
   "id": "91c3d78f-433b-4bb9-8564-884eec389477",
   "metadata": {},
   "outputs": [
    {
     "name": "stdin",
     "output_type": "stream",
     "text": [
      "enter a number 67812345\n"
     ]
    },
    {
     "name": "stdout",
     "output_type": "stream",
     "text": [
      "8\n"
     ]
    }
   ],
   "source": [
    "n=int(input(\"enter a number\"))\n",
    "c=0\n",
    "n1=n\n",
    "while(n1>0):\n",
    "    c = c + 1\n",
    "    n1 = n1//10\n",
    "print(c)"
   ]
  },
  {
   "cell_type": "code",
   "execution_count": 83,
   "id": "dfa19d7c-2128-4e46-b025-46f9b80c1973",
   "metadata": {},
   "outputs": [
    {
     "name": "stdin",
     "output_type": "stream",
     "text": [
      "enter number n 5\n"
     ]
    },
    {
     "name": "stdout",
     "output_type": "stream",
     "text": [
      "0 1 1 2 3 5 8 "
     ]
    }
   ],
   "source": [
    "#fibonacci series\n",
    "n=int(input(\"enter number n\"))\n",
    "f1=0\n",
    "f2=1\n",
    "print(f1,f2,sep=' ',end=' ')\n",
    "for i in range(n):\n",
    "    f3=f1+f2\n",
    "    print(f3,end=' ')\n",
    "    f1=f2\n",
    "    f2=f3"
   ]
  },
  {
   "cell_type": "code",
   "execution_count": 1,
   "id": "de068fb8-5053-479e-ad16-6c4f8a1d23f2",
   "metadata": {},
   "outputs": [
    {
     "name": "stdin",
     "output_type": "stream",
     "text": [
      "enter a number 20\n"
     ]
    },
    {
     "name": "stdout",
     "output_type": "stream",
     "text": [
      "1\n",
      "3\n",
      "5\n",
      "7\n",
      "9\n",
      "11\n",
      "13\n",
      "15\n",
      "17\n",
      "19\n"
     ]
    }
   ],
   "source": [
    "n=int(input(\"enter a number\"))\n",
    "i=1\n",
    "while i<=n:\n",
    "    if(i%2==0):\n",
    "      i=i+1\n",
    "      continue\n",
    "    print(i)\n",
    "    i=i+1"
   ]
  },
  {
   "cell_type": "code",
   "execution_count": 5,
   "id": "349fba33-f34c-40ba-b051-d2fe77b29cb0",
   "metadata": {},
   "outputs": [
    {
     "data": {
      "text/plain": [
       "'wel'"
      ]
     },
     "execution_count": 5,
     "metadata": {},
     "output_type": "execute_result"
    }
   ],
   "source": [
    "l=[\"Hi\",\"wel\"]\n",
    "max(l)"
   ]
  },
  {
   "cell_type": "code",
   "execution_count": 5,
   "id": "7817d80d-71d6-494f-9f51-576cf1bb7107",
   "metadata": {},
   "outputs": [
    {
     "data": {
      "text/plain": [
       "4"
      ]
     },
     "execution_count": 5,
     "metadata": {},
     "output_type": "execute_result"
    }
   ],
   "source": [
    "~-5\n"
   ]
  },
  {
   "cell_type": "code",
   "execution_count": 7,
   "id": "2bcb0e20-7965-49a6-8b68-0530ae5f4000",
   "metadata": {},
   "outputs": [
    {
     "data": {
      "text/plain": [
       "-10"
      ]
     },
     "execution_count": 7,
     "metadata": {},
     "output_type": "execute_result"
    }
   ],
   "source": [
    "a=-5\n",
    "a<<1"
   ]
  },
  {
   "cell_type": "code",
   "execution_count": 1,
   "id": "f99ba4fe-630c-4895-abf1-86a2a513b1a3",
   "metadata": {},
   "outputs": [
    {
     "name": "stdout",
     "output_type": "stream",
     "text": [
      "welcome to Python\n"
     ]
    }
   ],
   "source": [
    "print(\"welcome to Python\")"
   ]
  },
  {
   "cell_type": "code",
   "execution_count": 5,
   "id": "fd0cdd05-5d6e-4e8e-b579-62a050bd648b",
   "metadata": {},
   "outputs": [
    {
     "name": "stdout",
     "output_type": "stream",
     "text": [
      "[8, 7, 5, 5, 4, 3, 2, 1]\n"
     ]
    }
   ],
   "source": [
    "l=[1,2,3,4,5,5,7,8]\n",
    "lr=l[::-1]\n",
    "print(lr)"
   ]
  },
  {
   "cell_type": "code",
   "execution_count": 7,
   "id": "a0913d7e-a7d6-4610-b419-1b83a533a60f",
   "metadata": {},
   "outputs": [
    {
     "name": "stdout",
     "output_type": "stream",
     "text": [
      "5 10 15 20 "
     ]
    }
   ],
   "source": [
    "t2=(5,10,15,20)\n",
    "for i in t2:\n",
    "    print(i,end=' ')"
   ]
  },
  {
   "cell_type": "code",
   "execution_count": 19,
   "id": "ac4a5e60-c9bd-4236-957b-c8167c3aef1b",
   "metadata": {},
   "outputs": [
    {
     "name": "stdout",
     "output_type": "stream",
     "text": [
      "3\n"
     ]
    },
    {
     "data": {
      "text/plain": [
       "[3, 4, [3, 4, [45, 67]]]"
      ]
     },
     "execution_count": 19,
     "metadata": {},
     "output_type": "execute_result"
    }
   ],
   "source": [
    "l=[1,[2,3],4,5,6]\n",
    "print(l[1][1])\n",
    "l[1][1]=30\n",
    "l1=[45,67]\n",
    "\n",
    "l[1]=l1\n",
    "l2"
   ]
  },
  {
   "cell_type": "code",
   "execution_count": 21,
   "id": "3314fdc8-d8b4-482b-a5af-b39fb5c80e29",
   "metadata": {},
   "outputs": [
    {
     "ename": "NameError",
     "evalue": "name 'l3' is not defined",
     "output_type": "error",
     "traceback": [
      "\u001b[1;31m---------------------------------------------------------------------------\u001b[0m",
      "\u001b[1;31mNameError\u001b[0m                                 Traceback (most recent call last)",
      "Cell \u001b[1;32mIn[21], line 1\u001b[0m\n\u001b[1;32m----> 1\u001b[0m l3\u001b[38;5;241m=\u001b[39m[\u001b[38;5;241m3\u001b[39m,\u001b[38;5;241m4\u001b[39m,l3]\n",
      "\u001b[1;31mNameError\u001b[0m: name 'l3' is not defined"
     ]
    }
   ],
   "source": [
    "l3=[3,4,l3]"
   ]
  },
  {
   "cell_type": "code",
   "execution_count": 111,
   "id": "aca09a15-e1de-4300-a86f-0efd34e02aa3",
   "metadata": {},
   "outputs": [
    {
     "name": "stdin",
     "output_type": "stream",
     "text": [
      "Enter the count 6\n",
      "Enter a number 34\n",
      "Enter a number 56\n",
      "Enter a number 15\n",
      "Enter a number 10\n",
      "Enter a number 60\n",
      "Enter a number 65\n"
     ]
    },
    {
     "name": "stdout",
     "output_type": "stream",
     "text": [
      "15\n",
      "60\n"
     ]
    }
   ],
   "source": [
    "l=[]\n",
    "n=int(input(\"Enter the count\"))\n",
    "for i in range(n):\n",
    "    num=int(input(\"Enter a number\"))\n",
    "    l=l+[num]   # l.append(num)\n",
    "for i in l:\n",
    "    if (i % 3==0) and ( i % 5==0):\n",
    "        print(i)\n",
    "    \n"
   ]
  },
  {
   "cell_type": "code",
   "execution_count": 13,
   "id": "a676a2ff-d96b-4339-994d-3ef9c6db4a6e",
   "metadata": {},
   "outputs": [
    {
     "name": "stdout",
     "output_type": "stream",
     "text": [
      "222.70000000000002\n"
     ]
    }
   ],
   "source": [
    "nums = [3, 41, 12, 9, 74, 15.8,67.9]\n",
    "print(sum(nums))"
   ]
  },
  {
   "cell_type": "code",
   "execution_count": 11,
   "id": "c81218e2-40bc-46be-9224-2345cb7834f0",
   "metadata": {},
   "outputs": [
    {
     "ename": "TypeError",
     "evalue": "unsupported operand type(s) for +: 'int' and 'str'",
     "output_type": "error",
     "traceback": [
      "\u001b[1;31m---------------------------------------------------------------------------\u001b[0m",
      "\u001b[1;31mTypeError\u001b[0m                                 Traceback (most recent call last)",
      "Cell \u001b[1;32mIn[11], line 2\u001b[0m\n\u001b[0;32m      1\u001b[0m nums \u001b[38;5;241m=\u001b[39m [\u001b[38;5;124m'\u001b[39m\u001b[38;5;124mHi\u001b[39m\u001b[38;5;124m'\u001b[39m,\u001b[38;5;124m'\u001b[39m\u001b[38;5;124mwl\u001b[39m\u001b[38;5;124m'\u001b[39m,\u001b[38;5;124m'\u001b[39m\u001b[38;5;124mdd\u001b[39m\u001b[38;5;124m'\u001b[39m,\u001b[38;5;124m'\u001b[39m\u001b[38;5;124mff\u001b[39m\u001b[38;5;124m'\u001b[39m]\n\u001b[1;32m----> 2\u001b[0m \u001b[38;5;28mprint\u001b[39m(\u001b[38;5;28msum\u001b[39m(nums))\n",
      "\u001b[1;31mTypeError\u001b[0m: unsupported operand type(s) for +: 'int' and 'str'"
     ]
    }
   ],
   "source": [
    "nums = ['Hi','wl','dd','ff']\n",
    "print(sum(nums))"
   ]
  },
  {
   "cell_type": "code",
   "execution_count": 99,
   "id": "bbc52ea1-6b5a-4a6f-ae1c-e3997a431fe4",
   "metadata": {},
   "outputs": [
    {
     "ename": "TypeError",
     "evalue": "'int' object is not callable",
     "output_type": "error",
     "traceback": [
      "\u001b[1;31m---------------------------------------------------------------------------\u001b[0m",
      "\u001b[1;31mTypeError\u001b[0m                                 Traceback (most recent call last)",
      "Cell \u001b[1;32mIn[99], line 2\u001b[0m\n\u001b[0;32m      1\u001b[0m nums \u001b[38;5;241m=\u001b[39m (\u001b[38;5;124m'\u001b[39m\u001b[38;5;124mHi\u001b[39m\u001b[38;5;124m'\u001b[39m,\u001b[38;5;124m'\u001b[39m\u001b[38;5;124mwl\u001b[39m\u001b[38;5;124m'\u001b[39m,\u001b[38;5;124m'\u001b[39m\u001b[38;5;124mdd\u001b[39m\u001b[38;5;124m'\u001b[39m,\u001b[38;5;124m'\u001b[39m\u001b[38;5;124mff\u001b[39m\u001b[38;5;124m'\u001b[39m)\n\u001b[1;32m----> 2\u001b[0m \u001b[38;5;28mprint\u001b[39m(\u001b[38;5;28msum\u001b[39m(nums))\n",
      "\u001b[1;31mTypeError\u001b[0m: 'int' object is not callable"
     ]
    }
   ],
   "source": [
    "nums = ('Hi','wl','dd','ff')\n",
    "print(sum(nums))"
   ]
  },
  {
   "cell_type": "code",
   "execution_count": 23,
   "id": "235663ac-639b-485a-a669-4557b563d78d",
   "metadata": {},
   "outputs": [
    {
     "name": "stdout",
     "output_type": "stream",
     "text": [
      "[3, 41, 12, 9, 74, 15.8, 67.9, 1, 2]\n"
     ]
    }
   ],
   "source": [
    "nums = [3, 41, 12, 9, 74, 15.8,67.9]\n",
    "nums.extend((1,2))\n",
    "print(nums)"
   ]
  },
  {
   "cell_type": "code",
   "execution_count": 27,
   "id": "cfe1442a-d5a0-456f-bd19-09baac0c5e6d",
   "metadata": {},
   "outputs": [
    {
     "data": {
      "text/plain": [
       "False"
      ]
     },
     "execution_count": 27,
     "metadata": {},
     "output_type": "execute_result"
    }
   ],
   "source": [
    "list1 = [10,2.2,(22,33,43),('python',) ] \n",
    "'python' in list1"
   ]
  },
  {
   "cell_type": "code",
   "execution_count": 35,
   "id": "9b5c82d7-c93e-45ca-8eaa-3aad1b84ebc2",
   "metadata": {},
   "outputs": [
    {
     "data": {
      "text/plain": [
       "tuple"
      ]
     },
     "execution_count": 35,
     "metadata": {},
     "output_type": "execute_result"
    }
   ],
   "source": [
    "t=(45,67)\n",
    "type(t)"
   ]
  },
  {
   "cell_type": "code",
   "execution_count": 37,
   "id": "0488b2e9-284e-4a2e-b013-ff104af0928d",
   "metadata": {},
   "outputs": [
    {
     "ename": "SyntaxError",
     "evalue": "invalid syntax (1379051086.py, line 1)",
     "output_type": "error",
     "traceback": [
      "\u001b[1;36m  Cell \u001b[1;32mIn[37], line 1\u001b[1;36m\u001b[0m\n\u001b[1;33m    t=(,)\u001b[0m\n\u001b[1;37m       ^\u001b[0m\n\u001b[1;31mSyntaxError\u001b[0m\u001b[1;31m:\u001b[0m invalid syntax\n"
     ]
    }
   ],
   "source": [
    "t=(,)"
   ]
  },
  {
   "cell_type": "code",
   "execution_count": 39,
   "id": "40db9372-28e6-46ec-bc56-3acaa0c9a4c0",
   "metadata": {},
   "outputs": [
    {
     "name": "stdout",
     "output_type": "stream",
     "text": [
      "0\n",
      "0\n",
      "0\n",
      "0\n",
      "0\n",
      "0\n",
      "1\n",
      "2\n",
      "3\n",
      "4\n",
      "0\n",
      "2\n",
      "4\n",
      "6\n",
      "8\n",
      "0\n",
      "3\n",
      "6\n",
      "9\n",
      "12\n",
      "0\n",
      "4\n",
      "8\n",
      "12\n",
      "16\n"
     ]
    }
   ],
   "source": [
    "for i in range(5):\n",
    "    for j in range(5):\n",
    "        print(i*j)"
   ]
  },
  {
   "cell_type": "code",
   "execution_count": 57,
   "id": "a06cf502-e62e-4871-a4c8-5aaa59c0924a",
   "metadata": {},
   "outputs": [
    {
     "ename": "TypeError",
     "evalue": "'tuple' object does not support item assignment",
     "output_type": "error",
     "traceback": [
      "\u001b[1;31m---------------------------------------------------------------------------\u001b[0m",
      "\u001b[1;31mTypeError\u001b[0m                                 Traceback (most recent call last)",
      "Cell \u001b[1;32mIn[57], line 2\u001b[0m\n\u001b[0;32m      1\u001b[0m t\u001b[38;5;241m=\u001b[39m(\u001b[38;5;241m1\u001b[39m,\u001b[38;5;241m2\u001b[39m,\u001b[38;5;241m2\u001b[39m,\u001b[38;5;241m3\u001b[39m,(\u001b[38;5;241m6\u001b[39m,\u001b[38;5;241m7\u001b[39m))\n\u001b[1;32m----> 2\u001b[0m t[\u001b[38;5;241m4\u001b[39m][\u001b[38;5;241m0\u001b[39m]\u001b[38;5;241m=\u001b[39m\u001b[38;5;241m56\u001b[39m\n\u001b[0;32m      3\u001b[0m t[\u001b[38;5;241m2\u001b[39m]\u001b[38;5;241m=\u001b[39m\u001b[38;5;241m30\u001b[39m\n\u001b[0;32m      4\u001b[0m t\n",
      "\u001b[1;31mTypeError\u001b[0m: 'tuple' object does not support item assignment"
     ]
    }
   ],
   "source": [
    "t=(1,2,2,3,(6,7))\n",
    "t[4][0]=56\n",
    "t[2]=30\n",
    "t"
   ]
  },
  {
   "cell_type": "code",
   "execution_count": 109,
   "id": "61cc8b32-f3b6-4d3e-9f23-21df080870a7",
   "metadata": {},
   "outputs": [
    {
     "data": {
      "text/plain": [
       "30"
      ]
     },
     "execution_count": 109,
     "metadata": {},
     "output_type": "execute_result"
    }
   ],
   "source": [
    "s=\"welcom\"\n",
    "t=tuple(s)\n",
    "l=list(s)\n",
    "l\n",
    "t1=tuple(l)\n",
    "t1\n",
    "s1=str(t1)\n",
    "s1\n",
    "len(s1)\n"
   ]
  },
  {
   "cell_type": "code",
   "execution_count": 67,
   "id": "50275dbf-fc28-4ded-971e-8a8f6660aa84",
   "metadata": {},
   "outputs": [
    {
     "name": "stdout",
     "output_type": "stream",
     "text": [
      "['w', 'e', 'l', 'c', 'o', 'm']\n",
      "30\n"
     ]
    }
   ],
   "source": [
    "s=\"welcom\"\n",
    "l=list(s)\n",
    "s1=str(l)\n",
    "print(s1)\n",
    "print(len(s1))\n"
   ]
  },
  {
   "cell_type": "code",
   "execution_count": 73,
   "id": "6ec01bcd-5356-4b69-8f07-88bdb3883206",
   "metadata": {},
   "outputs": [
    {
     "data": {
      "text/plain": [
       "('1', '2', '3', '4')"
      ]
     },
     "execution_count": 73,
     "metadata": {},
     "output_type": "execute_result"
    }
   ],
   "source": [
    "n=1234\n",
    "s=str(n)\n",
    "t=tuple(s)\n",
    "t"
   ]
  },
  {
   "cell_type": "code",
   "execution_count": 23,
   "id": "b2761217-a8f2-4a8f-9ef9-736145483755",
   "metadata": {},
   "outputs": [
    {
     "name": "stdout",
     "output_type": "stream",
     "text": [
      "2339425472064\n",
      "2339425472064\n"
     ]
    }
   ],
   "source": [
    "l1=[1,2,3,4,5,6]\n",
    "l2=l1\n",
    "print(id(l1))\n",
    "print(id(l2))"
   ]
  },
  {
   "cell_type": "code",
   "execution_count": 47,
   "id": "45f94cb5-d861-4c20-af84-c10f88f03872",
   "metadata": {},
   "outputs": [
    {
     "name": "stdout",
     "output_type": "stream",
     "text": [
      "6\n"
     ]
    }
   ],
   "source": [
    "l1=[1,2,3,4,5,6,7,8,9,10]\n",
    "print(l1[-5])\n",
    "ls=l1[::-1]\n",
    "#ls\n"
   ]
  },
  {
   "cell_type": "code",
   "execution_count": 3,
   "id": "40453a6c-d8e9-4a6b-94ec-706010a25f4a",
   "metadata": {},
   "outputs": [
    {
     "data": {
      "text/plain": [
       "False"
      ]
     },
     "execution_count": 3,
     "metadata": {},
     "output_type": "execute_result"
    }
   ],
   "source": [
    "d={'e':\"arun\",'f':\"arvind\"}\n",
    "f={'F':\"arvind\",'e':\"arun\"}\n",
    "d==f"
   ]
  },
  {
   "cell_type": "code",
   "execution_count": 5,
   "id": "44bd7ca0-f92c-42e7-aaeb-3f97cbfc0d7b",
   "metadata": {},
   "outputs": [
    {
     "data": {
      "text/plain": [
       "'f'"
      ]
     },
     "execution_count": 5,
     "metadata": {},
     "output_type": "execute_result"
    }
   ],
   "source": [
    "max(d)"
   ]
  },
  {
   "cell_type": "code",
   "execution_count": 21,
   "id": "b9ecd394-e7fe-47b7-b8b9-f9d5642d5c82",
   "metadata": {},
   "outputs": [
    {
     "data": {
      "text/plain": [
       "3"
      ]
     },
     "execution_count": 21,
     "metadata": {},
     "output_type": "execute_result"
    }
   ],
   "source": [
    "def s():\n",
    "    return 3\n",
    "d1={1:s(),2:\"Arun\"}\n",
    "d1[1]\n",
    "    "
   ]
  },
  {
   "cell_type": "code",
   "execution_count": 23,
   "id": "f8aa8c51-638a-4e18-a180-e4f33a571f93",
   "metadata": {},
   "outputs": [
    {
     "data": {
      "text/plain": [
       "{1: 3}"
      ]
     },
     "execution_count": 23,
     "metadata": {},
     "output_type": "execute_result"
    }
   ],
   "source": [
    "x=d1.pop(2)\n",
    "d1"
   ]
  },
  {
   "cell_type": "code",
   "execution_count": 25,
   "id": "16e4c176-d845-4d12-a87d-9244da48e7cc",
   "metadata": {},
   "outputs": [
    {
     "data": {
      "text/plain": [
       "'Arun'"
      ]
     },
     "execution_count": 25,
     "metadata": {},
     "output_type": "execute_result"
    }
   ],
   "source": [
    "x"
   ]
  },
  {
   "cell_type": "code",
   "execution_count": 23,
   "id": "b11733fb-c826-4196-9e1c-093e8a141531",
   "metadata": {},
   "outputs": [
    {
     "name": "stdout",
     "output_type": "stream",
     "text": [
      "Bala\n"
     ]
    }
   ],
   "source": [
    "d1={1:\"Aruna\",2:\"Arun\",3:\"Bala\",4:\"Ravi\",5:\"Raghu\"}\n",
    "result=d1.popitem()\n",
    "#result\n",
    "x=d1.setdefault(3,\"Sam\")\n",
    "print(x)"
   ]
  },
  {
   "cell_type": "code",
   "execution_count": 37,
   "id": "aa0547ee-5f4c-4b4f-903b-5de3eb37f22a",
   "metadata": {},
   "outputs": [
    {
     "data": {
      "text/plain": [
       "(3, 'Bala')"
      ]
     },
     "execution_count": 37,
     "metadata": {},
     "output_type": "execute_result"
    }
   ],
   "source": [
    "d1={1:\"Aruna\",2:\"Arun\",3:\"Bala\"}\n",
    "result=d1.popitem()\n",
    "result"
   ]
  },
  {
   "cell_type": "code",
   "execution_count": 47,
   "id": "1055eb31-1578-4913-9786-f6e48141466c",
   "metadata": {},
   "outputs": [
    {
     "data": {
      "text/plain": [
       "{1: 'Aruna', 2: 'uu', 3: 'Bala', 6: 'ff'}"
      ]
     },
     "execution_count": 47,
     "metadata": {},
     "output_type": "execute_result"
    }
   ],
   "source": [
    "d1={1:\"Aruna\",2:\"Arun\",3:\"Bala\"}\n",
    "d2={6:\"ff\",2:\"uu\"}\n",
    "d.setdefault(4,\"Aravind\")\n",
    "d1.update(d2)\n",
    "d1"
   ]
  },
  {
   "cell_type": "code",
   "execution_count": 49,
   "id": "e584dc70-8c3f-41f4-a0d4-1afaf5cbf6ea",
   "metadata": {},
   "outputs": [
    {
     "name": "stdout",
     "output_type": "stream",
     "text": [
      "1 Aruna\n",
      "2 Arun\n",
      "3 Bala\n"
     ]
    }
   ],
   "source": [
    "d1={1:\"Aruna\",2:\"Arun\",3:\"Bala\"}\n",
    "for k in d1:\n",
    "    print(k,d1[k])"
   ]
  },
  {
   "cell_type": "code",
   "execution_count": 11,
   "id": "831061ce-e8e2-4a88-a2b9-3f03ae912bfe",
   "metadata": {},
   "outputs": [
    {
     "name": "stdout",
     "output_type": "stream",
     "text": [
      "S is not empty\n"
     ]
    }
   ],
   "source": [
    "s=10\n",
    "if s:\n",
    "    print(\"S is not empty\");\n",
    "else:\n",
    "    print(\"S is empty\")"
   ]
  },
  {
   "cell_type": "code",
   "execution_count": 19,
   "id": "075ab4c9-81dc-4d31-bf75-ff1d22e5265b",
   "metadata": {},
   "outputs": [
    {
     "name": "stdout",
     "output_type": "stream",
     "text": [
      "140730757252008 140730757252008\n",
      "140730757252008 140730757252008\n"
     ]
    }
   ],
   "source": [
    "s1=\"Python\"\n",
    "s2=s1\n",
    "s3=s1[::]\n",
    "print(id(s1),id(s2))\n",
    "print(id(s1),id(s3))"
   ]
  },
  {
   "cell_type": "code",
   "execution_count": 23,
   "id": "5282a169-7a6f-44a2-a011-9f2340990b82",
   "metadata": {},
   "outputs": [
    {
     "name": "stdout",
     "output_type": "stream",
     "text": [
      "1368694862064\n",
      "1368771892336\n"
     ]
    }
   ],
   "source": [
    "str1=\"python\"\n",
    "print(id(str1))\n",
    "str1=str1[::-1]\n",
    "print(id(str1))"
   ]
  },
  {
   "cell_type": "code",
   "execution_count": 25,
   "id": "f880ba81-6ad7-4519-96e9-5ded3519157b",
   "metadata": {},
   "outputs": [
    {
     "data": {
      "text/plain": [
       "7"
      ]
     },
     "execution_count": 25,
     "metadata": {},
     "output_type": "execute_result"
    }
   ],
   "source": [
    "str1=\"python programming\"\n",
    "str1.index(\"prog\")"
   ]
  },
  {
   "cell_type": "code",
   "execution_count": 45,
   "id": "dde7cd5a-eabb-47a2-9dea-27ee35fba4e3",
   "metadata": {},
   "outputs": [
    {
     "name": "stdin",
     "output_type": "stream",
     "text": [
      "enter a string madam\n"
     ]
    },
    {
     "name": "stdout",
     "output_type": "stream",
     "text": [
      "palindrome\n"
     ]
    }
   ],
   "source": [
    "#plaindrome\n",
    "s=input(\"enter a string\")\n",
    "i=0\n",
    "flag=0\n",
    "n=len(s)\n",
    "while(i<n/2):\n",
    "    if s[i] != s[n-i-1]:\n",
    "        flag=1\n",
    "        break\n",
    "    i=i+1\n",
    "if flag==0:\n",
    "    print(\"palindrome\")\n",
    "else:\n",
    "     print(\"not palindrome\")\n",
    "    "
   ]
  },
  {
   "cell_type": "code",
   "execution_count": 51,
   "id": "61a7d317-bee2-485a-a24e-0b478fc25ef7",
   "metadata": {},
   "outputs": [
    {
     "name": "stdin",
     "output_type": "stream",
     "text": [
      "enter a string 121\n"
     ]
    },
    {
     "name": "stdout",
     "output_type": "stream",
     "text": [
      "palindrome\n"
     ]
    }
   ],
   "source": [
    "#palindrome\n",
    "s=input(\"enter a string\")\n",
    "i=0\n",
    "n=len(s)\n",
    "while(s[i] == s[n-i-1]):\n",
    "    if(i==int(n/2)):\n",
    "      print(\"palindrome\")\n",
    "      break\n",
    "    i=i+1\n",
    "else:\n",
    "   print(\"not palindrome\")     \n",
    "    "
   ]
  },
  {
   "cell_type": "code",
   "execution_count": 21,
   "id": "0f65a644-5138-4969-b957-2115f1d0e58d",
   "metadata": {},
   "outputs": [
    {
     "name": "stdin",
     "output_type": "stream",
     "text": [
      "enter a string Hi welcome  to python\n"
     ]
    },
    {
     "name": "stdout",
     "output_type": "stream",
     "text": [
      "4\n"
     ]
    }
   ],
   "source": [
    "#wordcount\n",
    "s=input(\"enter a string\")\n",
    "i=0\n",
    "wc=1\n",
    "n=len(s)\n",
    "prev=''\n",
    "while(i<n):\n",
    "    if (prev == '' or prev.isalpha()):\n",
    "        if(s[i] == ' '):\n",
    "          wc=wc+1\n",
    "    prev=s[i]\n",
    "    i=i+1\n",
    "print(wc)     \n",
    "    "
   ]
  },
  {
   "cell_type": "code",
   "execution_count": null,
   "id": "26992560-afd4-4d64-a56b-8a086d2e8ec9",
   "metadata": {},
   "outputs": [],
   "source": []
  },
  {
   "cell_type": "code",
   "execution_count": 157,
   "id": "1e746c3c-7bf9-4e09-a093-8501b4396021",
   "metadata": {},
   "outputs": [
    {
     "data": {
      "text/plain": [
       "True"
      ]
     },
     "execution_count": 157,
     "metadata": {},
     "output_type": "execute_result"
    }
   ],
   "source": [
    "str1=\"Welcome to Python class\"\n",
    "#str1.startswith(\"Welcome\",0,6)\n",
    "str1.endswith(\"class\",18,23)"
   ]
  },
  {
   "cell_type": "code",
   "execution_count": 163,
   "id": "cdcfa6d4-f23d-4d1c-a9ee-6db6e3f7f4c8",
   "metadata": {},
   "outputs": [
    {
     "name": "stdin",
     "output_type": "stream",
     "text": [
      "enter n 5\n",
      " Hello How are u\n",
      " Hi\n",
      " Hello fine\n",
      " Fine\n",
      " Hello thanks\n"
     ]
    },
    {
     "name": "stdout",
     "output_type": "stream",
     "text": [
      "Hello How are u\n",
      "Hello fine\n",
      "Hello thanks\n"
     ]
    }
   ],
   "source": [
    "n=int(input(\"enter n\"))\n",
    "l=[]\n",
    "for i in range(n):\n",
    "    s=input()\n",
    "    l=l+[s]\n",
    "\n",
    "for s in l:\n",
    "    if s.startswith(\"Hello\"):\n",
    "        print(s)\n"
   ]
  },
  {
   "cell_type": "code",
   "execution_count": 161,
   "id": "0f5dece0-7665-432e-918d-4db5547e6d47",
   "metadata": {},
   "outputs": [
    {
     "name": "stdout",
     "output_type": "stream",
     "text": [
      "1368694862064\n",
      "1368801590320\n"
     ]
    },
    {
     "data": {
      "text/plain": [
       "'\\ns2=s1\\ns3=s1[::]\\nprint(id(s1),id(s2))\\nprint(id(s1),id(s3))'"
      ]
     },
     "execution_count": 161,
     "metadata": {},
     "output_type": "execute_result"
    }
   ],
   "source": [
    "s1=\"python\"\n",
    "s2=\"program\"\n",
    "#s2[0]=\"f\"\n",
    "print(id(s1))\n",
    "s1=s1+s2\n",
    "print(id(s1))\n",
    "'''\n",
    "s2=s1\n",
    "s3=s1[::]\n",
    "print(id(s1),id(s2))\n",
    "print(id(s1),id(s3))'''"
   ]
  },
  {
   "cell_type": "code",
   "execution_count": 123,
   "id": "11b7c0e8-69d1-4e72-95a0-595dcecd453c",
   "metadata": {},
   "outputs": [
    {
     "name": "stdout",
     "output_type": "stream",
     "text": [
      "w\n",
      "e\n",
      "l\n",
      "c\n",
      "o\n",
      "m\n",
      "e\n"
     ]
    }
   ],
   "source": [
    "for i in \"welcome\":\n",
    "    print(i)"
   ]
  },
  {
   "cell_type": "code",
   "execution_count": 133,
   "id": "4d1ebac1-7104-4cf4-9637-e58ce9a6e639",
   "metadata": {},
   "outputs": [
    {
     "name": "stdout",
     "output_type": "stream",
     "text": [
      "31\n"
     ]
    }
   ],
   "source": [
    "s=''' Hi how are you\n",
    "I am fine\n",
    "ok good'''\n",
    "print(s.rfind('o'))"
   ]
  },
  {
   "cell_type": "code",
   "execution_count": null,
   "id": "959b6331-a7df-4d5c-bcb7-93b4346eb6fe",
   "metadata": {},
   "outputs": [],
   "source": []
  },
  {
   "cell_type": "code",
   "execution_count": 71,
   "id": "699f6aa6-3ef7-466c-8216-b6f1e5c621db",
   "metadata": {},
   "outputs": [
    {
     "data": {
      "text/plain": [
       "'Python prog'"
      ]
     },
     "execution_count": 71,
     "metadata": {},
     "output_type": "execute_result"
    }
   ],
   "source": [
    "s=\"PYTHON PROG\"\n",
    "s.capitalize()"
   ]
  },
  {
   "cell_type": "code",
   "execution_count": 77,
   "id": "ed05f7e9-83c8-4e51-9c49-528333b9c8fe",
   "metadata": {},
   "outputs": [
    {
     "data": {
      "text/plain": [
       "'a b c'"
      ]
     },
     "execution_count": 77,
     "metadata": {},
     "output_type": "execute_result"
    }
   ],
   "source": [
    "s1=\"abc\"\n",
    "\n",
    "s1=' '.join(s1)\n",
    "s1"
   ]
  },
  {
   "cell_type": "code",
   "execution_count": 83,
   "id": "95c9ca78-ef52-4e20-90c6-34141f03020f",
   "metadata": {},
   "outputs": [
    {
     "data": {
      "text/plain": [
       "'        hhhhh       '"
      ]
     },
     "execution_count": 83,
     "metadata": {},
     "output_type": "execute_result"
    }
   ],
   "source": [
    "s=\"     hhhhh    \"\n",
    "s.center(20)"
   ]
  },
  {
   "cell_type": "code",
   "execution_count": 87,
   "id": "e17a9268-54cf-4d50-a9f6-e65e1b6538b4",
   "metadata": {},
   "outputs": [
    {
     "data": {
      "text/plain": [
       "['Lu', ' Chao']"
      ]
     },
     "execution_count": 87,
     "metadata": {},
     "output_type": "execute_result"
    }
   ],
   "source": [
    "s=\"Lu, Chao\"\n",
    "s.split(\",\")"
   ]
  },
  {
   "cell_type": "code",
   "execution_count": 25,
   "id": "33bbecfb-ce53-4031-bcdc-f441308392ed",
   "metadata": {},
   "outputs": [
    {
     "data": {
      "text/plain": [
       "tuple"
      ]
     },
     "execution_count": 25,
     "metadata": {},
     "output_type": "execute_result"
    }
   ],
   "source": [
    "t=(5,)\n",
    "type(t)"
   ]
  },
  {
   "cell_type": "code",
   "execution_count": 91,
   "id": "4b1c44bb-e47b-4a4f-bcf2-b8e40c216bda",
   "metadata": {},
   "outputs": [
    {
     "data": {
      "text/plain": [
       "('Ram', 'Arun')"
      ]
     },
     "execution_count": 91,
     "metadata": {},
     "output_type": "execute_result"
    }
   ],
   "source": [
    "t=(\"Ram\",\"Arun\")\n",
    "sorted(t)\n",
    "t"
   ]
  },
  {
   "cell_type": "code",
   "execution_count": 57,
   "id": "f93a6669-1525-41c3-8f05-98022dec4ed5",
   "metadata": {},
   "outputs": [
    {
     "name": "stdout",
     "output_type": "stream",
     "text": [
      "1\n",
      "2\n",
      "3\n",
      "4\n"
     ]
    },
    {
     "data": {
      "text/plain": [
       "{1, 2, 3, 4, 5}"
      ]
     },
     "execution_count": 57,
     "metadata": {},
     "output_type": "execute_result"
    }
   ],
   "source": [
    "s={1,2,3,4}\n",
    "for i in s:\n",
    "    print(i)\n",
    "s.add(5)\n",
    "s"
   ]
  },
  {
   "cell_type": "code",
   "execution_count": 59,
   "id": "33353bfe-6a81-4768-b15c-9e7dfde7e77f",
   "metadata": {},
   "outputs": [
    {
     "ename": "TypeError",
     "evalue": "unhashable type: 'list'",
     "output_type": "error",
     "traceback": [
      "\u001b[1;31m---------------------------------------------------------------------------\u001b[0m",
      "\u001b[1;31mTypeError\u001b[0m                                 Traceback (most recent call last)",
      "Cell \u001b[1;32mIn[59], line 1\u001b[0m\n\u001b[1;32m----> 1\u001b[0m s\u001b[38;5;241m=\u001b[39m{\u001b[38;5;241m1\u001b[39m,\u001b[38;5;241m2\u001b[39m,\u001b[38;5;241m3\u001b[39m,\u001b[38;5;241m4\u001b[39m,[\u001b[38;5;124m\"\u001b[39m\u001b[38;5;124myy\u001b[39m\u001b[38;5;124m\"\u001b[39m,\u001b[38;5;124m\"\u001b[39m\u001b[38;5;124mii\u001b[39m\u001b[38;5;124m\"\u001b[39m]}\n",
      "\u001b[1;31mTypeError\u001b[0m: unhashable type: 'list'"
     ]
    }
   ],
   "source": [
    "s={1,2,3,4,[\"yy\",\"ii\"]}"
   ]
  },
  {
   "cell_type": "code",
   "execution_count": 61,
   "id": "d6bbf18a-35cb-41f7-874e-7dd5a15f4c18",
   "metadata": {},
   "outputs": [
    {
     "ename": "TypeError",
     "evalue": "'set' object is not reversible",
     "output_type": "error",
     "traceback": [
      "\u001b[1;31m---------------------------------------------------------------------------\u001b[0m",
      "\u001b[1;31mTypeError\u001b[0m                                 Traceback (most recent call last)",
      "Cell \u001b[1;32mIn[61], line 2\u001b[0m\n\u001b[0;32m      1\u001b[0m s\u001b[38;5;241m=\u001b[39m{\u001b[38;5;241m1\u001b[39m,\u001b[38;5;241m2\u001b[39m,\u001b[38;5;241m3\u001b[39m,\u001b[38;5;241m4\u001b[39m}\n\u001b[1;32m----> 2\u001b[0m \u001b[38;5;28mreversed\u001b[39m(s)\n",
      "\u001b[1;31mTypeError\u001b[0m: 'set' object is not reversible"
     ]
    }
   ],
   "source": [
    "s={1,2,3,4}\n",
    "reversed(s)"
   ]
  },
  {
   "cell_type": "code",
   "execution_count": 29,
   "id": "81ec9d7a-a276-4ad4-91c7-ccb55c0b6b8a",
   "metadata": {},
   "outputs": [
    {
     "data": {
      "text/plain": [
       "{1, 2, 3, 4, 10, 10.5}"
      ]
     },
     "execution_count": 29,
     "metadata": {},
     "output_type": "execute_result"
    }
   ],
   "source": [
    "s={1,2,3,4,4}\n",
    "s.add(10)\n",
    "s.add(10.5)\n",
    "s"
   ]
  },
  {
   "cell_type": "code",
   "execution_count": 11,
   "id": "31a708a0-9b62-49a8-b0a8-1d65ccc5e4bf",
   "metadata": {},
   "outputs": [
    {
     "data": {
      "text/plain": [
       "1"
      ]
     },
     "execution_count": 11,
     "metadata": {},
     "output_type": "execute_result"
    }
   ],
   "source": [
    "s={1,2,3,4}\n",
    "s.pop()"
   ]
  },
  {
   "cell_type": "code",
   "execution_count": 13,
   "id": "e4491b05-a112-4189-9861-0d264273fb68",
   "metadata": {},
   "outputs": [
    {
     "data": {
      "text/plain": [
       "{2, 3, 4}"
      ]
     },
     "execution_count": 13,
     "metadata": {},
     "output_type": "execute_result"
    }
   ],
   "source": [
    "s"
   ]
  },
  {
   "cell_type": "code",
   "execution_count": 15,
   "id": "9323ea9e-6437-4db3-8a0d-60f9b3edbbbb",
   "metadata": {},
   "outputs": [
    {
     "data": {
      "text/plain": [
       "2"
      ]
     },
     "execution_count": 15,
     "metadata": {},
     "output_type": "execute_result"
    }
   ],
   "source": [
    "s.pop()"
   ]
  },
  {
   "cell_type": "code",
   "execution_count": 3,
   "id": "abdb9390-84ca-464a-b054-7efa6c59c2fd",
   "metadata": {},
   "outputs": [
    {
     "data": {
      "text/plain": [
       "{'banana', 'cherry', 'google', 'microsoft'}"
      ]
     },
     "execution_count": 3,
     "metadata": {},
     "output_type": "execute_result"
    }
   ],
   "source": [
    "set1={\"apple\", \"banana\", \"cherry\"}\n",
    "set2={\"google\", \"microsoft\", \"apple\"}\n",
    "set1.symmetric_difference_update(set2)\n",
    "set1"
   ]
  },
  {
   "cell_type": "code",
   "execution_count": 33,
   "id": "bd4dd074-5587-4382-8505-bb8e8784c44b",
   "metadata": {},
   "outputs": [
    {
     "name": "stdout",
     "output_type": "stream",
     "text": [
      "50\n",
      "20\n",
      "40\n",
      "10\n",
      "30\n"
     ]
    }
   ],
   "source": [
    "a = { 10, 30, 10, 40, 20, 50, 30 }\n",
    "for i in a:\n",
    "    print(i)"
   ]
  },
  {
   "cell_type": "code",
   "execution_count": 31,
   "id": "4aca9434-8b26-49f4-b46e-a4e0b569f9f3",
   "metadata": {},
   "outputs": [],
   "source": [
    "str1=\"Welcome to Python Class\""
   ]
  },
  {
   "cell_type": "code",
   "execution_count": 33,
   "id": "85e5afe0-fef9-4604-87bb-45a3393d5142",
   "metadata": {},
   "outputs": [
    {
     "data": {
      "text/plain": [
       "True"
      ]
     },
     "execution_count": 33,
     "metadata": {},
     "output_type": "execute_result"
    }
   ],
   "source": [
    "str1.startswith(\"W\",0)"
   ]
  },
  {
   "cell_type": "code",
   "execution_count": 39,
   "id": "223dfa00-7d68-4b1f-96a2-b27b345dba6a",
   "metadata": {},
   "outputs": [
    {
     "data": {
      "text/plain": [
       "False"
      ]
     },
     "execution_count": 39,
     "metadata": {},
     "output_type": "execute_result"
    }
   ],
   "source": [
    "str1.startswith(\"W\",1)"
   ]
  },
  {
   "cell_type": "code",
   "execution_count": 35,
   "id": "4153e19d-d9db-461c-97ed-674a4774ea5e",
   "metadata": {},
   "outputs": [
    {
     "data": {
      "text/plain": [
       "False"
      ]
     },
     "execution_count": 35,
     "metadata": {},
     "output_type": "execute_result"
    }
   ],
   "source": [
    "str1.startswith(\"App\",5,8)"
   ]
  },
  {
   "cell_type": "code",
   "execution_count": 37,
   "id": "a22a7859-63ac-494b-b37f-346a4091224e",
   "metadata": {},
   "outputs": [
    {
     "data": {
      "text/plain": [
       "False"
      ]
     },
     "execution_count": 37,
     "metadata": {},
     "output_type": "execute_result"
    }
   ],
   "source": [
    "str1.startswith(\"App\",6,9)"
   ]
  },
  {
   "cell_type": "code",
   "execution_count": 9,
   "id": "8590e3c9-fc1d-4134-a7d1-8626fab7accd",
   "metadata": {},
   "outputs": [
    {
     "name": "stdout",
     "output_type": "stream",
     "text": [
      "Encoded (UTF-8): b'Hello, World!'\n",
      "Encoded (ASCII): b'Hello, World!'\n",
      "Encoded (UTF-8 with special characters): b'Hello, \\xf0\\x9f\\x98\\x8a'\n"
     ]
    }
   ],
   "source": [
    "#for string objects that allows you to convert a \n",
    "#string into bytes using a specified encoding.\n",
    "original_string = \"Hello, World!\"\n",
    "\n",
    "# Encode using UTF-8 (default)\n",
    "encoded_utf8 = original_string.encode('utf-8')\n",
    "print(f\"Encoded (UTF-8): {encoded_utf8}\")  # Output: b'Hello, World!'\n",
    "\n",
    "# Encode using ASCII\n",
    "encoded_ascii = original_string.encode('ascii')\n",
    "print(f\"Encoded (ASCII): {encoded_ascii}\")  # Output: b'Hello, World!'\n",
    "\n",
    "# Encode a string with special characters using UTF-8\n",
    "special_string = \"Hello, 😊\"\n",
    "encoded_special = special_string.encode('utf-8') \n",
    "print(f\"Encoded (UTF-8 with special characters): {encoded_special}\")  # Output: b'Hello, \\xf0\\x9f\\x98\\x8a'"
   ]
  },
  {
   "cell_type": "code",
   "execution_count": 173,
   "id": "f27742b5-d86f-4079-a004-76b0e1ba6bee",
   "metadata": {},
   "outputs": [
    {
     "name": "stdout",
     "output_type": "stream",
     "text": [
      "value of 10 Value of Hi welcome\n"
     ]
    }
   ],
   "source": [
    "x=10\n",
    "y=\"Hi welcome\"\n",
    "print(f\"value of {x} Value of {y}\")"
   ]
  },
  {
   "cell_type": "code",
   "execution_count": 109,
   "id": "fcda640e-5ae1-4edc-9713-dc4153604f83",
   "metadata": {},
   "outputs": [
    {
     "name": "stdout",
     "output_type": "stream",
     "text": [
      "123 def 123\n"
     ]
    }
   ],
   "source": [
    "# Creating a translation table\n",
    "trans = str.maketrans(\"abc\", \"123\")\n",
    "\n",
    "# Using the translation table\n",
    "original_string = \"abc def abc\"\n",
    "translated_string = original_string.translate(trans)\n",
    "\n",
    "print(translated_string)  # Output: 123 def 123"
   ]
  },
  {
   "cell_type": "code",
   "execution_count": 3,
   "id": "983c7161-cbd5-4bfe-a761-14f04676c8f6",
   "metadata": {},
   "outputs": [
    {
     "name": "stdout",
     "output_type": "stream",
     "text": [
      "('Hello', ',', ' world!How are you?')\n"
     ]
    }
   ],
   "source": [
    "# Original string\n",
    "text = \"Hello, world!How are you?\"\n",
    "\n",
    "# Using partition to split by the first occurrence of the separator\n",
    "result = text.partition(\",\")\n",
    "\n",
    "print(result)  # Output: ('Hello, ', 'world', '! How are you?')"
   ]
  },
  {
   "cell_type": "code",
   "execution_count": 63,
   "id": "fa0cb90f-f3f0-457e-a5c3-c74c0e36b8a8",
   "metadata": {},
   "outputs": [
    {
     "name": "stdout",
     "output_type": "stream",
     "text": [
      "0\n",
      "{1: 0}\n"
     ]
    },
    {
     "data": {
      "text/plain": [
       "'\\nprint(d)\\nd[1]=d.setdefault(1,0) +1\\nd'"
      ]
     },
     "execution_count": 63,
     "metadata": {},
     "output_type": "execute_result"
    }
   ],
   "source": [
    "d={}\n",
    "print(d.setdefault(1,0))\n",
    "print(d)\n",
    "\"\"\"\n",
    "print(d)\n",
    "d[1]=d.setdefault(1,0) +1\n",
    "d\"\"\""
   ]
  },
  {
   "cell_type": "code",
   "execution_count": 67,
   "id": "a8940d65-63fb-4b94-9f49-5991e9156999",
   "metadata": {},
   "outputs": [
    {
     "name": "stdout",
     "output_type": "stream",
     "text": [
      "Result: {'A': 2, 'p': 3, 'l': 3, 'e': 2, ' ': 1}\n"
     ]
    }
   ],
   "source": [
    "#Write a program to count occurrences of all characters within a string\n",
    "str1 = \"Apple Aplle\"\n",
    "# create a result dictionary\n",
    "char_dict = dict()\n",
    "\n",
    "for char in str1:\n",
    "    # add / update the count of a character\n",
    "   char_dict[char] =  char_dict.setdefault(char,0) +1\n",
    "    \n",
    "print('Result:', char_dict)"
   ]
  },
  {
   "cell_type": "code",
   "execution_count": 41,
   "id": "37b19c4f-1e4a-44ed-8d2c-0ce2ec3cea8c",
   "metadata": {},
   "outputs": [
    {
     "name": "stdout",
     "output_type": "stream",
     "text": [
      "['Apple', 'is', 'red', 'Apple', 'is', 'good', 'for', 'health']\n",
      "Result: {'Apple': 2, 'is': 2, 'red': 1, 'good': 1, 'for': 1, 'health': 1}\n"
     ]
    }
   ],
   "source": [
    "#Write a program to count occurrences of all words within a string\n",
    "str1 = \"Apple is red Apple is good for health\"\n",
    "# create a result dictionary\n",
    "str1=str1.split()\n",
    "print(str1)\n",
    "word_dict = dict()\n",
    "\n",
    "for s in str1:\n",
    "    # add / update the count of a character\n",
    "   word_dict[s] =  word_dict.setdefault(s,0) +1\n",
    "    \n",
    "print('Result:', word_dict)"
   ]
  },
  {
   "cell_type": "code",
   "execution_count": null,
   "id": "0db5f71a-ad29-4331-bf47-0003662fbef4",
   "metadata": {},
   "outputs": [],
   "source": [
    "#counting each characters\n",
    "message = 'It was a bright cold day in April.'\n",
    "count = {}\n",
    "for character in message:\n",
    "  count.setdefault(character, 0) #count={'I':0,'t':0,' ';0}\n",
    "  count[character] = count[character] + 1 #count={'I':1,'t':1, ' ';1}\n",
    "\n",
    "print(count)"
   ]
  },
  {
   "cell_type": "code",
   "execution_count": 11,
   "id": "0a506993-3e38-447c-894d-42edc42b6595",
   "metadata": {},
   "outputs": [
    {
     "name": "stdin",
     "output_type": "stream",
     "text": [
      " I am fine fine am i\n"
     ]
    },
    {
     "name": "stdout",
     "output_type": "stream",
     "text": [
      "{'I': 1, 'am': 2, 'fine': 2, 'i': 1}\n"
     ]
    }
   ],
   "source": [
    "#counting each word\n",
    "msg=input()\n",
    "l=msg.split()\n",
    "count = {}\n",
    "for word in l:\n",
    "\n",
    "      count.setdefault(word, 0)\n",
    "      count[word] = count[word] + 1\n",
    "print(count)\n",
    "#print(l)"
   ]
  },
  {
   "cell_type": "code",
   "execution_count": null,
   "id": "f22477a8-16bb-4208-9f0c-46a9dd968e34",
   "metadata": {},
   "outputs": [],
   "source": []
  },
  {
   "cell_type": "code",
   "execution_count": 1,
   "id": "b7b5095b-7834-48bd-84d1-48dff961a1a7",
   "metadata": {},
   "outputs": [
    {
     "name": "stdin",
     "output_type": "stream",
     "text": [
      " welcome to python\n"
     ]
    },
    {
     "name": "stdout",
     "output_type": "stream",
     "text": [
      "5\n"
     ]
    },
    {
     "data": {
      "text/plain": [
       "\"\\n#vl=['a','e','i','o','u','A','E','I','O','U']\\nx=input()\\nvc=0\\nfor i in x:\\n    if i in 'aeiouAEIOU':\\n        vc=vc+1\\nprint(vc)\\n\""
      ]
     },
     "execution_count": 1,
     "metadata": {},
     "output_type": "execute_result"
    }
   ],
   "source": [
    "#counting vowels\n",
    "vl=['a','e','i','o','u','A','E','I','O','U']\n",
    "x=input()\n",
    "vc=0\n",
    "for i in x:\n",
    "    if i in vl: #  ['a','e','i','o','u','A','E','I','O','U']\n",
    "        vc=vc+1\n",
    "print(vc)\n",
    "\n",
    "\"\"\"\n",
    "#vl=['a','e','i','o','u','A','E','I','O','U']\n",
    "x=input()\n",
    "vc=0\n",
    "for i in x:\n",
    "    if i in 'aeiouAEIOU':\n",
    "        vc=vc+1\n",
    "print(vc)\n",
    "\"\"\""
   ]
  },
  {
   "cell_type": "code",
   "execution_count": 9,
   "id": "1ea3d8fd-8ef3-4d4f-bde1-5aab7de1b1da",
   "metadata": {},
   "outputs": [
    {
     "name": "stdout",
     "output_type": "stream",
     "text": [
      "emoclew\n"
     ]
    }
   ],
   "source": [
    "str=\"welcome\"\n",
    "n=len(str)\n",
    "rstr=\"\"\n",
    "i=0\n",
    "while(i<n):\n",
    "    rstr=rstr+str[n-1-i]\n",
    "    i=i+1\n",
    "\n",
    "print(rstr)\n",
    "\n"
   ]
  },
  {
   "cell_type": "code",
   "execution_count": 167,
   "id": "dbb26bf9-4574-4c32-a0d5-dd0a62673226",
   "metadata": {},
   "outputs": [
    {
     "data": {
      "text/plain": [
       "'a b c'"
      ]
     },
     "execution_count": 167,
     "metadata": {},
     "output_type": "execute_result"
    }
   ],
   "source": [
    "s1=\"abc\"\n",
    "s2=\"xyz\"\n",
    "s1.join(s2)\n",
    "' '.join(s1)"
   ]
  },
  {
   "cell_type": "code",
   "execution_count": null,
   "id": "11396d87-3e10-4424-89e3-ec2c860365b9",
   "metadata": {},
   "outputs": [],
   "source": [
    "#reverse a string\n",
    "str1 = \"Welcome\"\n",
    "print(\"Original String is:\", str1)\n",
    "\n",
    "str1 = str1[::-1]\n",
    "print(\"Reversed String is:\", str1)"
   ]
  },
  {
   "cell_type": "code",
   "execution_count": null,
   "id": "c51fa070-a68b-4401-afa3-d91cae272149",
   "metadata": {},
   "outputs": [],
   "source": [
    "#finding player with hisgest score\n",
    "players={'Sachin':82,'Dravid':56,'Dhoni':90}\n",
    "max=0\n",
    "for k,v in players.items():\n",
    "    if v>max:\n",
    "        max=v\n",
    "        maxkey=k\n",
    "\n",
    "print(\"%s is with highest score %d\"%(maxkey,max))"
   ]
  },
  {
   "cell_type": "code",
   "execution_count": 81,
   "id": "24f1bd2b-d87b-4c84-bce5-05eaf9777592",
   "metadata": {},
   "outputs": [
    {
     "name": "stdout",
     "output_type": "stream",
     "text": [
      "['John', '30', 'Engineer']\n",
      "['Sara', '25', 'Doctor']\n",
      "['Mike', '28', 'Lawyer']\n"
     ]
    }
   ],
   "source": [
    "import csv\n",
    "with open('file.csv', newline='') as csvfile:\n",
    "     csvreader = csv.reader(csvfile)\n",
    "     header = next(csvreader) # Skip the header row\n",
    "     for row in csvreader:\n",
    "     # Process each remaining row in the file\n",
    "     # Process each remaining row in the file\n",
    "         print(row)\n"
   ]
  },
  {
   "cell_type": "code",
   "execution_count": 9,
   "id": "fb740212-dcf5-4625-943b-e3695fa616a5",
   "metadata": {},
   "outputs": [
    {
     "name": "stdout",
     "output_type": "stream",
     "text": [
      "['1', '2008', 'Bangalore', '4/18/2008', 'Kolkata Knight Riders', 'Royal Challengers Bangalore', 'Royal Challengers Bangalore', 'field', 'normal', '0', 'Kolkata Knight Riders', '140', '0', 'BB McCullum', 'M Chinnaswamy Stadium', 'Asad Rauf', 'RE Koertzen', '']\n",
      "['2', '2008', 'Chandigarh', '4/19/2008', 'Chennai Super Kings', 'Kings XI Punjab', 'Chennai Super Kings', 'bat', 'normal', '0', 'Chennai Super Kings', '33', '0', 'MEK Hussey', 'Punjab Cricket Association Stadium, Mohali', 'MR Benson', 'SL Shastri', '']\n",
      "['3', '2008', 'Delhi', '4/19/2008', 'Rajasthan Royals', 'Delhi Daredevils', 'Rajasthan Royals', 'bat', 'normal', '0', 'Delhi Daredevils', '0', '9', 'MF Maharoof', 'Feroz Shah Kotla', 'Aleem Dar', 'GA Pratapkumar', '']\n",
      "['4', '2008', 'Mumbai', '4/20/2008', 'Mumbai Indians', 'Royal Challengers Bangalore', 'Mumbai Indians', 'bat', 'normal', '0', 'Royal Challengers Bangalore', '0', '5', 'MV Boucher', 'Wankhede Stadium', 'SJ Davis', 'DJ Harper', '']\n",
      "['5', '2008', 'Kolkata', '4/20/2008', 'Deccan Chargers', 'Kolkata Knight Riders', 'Deccan Chargers', 'bat', 'normal', '0', 'Kolkata Knight Riders', '0', '5', 'DJ Hussey', 'Eden Gardens', 'BF Bowden', 'K Hariharan', '']\n",
      "['6', '2008', 'Jaipur', '4/21/2008', 'Kings XI Punjab', 'Rajasthan Royals', 'Kings XI Punjab', 'bat', 'normal', '0', 'Rajasthan Royals', '0', '6', 'SR Watson', 'Sawai Mansingh Stadium', 'Aleem Dar', 'RB Tiffin', '']\n",
      "['7', '2008', 'Hyderabad', '4/22/2008', 'Deccan Chargers', 'Delhi Daredevils', 'Deccan Chargers', 'bat', 'normal', '0', 'Delhi Daredevils', '0', '9', 'V Sehwag', 'Rajiv Gandhi International Stadium, Uppal', 'IL Howell', 'AM Saheba', '']\n",
      "['8', '2008', 'Chennai', '4/23/2008', 'Chennai Super Kings', 'Mumbai Indians', 'Mumbai Indians', 'field', 'normal', '0', 'Chennai Super Kings', '6', '0', 'ML Hayden', 'MA Chidambaram Stadium, Chepauk', 'DJ Harper', 'GA Pratapkumar', '']\n",
      "['9', '2008', 'Hyderabad', '4/24/2008', 'Deccan Chargers', 'Rajasthan Royals', 'Rajasthan Royals', 'field', 'normal', '0', 'Rajasthan Royals', '0', '3', 'YK Pathan', 'Rajiv Gandhi International Stadium, Uppal', 'Asad Rauf', 'MR Benson', '']\n",
      "['10', '2008', 'Chandigarh', '4/25/2008', 'Kings XI Punjab', 'Mumbai Indians', 'Mumbai Indians', 'field', 'normal', '0', 'Kings XI Punjab', '66', '0', 'KC Sangakkara', 'Punjab Cricket Association Stadium, Mohali', 'Aleem Dar', 'AM Saheba', '']\n",
      "['11', '2008', 'Bangalore', '4/26/2008', 'Royal Challengers Bangalore', 'Rajasthan Royals', 'Rajasthan Royals', 'field', 'normal', '0', 'Rajasthan Royals', '0', '7', 'SR Watson', 'M Chinnaswamy Stadium', 'MR Benson', 'IL Howell', '']\n",
      "['12', '2008', 'Chennai', '4/26/2008', 'Kolkata Knight Riders', 'Chennai Super Kings', 'Kolkata Knight Riders', 'bat', 'normal', '0', 'Chennai Super Kings', '0', '9', 'JDP Oram', 'MA Chidambaram Stadium, Chepauk', 'BF Bowden', 'AV Jayaprakash', '']\n",
      "['13', '2008', 'Mumbai', '4/27/2008', 'Mumbai Indians', 'Deccan Chargers', 'Deccan Chargers', 'field', 'normal', '0', 'Deccan Chargers', '0', '10', 'AC Gilchrist', 'Dr DY Patil Sports Academy', 'Asad Rauf', 'SL Shastri', '']\n",
      "['14', '2008', 'Chandigarh', '4/27/2008', 'Delhi Daredevils', 'Kings XI Punjab', 'Delhi Daredevils', 'bat', 'normal', '0', 'Kings XI Punjab', '0', '4', 'SM Katich', 'Punjab Cricket Association Stadium, Mohali', 'RE Koertzen', 'I Shivram', '']\n",
      "['15', '2008', 'Bangalore', '4/28/2008', 'Chennai Super Kings', 'Royal Challengers Bangalore', 'Chennai Super Kings', 'bat', 'normal', '0', 'Chennai Super Kings', '13', '0', 'MS Dhoni', 'M Chinnaswamy Stadium', 'BR Doctrove', 'RB Tiffin', '']\n",
      "['16', '2008', 'Kolkata', '4/29/2008', 'Kolkata Knight Riders', 'Mumbai Indians', 'Kolkata Knight Riders', 'bat', 'normal', '0', 'Mumbai Indians', '0', '7', 'ST Jayasuriya', 'Eden Gardens', 'BF Bowden', 'AV Jayaprakash', '']\n",
      "['17', '2008', 'Delhi', '4/30/2008', 'Delhi Daredevils', 'Royal Challengers Bangalore', 'Royal Challengers Bangalore', 'field', 'normal', '0', 'Delhi Daredevils', '10', '0', 'GD McGrath', 'Feroz Shah Kotla', 'Aleem Dar', 'I Shivram', '']\n",
      "['18', '2008', 'Hyderabad', '5/1/2008', 'Deccan Chargers', 'Kings XI Punjab', 'Kings XI Punjab', 'field', 'normal', '0', 'Kings XI Punjab', '0', '7', 'SE Marsh', 'Rajiv Gandhi International Stadium, Uppal', 'BR Doctrove', 'RB Tiffin', '']\n",
      "['19', '2008', 'Jaipur', '5/1/2008', 'Rajasthan Royals', 'Kolkata Knight Riders', 'Rajasthan Royals', 'bat', 'normal', '0', 'Rajasthan Royals', '45', '0', 'SA Asnodkar', 'Sawai Mansingh Stadium', 'RE Koertzen', 'GA Pratapkumar', '']\n",
      "['20', '2008', 'Chennai', '5/2/2008', 'Chennai Super Kings', 'Delhi Daredevils', 'Chennai Super Kings', 'bat', 'normal', '0', 'Delhi Daredevils', '0', '8', 'V Sehwag', 'MA Chidambaram Stadium, Chepauk', 'BF Bowden', 'K Hariharan', '']\n",
      "['21', '2008', 'Hyderabad', '5/25/2008', 'Deccan Chargers', 'Royal Challengers Bangalore', 'Deccan Chargers', 'bat', 'normal', '0', 'Royal Challengers Bangalore', '0', '5', 'R Vinay Kumar', 'Rajiv Gandhi International Stadium, Uppal', 'Asad Rauf', 'RE Koertzen', '']\n",
      "['22', '2008', 'Chandigarh', '5/3/2008', 'Kings XI Punjab', 'Kolkata Knight Riders', 'Kings XI Punjab', 'bat', 'normal', '0', 'Kings XI Punjab', '9', '0', 'IK Pathan', 'Punjab Cricket Association Stadium, Mohali', 'DJ Harper', 'I Shivram', '']\n",
      "['23', '2008', 'Mumbai', '5/4/2008', 'Mumbai Indians', 'Delhi Daredevils', 'Delhi Daredevils', 'field', 'normal', '0', 'Mumbai Indians', '29', '0', 'SM Pollock', 'Dr DY Patil Sports Academy', 'IL Howell', 'RE Koertzen', '']\n",
      "['24', '2008', 'Jaipur', '5/4/2008', 'Chennai Super Kings', 'Rajasthan Royals', 'Chennai Super Kings', 'bat', 'normal', '0', 'Rajasthan Royals', '0', '8', 'Sohail Tanvir', 'Sawai Mansingh Stadium', 'Asad Rauf', 'AV Jayaprakash', '']\n",
      "['25', '2008', 'Bangalore', '5/5/2008', 'Royal Challengers Bangalore', 'Kings XI Punjab', 'Kings XI Punjab', 'field', 'normal', '0', 'Kings XI Punjab', '0', '6', 'S Sreesanth', 'M Chinnaswamy Stadium', 'SJ Davis', 'BR Doctrove', '']\n",
      "['26', '2008', 'Chennai', '5/6/2008', 'Chennai Super Kings', 'Deccan Chargers', 'Deccan Chargers', 'field', 'normal', '0', 'Deccan Chargers', '0', '7', 'AC Gilchrist', 'MA Chidambaram Stadium, Chepauk', 'MR Benson', 'RB Tiffin', '']\n",
      "['27', '2008', 'Mumbai', '5/7/2008', 'Rajasthan Royals', 'Mumbai Indians', 'Mumbai Indians', 'field', 'normal', '0', 'Mumbai Indians', '0', '7', 'A Nehra', 'Dr DY Patil Sports Academy', 'DJ Harper', 'RE Koertzen', '']\n",
      "['28', '2008', 'Delhi', '5/8/2008', 'Delhi Daredevils', 'Chennai Super Kings', 'Chennai Super Kings', 'field', 'normal', '0', 'Chennai Super Kings', '0', '4', 'MS Dhoni', 'Feroz Shah Kotla', 'Aleem Dar', 'RB Tiffin', '']\n",
      "['29', '2008', 'Kolkata', '5/8/2008', 'Kolkata Knight Riders', 'Royal Challengers Bangalore', 'Kolkata Knight Riders', 'bat', 'normal', '0', 'Kolkata Knight Riders', '5', '0', 'SC Ganguly', 'Eden Gardens', 'Asad Rauf', 'IL Howell', '']\n",
      "['30', '2008', 'Jaipur', '5/9/2008', 'Deccan Chargers', 'Rajasthan Royals', 'Rajasthan Royals', 'field', 'normal', '0', 'Rajasthan Royals', '0', '8', 'YK Pathan', 'Sawai Mansingh Stadium', 'MR Benson', 'AM Saheba', '']\n",
      "['31', '2008', 'Bangalore', '5/28/2008', 'Royal Challengers Bangalore', 'Mumbai Indians', 'Mumbai Indians', 'field', 'normal', '0', 'Mumbai Indians', '0', '9', 'CRD Fernando', 'M Chinnaswamy Stadium', 'BF Bowden', 'AV Jayaprakash', '']\n",
      "['32', '2008', 'Chennai', '5/10/2008', 'Chennai Super Kings', 'Kings XI Punjab', 'Kings XI Punjab', 'field', 'normal', '0', 'Chennai Super Kings', '18', '0', 'L Balaji', 'MA Chidambaram Stadium, Chepauk', 'AV Jayaprakash', 'BG Jerling', '']\n",
      "['33', '2008', 'Hyderabad', '5/11/2008', 'Kolkata Knight Riders', 'Deccan Chargers', 'Kolkata Knight Riders', 'bat', 'normal', '0', 'Kolkata Knight Riders', '23', '0', 'SC Ganguly', 'Rajiv Gandhi International Stadium, Uppal', 'IL Howell', 'AM Saheba', '']\n",
      "['34', '2008', 'Jaipur', '5/11/2008', 'Delhi Daredevils', 'Rajasthan Royals', 'Rajasthan Royals', 'field', 'normal', '0', 'Rajasthan Royals', '0', '3', 'SR Watson', 'Sawai Mansingh Stadium', 'SJ Davis', 'RE Koertzen', '']\n",
      "['35', '2008', 'Chandigarh', '5/12/2008', 'Royal Challengers Bangalore', 'Kings XI Punjab', 'Royal Challengers Bangalore', 'bat', 'normal', '0', 'Kings XI Punjab', '0', '9', 'SE Marsh', 'Punjab Cricket Association Stadium, Mohali', 'BR Doctrove', 'I Shivram', '']\n",
      "['36', '2008', 'Kolkata', '5/13/2008', 'Kolkata Knight Riders', 'Delhi Daredevils', 'Kolkata Knight Riders', 'bat', 'normal', '0', 'Kolkata Knight Riders', '23', '0', 'Shoaib Akhtar', 'Eden Gardens', 'Asad Rauf', 'IL Howell', '']\n",
      "['37', '2008', 'Mumbai', '5/14/2008', 'Chennai Super Kings', 'Mumbai Indians', 'Mumbai Indians', 'field', 'normal', '0', 'Mumbai Indians', '0', '9', 'ST Jayasuriya', 'Wankhede Stadium', 'BR Doctrove', 'AM Saheba', '']\n",
      "['38', '2008', 'Chandigarh', '5/28/2008', 'Kings XI Punjab', 'Rajasthan Royals', 'Rajasthan Royals', 'field', 'normal', '0', 'Kings XI Punjab', '41', '0', 'SE Marsh', 'Punjab Cricket Association Stadium, Mohali', 'SJ Davis', 'K Hariharan', '']\n",
      "['39', '2008', 'Delhi', '5/15/2008', 'Delhi Daredevils', 'Deccan Chargers', 'Deccan Chargers', 'field', 'normal', '0', 'Delhi Daredevils', '12', '0', 'A Mishra', 'Feroz Shah Kotla', 'BG Jerling', 'GA Pratapkumar', '']\n",
      "['40', '2008', 'Mumbai', '5/16/2008', 'Kolkata Knight Riders', 'Mumbai Indians', 'Mumbai Indians', 'field', 'normal', '0', 'Mumbai Indians', '0', '8', 'SM Pollock', 'Wankhede Stadium', 'BR Doctrove', 'DJ Harper', '']\n",
      "['41', '2008', 'Delhi', '5/17/2008', 'Delhi Daredevils', 'Kings XI Punjab', 'Delhi Daredevils', 'bat', 'normal', '1', 'Kings XI Punjab', '6', '0', 'DPMD Jayawardene', 'Feroz Shah Kotla', 'AV Jayaprakash', 'RE Koertzen', '']\n",
      "['42', '2008', 'Jaipur', '5/17/2008', 'Rajasthan Royals', 'Royal Challengers Bangalore', 'Royal Challengers Bangalore', 'field', 'normal', '0', 'Rajasthan Royals', '65', '0', 'GC Smith', 'Sawai Mansingh Stadium', 'BF Bowden', 'SL Shastri', '']\n",
      "['43', '2008', 'Hyderabad', '5/18/2008', 'Mumbai Indians', 'Deccan Chargers', 'Deccan Chargers', 'field', 'normal', '0', 'Mumbai Indians', '25', '0', 'DJ Bravo', 'Rajiv Gandhi International Stadium, Uppal', 'BR Doctrove', 'DJ Harper', '']\n",
      "['44', '2008', 'Kolkata', '5/18/2008', 'Kolkata Knight Riders', 'Chennai Super Kings', 'Kolkata Knight Riders', 'bat', 'normal', '1', 'Chennai Super Kings', '3', '0', 'M Ntini', 'Eden Gardens', 'Asad Rauf', 'K Hariharan', '']\n",
      "['45', '2008', 'Bangalore', '5/19/2008', 'Royal Challengers Bangalore', 'Delhi Daredevils', 'Delhi Daredevils', 'field', 'normal', '0', 'Delhi Daredevils', '0', '5', 'SP Goswami', 'M Chinnaswamy Stadium', 'SJ Davis', 'GA Pratapkumar', '']\n",
      "['46', '2008', 'Kolkata', '5/20/2008', 'Kolkata Knight Riders', 'Rajasthan Royals', 'Rajasthan Royals', 'field', 'normal', '0', 'Rajasthan Royals', '0', '6', 'YK Pathan', 'Eden Gardens', 'BG Jerling', 'RE Koertzen', '']\n",
      "['47', '2008', 'Mumbai', '5/21/2008', 'Kings XI Punjab', 'Mumbai Indians', 'Mumbai Indians', 'field', 'normal', '0', 'Kings XI Punjab', '1', '0', 'SE Marsh', 'Wankhede Stadium', 'BF Bowden', 'GA Pratapkumar', '']\n",
      "['48', '2008', 'Chennai', '5/21/2008', 'Royal Challengers Bangalore', 'Chennai Super Kings', 'Royal Challengers Bangalore', 'bat', 'normal', '0', 'Royal Challengers Bangalore', '14', '0', 'A Kumble', 'MA Chidambaram Stadium, Chepauk', 'DJ Harper', 'I Shivram', '']\n",
      "['49', '2008', 'Chandigarh', '5/23/2008', 'Deccan Chargers', 'Kings XI Punjab', 'Kings XI Punjab', 'field', 'normal', '0', 'Kings XI Punjab', '0', '6', 'SE Marsh', 'Punjab Cricket Association Stadium, Mohali', 'Asad Rauf', 'SJ Davis', '']\n",
      "['50', '2008', 'Delhi', '5/24/2008', 'Mumbai Indians', 'Delhi Daredevils', 'Delhi Daredevils', 'field', 'normal', '0', 'Delhi Daredevils', '0', '5', 'KD Karthik', 'Feroz Shah Kotla', 'BF Bowden', 'K Hariharan', '']\n",
      "['51', '2008', 'Chennai', '5/24/2008', 'Rajasthan Royals', 'Chennai Super Kings', 'Rajasthan Royals', 'bat', 'normal', '0', 'Rajasthan Royals', '10', '0', 'JA Morkel', 'MA Chidambaram Stadium, Chepauk', 'DJ Harper', 'SL Shastri', '']\n",
      "['52', '2008', 'Bangalore', '5/3/2008', 'Royal Challengers Bangalore', 'Deccan Chargers', 'Deccan Chargers', 'field', 'normal', '0', 'Royal Challengers Bangalore', '3', '0', 'P Kumar', 'M Chinnaswamy Stadium', 'BR Doctrove', 'SL Shastri', '']\n",
      "['53', '2008', 'Kolkata', '5/25/2008', 'Kings XI Punjab', 'Kolkata Knight Riders', 'Kings XI Punjab', 'bat', 'normal', '0', 'Kolkata Knight Riders', '0', '3', 'Umar Gul', 'Eden Gardens', 'SJ Davis', 'I Shivram', '']\n",
      "['54', '2008', 'Jaipur', '5/26/2008', 'Mumbai Indians', 'Rajasthan Royals', 'Rajasthan Royals', 'field', 'normal', '0', 'Rajasthan Royals', '0', '5', 'Sohail Tanvir', 'Sawai Mansingh Stadium', 'BF Bowden', 'K Hariharan', '']\n",
      "['55', '2008', 'Hyderabad', '5/27/2008', 'Deccan Chargers', 'Chennai Super Kings', 'Deccan Chargers', 'bat', 'normal', '0', 'Chennai Super Kings', '0', '7', 'SK Raina', 'Rajiv Gandhi International Stadium, Uppal', 'BG Jerling', 'AM Saheba', '']\n",
      "['56', '2008', 'Mumbai', '5/30/2008', 'Rajasthan Royals', 'Delhi Daredevils', 'Delhi Daredevils', 'field', 'normal', '0', 'Rajasthan Royals', '105', '0', 'SR Watson', 'Wankhede Stadium', 'BF Bowden', 'RE Koertzen', '']\n",
      "['57', '2008', 'Mumbai', '5/31/2008', 'Kings XI Punjab', 'Chennai Super Kings', 'Kings XI Punjab', 'bat', 'normal', '0', 'Chennai Super Kings', '0', '9', 'M Ntini', 'Wankhede Stadium', 'Asad Rauf', 'DJ Harper', '']\n",
      "['58', '2008', 'Mumbai', '6/1/2008', 'Chennai Super Kings', 'Rajasthan Royals', 'Rajasthan Royals', 'field', 'normal', '0', 'Rajasthan Royals', '0', '3', 'YK Pathan', 'Dr DY Patil Sports Academy', 'BF Bowden', 'RE Koertzen', '']\n",
      "['59', '2009', 'Cape Town', '4/18/2009', 'Mumbai Indians', 'Chennai Super Kings', 'Chennai Super Kings', 'field', 'normal', '0', 'Mumbai Indians', '19', '0', 'SR Tendulkar', 'Newlands', 'BR Doctrove', 'K Hariharan', '']\n",
      "['60', '2009', 'Cape Town', '4/18/2009', 'Royal Challengers Bangalore', 'Rajasthan Royals', 'Royal Challengers Bangalore', 'bat', 'normal', '0', 'Royal Challengers Bangalore', '75', '0', 'R Dravid', 'Newlands', 'BR Doctrove', 'RB Tiffin', '']\n",
      "['61', '2009', 'Cape Town', '4/19/2009', 'Kings XI Punjab', 'Delhi Daredevils', 'Delhi Daredevils', 'field', 'normal', '1', 'Delhi Daredevils', '0', '10', 'DL Vettori', 'Newlands', 'MR Benson', 'SD Ranade', '']\n",
      "['62', '2009', 'Cape Town', '4/19/2009', 'Kolkata Knight Riders', 'Deccan Chargers', 'Kolkata Knight Riders', 'bat', 'normal', '0', 'Deccan Chargers', '0', '8', 'RP Singh', 'Newlands', 'MR Benson', 'BR Doctrove', '']\n",
      "['63', '2009', 'Port Elizabeth', '4/20/2009', 'Chennai Super Kings', 'Royal Challengers Bangalore', 'Chennai Super Kings', 'bat', 'normal', '0', 'Chennai Super Kings', '92', '0', 'M Muralitharan', \"St George's Park\", 'BG Jerling', 'SJA Taufel', '']\n",
      "['64', '2009', 'Durban', '4/21/2009', 'Kings XI Punjab', 'Kolkata Knight Riders', 'Kolkata Knight Riders', 'field', 'normal', '1', 'Kolkata Knight Riders', '11', '0', 'CH Gayle', 'Kingsmead', 'DJ Harper', 'SD Ranade', '']\n",
      "['65', '2009', 'Cape Town', '4/22/2009', 'Deccan Chargers', 'Royal Challengers Bangalore', 'Deccan Chargers', 'bat', 'normal', '0', 'Deccan Chargers', '24', '0', 'AC Gilchrist', 'Newlands', 'M Erasmus', 'AM Saheba', '']\n",
      "['66', '2009', 'Durban', '4/23/2009', 'Delhi Daredevils', 'Chennai Super Kings', 'Delhi Daredevils', 'bat', 'normal', '0', 'Delhi Daredevils', '9', '0', 'AB de Villiers', 'Kingsmead', 'BR Doctrove', 'SJA Taufel', '']\n",
      "['67', '2009', 'Cape Town', '4/23/2009', 'Rajasthan Royals', 'Kolkata Knight Riders', 'Kolkata Knight Riders', 'field', 'tie', '0', 'Rajasthan Royals', '0', '0', 'YK Pathan', 'Newlands', 'MR Benson', 'M Erasmus', '']\n",
      "['68', '2009', 'Durban', '4/24/2009', 'Royal Challengers Bangalore', 'Kings XI Punjab', 'Royal Challengers Bangalore', 'bat', 'normal', '0', 'Kings XI Punjab', '0', '7', 'RS Bopara', 'Kingsmead', 'BR Doctrove', 'TH Wijewardene', '']\n",
      "['69', '2009', 'Durban', '4/25/2009', 'Deccan Chargers', 'Mumbai Indians', 'Deccan Chargers', 'bat', 'normal', '0', 'Deccan Chargers', '12', '0', 'PP Ojha', 'Kingsmead', 'HDPK Dharmasena', 'SJA Taufel', '']\n",
      "['70', '2009', 'Port Elizabeth', '4/26/2009', 'Royal Challengers Bangalore', 'Delhi Daredevils', 'Royal Challengers Bangalore', 'bat', 'normal', '0', 'Delhi Daredevils', '0', '6', 'TM Dilshan', \"St George's Park\", 'S Asnani', 'BG Jerling', '']\n",
      "['71', '2009', 'Cape Town', '4/26/2009', 'Kings XI Punjab', 'Rajasthan Royals', 'Kings XI Punjab', 'bat', 'normal', '0', 'Kings XI Punjab', '27', '0', 'KC Sangakkara', 'Newlands', 'M Erasmus', 'K Hariharan', '']\n",
      "['72', '2009', 'Durban', '4/27/2009', 'Chennai Super Kings', 'Deccan Chargers', 'Deccan Chargers', 'field', 'normal', '0', 'Deccan Chargers', '0', '6', 'HH Gibbs', 'Kingsmead', 'IL Howell', 'TH Wijewardene', '']\n",
      "['73', '2009', 'Port Elizabeth', '4/27/2009', 'Mumbai Indians', 'Kolkata Knight Riders', 'Mumbai Indians', 'bat', 'normal', '0', 'Mumbai Indians', '92', '0', 'SR Tendulkar', \"St George's Park\", 'BG Jerling', 'RB Tiffin', '']\n",
      "['74', '2009', 'Centurion', '4/28/2009', 'Delhi Daredevils', 'Rajasthan Royals', 'Delhi Daredevils', 'bat', 'normal', '0', 'Rajasthan Royals', '0', '5', 'YK Pathan', 'SuperSport Park', 'GAV Baxter', 'RE Koertzen', '']\n",
      "['75', '2009', 'Durban', '4/29/2009', 'Kolkata Knight Riders', 'Royal Challengers Bangalore', 'Kolkata Knight Riders', 'bat', 'normal', '0', 'Royal Challengers Bangalore', '0', '5', 'MV Boucher', 'Kingsmead', 'MR Benson', 'TH Wijewardene', '']\n",
      "['76', '2009', 'Durban', '4/29/2009', 'Kings XI Punjab', 'Mumbai Indians', 'Kings XI Punjab', 'bat', 'normal', '0', 'Kings XI Punjab', '3', '0', 'KC Sangakkara', 'Kingsmead', 'MR Benson', 'SL Shastri', '']\n",
      "['77', '2009', 'Centurion', '4/30/2009', 'Deccan Chargers', 'Delhi Daredevils', 'Delhi Daredevils', 'field', 'normal', '0', 'Delhi Daredevils', '0', '6', 'DP Nannes', 'SuperSport Park', 'GAV Baxter', 'AM Saheba', '']\n",
      "['78', '2009', 'Centurion', '4/30/2009', 'Chennai Super Kings', 'Rajasthan Royals', 'Rajasthan Royals', 'field', 'normal', '0', 'Chennai Super Kings', '38', '0', 'SK Raina', 'SuperSport Park', 'GAV Baxter', 'RE Koertzen', '']\n",
      "['79', '2009', 'East London', '5/1/2009', 'Mumbai Indians', 'Kolkata Knight Riders', 'Mumbai Indians', 'bat', 'normal', '0', 'Mumbai Indians', '9', '0', 'JP Duminy', 'Buffalo Park', 'M Erasmus', 'SK Tarapore', '']\n",
      "['80', '2009', 'Durban', '5/1/2009', 'Royal Challengers Bangalore', 'Kings XI Punjab', 'Royal Challengers Bangalore', 'bat', 'normal', '0', 'Royal Challengers Bangalore', '8', '0', 'Yuvraj Singh', 'Kingsmead', 'HDPK Dharmasena', 'S Ravi', '']\n",
      "['81', '2009', 'Port Elizabeth', '5/2/2009', 'Deccan Chargers', 'Rajasthan Royals', 'Deccan Chargers', 'bat', 'normal', '0', 'Rajasthan Royals', '0', '3', 'YK Pathan', \"St George's Park\", 'S Asnani', 'BG Jerling', '']\n",
      "['82', '2009', 'Johannesburg', '5/2/2009', 'Chennai Super Kings', 'Delhi Daredevils', 'Delhi Daredevils', 'field', 'normal', '0', 'Chennai Super Kings', '18', '0', 'SB Jakati', 'New Wanderers Stadium', 'DJ Harper', 'RE Koertzen', '']\n",
      "['83', '2009', 'Port Elizabeth', '5/3/2009', 'Kolkata Knight Riders', 'Kings XI Punjab', 'Kolkata Knight Riders', 'bat', 'normal', '0', 'Kings XI Punjab', '0', '6', 'DPMD Jayawardene', \"St George's Park\", 'S Asnani', 'MR Benson', '']\n",
      "['84', '2009', 'Johannesburg', '5/3/2009', 'Mumbai Indians', 'Royal Challengers Bangalore', 'Mumbai Indians', 'bat', 'normal', '0', 'Royal Challengers Bangalore', '0', '9', 'JH Kallis', 'New Wanderers Stadium', 'RE Koertzen', 'TH Wijewardene', '']\n",
      "['85', '2009', 'East London', '5/4/2009', 'Chennai Super Kings', 'Deccan Chargers', 'Chennai Super Kings', 'bat', 'normal', '0', 'Chennai Super Kings', '78', '0', 'MS Dhoni', 'Buffalo Park', 'BR Doctrove', 'M Erasmus', '']\n",
      "['86', '2009', 'Durban', '5/5/2009', 'Rajasthan Royals', 'Kings XI Punjab', 'Kings XI Punjab', 'field', 'normal', '0', 'Rajasthan Royals', '78', '0', 'GC Smith', 'Kingsmead', 'SS Hazare', 'IL Howell', '']\n",
      "['87', '2009', 'Durban', '5/5/2009', 'Kolkata Knight Riders', 'Delhi Daredevils', 'Kolkata Knight Riders', 'bat', 'normal', '0', 'Delhi Daredevils', '0', '9', 'G Gambhir', 'Kingsmead', 'GAV Baxter', 'IL Howell', '']\n",
      "['88', '2009', 'Centurion', '5/6/2009', 'Deccan Chargers', 'Mumbai Indians', 'Deccan Chargers', 'bat', 'normal', '0', 'Deccan Chargers', '19', '0', 'RG Sharma', 'SuperSport Park', 'MR Benson', 'HDPK Dharmasena', '']\n",
      "['89', '2009', 'Centurion', '5/7/2009', 'Royal Challengers Bangalore', 'Rajasthan Royals', 'Rajasthan Royals', 'field', 'normal', '0', 'Rajasthan Royals', '0', '7', 'A Singh', 'SuperSport Park', 'K Hariharan', 'DJ Harper', '']\n",
      "['90', '2009', 'Centurion', '5/7/2009', 'Chennai Super Kings', 'Kings XI Punjab', 'Chennai Super Kings', 'bat', 'normal', '1', 'Chennai Super Kings', '12', '0', 'ML Hayden', 'SuperSport Park', 'DJ Harper', 'TH Wijewardene', '']\n",
      "['91', '2009', 'East London', '5/8/2009', 'Mumbai Indians', 'Delhi Daredevils', 'Mumbai Indians', 'bat', 'normal', '0', 'Delhi Daredevils', '0', '7', 'A Nehra', 'Buffalo Park', 'M Erasmus', 'SK Tarapore', '']\n",
      "['92', '2009', 'Kimberley', '5/9/2009', 'Deccan Chargers', 'Kings XI Punjab', 'Kings XI Punjab', 'field', 'normal', '0', 'Kings XI Punjab', '0', '3', 'DPMD Jayawardene', 'De Beers Diamond Oval', 'GAV Baxter', 'AM Saheba', '']\n",
      "['93', '2009', 'Kimberley', '5/9/2009', 'Rajasthan Royals', 'Chennai Super Kings', 'Rajasthan Royals', 'bat', 'normal', '0', 'Chennai Super Kings', '0', '7', 'S Badrinath', 'De Beers Diamond Oval', 'GAV Baxter', 'HDPK Dharmasena', '']\n",
      "['94', '2009', 'Port Elizabeth', '5/10/2009', 'Mumbai Indians', 'Royal Challengers Bangalore', 'Mumbai Indians', 'bat', 'normal', '0', 'Mumbai Indians', '16', '0', 'JP Duminy', \"St George's Park\", 'BR Doctrove', 'BG Jerling', '']\n",
      "['95', '2009', 'Johannesburg', '5/10/2009', 'Kolkata Knight Riders', 'Delhi Daredevils', 'Delhi Daredevils', 'field', 'normal', '0', 'Delhi Daredevils', '0', '7', 'A Mishra', 'New Wanderers Stadium', 'SL Shastri', 'RB Tiffin', '']\n",
      "['96', '2009', 'Kimberley', '5/11/2009', 'Deccan Chargers', 'Rajasthan Royals', 'Deccan Chargers', 'bat', 'normal', '0', 'Deccan Chargers', '53', '0', 'DR Smith', 'De Beers Diamond Oval', 'GAV Baxter', 'HDPK Dharmasena', '']\n",
      "['97', '2009', 'Centurion', '5/12/2009', 'Kolkata Knight Riders', 'Royal Challengers Bangalore', 'Royal Challengers Bangalore', 'field', 'normal', '0', 'Royal Challengers Bangalore', '0', '6', 'LRPL Taylor', 'SuperSport Park', 'M Erasmus', 'SS Hazare', '']\n",
      "['98', '2009', 'Centurion', '5/12/2009', 'Kings XI Punjab', 'Mumbai Indians', 'Kings XI Punjab', 'bat', 'normal', '0', 'Mumbai Indians', '0', '8', 'Harbhajan Singh', 'SuperSport Park', 'SS Hazare', 'RE Koertzen', '']\n",
      "['99', '2009', 'Durban', '5/13/2009', 'Delhi Daredevils', 'Deccan Chargers', 'Deccan Chargers', 'field', 'normal', '0', 'Delhi Daredevils', '12', '0', 'R Bhatia', 'Kingsmead', 'DJ Harper', 'SL Shastri', '']\n",
      "['100', '2009', 'Durban', '5/14/2009', 'Chennai Super Kings', 'Royal Challengers Bangalore', 'Chennai Super Kings', 'bat', 'normal', '0', 'Royal Challengers Bangalore', '0', '2', 'LRPL Taylor', 'Kingsmead', 'BR Doctrove', 'DJ Harper', '']\n",
      "['101', '2009', 'Durban', '5/14/2009', 'Rajasthan Royals', 'Mumbai Indians', 'Rajasthan Royals', 'bat', 'normal', '0', 'Rajasthan Royals', '2', '0', 'SK Warne', 'Kingsmead', 'BR Doctrove', 'DJ Harper', '']\n",
      "['102', '2009', 'Bloemfontein', '5/15/2009', 'Delhi Daredevils', 'Kings XI Punjab', 'Kings XI Punjab', 'field', 'normal', '0', 'Kings XI Punjab', '0', '6', 'B Lee', 'OUTsurance Oval', 'HDPK Dharmasena', 'IL Howell', '']\n",
      "['103', '2009', 'Port Elizabeth', '5/16/2009', 'Mumbai Indians', 'Chennai Super Kings', 'Mumbai Indians', 'bat', 'normal', '0', 'Chennai Super Kings', '0', '7', 'ML Hayden', \"St George's Park\", 'SK Tarapore', 'SJA Taufel', '']\n",
      "['104', '2009', 'Johannesburg', '5/16/2009', 'Kolkata Knight Riders', 'Deccan Chargers', 'Deccan Chargers', 'field', 'normal', '0', 'Deccan Chargers', '0', '6', 'RG Sharma', 'New Wanderers Stadium', 'RE Koertzen', 'S Ravi', '']\n",
      "['105', '2009', 'Johannesburg', '5/17/2009', 'Kings XI Punjab', 'Deccan Chargers', 'Deccan Chargers', 'field', 'normal', '0', 'Kings XI Punjab', '1', '0', 'Yuvraj Singh', 'New Wanderers Stadium', 'S Ravi', 'RB Tiffin', '']\n",
      "['106', '2009', 'Bloemfontein', '5/17/2009', 'Delhi Daredevils', 'Rajasthan Royals', 'Delhi Daredevils', 'bat', 'normal', '0', 'Delhi Daredevils', '14', '0', 'AB de Villiers', 'OUTsurance Oval', 'SS Hazare', 'IL Howell', '']\n",
      "['107', '2009', 'Centurion', '5/18/2009', 'Chennai Super Kings', 'Kolkata Knight Riders', 'Chennai Super Kings', 'bat', 'normal', '0', 'Kolkata Knight Riders', '0', '7', 'BJ Hodge', 'SuperSport Park', 'SJA Taufel', 'RB Tiffin', '']\n",
      "['108', '2009', 'Johannesburg', '5/19/2009', 'Delhi Daredevils', 'Royal Challengers Bangalore', 'Delhi Daredevils', 'bat', 'normal', '0', 'Royal Challengers Bangalore', '0', '7', 'JH Kallis', 'New Wanderers Stadium', 'IL Howell', 'RB Tiffin', '']\n",
      "['109', '2009', 'Durban', '5/20/2009', 'Rajasthan Royals', 'Kolkata Knight Riders', 'Kolkata Knight Riders', 'field', 'normal', '0', 'Kolkata Knight Riders', '0', '4', 'LR Shukla', 'Kingsmead', 'BG Jerling', 'SJA Taufel', '']\n",
      "['110', '2009', 'Durban', '5/20/2009', 'Chennai Super Kings', 'Kings XI Punjab', 'Chennai Super Kings', 'bat', 'normal', '0', 'Chennai Super Kings', '24', '0', 'M Muralitharan', 'Kingsmead', 'BG Jerling', 'SJA Taufel', '']\n",
      "['111', '2009', 'Centurion', '5/21/2009', 'Mumbai Indians', 'Delhi Daredevils', 'Delhi Daredevils', 'field', 'normal', '0', 'Delhi Daredevils', '0', '4', 'V Sehwag', 'SuperSport Park', 'IL Howell', 'S Ravi', '']\n",
      "['112', '2009', 'Centurion', '5/21/2009', 'Royal Challengers Bangalore', 'Deccan Chargers', 'Royal Challengers Bangalore', 'bat', 'normal', '0', 'Royal Challengers Bangalore', '12', '0', 'MK Pandey', 'SuperSport Park', 'IL Howell', 'S Ravi', '']\n",
      "['113', '2009', 'Centurion', '5/22/2009', 'Delhi Daredevils', 'Deccan Chargers', 'Deccan Chargers', 'field', 'normal', '0', 'Deccan Chargers', '0', '6', 'AC Gilchrist', 'SuperSport Park', 'BR Doctrove', 'DJ Harper', '']\n",
      "['114', '2009', 'Johannesburg', '5/23/2009', 'Chennai Super Kings', 'Royal Challengers Bangalore', 'Royal Challengers Bangalore', 'field', 'normal', '0', 'Royal Challengers Bangalore', '0', '6', 'MK Pandey', 'New Wanderers Stadium', 'RE Koertzen', 'SJA Taufel', '']\n",
      "['115', '2009', 'Johannesburg', '5/24/2009', 'Deccan Chargers', 'Royal Challengers Bangalore', 'Royal Challengers Bangalore', 'field', 'normal', '0', 'Deccan Chargers', '6', '0', 'A Kumble', 'New Wanderers Stadium', 'RE Koertzen', 'SJA Taufel', '']\n",
      "['116', '2010', 'Mumbai', '3/12/2010', 'Kolkata Knight Riders', 'Deccan Chargers', 'Deccan Chargers', 'field', 'normal', '0', 'Kolkata Knight Riders', '11', '0', 'AD Mathews', 'Dr DY Patil Sports Academy', 'RE Koertzen', 'RB Tiffin', '']\n",
      "['117', '2010', 'Mumbai', '3/13/2010', 'Mumbai Indians', 'Rajasthan Royals', 'Mumbai Indians', 'bat', 'normal', '0', 'Mumbai Indians', '4', '0', 'YK Pathan', 'Brabourne Stadium', 'RE Koertzen', 'RB Tiffin', '']\n",
      "['118', '2010', 'Chandigarh', '3/13/2010', 'Kings XI Punjab', 'Delhi Daredevils', 'Delhi Daredevils', 'field', 'normal', '0', 'Delhi Daredevils', '0', '5', 'G Gambhir', 'Punjab Cricket Association Stadium, Mohali', 'BR Doctrove', 'S Ravi', '']\n",
      "['119', '2010', 'Kolkata', '3/14/2010', 'Royal Challengers Bangalore', 'Kolkata Knight Riders', 'Kolkata Knight Riders', 'field', 'normal', '0', 'Kolkata Knight Riders', '0', '7', 'MK Tiwary', 'Eden Gardens', 'HDPK Dharmasena', 'AM Saheba', '']\n",
      "['120', '2010', 'Chennai', '3/14/2010', 'Deccan Chargers', 'Chennai Super Kings', 'Deccan Chargers', 'bat', 'normal', '0', 'Deccan Chargers', '31', '0', 'WPUJC Vaas', 'MA Chidambaram Stadium, Chepauk', 'K Hariharan', 'DJ Harper', '']\n",
      "['121', '2010', 'Ahmedabad', '3/15/2010', 'Rajasthan Royals', 'Delhi Daredevils', 'Delhi Daredevils', 'field', 'normal', '0', 'Delhi Daredevils', '0', '6', 'V Sehwag', 'Sardar Patel Stadium, Motera', 'BG Jerling', 'RE Koertzen', '']\n",
      "['122', '2010', 'Bangalore', '3/16/2010', 'Kings XI Punjab', 'Royal Challengers Bangalore', 'Kings XI Punjab', 'bat', 'normal', '0', 'Royal Challengers Bangalore', '0', '8', 'JH Kallis', 'M Chinnaswamy Stadium', 'S Das', 'DJ Harper', '']\n",
      "['123', '2010', 'Kolkata', '3/16/2010', 'Chennai Super Kings', 'Kolkata Knight Riders', 'Chennai Super Kings', 'bat', 'normal', '0', 'Chennai Super Kings', '55', '0', 'MS Dhoni', 'Eden Gardens', 'HDPK Dharmasena', 'AM Saheba', '']\n",
      "['124', '2010', 'Delhi', '3/17/2010', 'Mumbai Indians', 'Delhi Daredevils', 'Delhi Daredevils', 'field', 'normal', '0', 'Mumbai Indians', '98', '0', 'SR Tendulkar', 'Feroz Shah Kotla', 'BR Doctrove', 'SK Tarapore', '']\n",
      "['125', '2010', 'Bangalore', '3/18/2010', 'Rajasthan Royals', 'Royal Challengers Bangalore', 'Royal Challengers Bangalore', 'field', 'normal', '0', 'Royal Challengers Bangalore', '0', '10', 'JH Kallis', 'M Chinnaswamy Stadium', 'K Hariharan', 'DJ Harper', '']\n",
      "['126', '2010', 'Delhi', '3/19/2010', 'Delhi Daredevils', 'Chennai Super Kings', 'Delhi Daredevils', 'bat', 'normal', '0', 'Chennai Super Kings', '0', '5', 'ML Hayden', 'Feroz Shah Kotla', 'BR Doctrove', 'SK Tarapore', '']\n",
      "['127', '2010', 'Cuttack', '3/19/2010', 'Deccan Chargers', 'Kings XI Punjab', 'Kings XI Punjab', 'field', 'normal', '0', 'Deccan Chargers', '6', '0', 'A Symonds', 'Barabati Stadium', 'BF Bowden', 'M Erasmus', '']\n",
      "['128', '2010', 'Ahmedabad', '3/20/2010', 'Rajasthan Royals', 'Kolkata Knight Riders', 'Rajasthan Royals', 'bat', 'normal', '0', 'Rajasthan Royals', '34', '0', 'AA Jhunjhunwala', 'Sardar Patel Stadium, Motera', 'RE Koertzen', 'RB Tiffin', '']\n",
      "['129', '2010', 'Mumbai', '3/20/2010', 'Mumbai Indians', 'Royal Challengers Bangalore', 'Mumbai Indians', 'bat', 'normal', '0', 'Royal Challengers Bangalore', '0', '7', 'JH Kallis', 'Brabourne Stadium', 'HDPK Dharmasena', 'SS Hazare', '']\n",
      "['130', '2010', 'Cuttack', '3/21/2010', 'Deccan Chargers', 'Delhi Daredevils', 'Deccan Chargers', 'bat', 'normal', '0', 'Deccan Chargers', '10', '0', 'A Symonds', 'Barabati Stadium', 'BF Bowden', 'M Erasmus', '']\n",
      "['131', '2010', 'Chennai', '3/21/2010', 'Kings XI Punjab', 'Chennai Super Kings', 'Chennai Super Kings', 'field', 'tie', '0', 'Kings XI Punjab', '0', '0', 'J Theron', 'MA Chidambaram Stadium, Chepauk', 'K Hariharan', 'DJ Harper', '']\n",
      "['132', '2010', 'Mumbai', '3/22/2010', 'Kolkata Knight Riders', 'Mumbai Indians', 'Kolkata Knight Riders', 'bat', 'normal', '0', 'Mumbai Indians', '0', '7', 'SR Tendulkar', 'Brabourne Stadium', 'SS Hazare', 'SJA Taufel', '']\n",
      "['133', '2010', 'Bangalore', '3/23/2010', 'Royal Challengers Bangalore', 'Chennai Super Kings', 'Chennai Super Kings', 'field', 'normal', '0', 'Royal Challengers Bangalore', '36', '0', 'RV Uthappa', 'M Chinnaswamy Stadium', 'RE Koertzen', 'RB Tiffin', '']\n",
      "['134', '2010', 'Chandigarh', '3/24/2010', 'Rajasthan Royals', 'Kings XI Punjab', 'Kings XI Punjab', 'field', 'normal', '0', 'Rajasthan Royals', '31', '0', 'AC Voges', 'Punjab Cricket Association Stadium, Mohali', 'BR Doctrove', 'SK Tarapore', '']\n",
      "['135', '2010', 'Mumbai', '3/25/2010', 'Chennai Super Kings', 'Mumbai Indians', 'Mumbai Indians', 'field', 'normal', '0', 'Mumbai Indians', '0', '5', 'SR Tendulkar', 'Brabourne Stadium', 'BF Bowden', 'AM Saheba', '']\n",
      "['136', '2010', 'Ahmedabad', '3/26/2010', 'Deccan Chargers', 'Rajasthan Royals', 'Deccan Chargers', 'bat', 'normal', '0', 'Rajasthan Royals', '0', '8', 'YK Pathan', 'Sardar Patel Stadium, Motera', 'HDPK Dharmasena', 'SJA Taufel', '']\n",
      "['137', '2010', 'Chandigarh', '3/27/2010', 'Kolkata Knight Riders', 'Kings XI Punjab', 'Kolkata Knight Riders', 'bat', 'normal', '0', 'Kolkata Knight Riders', '39', '0', 'MK Tiwary', 'Punjab Cricket Association Stadium, Mohali', 'BR Doctrove', 'S Ravi', '']\n",
      "['138', '2010', 'Bangalore', '3/25/2010', 'Delhi Daredevils', 'Royal Challengers Bangalore', 'Royal Challengers Bangalore', 'field', 'normal', '0', 'Delhi Daredevils', '17', '0', 'KM Jadhav', 'M Chinnaswamy Stadium', 'BG Jerling', 'RE Koertzen', '']\n",
      "['139', '2010', 'Ahmedabad', '3/28/2010', 'Rajasthan Royals', 'Chennai Super Kings', 'Rajasthan Royals', 'bat', 'normal', '0', 'Rajasthan Royals', '17', '0', 'NV Ojha', 'Sardar Patel Stadium, Motera', 'SS Hazare', 'SJA Taufel', '']\n",
      "['140', '2010', 'Mumbai', '3/28/2010', 'Mumbai Indians', 'Deccan Chargers', 'Deccan Chargers', 'field', 'normal', '0', 'Mumbai Indians', '41', '0', 'Harbhajan Singh', 'Dr DY Patil Sports Academy', 'S Das', 'K Hariharan', '']\n",
      "['141', '2010', 'Delhi', '3/29/2010', 'Delhi Daredevils', 'Kolkata Knight Riders', 'Delhi Daredevils', 'bat', 'normal', '0', 'Delhi Daredevils', '40', '0', 'DA Warner', 'Feroz Shah Kotla', 'SS Hazare', 'SJA Taufel', '']\n",
      "['142', '2010', 'Mumbai', '3/30/2010', 'Kings XI Punjab', 'Mumbai Indians', 'Mumbai Indians', 'field', 'normal', '0', 'Mumbai Indians', '0', '4', 'SL Malinga', 'Brabourne Stadium', 'BR Doctrove', 'SK Tarapore', '']\n",
      "['143', '2010', 'Chennai', '3/31/2010', 'Royal Challengers Bangalore', 'Chennai Super Kings', 'Royal Challengers Bangalore', 'bat', 'normal', '0', 'Chennai Super Kings', '0', '5', 'M Vijay', 'MA Chidambaram Stadium, Chepauk', 'BG Jerling', 'RE Koertzen', '']\n",
      "['144', '2010', 'Delhi', '3/31/2010', 'Delhi Daredevils', 'Rajasthan Royals', 'Delhi Daredevils', 'bat', 'normal', '0', 'Delhi Daredevils', '67', '0', 'KD Karthik', 'Feroz Shah Kotla', 'HDPK Dharmasena', 'SJA Taufel', '']\n",
      "['145', '2010', 'Kolkata', '4/1/2010', 'Kolkata Knight Riders', 'Deccan Chargers', 'Kolkata Knight Riders', 'bat', 'normal', '0', 'Kolkata Knight Riders', '24', '0', 'SC Ganguly', 'Eden Gardens', 'K Hariharan', 'DJ Harper', '']\n",
      "['146', '2010', 'Chandigarh', '4/2/2010', 'Kings XI Punjab', 'Royal Challengers Bangalore', 'Kings XI Punjab', 'bat', 'normal', '0', 'Royal Challengers Bangalore', '0', '6', 'KP Pietersen', 'Punjab Cricket Association Stadium, Mohali', 'BF Bowden', 'M Erasmus', '']\n",
      "['147', '2010', 'Chennai', '4/3/2010', 'Chennai Super Kings', 'Rajasthan Royals', 'Chennai Super Kings', 'bat', 'normal', '0', 'Chennai Super Kings', '23', '0', 'M Vijay', 'MA Chidambaram Stadium, Chepauk', 'RE Koertzen', 'RB Tiffin', '']\n",
      "['148', '2010', 'Mumbai', '4/3/2010', 'Mumbai Indians', 'Deccan Chargers', 'Mumbai Indians', 'bat', 'normal', '0', 'Mumbai Indians', '63', '0', 'AT Rayudu', 'Brabourne Stadium', 'BR Doctrove', 'S Ravi', '']\n",
      "['149', '2010', 'Kolkata', '4/4/2010', 'Kolkata Knight Riders', 'Kings XI Punjab', 'Kolkata Knight Riders', 'bat', 'normal', '0', 'Kings XI Punjab', '0', '8', 'DPMD Jayawardene', 'Eden Gardens', 'S Asnani', 'DJ Harper', '']\n",
      "['150', '2010', 'Delhi', '4/4/2010', 'Delhi Daredevils', 'Royal Challengers Bangalore', 'Delhi Daredevils', 'bat', 'normal', '0', 'Delhi Daredevils', '37', '0', 'PD Collingwood', 'Feroz Shah Kotla', 'BF Bowden', 'M Erasmus', '']\n",
      "['151', '2010', 'Nagpur', '4/5/2010', 'Rajasthan Royals', 'Deccan Chargers', 'Rajasthan Royals', 'bat', 'normal', '0', 'Rajasthan Royals', '2', '0', 'SK Warne', 'Vidarbha Cricket Association Stadium, Jamtha', 'HDPK Dharmasena', 'SJA Taufel', '']\n",
      "['152', '2010', 'Chennai', '4/6/2010', 'Chennai Super Kings', 'Mumbai Indians', 'Chennai Super Kings', 'bat', 'normal', '0', 'Chennai Super Kings', '24', '0', 'SK Raina', 'MA Chidambaram Stadium, Chepauk', 'S Asnani', 'DJ Harper', '']\n",
      "['153', '2010', 'Jaipur', '4/7/2010', 'Kings XI Punjab', 'Rajasthan Royals', 'Kings XI Punjab', 'bat', 'normal', '0', 'Rajasthan Royals', '0', '9', 'MJ Lumb', 'Sawai Mansingh Stadium', 'S Ravi', 'SK Tarapore', '']\n",
      "['154', '2010', 'Kolkata', '4/7/2010', 'Kolkata Knight Riders', 'Delhi Daredevils', 'Kolkata Knight Riders', 'bat', 'normal', '0', 'Kolkata Knight Riders', '14', '0', 'SC Ganguly', 'Eden Gardens', 'BG Jerling', 'RE Koertzen', '']\n",
      "['155', '2010', 'Bangalore', '4/8/2010', 'Royal Challengers Bangalore', 'Deccan Chargers', 'Deccan Chargers', 'field', 'normal', '0', 'Deccan Chargers', '0', '7', 'TL Suman', 'M Chinnaswamy Stadium', 'S Asnani', 'DJ Harper', '']\n",
      "['156', '2010', 'Chandigarh', '4/9/2010', 'Mumbai Indians', 'Kings XI Punjab', 'Mumbai Indians', 'bat', 'normal', '0', 'Kings XI Punjab', '0', '6', 'KC Sangakkara', 'Punjab Cricket Association Stadium, Mohali', 'M Erasmus', 'AM Saheba', '']\n",
      "['157', '2010', 'Nagpur', '4/10/2010', 'Chennai Super Kings', 'Deccan Chargers', 'Chennai Super Kings', 'bat', 'normal', '0', 'Deccan Chargers', '0', '6', 'RJ Harris', 'Vidarbha Cricket Association Stadium, Jamtha', 'HDPK Dharmasena', 'SJA Taufel', '']\n",
      "['158', '2010', 'Bangalore', '4/10/2010', 'Kolkata Knight Riders', 'Royal Challengers Bangalore', 'Royal Challengers Bangalore', 'field', 'normal', '0', 'Royal Challengers Bangalore', '0', '7', 'R Vinay Kumar', 'M Chinnaswamy Stadium', 'K Hariharan', 'DJ Harper', '']\n",
      "['159', '2010', 'Delhi', '4/11/2010', 'Delhi Daredevils', 'Kings XI Punjab', 'Delhi Daredevils', 'bat', 'normal', '0', 'Kings XI Punjab', '0', '7', 'PP Chawla', 'Feroz Shah Kotla', 'BF Bowden', 'AM Saheba', '']\n",
      "['160', '2010', 'Jaipur', '4/11/2010', 'Mumbai Indians', 'Rajasthan Royals', 'Rajasthan Royals', 'field', 'normal', '0', 'Mumbai Indians', '37', '0', 'SR Tendulkar', 'Sawai Mansingh Stadium', 'BR Doctrove', 'SK Tarapore', '']\n",
      "['161', '2010', 'Nagpur', '4/12/2010', 'Deccan Chargers', 'Royal Challengers Bangalore', 'Royal Challengers Bangalore', 'field', 'normal', '0', 'Deccan Chargers', '13', '0', 'Harmeet Singh', 'Vidarbha Cricket Association Stadium, Jamtha', 'RE Koertzen', 'RB Tiffin', '']\n",
      "['162', '2010', 'Mumbai', '4/13/2010', 'Mumbai Indians', 'Delhi Daredevils', 'Mumbai Indians', 'bat', 'normal', '0', 'Mumbai Indians', '39', '0', 'KA Pollard', 'Brabourne Stadium', 'S Asnani', 'DJ Harper', '']\n",
      "['163', '2010', 'Chennai', '4/13/2010', 'Kolkata Knight Riders', 'Chennai Super Kings', 'Kolkata Knight Riders', 'bat', 'normal', '0', 'Chennai Super Kings', '0', '9', 'R Ashwin', 'MA Chidambaram Stadium, Chepauk', 'SS Hazare', 'SJA Taufel', '']\n",
      "['164', '2010', 'Jaipur', '4/14/2010', 'Rajasthan Royals', 'Royal Challengers Bangalore', 'Rajasthan Royals', 'bat', 'normal', '0', 'Royal Challengers Bangalore', '0', '5', 'KP Pietersen', 'Sawai Mansingh Stadium', 'BR Doctrove', 'S Ravi', '']\n",
      "['165', '2010', 'Chennai', '4/15/2010', 'Chennai Super Kings', 'Delhi Daredevils', 'Chennai Super Kings', 'bat', 'normal', '0', 'Delhi Daredevils', '0', '6', 'G Gambhir', 'MA Chidambaram Stadium, Chepauk', 'HDPK Dharmasena', 'SS Hazare', '']\n",
      "['166', '2010', 'Dharamsala', '4/16/2010', 'Kings XI Punjab', 'Deccan Chargers', 'Deccan Chargers', 'field', 'normal', '0', 'Deccan Chargers', '0', '5', 'RG Sharma', 'Himachal Pradesh Cricket Association Stadium', 'M Erasmus', 'AM Saheba', '']\n",
      "['167', '2010', 'Bangalore', '4/17/2010', 'Mumbai Indians', 'Royal Challengers Bangalore', 'Royal Challengers Bangalore', 'field', 'normal', '0', 'Mumbai Indians', '57', '0', 'R McLaren', 'M Chinnaswamy Stadium', 'HDPK Dharmasena', 'SJA Taufel', '']\n",
      "['168', '2010', 'Kolkata', '4/17/2010', 'Rajasthan Royals', 'Kolkata Knight Riders', 'Rajasthan Royals', 'bat', 'normal', '0', 'Kolkata Knight Riders', '0', '8', 'JD Unadkat', 'Eden Gardens', 'BG Jerling', 'RB Tiffin', '']\n",
      "['169', '2010', 'Dharamsala', '4/18/2010', 'Kings XI Punjab', 'Chennai Super Kings', 'Chennai Super Kings', 'field', 'normal', '0', 'Chennai Super Kings', '0', '6', 'MS Dhoni', 'Himachal Pradesh Cricket Association Stadium', 'BF Bowden', 'AM Saheba', '']\n",
      "['170', '2010', 'Delhi', '4/18/2010', 'Deccan Chargers', 'Delhi Daredevils', 'Deccan Chargers', 'bat', 'normal', '0', 'Deccan Chargers', '11', '0', 'A Symonds', 'Feroz Shah Kotla', 'BR Doctrove', 'SK Tarapore', '']\n",
      "['171', '2010', 'Kolkata', '4/19/2010', 'Mumbai Indians', 'Kolkata Knight Riders', 'Mumbai Indians', 'bat', 'normal', '0', 'Kolkata Knight Riders', '0', '9', 'M Kartik', 'Eden Gardens', 'BG Jerling', 'RE Koertzen', '']\n",
      "['172', '2010', 'Mumbai', '4/21/2010', 'Mumbai Indians', 'Royal Challengers Bangalore', 'Mumbai Indians', 'bat', 'normal', '0', 'Mumbai Indians', '35', '0', 'KA Pollard', 'Dr DY Patil Sports Academy', 'BR Doctrove', 'RB Tiffin', '']\n",
      "['173', '2010', 'Mumbai', '4/22/2010', 'Chennai Super Kings', 'Deccan Chargers', 'Chennai Super Kings', 'bat', 'normal', '0', 'Chennai Super Kings', '38', '0', 'DE Bollinger', 'Dr DY Patil Sports Academy', 'BR Doctrove', 'RB Tiffin', '']\n",
      "['174', '2010', 'Mumbai', '4/24/2010', 'Deccan Chargers', 'Royal Challengers Bangalore', 'Deccan Chargers', 'bat', 'normal', '0', 'Royal Challengers Bangalore', '0', '9', 'A Kumble', 'Dr DY Patil Sports Academy', 'RE Koertzen', 'SJA Taufel', '']\n",
      "['175', '2010', 'Mumbai', '4/25/2010', 'Chennai Super Kings', 'Mumbai Indians', 'Chennai Super Kings', 'bat', 'normal', '0', 'Chennai Super Kings', '22', '0', 'SK Raina', 'Dr DY Patil Sports Academy', 'RE Koertzen', 'SJA Taufel', '']\n",
      "['176', '2011', 'Chennai', '4/8/2011', 'Chennai Super Kings', 'Kolkata Knight Riders', 'Chennai Super Kings', 'bat', 'normal', '0', 'Chennai Super Kings', '2', '0', 'S Anirudha', 'MA Chidambaram Stadium, Chepauk', 'BR Doctrove', 'PR Reiffel', '']\n",
      "['177', '2011', 'Hyderabad', '4/9/2011', 'Deccan Chargers', 'Rajasthan Royals', 'Rajasthan Royals', 'field', 'normal', '0', 'Rajasthan Royals', '0', '8', 'SK Trivedi', 'Rajiv Gandhi International Stadium, Uppal', 'RE Koertzen', 'SK Tarapore', '']\n",
      "['178', '2011', 'Kochi', '4/9/2011', 'Kochi Tuskers Kerala', 'Royal Challengers Bangalore', 'Kochi Tuskers Kerala', 'bat', 'normal', '0', 'Royal Challengers Bangalore', '0', '6', 'AB de Villiers', 'Nehru Stadium', 'HDPK Dharmasena', 'K Hariharan', '']\n",
      "['179', '2011', 'Delhi', '4/10/2011', 'Delhi Daredevils', 'Mumbai Indians', 'Delhi Daredevils', 'bat', 'normal', '0', 'Mumbai Indians', '0', '8', 'SL Malinga', 'Feroz Shah Kotla', 'AM Saheba', 'RB Tiffin', '']\n",
      "['180', '2011', 'Mumbai', '4/10/2011', 'Kings XI Punjab', 'Pune Warriors', 'Kings XI Punjab', 'bat', 'normal', '0', 'Pune Warriors', '0', '7', 'SB Wagh', 'Dr DY Patil Sports Academy', 'BR Doctrove', 'PR Reiffel', '']\n",
      "['181', '2011', 'Kolkata', '4/11/2011', 'Kolkata Knight Riders', 'Deccan Chargers', 'Kolkata Knight Riders', 'bat', 'normal', '0', 'Kolkata Knight Riders', '9', '0', 'JH Kallis', 'Eden Gardens', 'RE Koertzen', 'SK Tarapore', '']\n",
      "['182', '2011', 'Jaipur', '4/12/2011', 'Delhi Daredevils', 'Rajasthan Royals', 'Delhi Daredevils', 'bat', 'normal', '0', 'Rajasthan Royals', '0', '6', 'SK Warne', 'Sawai Mansingh Stadium', 'Aleem Dar', 'RB Tiffin', '']\n",
      "['183', '2011', 'Bangalore', '4/12/2011', 'Royal Challengers Bangalore', 'Mumbai Indians', 'Mumbai Indians', 'field', 'normal', '0', 'Mumbai Indians', '0', '9', 'SR Tendulkar', 'M Chinnaswamy Stadium', 'HDPK Dharmasena', 'AL Hill', '']\n",
      "['184', '2011', 'Chandigarh', '4/13/2011', 'Chennai Super Kings', 'Kings XI Punjab', 'Kings XI Punjab', 'field', 'normal', '0', 'Kings XI Punjab', '0', '6', 'PC Valthaty', 'Punjab Cricket Association Stadium, Mohali', 'Asad Rauf', 'SL Shastri', '']\n",
      "['185', '2011', 'Mumbai', '4/13/2011', 'Kochi Tuskers Kerala', 'Pune Warriors', 'Kochi Tuskers Kerala', 'bat', 'normal', '0', 'Pune Warriors', '0', '4', 'MD Mishra', 'Dr DY Patil Sports Academy', 'S Asnani', 'PR Reiffel', '']\n",
      "['186', '2011', 'Hyderabad', '4/14/2011', 'Deccan Chargers', 'Royal Challengers Bangalore', 'Royal Challengers Bangalore', 'field', 'normal', '0', 'Deccan Chargers', '33', '0', 'DW Steyn', 'Rajiv Gandhi International Stadium, Uppal', 'RE Koertzen', 'S Ravi', '']\n",
      "['187', '2011', 'Jaipur', '4/15/2011', 'Rajasthan Royals', 'Kolkata Knight Riders', 'Kolkata Knight Riders', 'field', 'normal', '0', 'Kolkata Knight Riders', '0', '9', 'G Gambhir', 'Sawai Mansingh Stadium', 'Aleem Dar', 'SS Hazare', '']\n",
      "['188', '2011', 'Mumbai', '4/15/2011', 'Mumbai Indians', 'Kochi Tuskers Kerala', 'Kochi Tuskers Kerala', 'field', 'normal', '0', 'Kochi Tuskers Kerala', '0', '8', 'BB McCullum', 'Wankhede Stadium', 'BR Doctrove', 'PR Reiffel', '']\n",
      "['189', '2011', 'Chennai', '4/16/2011', 'Chennai Super Kings', 'Royal Challengers Bangalore', 'Chennai Super Kings', 'bat', 'normal', '0', 'Chennai Super Kings', '21', '0', 'MEK Hussey', 'MA Chidambaram Stadium, Chepauk', 'HDPK Dharmasena', 'AL Hill', '']\n",
      "['190', '2011', 'Hyderabad', '4/16/2011', 'Deccan Chargers', 'Kings XI Punjab', 'Kings XI Punjab', 'field', 'normal', '0', 'Kings XI Punjab', '0', '8', 'PC Valthaty', 'Rajiv Gandhi International Stadium, Uppal', 'RE Koertzen', 'S Ravi', '']\n",
      "['191', '2011', 'Mumbai', '4/17/2011', 'Pune Warriors', 'Delhi Daredevils', 'Delhi Daredevils', 'field', 'normal', '0', 'Delhi Daredevils', '0', '3', 'Yuvraj Singh', 'Dr DY Patil Sports Academy', 'Asad Rauf', 'AM Saheba', '']\n",
      "['192', '2011', 'Kolkata', '4/17/2011', 'Rajasthan Royals', 'Kolkata Knight Riders', 'Kolkata Knight Riders', 'field', 'normal', '0', 'Kolkata Knight Riders', '0', '8', 'L Balaji', 'Eden Gardens', 'Aleem Dar', 'RB Tiffin', '']\n",
      "['193', '2011', 'Kochi', '4/18/2011', 'Chennai Super Kings', 'Kochi Tuskers Kerala', 'Kochi Tuskers Kerala', 'field', 'normal', '1', 'Kochi Tuskers Kerala', '0', '7', 'BB McCullum', 'Nehru Stadium', 'K Hariharan', 'AL Hill', '']\n",
      "['194', '2011', 'Delhi', '4/19/2011', 'Deccan Chargers', 'Delhi Daredevils', 'Deccan Chargers', 'bat', 'normal', '0', 'Deccan Chargers', '16', '0', 'S Sohal', 'Feroz Shah Kotla', 'PR Reiffel', 'RJ Tucker', '']\n",
      "['195', '2011', 'Mumbai', '4/20/2011', 'Pune Warriors', 'Mumbai Indians', 'Pune Warriors', 'bat', 'normal', '0', 'Mumbai Indians', '0', '7', 'MM Patel', 'Wankhede Stadium', 'Asad Rauf', 'AM Saheba', '']\n",
      "['196', '2011', 'Kolkata', '4/20/2011', 'Kochi Tuskers Kerala', 'Kolkata Knight Riders', 'Kolkata Knight Riders', 'field', 'normal', '0', 'Kochi Tuskers Kerala', '6', '0', 'DPMD Jayawardene', 'Eden Gardens', 'Aleem Dar', 'RB Tiffin', '']\n",
      "['197', '2011', 'Chandigarh', '4/21/2011', 'Kings XI Punjab', 'Rajasthan Royals', 'Rajasthan Royals', 'field', 'normal', '0', 'Kings XI Punjab', '48', '0', 'SE Marsh', 'Punjab Cricket Association Stadium, Mohali', 'S Asnani', 'PR Reiffel', '']\n",
      "['198', '2011', 'Mumbai', '4/22/2011', 'Mumbai Indians', 'Chennai Super Kings', 'Chennai Super Kings', 'field', 'normal', '0', 'Mumbai Indians', '8', '0', 'Harbhajan Singh', 'Wankhede Stadium', 'Asad Rauf', 'AM Saheba', '']\n",
      "['199', '2011', 'Kolkata', '4/22/2011', 'Kolkata Knight Riders', 'Royal Challengers Bangalore', 'Royal Challengers Bangalore', 'field', 'normal', '0', 'Royal Challengers Bangalore', '0', '9', 'CH Gayle', 'Eden Gardens', 'SS Hazare', 'RB Tiffin', '']\n",
      "['200', '2011', 'Delhi', '4/23/2011', 'Delhi Daredevils', 'Kings XI Punjab', 'Kings XI Punjab', 'field', 'normal', '0', 'Delhi Daredevils', '29', '0', 'DA Warner', 'Feroz Shah Kotla', 'S Asnani', 'RE Koertzen', '']\n",
      "['201', '2011', 'Hyderabad', '4/24/2011', 'Mumbai Indians', 'Deccan Chargers', 'Deccan Chargers', 'field', 'normal', '0', 'Mumbai Indians', '37', '0', 'SL Malinga', 'Rajiv Gandhi International Stadium, Uppal', 'HDPK Dharmasena', 'AL Hill', '']\n",
      "['202', '2011', 'Jaipur', '4/24/2011', 'Kochi Tuskers Kerala', 'Rajasthan Royals', 'Rajasthan Royals', 'field', 'normal', '0', 'Rajasthan Royals', '0', '8', 'SK Warne', 'Sawai Mansingh Stadium', 'BR Doctrove', 'SK Tarapore', '']\n",
      "['203', '2011', 'Chennai', '4/25/2011', 'Chennai Super Kings', 'Pune Warriors', 'Pune Warriors', 'field', 'normal', '0', 'Chennai Super Kings', '25', '0', 'MEK Hussey', 'MA Chidambaram Stadium, Chepauk', 'Aleem Dar', 'RB Tiffin', '']\n",
      "['204', '2011', 'Delhi', '4/26/2011', 'Delhi Daredevils', 'Royal Challengers Bangalore', 'Royal Challengers Bangalore', 'field', 'normal', '0', 'Royal Challengers Bangalore', '0', '3', 'V Kohli', 'Feroz Shah Kotla', 'S Asnani', 'RJ Tucker', '']\n",
      "['205', '2011', 'Mumbai', '4/27/2011', 'Pune Warriors', 'Chennai Super Kings', 'Pune Warriors', 'bat', 'normal', '0', 'Chennai Super Kings', '0', '8', 'DE Bollinger', 'Dr DY Patil Sports Academy', 'Asad Rauf', 'SL Shastri', '']\n",
      "['206', '2011', 'Kochi', '4/27/2011', 'Deccan Chargers', 'Kochi Tuskers Kerala', 'Kochi Tuskers Kerala', 'field', 'normal', '0', 'Deccan Chargers', '55', '0', 'I Sharma', 'Nehru Stadium', 'HDPK Dharmasena', 'AL Hill', '']\n",
      "['207', '2011', 'Delhi', '4/28/2011', 'Kolkata Knight Riders', 'Delhi Daredevils', 'Delhi Daredevils', 'field', 'normal', '0', 'Kolkata Knight Riders', '17', '0', 'MK Tiwary', 'Feroz Shah Kotla', 'PR Reiffel', 'RJ Tucker', '']\n",
      "['208', '2011', 'Jaipur', '4/29/2011', 'Mumbai Indians', 'Rajasthan Royals', 'Rajasthan Royals', 'field', 'normal', '0', 'Rajasthan Royals', '0', '7', 'J Botha', 'Sawai Mansingh Stadium', 'Asad Rauf', 'SK Tarapore', '']\n",
      "['209', '2011', 'Bangalore', '4/29/2011', 'Royal Challengers Bangalore', 'Pune Warriors', 'Pune Warriors', 'field', 'normal', '0', 'Royal Challengers Bangalore', '26', '0', 'V Kohli', 'M Chinnaswamy Stadium', 'Aleem Dar', 'SS Hazare', '']\n",
      "['210', '2011', 'Kochi', '4/30/2011', 'Delhi Daredevils', 'Kochi Tuskers Kerala', 'Delhi Daredevils', 'bat', 'normal', '0', 'Delhi Daredevils', '38', '0', 'V Sehwag', 'Nehru Stadium', 'HDPK Dharmasena', 'AL Hill', '']\n",
      "['211', '2011', 'Kolkata', '4/30/2011', 'Kings XI Punjab', 'Kolkata Knight Riders', 'Kolkata Knight Riders', 'field', 'normal', '0', 'Kolkata Knight Riders', '0', '8', 'Iqbal Abdulla', 'Eden Gardens', 'AM Saheba', 'SL Shastri', '']\n",
      "['212', '2011', 'Jaipur', '5/1/2011', 'Pune Warriors', 'Rajasthan Royals', 'Rajasthan Royals', 'field', 'normal', '0', 'Rajasthan Royals', '0', '6', 'LRPL Taylor', 'Sawai Mansingh Stadium', 'SK Tarapore', 'SJA Taufel', '']\n",
      "['213', '2011', 'Chennai', '5/1/2011', 'Chennai Super Kings', 'Deccan Chargers', 'Chennai Super Kings', 'bat', 'normal', '0', 'Chennai Super Kings', '19', '0', 'JA Morkel', 'MA Chidambaram Stadium, Chepauk', 'Aleem Dar', 'RB Tiffin', '']\n",
      "['214', '2011', 'Mumbai', '5/2/2011', 'Mumbai Indians', 'Kings XI Punjab', 'Kings XI Punjab', 'field', 'normal', '0', 'Mumbai Indians', '23', '0', 'KA Pollard', 'Wankhede Stadium', 'HDPK Dharmasena', 'PR Reiffel', '']\n",
      "['215', '2011', 'Delhi', '5/2/2011', 'Delhi Daredevils', 'Kochi Tuskers Kerala', 'Kochi Tuskers Kerala', 'field', 'normal', '0', 'Kochi Tuskers Kerala', '0', '7', 'P Parameswaran', 'Feroz Shah Kotla', 'Asad Rauf', 'SL Shastri', '']\n",
      "['216', '2011', 'Hyderabad', '5/3/2011', 'Kolkata Knight Riders', 'Deccan Chargers', 'Deccan Chargers', 'field', 'normal', '0', 'Kolkata Knight Riders', '20', '0', 'YK Pathan', 'Rajiv Gandhi International Stadium, Uppal', 'S Asnani', 'RJ Tucker', '']\n",
      "['217', '2011', 'Chennai', '5/4/2011', 'Rajasthan Royals', 'Chennai Super Kings', 'Rajasthan Royals', 'bat', 'normal', '0', 'Chennai Super Kings', '0', '8', 'MEK Hussey', 'MA Chidambaram Stadium, Chepauk', 'SS Hazare', 'RB Tiffin', '']\n",
      "['218', '2011', 'Mumbai', '5/4/2011', 'Mumbai Indians', 'Pune Warriors', 'Pune Warriors', 'field', 'normal', '0', 'Mumbai Indians', '21', '0', 'R Sharma', 'Dr DY Patil Sports Academy', 'HDPK Dharmasena', 'SJA Taufel', '']\n",
      "['219', '2011', 'Kochi', '5/5/2011', 'Kochi Tuskers Kerala', 'Kolkata Knight Riders', 'Kolkata Knight Riders', 'field', 'normal', '0', 'Kochi Tuskers Kerala', '17', '0', 'BJ Hodge', 'Nehru Stadium', 'S Ravi', 'RJ Tucker', '']\n",
      "['220', '2011', 'Hyderabad', '5/5/2011', 'Deccan Chargers', 'Delhi Daredevils', 'Delhi Daredevils', 'field', 'normal', '0', 'Delhi Daredevils', '0', '4', 'V Sehwag', 'Rajiv Gandhi International Stadium, Uppal', 'Asad Rauf', 'AM Saheba', '']\n",
      "['221', '2011', 'Bangalore', '5/6/2011', 'Royal Challengers Bangalore', 'Kings XI Punjab', 'Kings XI Punjab', 'field', 'normal', '0', 'Royal Challengers Bangalore', '85', '0', 'CH Gayle', 'M Chinnaswamy Stadium', 'Aleem Dar', 'RB Tiffin', '']\n",
      "['222', '2011', 'Kolkata', '5/7/2011', 'Chennai Super Kings', 'Kolkata Knight Riders', 'Chennai Super Kings', 'bat', 'normal', '1', 'Kolkata Knight Riders', '10', '0', 'Iqbal Abdulla', 'Eden Gardens', 'Asad Rauf', 'PR Reiffel', '']\n",
      "['223', '2011', 'Mumbai', '5/7/2011', 'Mumbai Indians', 'Delhi Daredevils', 'Delhi Daredevils', 'field', 'normal', '0', 'Mumbai Indians', '32', '0', 'AT Rayudu', 'Wankhede Stadium', 'K Hariharan', 'SJA Taufel', '']\n",
      "['224', '2011', 'Bangalore', '5/8/2011', 'Kochi Tuskers Kerala', 'Royal Challengers Bangalore', 'Kochi Tuskers Kerala', 'bat', 'normal', '0', 'Royal Challengers Bangalore', '0', '9', 'CH Gayle', 'M Chinnaswamy Stadium', 'Aleem Dar', 'SS Hazare', '']\n",
      "['225', '2011', 'Chandigarh', '5/8/2011', 'Kings XI Punjab', 'Pune Warriors', 'Kings XI Punjab', 'bat', 'normal', '0', 'Pune Warriors', '0', '5', 'R Sharma', 'Punjab Cricket Association Stadium, Mohali', 'SK Tarapore', 'RJ Tucker', '']\n",
      "['226', '2011', 'Jaipur', '5/9/2011', 'Chennai Super Kings', 'Rajasthan Royals', 'Rajasthan Royals', 'field', 'normal', '0', 'Chennai Super Kings', '63', '0', 'M Vijay', 'Sawai Mansingh Stadium', 'K Hariharan', 'SJA Taufel', '']\n",
      "['227', '2011', 'Hyderabad', '5/10/2011', 'Deccan Chargers', 'Pune Warriors', 'Deccan Chargers', 'bat', 'normal', '0', 'Pune Warriors', '0', '6', 'MR Marsh', 'Rajiv Gandhi International Stadium, Uppal', 'Asad Rauf', 'AM Saheba', '']\n",
      "['228', '2011', 'Chandigarh', '5/10/2011', 'Kings XI Punjab', 'Mumbai Indians', 'Mumbai Indians', 'field', 'normal', '0', 'Kings XI Punjab', '76', '0', 'BA Bhatt', 'Punjab Cricket Association Stadium, Mohali', 'SK Tarapore', 'RJ Tucker', '']\n",
      "['229', '2011', 'Jaipur', '5/11/2011', 'Rajasthan Royals', 'Royal Challengers Bangalore', 'Royal Challengers Bangalore', 'field', 'normal', '0', 'Royal Challengers Bangalore', '0', '9', 'S Aravind', 'Sawai Mansingh Stadium', 'HDPK Dharmasena', 'K Hariharan', '']\n",
      "['230', '2011', 'Chennai', '5/12/2011', 'Chennai Super Kings', 'Delhi Daredevils', 'Chennai Super Kings', 'bat', 'normal', '0', 'Chennai Super Kings', '18', '0', 'MS Dhoni', 'MA Chidambaram Stadium, Chepauk', 'AM Saheba', 'SL Shastri', '']\n",
      "['231', '2011', 'Indore', '5/13/2011', 'Kochi Tuskers Kerala', 'Kings XI Punjab', 'Kings XI Punjab', 'field', 'normal', '0', 'Kings XI Punjab', '0', '6', 'KD Karthik', 'Holkar Cricket Stadium', 'S Asnani', 'RJ Tucker', '']\n",
      "['232', '2011', 'Bangalore', '5/14/2011', 'Kolkata Knight Riders', 'Royal Challengers Bangalore', 'Royal Challengers Bangalore', 'field', 'normal', '1', 'Royal Challengers Bangalore', '0', '4', 'CH Gayle', 'M Chinnaswamy Stadium', 'RE Koertzen', 'RB Tiffin', '']\n",
      "['233', '2011', 'Mumbai', '5/14/2011', 'Deccan Chargers', 'Mumbai Indians', 'Deccan Chargers', 'bat', 'normal', '0', 'Deccan Chargers', '10', '0', 'A Mishra', 'Wankhede Stadium', 'S Ravi', 'SK Tarapore', '']\n",
      "['234', '2011', 'Dharamsala', '5/15/2011', 'Kings XI Punjab', 'Delhi Daredevils', 'Delhi Daredevils', 'field', 'normal', '0', 'Kings XI Punjab', '29', '0', 'PP Chawla', 'Himachal Pradesh Cricket Association Stadium', 'Asad Rauf', 'SL Shastri', '']\n",
      "['235', '2011', 'Indore', '5/15/2011', 'Rajasthan Royals', 'Kochi Tuskers Kerala', 'Kochi Tuskers Kerala', 'field', 'normal', '0', 'Kochi Tuskers Kerala', '0', '8', 'BJ Hodge', 'Holkar Cricket Stadium', 'PR Reiffel', 'RJ Tucker', '']\n",
      "['236', '2011', 'Mumbai', '5/16/2011', 'Pune Warriors', 'Deccan Chargers', 'Deccan Chargers', 'field', 'normal', '0', 'Deccan Chargers', '0', '6', 'A Mishra', 'Dr DY Patil Sports Academy', 'S Ravi', 'SK Tarapore', '']\n",
      "['237', '2011', 'Dharamsala', '5/17/2011', 'Kings XI Punjab', 'Royal Challengers Bangalore', 'Kings XI Punjab', 'bat', 'normal', '0', 'Kings XI Punjab', '111', '0', 'AC Gilchrist', 'Himachal Pradesh Cricket Association Stadium', 'Asad Rauf', 'AM Saheba', '']\n",
      "['238', '2011', 'Chennai', '5/18/2011', 'Chennai Super Kings', 'Kochi Tuskers Kerala', 'Chennai Super Kings', 'bat', 'normal', '0', 'Chennai Super Kings', '11', '0', 'WP Saha', 'MA Chidambaram Stadium, Chepauk', 'HDPK Dharmasena', 'RE Koertzen', '']\n",
      "['239', '2011', 'Mumbai', '5/19/2011', 'Pune Warriors', 'Kolkata Knight Riders', 'Kolkata Knight Riders', 'field', 'normal', '0', 'Kolkata Knight Riders', '0', '7', 'YK Pathan', 'Dr DY Patil Sports Academy', 'S Ravi', 'SJA Taufel', '']\n",
      "['240', '2011', 'Mumbai', '5/20/2011', 'Mumbai Indians', 'Rajasthan Royals', 'Mumbai Indians', 'bat', 'normal', '0', 'Rajasthan Royals', '0', '10', 'SR Watson', 'Wankhede Stadium', 'RE Koertzen', 'PR Reiffel', '']\n",
      "['241', '2011', 'Dharamsala', '5/21/2011', 'Deccan Chargers', 'Kings XI Punjab', 'Kings XI Punjab', 'field', 'normal', '0', 'Deccan Chargers', '82', '0', 'S Dhawan', 'Himachal Pradesh Cricket Association Stadium', 'Asad Rauf', 'AM Saheba', '']\n",
      "['242', '2011', 'Delhi', '5/21/2011', 'Delhi Daredevils', 'Pune Warriors', 'Delhi Daredevils', 'bat', 'no result', '0', 'Delhi Daredevils', '0', '0', 'A Chandila', 'Feroz Shah Kotla', 'SS Hazare', 'RJ Tucker', '']\n",
      "['243', '2011', 'Bangalore', '5/22/2011', 'Chennai Super Kings', 'Royal Challengers Bangalore', 'Royal Challengers Bangalore', 'field', 'normal', '0', 'Royal Challengers Bangalore', '0', '8', 'CH Gayle', 'M Chinnaswamy Stadium', 'K Hariharan', 'RE Koertzen', '']\n",
      "['244', '2011', 'Kolkata', '5/22/2011', 'Kolkata Knight Riders', 'Mumbai Indians', 'Mumbai Indians', 'field', 'normal', '0', 'Mumbai Indians', '0', '5', 'JEC Franklin', 'Eden Gardens', 'SK Tarapore', 'SJA Taufel', '']\n",
      "['245', '2011', 'Mumbai', '5/24/2011', 'Royal Challengers Bangalore', 'Chennai Super Kings', 'Chennai Super Kings', 'field', 'normal', '0', 'Chennai Super Kings', '0', '6', 'SK Raina', 'Wankhede Stadium', 'Asad Rauf', 'SJA Taufel', '']\n",
      "['246', '2011', 'Mumbai', '5/25/2011', 'Kolkata Knight Riders', 'Mumbai Indians', 'Mumbai Indians', 'field', 'normal', '0', 'Mumbai Indians', '0', '4', 'MM Patel', 'Wankhede Stadium', 'Asad Rauf', 'SJA Taufel', '']\n",
      "['247', '2011', 'Chennai', '5/27/2011', 'Royal Challengers Bangalore', 'Mumbai Indians', 'Mumbai Indians', 'field', 'normal', '0', 'Royal Challengers Bangalore', '43', '0', 'CH Gayle', 'MA Chidambaram Stadium, Chepauk', 'Asad Rauf', 'SJA Taufel', '']\n",
      "['248', '2011', 'Chennai', '5/28/2011', 'Chennai Super Kings', 'Royal Challengers Bangalore', 'Chennai Super Kings', 'bat', 'normal', '0', 'Chennai Super Kings', '58', '0', 'M Vijay', 'MA Chidambaram Stadium, Chepauk', 'Asad Rauf', 'SJA Taufel', '']\n",
      "['249', '2012', 'Chennai', '4/4/2012', 'Chennai Super Kings', 'Mumbai Indians', 'Mumbai Indians', 'field', 'normal', '0', 'Mumbai Indians', '0', '8', 'RE Levi', 'MA Chidambaram Stadium, Chepauk', 'JD Cloete', 'SJA Taufel', '']\n",
      "['250', '2012', 'Kolkata', '4/5/2012', 'Kolkata Knight Riders', 'Delhi Daredevils', 'Delhi Daredevils', 'field', 'normal', '0', 'Delhi Daredevils', '0', '8', 'IK Pathan', 'Eden Gardens', 'S Asnani', 'HDPK Dharmasena', '']\n",
      "['251', '2012', 'Mumbai', '4/6/2012', 'Pune Warriors', 'Mumbai Indians', 'Mumbai Indians', 'field', 'normal', '0', 'Pune Warriors', '28', '0', 'SPD Smith', 'Wankhede Stadium', 'AK Chaudhary', 'SJA Taufel', '']\n",
      "['252', '2012', 'Jaipur', '4/6/2012', 'Rajasthan Royals', 'Kings XI Punjab', 'Kings XI Punjab', 'field', 'normal', '0', 'Rajasthan Royals', '31', '0', 'AM Rahane', 'Sawai Mansingh Stadium', 'BF Bowden', 'SK Tarapore', '']\n",
      "['253', '2012', 'Bangalore', '4/7/2012', 'Royal Challengers Bangalore', 'Delhi Daredevils', 'Delhi Daredevils', 'field', 'normal', '0', 'Royal Challengers Bangalore', '20', '0', 'AB de Villiers', 'M Chinnaswamy Stadium', 'S Asnani', 'S Ravi', '']\n",
      "['254', '2012', 'Visakhapatnam', '4/7/2012', 'Chennai Super Kings', 'Deccan Chargers', 'Deccan Chargers', 'field', 'normal', '0', 'Chennai Super Kings', '74', '0', 'RA Jadeja', 'Dr. Y.S. Rajasekhara Reddy ACA-VDCA Cricket Stadium', 'JD Cloete', 'HDPK Dharmasena', '']\n",
      "['255', '2012', 'Jaipur', '4/8/2012', 'Rajasthan Royals', 'Kolkata Knight Riders', 'Kolkata Knight Riders', 'field', 'normal', '0', 'Rajasthan Royals', '22', '0', 'BJ Hodge', 'Sawai Mansingh Stadium', 'BF Bowden', 'VA Kulkarni', '']\n",
      "['256', '2012', 'Pune', '4/8/2012', 'Pune Warriors', 'Kings XI Punjab', 'Pune Warriors', 'bat', 'normal', '0', 'Pune Warriors', '22', '0', 'MN Samuels', 'Subrata Roy Sahara Stadium', 'S Das', 'SJA Taufel', '']\n",
      "['257', '2012', 'Visakhapatnam', '4/9/2012', 'Deccan Chargers', 'Mumbai Indians', 'Deccan Chargers', 'bat', 'normal', '0', 'Mumbai Indians', '0', '5', 'RG Sharma', 'Dr. Y.S. Rajasekhara Reddy ACA-VDCA Cricket Stadium', 'AK Chaudhary', 'JD Cloete', '']\n",
      "['258', '2012', 'Bangalore', '4/10/2012', 'Kolkata Knight Riders', 'Royal Challengers Bangalore', 'Royal Challengers Bangalore', 'field', 'normal', '0', 'Kolkata Knight Riders', '42', '0', 'L Balaji', 'M Chinnaswamy Stadium', 'S Ravi', 'RJ Tucker', '']\n",
      "['259', '2012', 'Delhi', '4/10/2012', 'Chennai Super Kings', 'Delhi Daredevils', 'Delhi Daredevils', 'field', 'normal', '0', 'Delhi Daredevils', '0', '8', 'M Morkel', 'Feroz Shah Kotla', 'Asad Rauf', 'SK Tarapore', '']\n",
      "['260', '2012', 'Mumbai', '4/11/2012', 'Mumbai Indians', 'Rajasthan Royals', 'Rajasthan Royals', 'field', 'normal', '0', 'Mumbai Indians', '27', '0', 'KA Pollard', 'Wankhede Stadium', 'Aleem Dar', 'BNJ Oxenford', '']\n",
      "['261', '2012', 'Chennai', '4/12/2012', 'Royal Challengers Bangalore', 'Chennai Super Kings', 'Royal Challengers Bangalore', 'bat', 'normal', '0', 'Chennai Super Kings', '0', '5', 'F du Plessis', 'MA Chidambaram Stadium, Chepauk', 'HDPK Dharmasena', 'RJ Tucker', '']\n",
      "['262', '2012', 'Chandigarh', '4/12/2012', 'Pune Warriors', 'Kings XI Punjab', 'Kings XI Punjab', 'field', 'normal', '0', 'Kings XI Punjab', '0', '7', 'AD Mascarenhas', 'Punjab Cricket Association Stadium, Mohali', 'VA Kulkarni', 'SK Tarapore', '']\n",
      "['263', '2012', 'Kolkata', '4/13/2012', 'Rajasthan Royals', 'Kolkata Knight Riders', 'Rajasthan Royals', 'bat', 'normal', '0', 'Kolkata Knight Riders', '0', '5', 'Shakib Al Hasan', 'Eden Gardens', 'Asad Rauf', 'S Asnani', '']\n",
      "['264', '2012', 'Delhi', '4/19/2012', 'Deccan Chargers', 'Delhi Daredevils', 'Deccan Chargers', 'bat', 'normal', '0', 'Delhi Daredevils', '0', '5', 'KP Pietersen', 'Feroz Shah Kotla', 'BF Bowden', 'SK Tarapore', '']\n",
      "['265', '2012', 'Pune', '4/14/2012', 'Chennai Super Kings', 'Pune Warriors', 'Chennai Super Kings', 'bat', 'normal', '0', 'Pune Warriors', '0', '7', 'JD Ryder', 'Subrata Roy Sahara Stadium', 'Aleem Dar', 'BNJ Oxenford', '']\n",
      "['266', '2012', 'Kolkata', '4/15/2012', 'Kings XI Punjab', 'Kolkata Knight Riders', 'Kolkata Knight Riders', 'field', 'normal', '0', 'Kings XI Punjab', '2', '0', 'SP Narine', 'Eden Gardens', 'Asad Rauf', 'S Asnani', '']\n",
      "['267', '2012', 'Bangalore', '4/15/2012', 'Rajasthan Royals', 'Royal Challengers Bangalore', 'Rajasthan Royals', 'bat', 'normal', '0', 'Rajasthan Royals', '59', '0', 'AM Rahane', 'M Chinnaswamy Stadium', 'JD Cloete', 'RJ Tucker', '']\n",
      "['268', '2012', 'Mumbai', '4/16/2012', 'Mumbai Indians', 'Delhi Daredevils', 'Delhi Daredevils', 'field', 'normal', '0', 'Delhi Daredevils', '0', '7', 'S Nadeem', 'Wankhede Stadium', 'BF Bowden', 'SK Tarapore', '']\n",
      "['269', '2012', 'Jaipur', '4/17/2012', 'Deccan Chargers', 'Rajasthan Royals', 'Deccan Chargers', 'bat', 'normal', '0', 'Rajasthan Royals', '0', '5', 'BJ Hodge', 'Sawai Mansingh Stadium', 'Aleem Dar', 'BNJ Oxenford', '']\n",
      "['270', '2012', 'Bangalore', '4/17/2012', 'Pune Warriors', 'Royal Challengers Bangalore', 'Pune Warriors', 'bat', 'normal', '0', 'Royal Challengers Bangalore', '0', '6', 'CH Gayle', 'M Chinnaswamy Stadium', 'S Asnani', 'S Das', '']\n",
      "['271', '2012', 'Chandigarh', '4/18/2012', 'Kings XI Punjab', 'Kolkata Knight Riders', 'Kings XI Punjab', 'bat', 'normal', '0', 'Kolkata Knight Riders', '0', '8', 'G Gambhir', 'Punjab Cricket Association Stadium, Mohali', 'JD Cloete', 'RJ Tucker', '']\n",
      "['272', '2012', 'Hyderabad', '5/10/2012', 'Deccan Chargers', 'Delhi Daredevils', 'Deccan Chargers', 'bat', 'normal', '0', 'Delhi Daredevils', '0', '9', 'DA Warner', 'Rajiv Gandhi International Stadium, Uppal', 'JD Cloete', 'SJA Taufel', '']\n",
      "['273', '2012', 'Chennai', '4/19/2012', 'Chennai Super Kings', 'Pune Warriors', 'Pune Warriors', 'field', 'normal', '0', 'Chennai Super Kings', '13', '0', 'KMDN Kulasekara', 'MA Chidambaram Stadium, Chepauk', 'Asad Rauf', 'S Das', '']\n",
      "['274', '2012', 'Chandigarh', '4/20/2012', 'Kings XI Punjab', 'Royal Challengers Bangalore', 'Royal Challengers Bangalore', 'field', 'normal', '0', 'Royal Challengers Bangalore', '0', '5', 'CH Gayle', 'Punjab Cricket Association Stadium, Mohali', 'S Ravi', 'RJ Tucker', '']\n",
      "['275', '2012', 'Chennai', '4/21/2012', 'Rajasthan Royals', 'Chennai Super Kings', 'Rajasthan Royals', 'bat', 'normal', '0', 'Chennai Super Kings', '0', '7', 'F du Plessis', 'MA Chidambaram Stadium, Chepauk', 'Aleem Dar', 'BNJ Oxenford', '']\n",
      "['276', '2012', 'Delhi', '4/21/2012', 'Pune Warriors', 'Delhi Daredevils', 'Delhi Daredevils', 'field', 'normal', '0', 'Pune Warriors', '20', '0', 'SC Ganguly', 'Feroz Shah Kotla', 'Asad Rauf', 'S Das', '']\n",
      "['277', '2012', 'Mumbai', '4/22/2012', 'Mumbai Indians', 'Kings XI Punjab', 'Mumbai Indians', 'bat', 'normal', '0', 'Kings XI Punjab', '0', '6', 'SE Marsh', 'Wankhede Stadium', 'S Ravi', 'RJ Tucker', '']\n",
      "['278', '2012', 'Cuttack', '4/22/2012', 'Deccan Chargers', 'Kolkata Knight Riders', 'Kolkata Knight Riders', 'field', 'normal', '0', 'Kolkata Knight Riders', '0', '5', 'B Lee', 'Barabati Stadium', 'BF Bowden', 'SK Tarapore', '']\n",
      "['279', '2012', 'Jaipur', '4/23/2012', 'Royal Challengers Bangalore', 'Rajasthan Royals', 'Rajasthan Royals', 'field', 'normal', '0', 'Royal Challengers Bangalore', '46', '0', 'AB de Villiers', 'Sawai Mansingh Stadium', 'Asad Rauf', 'S Asnani', '']\n",
      "['280', '2012', 'Pune', '4/24/2012', 'Pune Warriors', 'Delhi Daredevils', 'Pune Warriors', 'bat', 'normal', '0', 'Delhi Daredevils', '0', '8', 'V Sehwag', 'Subrata Roy Sahara Stadium', 'S Ravi', 'RJ Tucker', '']\n",
      "['281', '2012', 'Chandigarh', '4/25/2012', 'Kings XI Punjab', 'Mumbai Indians', 'Kings XI Punjab', 'bat', 'normal', '0', 'Mumbai Indians', '0', '4', 'AT Rayudu', 'Punjab Cricket Association Stadium, Mohali', 'Aleem Dar', 'BNJ Oxenford', '']\n",
      "['282', '2012', 'Pune', '4/26/2012', 'Deccan Chargers', 'Pune Warriors', 'Deccan Chargers', 'bat', 'normal', '0', 'Deccan Chargers', '18', '0', 'CL White', 'Subrata Roy Sahara Stadium', 'S Ravi', 'RJ Tucker', '']\n",
      "['283', '2012', 'Delhi', '4/27/2012', 'Delhi Daredevils', 'Mumbai Indians', 'Mumbai Indians', 'field', 'normal', '0', 'Delhi Daredevils', '37', '0', 'V Sehwag', 'Feroz Shah Kotla', 'Aleem Dar', 'BNJ Oxenford', '']\n",
      "['284', '2012', 'Chennai', '4/28/2012', 'Kings XI Punjab', 'Chennai Super Kings', 'Kings XI Punjab', 'bat', 'normal', '0', 'Kings XI Punjab', '7', '0', 'Mandeep Singh', 'MA Chidambaram Stadium, Chepauk', 'BF Bowden', 'SK Tarapore', '']\n",
      "['285', '2012', 'Kolkata', '4/28/2012', 'Kolkata Knight Riders', 'Royal Challengers Bangalore', 'Kolkata Knight Riders', 'bat', 'normal', '0', 'Kolkata Knight Riders', '47', '0', 'G Gambhir', 'Eden Gardens', 'Asad Rauf', 'BR Doctrove', '']\n",
      "['286', '2012', 'Delhi', '4/29/2012', 'Delhi Daredevils', 'Rajasthan Royals', 'Delhi Daredevils', 'bat', 'normal', '0', 'Delhi Daredevils', '1', '0', 'V Sehwag', 'Feroz Shah Kotla', 'S Ravi', 'RJ Tucker', '']\n",
      "['287', '2012', 'Mumbai', '4/29/2012', 'Deccan Chargers', 'Mumbai Indians', 'Mumbai Indians', 'field', 'normal', '0', 'Mumbai Indians', '0', '5', 'DW Steyn', 'Wankhede Stadium', 'AK Chaudhary', 'BNJ Oxenford', '']\n",
      "['288', '2012', 'Chennai', '4/30/2012', 'Chennai Super Kings', 'Kolkata Knight Riders', 'Chennai Super Kings', 'bat', 'normal', '0', 'Kolkata Knight Riders', '0', '5', 'G Gambhir', 'MA Chidambaram Stadium, Chepauk', 'BF Bowden', 'C Shamshuddin', '']\n",
      "['289', '2012', 'Cuttack', '5/1/2012', 'Deccan Chargers', 'Pune Warriors', 'Deccan Chargers', 'bat', 'normal', '0', 'Deccan Chargers', '13', '0', 'KC Sangakkara', 'Barabati Stadium', 'Aleem Dar', 'AK Chaudhary', '']\n",
      "['290', '2012', 'Jaipur', '5/1/2012', 'Rajasthan Royals', 'Delhi Daredevils', 'Rajasthan Royals', 'bat', 'normal', '0', 'Delhi Daredevils', '0', '6', 'P Negi', 'Sawai Mansingh Stadium', 'JD Cloete', 'SJA Taufel', '']\n",
      "['291', '2012', 'Bangalore', '5/2/2012', 'Royal Challengers Bangalore', 'Kings XI Punjab', 'Kings XI Punjab', 'field', 'normal', '0', 'Kings XI Punjab', '0', '4', 'Azhar Mahmood', 'M Chinnaswamy Stadium', 'BF Bowden', 'C Shamshuddin', '']\n",
      "['292', '2012', 'Pune', '5/3/2012', 'Mumbai Indians', 'Pune Warriors', 'Mumbai Indians', 'bat', 'normal', '0', 'Mumbai Indians', '1', '0', 'SL Malinga', 'Subrata Roy Sahara Stadium', 'Asad Rauf', 'S Asnani', '']\n",
      "['293', '2012', 'Chennai', '5/4/2012', 'Chennai Super Kings', 'Deccan Chargers', 'Chennai Super Kings', 'bat', 'normal', '0', 'Chennai Super Kings', '10', '0', 'SK Raina', 'MA Chidambaram Stadium, Chepauk', 'HDPK Dharmasena', 'BNJ Oxenford', '']\n",
      "['294', '2012', 'Kolkata', '5/5/2012', 'Kolkata Knight Riders', 'Pune Warriors', 'Kolkata Knight Riders', 'bat', 'normal', '0', 'Kolkata Knight Riders', '7', '0', 'SP Narine', 'Eden Gardens', 'BF Bowden', 'SK Tarapore', '']\n",
      "['295', '2012', 'Chandigarh', '5/5/2012', 'Rajasthan Royals', 'Kings XI Punjab', 'Rajasthan Royals', 'bat', 'normal', '0', 'Rajasthan Royals', '43', '0', 'SR Watson', 'Punjab Cricket Association Stadium, Mohali', 'JD Cloete', 'SJA Taufel', '']\n",
      "['296', '2012', 'Mumbai', '5/6/2012', 'Chennai Super Kings', 'Mumbai Indians', 'Mumbai Indians', 'field', 'normal', '0', 'Mumbai Indians', '0', '2', 'DR Smith', 'Wankhede Stadium', 'Asad Rauf', 'S Asnani', '']\n",
      "['297', '2012', 'Bangalore', '5/6/2012', 'Deccan Chargers', 'Royal Challengers Bangalore', 'Royal Challengers Bangalore', 'field', 'normal', '0', 'Royal Challengers Bangalore', '0', '5', 'AB de Villiers', 'M Chinnaswamy Stadium', 'HDPK Dharmasena', 'BNJ Oxenford', '']\n",
      "['298', '2012', 'Delhi', '5/7/2012', 'Delhi Daredevils', 'Kolkata Knight Riders', 'Delhi Daredevils', 'bat', 'normal', '0', 'Kolkata Knight Riders', '0', '6', 'JH Kallis', 'Feroz Shah Kotla', 'JD Cloete', 'S Ravi', '']\n",
      "['299', '2012', 'Pune', '5/8/2012', 'Pune Warriors', 'Rajasthan Royals', 'Pune Warriors', 'bat', 'normal', '0', 'Rajasthan Royals', '0', '7', 'SR Watson', 'Subrata Roy Sahara Stadium', 'Asad Rauf', 'BR Doctrove', '']\n",
      "['300', '2012', 'Hyderabad', '5/8/2012', 'Kings XI Punjab', 'Deccan Chargers', 'Deccan Chargers', 'field', 'normal', '0', 'Kings XI Punjab', '25', '0', 'Mandeep Singh', 'Rajiv Gandhi International Stadium, Uppal', 'HDPK Dharmasena', 'BNJ Oxenford', '']\n",
      "['301', '2012', 'Mumbai', '5/9/2012', 'Mumbai Indians', 'Royal Challengers Bangalore', 'Royal Challengers Bangalore', 'field', 'normal', '0', 'Royal Challengers Bangalore', '0', '9', 'CH Gayle', 'Wankhede Stadium', 'BF Bowden', 'VA Kulkarni', '']\n",
      "['302', '2012', 'Jaipur', '5/10/2012', 'Rajasthan Royals', 'Chennai Super Kings', 'Chennai Super Kings', 'field', 'normal', '0', 'Chennai Super Kings', '0', '4', 'BW Hilfenhaus', 'Sawai Mansingh Stadium', 'BNJ Oxenford', 'C Shamshuddin', '']\n",
      "['303', '2012', 'Pune', '5/11/2012', 'Royal Challengers Bangalore', 'Pune Warriors', 'Pune Warriors', 'field', 'normal', '0', 'Royal Challengers Bangalore', '35', '0', 'CH Gayle', 'Subrata Roy Sahara Stadium', 'BF Bowden', 'SK Tarapore', '']\n",
      "['304', '2012', 'Kolkata', '5/12/2012', 'Mumbai Indians', 'Kolkata Knight Riders', 'Mumbai Indians', 'bat', 'normal', '0', 'Mumbai Indians', '27', '0', 'RG Sharma', 'Eden Gardens', 'S Ravi', 'SJA Taufel', '']\n",
      "['305', '2012', 'Chennai', '5/12/2012', 'Delhi Daredevils', 'Chennai Super Kings', 'Chennai Super Kings', 'field', 'normal', '0', 'Chennai Super Kings', '0', '9', 'BW Hilfenhaus', 'MA Chidambaram Stadium, Chepauk', 'S Das', 'BR Doctrove', '']\n",
      "['306', '2012', 'Jaipur', '5/13/2012', 'Rajasthan Royals', 'Pune Warriors', 'Rajasthan Royals', 'bat', 'normal', '0', 'Rajasthan Royals', '45', '0', 'A Chandila', 'Sawai Mansingh Stadium', 'BF Bowden', 'SK Tarapore', '']\n",
      "['307', '2012', 'Chandigarh', '5/13/2012', 'Deccan Chargers', 'Kings XI Punjab', 'Deccan Chargers', 'bat', 'normal', '0', 'Kings XI Punjab', '0', '4', 'DJ Hussey', 'Punjab Cricket Association Stadium, Mohali', 'HDPK Dharmasena', 'BNJ Oxenford', '']\n",
      "['308', '2012', 'Bangalore', '5/14/2012', 'Royal Challengers Bangalore', 'Mumbai Indians', 'Mumbai Indians', 'field', 'normal', '0', 'Mumbai Indians', '0', '5', 'AT Rayudu', 'M Chinnaswamy Stadium', 'S Das', 'BR Doctrove', '']\n",
      "['309', '2012', 'Kolkata', '5/14/2012', 'Kolkata Knight Riders', 'Chennai Super Kings', 'Chennai Super Kings', 'field', 'normal', '0', 'Chennai Super Kings', '0', '5', 'MEK Hussey', 'Eden Gardens', 'JD Cloete', 'SJA Taufel', '']\n",
      "['310', '2012', 'Delhi', '5/15/2012', 'Kings XI Punjab', 'Delhi Daredevils', 'Kings XI Punjab', 'bat', 'normal', '0', 'Delhi Daredevils', '0', '5', 'UT Yadav', 'Feroz Shah Kotla', 'HDPK Dharmasena', 'BNJ Oxenford', '']\n",
      "['311', '2012', 'Mumbai', '5/16/2012', 'Kolkata Knight Riders', 'Mumbai Indians', 'Mumbai Indians', 'field', 'normal', '0', 'Kolkata Knight Riders', '32', '0', 'SP Narine', 'Wankhede Stadium', 'S Das', 'BR Doctrove', '']\n",
      "['312', '2012', 'Dharamsala', '5/17/2012', 'Chennai Super Kings', 'Kings XI Punjab', 'Kings XI Punjab', 'field', 'normal', '0', 'Kings XI Punjab', '0', '6', 'AC Gilchrist', 'Himachal Pradesh Cricket Association Stadium', 'VA Kulkarni', 'SK Tarapore', '']\n",
      "['313', '2012', 'Delhi', '5/17/2012', 'Royal Challengers Bangalore', 'Delhi Daredevils', 'Delhi Daredevils', 'field', 'normal', '0', 'Royal Challengers Bangalore', '21', '0', 'CH Gayle', 'Feroz Shah Kotla', 'HDPK Dharmasena', 'C Shamshuddin', '']\n",
      "['314', '2012', 'Hyderabad', '5/18/2012', 'Rajasthan Royals', 'Deccan Chargers', 'Rajasthan Royals', 'bat', 'normal', '0', 'Deccan Chargers', '0', '5', 'DW Steyn', 'Rajiv Gandhi International Stadium, Uppal', 'S Ravi', 'SJA Taufel', '']\n",
      "['315', '2012', 'Dharamsala', '5/19/2012', 'Kings XI Punjab', 'Delhi Daredevils', 'Delhi Daredevils', 'field', 'normal', '0', 'Delhi Daredevils', '0', '6', 'UT Yadav', 'Himachal Pradesh Cricket Association Stadium', 'BF Bowden', 'VA Kulkarni', '']\n",
      "['316', '2012', 'Pune', '5/19/2012', 'Kolkata Knight Riders', 'Pune Warriors', 'Kolkata Knight Riders', 'bat', 'normal', '0', 'Kolkata Knight Riders', '34', '0', 'Shakib Al Hasan', 'Subrata Roy Sahara Stadium', 'S Asnani', 'BR Doctrove', '']\n",
      "['317', '2012', 'Hyderabad', '5/20/2012', 'Deccan Chargers', 'Royal Challengers Bangalore', 'Royal Challengers Bangalore', 'field', 'normal', '0', 'Deccan Chargers', '9', '0', 'DW Steyn', 'Rajiv Gandhi International Stadium, Uppal', 'S Ravi', 'SJA Taufel', '']\n",
      "['318', '2012', 'Jaipur', '5/20/2012', 'Rajasthan Royals', 'Mumbai Indians', 'Rajasthan Royals', 'bat', 'normal', '0', 'Mumbai Indians', '0', '10', 'DR Smith', 'Sawai Mansingh Stadium', 'HDPK Dharmasena', 'C Shamshuddin', '']\n",
      "['319', '2012', 'Pune', '5/22/2012', 'Kolkata Knight Riders', 'Delhi Daredevils', 'Kolkata Knight Riders', 'bat', 'normal', '0', 'Kolkata Knight Riders', '18', '0', 'YK Pathan', 'Subrata Roy Sahara Stadium', 'BR Doctrove', 'SJA Taufel', '']\n",
      "['320', '2012', 'Bangalore', '5/23/2012', 'Chennai Super Kings', 'Mumbai Indians', 'Mumbai Indians', 'field', 'normal', '0', 'Chennai Super Kings', '38', '0', 'MS Dhoni', 'M Chinnaswamy Stadium', 'BF Bowden', 'HDPK Dharmasena', '']\n",
      "['321', '2012', 'Chennai', '5/25/2012', 'Chennai Super Kings', 'Delhi Daredevils', 'Delhi Daredevils', 'field', 'normal', '0', 'Chennai Super Kings', '86', '0', 'M Vijay', 'MA Chidambaram Stadium, Chepauk', 'BR Doctrove', 'SJA Taufel', '']\n",
      "['322', '2012', 'Chennai', '5/27/2012', 'Chennai Super Kings', 'Kolkata Knight Riders', 'Chennai Super Kings', 'bat', 'normal', '0', 'Kolkata Knight Riders', '0', '5', 'MS Bisla', 'MA Chidambaram Stadium, Chepauk', 'BF Bowden', 'SJA Taufel', '']\n",
      "['323', '2013', 'Kolkata', '4/3/2013', 'Delhi Daredevils', 'Kolkata Knight Riders', 'Kolkata Knight Riders', 'field', 'normal', '0', 'Kolkata Knight Riders', '0', '6', 'SP Narine', 'Eden Gardens', 'S Ravi', 'SJA Taufel', '']\n",
      "['324', '2013', 'Bangalore', '4/4/2013', 'Royal Challengers Bangalore', 'Mumbai Indians', 'Mumbai Indians', 'field', 'normal', '0', 'Royal Challengers Bangalore', '2', '0', 'CH Gayle', 'M Chinnaswamy Stadium', 'VA Kulkarni', 'C Shamshuddin', '']\n",
      "['325', '2013', 'Hyderabad', '4/5/2013', 'Sunrisers Hyderabad', 'Pune Warriors', 'Pune Warriors', 'field', 'normal', '0', 'Sunrisers Hyderabad', '22', '0', 'A Mishra', 'Rajiv Gandhi International Stadium, Uppal', 'S Ravi', 'SJA Taufel', '']\n",
      "['326', '2013', 'Delhi', '4/6/2013', 'Rajasthan Royals', 'Delhi Daredevils', 'Rajasthan Royals', 'bat', 'normal', '0', 'Rajasthan Royals', '5', '0', 'R Dravid', 'Feroz Shah Kotla', 'S Das', 'C Shamshuddin', '']\n",
      "['327', '2013', 'Chennai', '4/6/2013', 'Mumbai Indians', 'Chennai Super Kings', 'Mumbai Indians', 'bat', 'normal', '0', 'Mumbai Indians', '9', '0', 'KA Pollard', 'MA Chidambaram Stadium, Chepauk', 'M Erasmus', 'VA Kulkarni', '']\n",
      "['328', '2013', 'Pune', '4/7/2013', 'Pune Warriors', 'Kings XI Punjab', 'Pune Warriors', 'bat', 'normal', '0', 'Kings XI Punjab', '0', '8', 'M Vohra', 'Subrata Roy Sahara Stadium', 'S Asnani', 'SJA Taufel', '']\n",
      "['329', '2013', 'Hyderabad', '4/7/2013', 'Royal Challengers Bangalore', 'Sunrisers Hyderabad', 'Royal Challengers Bangalore', 'bat', 'tie', '0', 'Sunrisers Hyderabad', '0', '0', 'GH Vihari', 'Rajiv Gandhi International Stadium, Uppal', 'AK Chowdhary', 'S Ravi', '']\n",
      "['330', '2013', 'Jaipur', '4/8/2013', 'Rajasthan Royals', 'Kolkata Knight Riders', 'Kolkata Knight Riders', 'field', 'normal', '0', 'Rajasthan Royals', '19', '0', 'SK Trivedi', 'Sawai Mansingh Stadium', 'Aleem Dar', 'S Das', '']\n",
      "['331', '2013', 'Mumbai', '4/9/2013', 'Mumbai Indians', 'Delhi Daredevils', 'Mumbai Indians', 'bat', 'normal', '0', 'Mumbai Indians', '44', '0', 'KD Karthik', 'Wankhede Stadium', 'M Erasmus', 'VA Kulkarni', '']\n",
      "['332', '2013', 'Chandigarh', '4/10/2013', 'Kings XI Punjab', 'Chennai Super Kings', 'Chennai Super Kings', 'field', 'normal', '0', 'Chennai Super Kings', '0', '10', 'MEK Hussey', 'Punjab Cricket Association Stadium, Mohali', 'Aleem Dar', 'C Shamshuddin', '']\n",
      "['333', '2013', 'Bangalore', '4/11/2013', 'Kolkata Knight Riders', 'Royal Challengers Bangalore', 'Royal Challengers Bangalore', 'field', 'normal', '0', 'Royal Challengers Bangalore', '0', '8', 'CH Gayle', 'M Chinnaswamy Stadium', 'Asad Rauf', 'AK Chowdhary', '']\n",
      "['334', '2013', 'Pune', '4/11/2013', 'Rajasthan Royals', 'Pune Warriors', 'Rajasthan Royals', 'bat', 'normal', '0', 'Pune Warriors', '0', '7', 'AJ Finch', 'Subrata Roy Sahara Stadium', 'M Erasmus', 'K Srinath', '']\n",
      "['335', '2013', 'Delhi', '4/12/2013', 'Delhi Daredevils', 'Sunrisers Hyderabad', 'Delhi Daredevils', 'bat', 'normal', '0', 'Sunrisers Hyderabad', '0', '3', 'A Mishra', 'Feroz Shah Kotla', 'Aleem Dar', 'Subroto Das', '']\n",
      "['336', '2013', 'Mumbai', '4/13/2013', 'Mumbai Indians', 'Pune Warriors', 'Mumbai Indians', 'bat', 'normal', '0', 'Mumbai Indians', '41', '0', 'RG Sharma', 'Wankhede Stadium', 'S Ravi', 'SJA Taufel', '']\n",
      "['337', '2013', 'Chennai', '4/13/2013', 'Royal Challengers Bangalore', 'Chennai Super Kings', 'Chennai Super Kings', 'field', 'normal', '0', 'Chennai Super Kings', '0', '4', 'RA Jadeja', 'MA Chidambaram Stadium, Chepauk', 'Asad Rauf', 'AK Chowdhary', '']\n",
      "['338', '2013', 'Kolkata', '4/14/2013', 'Kolkata Knight Riders', 'Sunrisers Hyderabad', 'Kolkata Knight Riders', 'bat', 'normal', '0', 'Kolkata Knight Riders', '48', '0', 'G Gambhir', 'Eden Gardens', 'M Erasmus', 'VA Kulkarni', '']\n",
      "['339', '2013', 'Jaipur', '4/14/2013', 'Kings XI Punjab', 'Rajasthan Royals', 'Rajasthan Royals', 'field', 'normal', '0', 'Rajasthan Royals', '0', '6', 'JP Faulkner', 'Sawai Mansingh Stadium', 'Aleem Dar', 'C Shamshuddin', '']\n",
      "['340', '2013', 'Chennai', '4/15/2013', 'Pune Warriors', 'Chennai Super Kings', 'Pune Warriors', 'bat', 'normal', '0', 'Pune Warriors', '24', '0', 'SPD Smith', 'MA Chidambaram Stadium, Chepauk', 'Asad Rauf', 'AK Chaudhary', '']\n",
      "['341', '2013', 'Chandigarh', '4/16/2013', 'Kings XI Punjab', 'Kolkata Knight Riders', 'Kolkata Knight Riders', 'field', 'normal', '0', 'Kings XI Punjab', '4', '0', 'MS Gony', 'Punjab Cricket Association Stadium, Mohali', 'CK Nandan', 'SJA Taufel', '']\n",
      "['342', '2013', 'Bangalore', '4/16/2013', 'Delhi Daredevils', 'Royal Challengers Bangalore', 'Royal Challengers Bangalore', 'field', 'tie', '0', 'Royal Challengers Bangalore', '0', '0', 'V Kohli', 'M Chinnaswamy Stadium', 'M Erasmus', 'VA Kulkarni', '']\n",
      "['343', '2013', 'Pune', '4/17/2013', 'Sunrisers Hyderabad', 'Pune Warriors', 'Pune Warriors', 'field', 'normal', '0', 'Sunrisers Hyderabad', '11', '0', 'A Mishra', 'Subrata Roy Sahara Stadium', 'Asad Rauf', 'AK Chaudhary', '']\n",
      "['344', '2013', 'Jaipur', '4/17/2013', 'Rajasthan Royals', 'Mumbai Indians', 'Rajasthan Royals', 'bat', 'normal', '0', 'Rajasthan Royals', '87', '0', 'AM Rahane', 'Sawai Mansingh Stadium', 'Aleem Dar', 'C Shamshuddin', '']\n",
      "['345', '2013', 'Delhi', '4/18/2013', 'Chennai Super Kings', 'Delhi Daredevils', 'Chennai Super Kings', 'bat', 'normal', '0', 'Chennai Super Kings', '86', '0', 'MEK Hussey', 'Feroz Shah Kotla', 'M Erasmus', 'VA Kulkarni', '']\n",
      "['346', '2013', 'Hyderabad', '4/19/2013', 'Kings XI Punjab', 'Sunrisers Hyderabad', 'Kings XI Punjab', 'bat', 'normal', '0', 'Sunrisers Hyderabad', '0', '5', 'GH Vihari', 'Rajiv Gandhi International Stadium, Uppal', 'HDPK Dharmasena', 'CK Nandan', '']\n",
      "['347', '2013', 'Kolkata', '4/20/2013', 'Kolkata Knight Riders', 'Chennai Super Kings', 'Kolkata Knight Riders', 'bat', 'normal', '0', 'Chennai Super Kings', '0', '4', 'RA Jadeja', 'Eden Gardens', 'Asad Rauf', 'AK Chaudhary', '']\n",
      "['348', '2013', 'Bangalore', '4/20/2013', 'Rajasthan Royals', 'Royal Challengers Bangalore', 'Royal Challengers Bangalore', 'field', 'normal', '0', 'Royal Challengers Bangalore', '0', '7', 'R Vinay Kumar', 'M Chinnaswamy Stadium', 'Aleem Dar', 'C Shamshuddin', '']\n",
      "['349', '2013', 'Delhi', '4/21/2013', 'Mumbai Indians', 'Delhi Daredevils', 'Mumbai Indians', 'bat', 'normal', '0', 'Delhi Daredevils', '0', '9', 'V Sehwag', 'Feroz Shah Kotla', 'HDPK Dharmasena', 'S Ravi', '']\n",
      "['350', '2013', 'Chandigarh', '4/21/2013', 'Pune Warriors', 'Kings XI Punjab', 'Kings XI Punjab', 'field', 'normal', '0', 'Kings XI Punjab', '0', '7', 'DA Miller', 'Punjab Cricket Association Stadium, Mohali', 'M Erasmus', 'K Srinath', '']\n",
      "['351', '2013', 'Chennai', '4/22/2013', 'Rajasthan Royals', 'Chennai Super Kings', 'Rajasthan Royals', 'bat', 'normal', '0', 'Chennai Super Kings', '0', '5', 'MEK Hussey', 'MA Chidambaram Stadium, Chepauk', 'S Asnani', 'AK Chaudhary', '']\n",
      "['352', '2013', 'Bangalore', '4/23/2013', 'Royal Challengers Bangalore', 'Pune Warriors', 'Pune Warriors', 'field', 'normal', '0', 'Royal Challengers Bangalore', '130', '0', 'CH Gayle', 'M Chinnaswamy Stadium', 'Aleem Dar', 'C Shamshuddin', '']\n",
      "['353', '2013', 'Dharamsala', '5/16/2013', 'Kings XI Punjab', 'Delhi Daredevils', 'Delhi Daredevils', 'field', 'normal', '0', 'Kings XI Punjab', '7', '0', 'DA Miller', 'Himachal Pradesh Cricket Association Stadium', 'HDPK Dharmasena', 'S Ravi', '']\n",
      "['354', '2013', 'Kolkata', '4/24/2013', 'Kolkata Knight Riders', 'Mumbai Indians', 'Kolkata Knight Riders', 'bat', 'normal', '0', 'Mumbai Indians', '0', '5', 'DR Smith', 'Eden Gardens', 'HDPK Dharmasena', 'S Ravi', '']\n",
      "['355', '2013', 'Chennai', '4/25/2013', 'Sunrisers Hyderabad', 'Chennai Super Kings', 'Sunrisers Hyderabad', 'bat', 'normal', '0', 'Chennai Super Kings', '0', '5', 'MS Dhoni', 'MA Chidambaram Stadium, Chepauk', 'Aleem Dar', 'S Das', '']\n",
      "['356', '2013', 'Kolkata', '4/26/2013', 'Kings XI Punjab', 'Kolkata Knight Riders', 'Kings XI Punjab', 'bat', 'normal', '0', 'Kolkata Knight Riders', '0', '6', 'JH Kallis', 'Eden Gardens', 'CK Nandan', 'S Ravi', '']\n",
      "['357', '2013', 'Jaipur', '4/27/2013', 'Sunrisers Hyderabad', 'Rajasthan Royals', 'Sunrisers Hyderabad', 'bat', 'normal', '0', 'Rajasthan Royals', '0', '8', 'JP Faulkner', 'Sawai Mansingh Stadium', 'VA Kulkarni', 'K Srinath', '']\n",
      "['358', '2013', 'Mumbai', '4/27/2013', 'Mumbai Indians', 'Royal Challengers Bangalore', 'Mumbai Indians', 'bat', 'normal', '0', 'Mumbai Indians', '58', '0', 'DR Smith', 'Wankhede Stadium', 'Asad Rauf', 'S Asnani', '']\n",
      "['359', '2013', 'Chennai', '4/28/2013', 'Chennai Super Kings', 'Kolkata Knight Riders', 'Kolkata Knight Riders', 'field', 'normal', '0', 'Chennai Super Kings', '14', '0', 'MEK Hussey', 'MA Chidambaram Stadium, Chepauk', 'Aleem Dar', 'SJA Taufel', '']\n",
      "['360', '2013', 'Raipur', '4/28/2013', 'Delhi Daredevils', 'Pune Warriors', 'Pune Warriors', 'field', 'normal', '0', 'Delhi Daredevils', '15', '0', 'DA Warner', 'Shaheed Veer Narayan Singh International Stadium', 'CK Nandan', 'S Ravi', '']\n",
      "['361', '2013', 'Jaipur', '4/29/2013', 'Royal Challengers Bangalore', 'Rajasthan Royals', 'Rajasthan Royals', 'field', 'normal', '0', 'Rajasthan Royals', '0', '4', 'SV Samson', 'Sawai Mansingh Stadium', 'M Erasmus', 'K Srinath', '']\n",
      "['362', '2013', 'Mumbai', '4/29/2013', 'Mumbai Indians', 'Kings XI Punjab', 'Mumbai Indians', 'bat', 'normal', '0', 'Mumbai Indians', '4', '0', 'RG Sharma', 'Wankhede Stadium', 'Asad Rauf', 'AK Chaudhary', '']\n",
      "['363', '2013', 'Pune', '4/30/2013', 'Chennai Super Kings', 'Pune Warriors', 'Chennai Super Kings', 'bat', 'normal', '0', 'Chennai Super Kings', '37', '0', 'MS Dhoni', 'Subrata Roy Sahara Stadium', 'S Das', 'SJA Taufel', '']\n",
      "['364', '2013', 'Hyderabad', '5/1/2013', 'Mumbai Indians', 'Sunrisers Hyderabad', 'Mumbai Indians', 'bat', 'normal', '0', 'Sunrisers Hyderabad', '0', '7', 'I Sharma', 'Rajiv Gandhi International Stadium, Uppal', 'Asad Rauf', 'S Asnani', '']\n",
      "['365', '2013', 'Raipur', '5/1/2013', 'Kolkata Knight Riders', 'Delhi Daredevils', 'Kolkata Knight Riders', 'bat', 'normal', '0', 'Delhi Daredevils', '0', '7', 'DA Warner', 'Shaheed Veer Narayan Singh International Stadium', 'HDPK Dharmasena', 'CK Nandan', '']\n",
      "['366', '2013', 'Chennai', '5/2/2013', 'Chennai Super Kings', 'Kings XI Punjab', 'Chennai Super Kings', 'bat', 'normal', '0', 'Chennai Super Kings', '15', '0', 'SK Raina', 'MA Chidambaram Stadium, Chepauk', 'M Erasmus', 'VA Kulkarni', '']\n",
      "['367', '2013', 'Pune', '5/2/2013', 'Royal Challengers Bangalore', 'Pune Warriors', 'Royal Challengers Bangalore', 'bat', 'normal', '0', 'Royal Challengers Bangalore', '17', '0', 'AB de Villiers', 'Subrata Roy Sahara Stadium', 'Aleem Dar', 'C Shamshuddin', '']\n",
      "['368', '2013', 'Kolkata', '5/3/2013', 'Rajasthan Royals', 'Kolkata Knight Riders', 'Rajasthan Royals', 'bat', 'normal', '0', 'Kolkata Knight Riders', '0', '8', 'YK Pathan', 'Eden Gardens', 'HDPK Dharmasena', 'CK Nandan', '']\n",
      "['369', '2013', 'Hyderabad', '5/4/2013', 'Delhi Daredevils', 'Sunrisers Hyderabad', 'Delhi Daredevils', 'bat', 'normal', '0', 'Sunrisers Hyderabad', '0', '6', 'DJG Sammy', 'Rajiv Gandhi International Stadium, Uppal', 'Asad Rauf', 'S Asnani', '']\n",
      "['370', '2013', 'Bangalore', '5/14/2013', 'Royal Challengers Bangalore', 'Kings XI Punjab', 'Kings XI Punjab', 'field', 'normal', '0', 'Kings XI Punjab', '0', '7', 'AC Gilchrist', 'M Chinnaswamy Stadium', 'HDPK Dharmasena', 'S Ravi', '']\n",
      "['371', '2013', 'Mumbai', '5/5/2013', 'Mumbai Indians', 'Chennai Super Kings', 'Mumbai Indians', 'bat', 'normal', '0', 'Mumbai Indians', '60', '0', 'MG Johnson', 'Wankhede Stadium', 'HDPK Dharmasena', 'CK Nandan', '']\n",
      "['372', '2013', 'Jaipur', '5/5/2013', 'Pune Warriors', 'Rajasthan Royals', 'Pune Warriors', 'bat', 'normal', '0', 'Rajasthan Royals', '0', '5', 'AM Rahane', 'Sawai Mansingh Stadium', 'C Shamshuddin', 'RJ Tucker', '']\n",
      "['373', '2013', 'Bangalore', '4/9/2013', 'Sunrisers Hyderabad', 'Royal Challengers Bangalore', 'Sunrisers Hyderabad', 'bat', 'normal', '0', 'Royal Challengers Bangalore', '0', '7', 'V Kohli', 'M Chinnaswamy Stadium', 'S Ravi', 'SJA Taufel', '']\n",
      "['374', '2013', 'Jaipur', '5/7/2013', 'Delhi Daredevils', 'Rajasthan Royals', 'Delhi Daredevils', 'bat', 'normal', '0', 'Rajasthan Royals', '0', '9', 'AM Rahane', 'Sawai Mansingh Stadium', 'Aleem Dar', 'RJ Tucker', '']\n",
      "['375', '2013', 'Mumbai', '5/7/2013', 'Mumbai Indians', 'Kolkata Knight Riders', 'Mumbai Indians', 'bat', 'normal', '0', 'Mumbai Indians', '65', '0', 'SR Tendulkar', 'Wankhede Stadium', 'HDPK Dharmasena', 'S Ravi', '']\n",
      "['376', '2013', 'Hyderabad', '5/8/2013', 'Chennai Super Kings', 'Sunrisers Hyderabad', 'Sunrisers Hyderabad', 'field', 'normal', '0', 'Chennai Super Kings', '77', '0', 'SK Raina', 'Rajiv Gandhi International Stadium, Uppal', 'S Das', 'NJ Llong', '']\n",
      "['377', '2013', 'Chandigarh', '5/9/2013', 'Kings XI Punjab', 'Rajasthan Royals', 'Rajasthan Royals', 'field', 'normal', '0', 'Rajasthan Royals', '0', '8', 'KK Cooper', 'Punjab Cricket Association Stadium, Mohali', 'HDPK Dharmasena', 'S Ravi', '']\n",
      "['378', '2013', 'Pune', '5/9/2013', 'Kolkata Knight Riders', 'Pune Warriors', 'Kolkata Knight Riders', 'bat', 'normal', '0', 'Kolkata Knight Riders', '46', '0', 'G Gambhir', 'Subrata Roy Sahara Stadium', 'Asad Rauf', 'S Asnani', '']\n",
      "['379', '2013', 'Delhi', '5/10/2013', 'Royal Challengers Bangalore', 'Delhi Daredevils', 'Delhi Daredevils', 'field', 'normal', '0', 'Royal Challengers Bangalore', '4', '0', 'JD Unadkat', 'Feroz Shah Kotla', 'NJ Llong', 'K Srinath', '']\n",
      "['380', '2013', 'Pune', '5/11/2013', 'Pune Warriors', 'Mumbai Indians', 'Pune Warriors', 'bat', 'normal', '0', 'Mumbai Indians', '0', '5', 'MG Johnson', 'Subrata Roy Sahara Stadium', 'Asad Rauf', 'AK Chaudhary', '']\n",
      "['381', '2013', 'Chandigarh', '5/11/2013', 'Sunrisers Hyderabad', 'Kings XI Punjab', 'Kings XI Punjab', 'field', 'normal', '0', 'Sunrisers Hyderabad', '30', '0', 'PA Patel', 'Punjab Cricket Association Stadium, Mohali', 'S Das', 'RJ Tucker', '']\n",
      "['382', '2013', 'Ranchi', '5/12/2013', 'Royal Challengers Bangalore', 'Kolkata Knight Riders', 'Kolkata Knight Riders', 'field', 'normal', '0', 'Kolkata Knight Riders', '0', '5', 'JH Kallis', 'JSCA International Stadium Complex', 'NJ Llong', 'K Srinath', '']\n",
      "['383', '2013', 'Jaipur', '5/12/2013', 'Chennai Super Kings', 'Rajasthan Royals', 'Rajasthan Royals', 'field', 'normal', '0', 'Rajasthan Royals', '0', '5', 'SR Watson', 'Sawai Mansingh Stadium', 'HDPK Dharmasena', 'CK Nandan', '']\n",
      "['384', '2013', 'Delhi', '4/23/2013', 'Delhi Daredevils', 'Kings XI Punjab', 'Kings XI Punjab', 'field', 'normal', '0', 'Kings XI Punjab', '0', '5', 'Harmeet Singh', 'Feroz Shah Kotla', 'VA Kulkarni', 'K Srinath', '']\n",
      "['385', '2013', 'Mumbai', '5/13/2013', 'Sunrisers Hyderabad', 'Mumbai Indians', 'Sunrisers Hyderabad', 'bat', 'normal', '0', 'Mumbai Indians', '0', '7', 'KA Pollard', 'Wankhede Stadium', 'AK Chaudhary', 'SJA Taufel', '']\n",
      "['386', '2013', 'Ranchi', '5/15/2013', 'Pune Warriors', 'Kolkata Knight Riders', 'Kolkata Knight Riders', 'field', 'normal', '0', 'Pune Warriors', '7', '0', 'MK Pandey', 'JSCA International Stadium Complex', 'NJ Llong', 'K Srinath', '']\n",
      "['387', '2013', 'Chennai', '5/14/2013', 'Chennai Super Kings', 'Delhi Daredevils', 'Chennai Super Kings', 'bat', 'normal', '0', 'Chennai Super Kings', '33', '0', 'MS Dhoni', 'MA Chidambaram Stadium, Chepauk', 'C Shamshuddin', 'RJ Tucker', '']\n",
      "['388', '2013', 'Mumbai', '5/15/2013', 'Mumbai Indians', 'Rajasthan Royals', 'Rajasthan Royals', 'field', 'normal', '0', 'Mumbai Indians', '14', '0', 'AP Tare', 'Wankhede Stadium', 'Asad Rauf', 'S Asnani', '']\n",
      "['389', '2013', 'Chandigarh', '5/6/2013', 'Royal Challengers Bangalore', 'Kings XI Punjab', 'Kings XI Punjab', 'field', 'normal', '0', 'Kings XI Punjab', '0', '6', 'DA Miller', 'Punjab Cricket Association Stadium, Mohali', 'VA Kulkarni', 'NJ Llong', '']\n",
      "['390', '2013', 'Hyderabad', '5/17/2013', 'Sunrisers Hyderabad', 'Rajasthan Royals', 'Sunrisers Hyderabad', 'bat', 'normal', '0', 'Sunrisers Hyderabad', '23', '0', 'A Mishra', 'Rajiv Gandhi International Stadium, Uppal', 'Asad Rauf', 'AK Chaudhary', '']\n",
      "['391', '2013', 'Dharamsala', '5/18/2013', 'Kings XI Punjab', 'Mumbai Indians', 'Mumbai Indians', 'field', 'normal', '0', 'Kings XI Punjab', '50', '0', 'Azhar Mahmood', 'Himachal Pradesh Cricket Association Stadium', 'HDPK Dharmasena', 'CK Nandan', '']\n",
      "['392', '2013', 'Pune', '5/19/2013', 'Pune Warriors', 'Delhi Daredevils', 'Pune Warriors', 'bat', 'normal', '0', 'Pune Warriors', '38', '0', 'LJ Wright', 'Subrata Roy Sahara Stadium', 'NJ Llong', 'SJA Taufel', '']\n",
      "['393', '2013', 'Bangalore', '5/18/2013', 'Royal Challengers Bangalore', 'Chennai Super Kings', 'Chennai Super Kings', 'field', 'normal', '0', 'Royal Challengers Bangalore', '24', '0', 'V Kohli', 'M Chinnaswamy Stadium', 'C Shamshuddin', 'RJ Tucker', '']\n",
      "['394', '2013', 'Hyderabad', '5/19/2013', 'Kolkata Knight Riders', 'Sunrisers Hyderabad', 'Kolkata Knight Riders', 'bat', 'normal', '0', 'Sunrisers Hyderabad', '0', '5', 'PA Patel', 'Rajiv Gandhi International Stadium, Uppal', 'Asad Rauf', 'S Asnani', '']\n",
      "['395', '2013', 'Delhi', '5/21/2013', 'Chennai Super Kings', 'Mumbai Indians', 'Chennai Super Kings', 'bat', 'normal', '0', 'Chennai Super Kings', '48', '0', 'MEK Hussey', 'Feroz Shah Kotla', 'NJ Llong', 'RJ Tucker', '']\n",
      "['396', '2013', 'Delhi', '5/22/2013', 'Sunrisers Hyderabad', 'Rajasthan Royals', 'Sunrisers Hyderabad', 'bat', 'normal', '0', 'Rajasthan Royals', '0', '4', 'BJ Hodge', 'Feroz Shah Kotla', 'S Ravi', 'RJ Tucker', '']\n",
      "['397', '2013', 'Kolkata', '5/24/2013', 'Rajasthan Royals', 'Mumbai Indians', 'Rajasthan Royals', 'bat', 'normal', '0', 'Mumbai Indians', '0', '4', 'Harbhajan Singh', 'Eden Gardens', 'C Shamshuddin', 'SJA Taufel', '']\n",
      "['398', '2013', 'Kolkata', '5/26/2013', 'Mumbai Indians', 'Chennai Super Kings', 'Mumbai Indians', 'bat', 'normal', '0', 'Mumbai Indians', '23', '0', 'KA Pollard', 'Eden Gardens', 'HDPK Dharmasena', 'SJA Taufel', '']\n",
      "['399', '2014', 'Abu Dhabi', '4/16/2014', 'Kolkata Knight Riders', 'Mumbai Indians', 'Kolkata Knight Riders', 'bat', 'normal', '0', 'Kolkata Knight Riders', '41', '0', 'JH Kallis', 'Sheikh Zayed Stadium', 'M Erasmus', 'RK Illingworth', '']\n",
      "['400', '2014', 'Sharjah', '4/17/2014', 'Delhi Daredevils', 'Royal Challengers Bangalore', 'Royal Challengers Bangalore', 'field', 'normal', '0', 'Royal Challengers Bangalore', '0', '8', 'YS Chahal', 'Sharjah Cricket Stadium', 'Aleem Dar', 'S Ravi', '']\n",
      "['401', '2014', 'Abu Dhabi', '4/18/2014', 'Chennai Super Kings', 'Kings XI Punjab', 'Chennai Super Kings', 'bat', 'normal', '0', 'Kings XI Punjab', '0', '6', 'GJ Maxwell', 'Sheikh Zayed Stadium', 'RK Illingworth', 'C Shamshuddin', '']\n",
      "['402', '2014', 'Abu Dhabi', '4/18/2014', 'Sunrisers Hyderabad', 'Rajasthan Royals', 'Rajasthan Royals', 'field', 'normal', '0', 'Rajasthan Royals', '0', '4', 'AM Rahane', 'Sheikh Zayed Stadium', 'BF Bowden', 'RK Illingworth', '']\n",
      "['403', '2014', 'Mumbai', '4/19/2014', 'Mumbai Indians', 'Royal Challengers Bangalore', 'Royal Challengers Bangalore', 'field', 'normal', '0', 'Royal Challengers Bangalore', '0', '7', 'PA Patel', 'Dubai International Cricket Stadium', 'Aleem Dar', 'AK Chaudhary', '']\n",
      "['404', '2014', 'Kolkata', '4/19/2014', 'Kolkata Knight Riders', 'Delhi Daredevils', 'Kolkata Knight Riders', 'bat', 'normal', '0', 'Delhi Daredevils', '0', '4', 'JP Duminy', 'Dubai International Cricket Stadium', 'Aleem Dar', 'VA Kulkarni', '']\n",
      "['405', '2014', 'Sharjah', '4/20/2014', 'Rajasthan Royals', 'Kings XI Punjab', 'Kings XI Punjab', 'field', 'normal', '0', 'Kings XI Punjab', '0', '7', 'GJ Maxwell', 'Sharjah Cricket Stadium', 'BF Bowden', 'M Erasmus', '']\n",
      "['406', '2014', 'Abu Dhabi', '4/21/2014', 'Chennai Super Kings', 'Delhi Daredevils', 'Chennai Super Kings', 'bat', 'normal', '0', 'Chennai Super Kings', '93', '0', 'SK Raina', 'Sheikh Zayed Stadium', 'RK Illingworth', 'C Shamshuddin', '']\n",
      "['407', '2014', 'Sharjah', '4/22/2014', 'Kings XI Punjab', 'Sunrisers Hyderabad', 'Sunrisers Hyderabad', 'field', 'normal', '0', 'Kings XI Punjab', '72', '0', 'GJ Maxwell', 'Sharjah Cricket Stadium', 'M Erasmus', 'S Ravi', '']\n",
      "['408', '2014', 'Chennai', '4/23/2014', 'Chennai Super Kings', 'Rajasthan Royals', 'Rajasthan Royals', 'field', 'normal', '0', 'Chennai Super Kings', '7', '0', 'RA Jadeja', 'Dubai International Cricket Stadium', 'HDPK Dharmasena', 'RK Illingworth', '']\n",
      "['409', '2014', 'Sharjah', '4/24/2014', 'Kolkata Knight Riders', 'Royal Challengers Bangalore', 'Royal Challengers Bangalore', 'field', 'normal', '0', 'Kolkata Knight Riders', '2', '0', 'CA Lynn', 'Sharjah Cricket Stadium', 'Aleem Dar', 'VA Kulkarni', '']\n",
      "['410', '2014', 'Delhi', '4/25/2014', 'Sunrisers Hyderabad', 'Delhi Daredevils', 'Sunrisers Hyderabad', 'bat', 'normal', '0', 'Sunrisers Hyderabad', '4', '0', 'AJ Finch', 'Dubai International Cricket Stadium', 'M Erasmus', 'S Ravi', '']\n",
      "['411', '2014', 'Mumbai', '4/25/2014', 'Mumbai Indians', 'Chennai Super Kings', 'Mumbai Indians', 'bat', 'normal', '0', 'Chennai Super Kings', '0', '7', 'MM Sharma', 'Dubai International Cricket Stadium', 'BF Bowden', 'M Erasmus', '']\n",
      "['412', '2014', 'Abu Dhabi', '4/26/2014', 'Royal Challengers Bangalore', 'Rajasthan Royals', 'Rajasthan Royals', 'field', 'normal', '0', 'Rajasthan Royals', '0', '6', 'PV Tambe', 'Sheikh Zayed Stadium', 'HDPK Dharmasena', 'C Shamshuddin', '']\n",
      "['413', '2014', 'Abu Dhabi', '4/26/2014', 'Kings XI Punjab', 'Kolkata Knight Riders', 'Kolkata Knight Riders', 'field', 'normal', '0', 'Kings XI Punjab', '23', '0', 'Sandeep Sharma', 'Sheikh Zayed Stadium', 'HDPK Dharmasena', 'RK Illingworth', '']\n",
      "['414', '2014', 'Sharjah', '4/27/2014', 'Mumbai Indians', 'Delhi Daredevils', 'Mumbai Indians', 'bat', 'normal', '0', 'Delhi Daredevils', '0', '6', 'M Vijay', 'Sharjah Cricket Stadium', 'Aleem Dar', 'VA Kulkarni', '']\n",
      "['415', '2014', 'Sharjah', '4/27/2014', 'Sunrisers Hyderabad', 'Chennai Super Kings', 'Sunrisers Hyderabad', 'bat', 'normal', '0', 'Chennai Super Kings', '0', '5', 'DR Smith', 'Sharjah Cricket Stadium', 'AK Chaudhary', 'VA Kulkarni', '']\n",
      "['416', '2014', 'Bangalore', '4/28/2014', 'Royal Challengers Bangalore', 'Kings XI Punjab', 'Kings XI Punjab', 'field', 'normal', '0', 'Kings XI Punjab', '0', '5', 'Sandeep Sharma', 'Dubai International Cricket Stadium', 'BF Bowden', 'S Ravi', '']\n",
      "['417', '2014', 'Abu Dhabi', '4/29/2014', 'Rajasthan Royals', 'Kolkata Knight Riders', 'Rajasthan Royals', 'bat', 'tie', '0', 'Rajasthan Royals', '0', '0', 'JP Faulkner', 'Sheikh Zayed Stadium', 'Aleem Dar', 'AK Chaudhary', '']\n",
      "['418', '2014', 'Mumbai', '4/30/2014', 'Sunrisers Hyderabad', 'Mumbai Indians', 'Mumbai Indians', 'field', 'normal', '0', 'Sunrisers Hyderabad', '15', '0', 'B Kumar', 'Dubai International Cricket Stadium', 'HDPK Dharmasena', 'M Erasmus', '']\n",
      "['419', '2014', 'Ranchi', '5/2/2014', 'Chennai Super Kings', 'Kolkata Knight Riders', 'Chennai Super Kings', 'bat', 'normal', '0', 'Chennai Super Kings', '34', '0', 'RA Jadeja', 'JSCA International Stadium Complex', 'AK Chaudhary', 'NJ Llong', '']\n",
      "['420', '2014', 'Mumbai', '5/3/2014', 'Kings XI Punjab', 'Mumbai Indians', 'Kings XI Punjab', 'bat', 'normal', '0', 'Mumbai Indians', '0', '5', 'CJ Anderson', 'Wankhede Stadium', 'BNJ Oxenford', 'C Shamshuddin', '']\n",
      "['421', '2014', 'Delhi', '5/3/2014', 'Delhi Daredevils', 'Rajasthan Royals', 'Rajasthan Royals', 'field', 'normal', '0', 'Rajasthan Royals', '0', '7', 'KK Nair', 'Feroz Shah Kotla', 'SS Hazare', 'S Ravi', '']\n",
      "['422', '2014', 'Bangalore', '5/4/2014', 'Sunrisers Hyderabad', 'Royal Challengers Bangalore', 'Royal Challengers Bangalore', 'field', 'normal', '0', 'Royal Challengers Bangalore', '0', '4', 'AB de Villiers', 'M Chinnaswamy Stadium', 'HDPK Dharmasena', 'VA Kulkarni', '']\n",
      "['423', '2014', 'Ahmedabad', '5/5/2014', 'Rajasthan Royals', 'Kolkata Knight Riders', 'Kolkata Knight Riders', 'field', 'normal', '0', 'Rajasthan Royals', '10', '0', 'PV Tambe', 'Sardar Patel Stadium, Motera', 'NJ Llong', 'CK Nandan', '']\n",
      "['424', '2014', 'Delhi', '5/5/2014', 'Delhi Daredevils', 'Chennai Super Kings', 'Chennai Super Kings', 'field', 'normal', '0', 'Chennai Super Kings', '0', '8', 'DR Smith', 'Feroz Shah Kotla', 'RM Deshpande', 'BNJ Oxenford', '']\n",
      "['425', '2014', 'Mumbai', '5/6/2014', 'Mumbai Indians', 'Royal Challengers Bangalore', 'Royal Challengers Bangalore', 'field', 'normal', '0', 'Mumbai Indians', '19', '0', 'RG Sharma', 'Wankhede Stadium', 'S Ravi', 'K Srinath', '']\n",
      "['426', '2014', 'Delhi', '5/7/2014', 'Delhi Daredevils', 'Kolkata Knight Riders', 'Delhi Daredevils', 'bat', 'normal', '0', 'Kolkata Knight Riders', '0', '8', 'G Gambhir', 'Feroz Shah Kotla', 'BNJ Oxenford', 'C Shamshuddin', '']\n",
      "['427', '2014', 'Cuttack', '5/7/2014', 'Kings XI Punjab', 'Chennai Super Kings', 'Chennai Super Kings', 'field', 'normal', '0', 'Kings XI Punjab', '44', '0', 'GJ Maxwell', 'Barabati Stadium', 'HDPK Dharmasena', 'PG Pathak', '']\n",
      "['428', '2014', 'Ahmedabad', '5/8/2014', 'Sunrisers Hyderabad', 'Rajasthan Royals', 'Rajasthan Royals', 'field', 'normal', '0', 'Sunrisers Hyderabad', '32', '0', 'B Kumar', 'Sardar Patel Stadium, Motera', 'AK Chaudhary', 'NJ Llong', '']\n",
      "['429', '2014', 'Bangalore', '5/9/2014', 'Kings XI Punjab', 'Royal Challengers Bangalore', 'Royal Challengers Bangalore', 'field', 'normal', '0', 'Kings XI Punjab', '32', '0', 'Sandeep Sharma', 'M Chinnaswamy Stadium', 'S Ravi', 'K Srinath', '']\n",
      "['430', '2014', 'Delhi', '5/10/2014', 'Delhi Daredevils', 'Sunrisers Hyderabad', 'Sunrisers Hyderabad', 'field', 'normal', '1', 'Sunrisers Hyderabad', '0', '8', 'DW Steyn', 'Feroz Shah Kotla', 'RM Deshpande', 'BNJ Oxenford', '']\n",
      "['431', '2014', 'Mumbai', '5/10/2014', 'Mumbai Indians', 'Chennai Super Kings', 'Chennai Super Kings', 'field', 'normal', '0', 'Chennai Super Kings', '0', '4', 'DR Smith', 'Wankhede Stadium', 'HDPK Dharmasena', 'VA Kulkarni', '']\n",
      "['432', '2014', 'Cuttack', '5/11/2014', 'Kings XI Punjab', 'Kolkata Knight Riders', 'Kolkata Knight Riders', 'field', 'normal', '0', 'Kolkata Knight Riders', '0', '9', 'G Gambhir', 'Barabati Stadium', 'NJ Llong', 'CK Nandan', '']\n",
      "['433', '2014', 'Bangalore', '5/11/2014', 'Royal Challengers Bangalore', 'Rajasthan Royals', 'Royal Challengers Bangalore', 'bat', 'normal', '0', 'Rajasthan Royals', '0', '5', 'JP Faulkner', 'M Chinnaswamy Stadium', 'S Ravi', 'RJ Tucker', '']\n",
      "['434', '2014', 'Hyderabad', '5/12/2014', 'Sunrisers Hyderabad', 'Mumbai Indians', 'Sunrisers Hyderabad', 'bat', 'normal', '0', 'Mumbai Indians', '0', '7', 'AT Rayudu', 'Rajiv Gandhi International Stadium, Uppal', 'HDPK Dharmasena', 'VA Kulkarni', '']\n",
      "['435', '2014', 'Ranchi', '5/13/2014', 'Rajasthan Royals', 'Chennai Super Kings', 'Rajasthan Royals', 'bat', 'normal', '0', 'Chennai Super Kings', '0', '5', 'RA Jadeja', 'JSCA International Stadium Complex', 'BNJ Oxenford', 'C Shamshuddin', '']\n",
      "['436', '2014', 'Bangalore', '5/13/2014', 'Royal Challengers Bangalore', 'Delhi Daredevils', 'Delhi Daredevils', 'field', 'normal', '0', 'Royal Challengers Bangalore', '16', '0', 'Yuvraj Singh', 'M Chinnaswamy Stadium', 'K Srinath', 'RJ Tucker', '']\n",
      "['437', '2014', 'Hyderabad', '5/14/2014', 'Sunrisers Hyderabad', 'Kings XI Punjab', 'Kings XI Punjab', 'field', 'normal', '0', 'Kings XI Punjab', '0', '6', 'WP Saha', 'Rajiv Gandhi International Stadium, Uppal', 'VA Kulkarni', 'PG Pathak', '']\n",
      "['438', '2014', 'Cuttack', '5/14/2014', 'Mumbai Indians', 'Kolkata Knight Riders', 'Kolkata Knight Riders', 'field', 'normal', '0', 'Kolkata Knight Riders', '0', '6', 'RV Uthappa', 'Barabati Stadium', 'AK Chaudhary', 'NJ Llong', '']\n",
      "['439', '2014', 'Ahmedabad', '5/15/2014', 'Rajasthan Royals', 'Delhi Daredevils', 'Delhi Daredevils', 'field', 'normal', '0', 'Rajasthan Royals', '62', '0', 'AM Rahane', 'Sardar Patel Stadium, Motera', 'S Ravi', 'RJ Tucker', '']\n",
      "['440', '2014', 'Ranchi', '5/18/2014', 'Chennai Super Kings', 'Royal Challengers Bangalore', 'Chennai Super Kings', 'bat', 'normal', '0', 'Royal Challengers Bangalore', '0', '5', 'AB de Villiers', 'JSCA International Stadium Complex', 'BNJ Oxenford', 'C Shamshuddin', '']\n",
      "['441', '2014', 'Hyderabad', '5/18/2014', 'Sunrisers Hyderabad', 'Kolkata Knight Riders', 'Sunrisers Hyderabad', 'bat', 'normal', '0', 'Kolkata Knight Riders', '0', '7', 'UT Yadav', 'Rajiv Gandhi International Stadium, Uppal', 'NJ Llong', 'CK Nandan', '']\n",
      "['442', '2014', 'Ahmedabad', '5/19/2014', 'Mumbai Indians', 'Rajasthan Royals', 'Mumbai Indians', 'bat', 'normal', '0', 'Mumbai Indians', '25', '0', 'MEK Hussey', 'Sardar Patel Stadium, Motera', 'S Ravi', 'RJ Tucker', '']\n",
      "['443', '2014', 'Delhi', '5/19/2014', 'Delhi Daredevils', 'Kings XI Punjab', 'Kings XI Punjab', 'field', 'normal', '0', 'Kings XI Punjab', '0', '4', 'AR Patel', 'Feroz Shah Kotla', 'HDPK Dharmasena', 'PG Pathak', '']\n",
      "['444', '2014', 'Hyderabad', '5/20/2014', 'Royal Challengers Bangalore', 'Sunrisers Hyderabad', 'Royal Challengers Bangalore', 'bat', 'normal', '0', 'Sunrisers Hyderabad', '0', '7', 'DA Warner', 'Rajiv Gandhi International Stadium, Uppal', 'AK Chaudhary', 'NJ Llong', '']\n",
      "['445', '2014', 'Kolkata', '5/20/2014', 'Chennai Super Kings', 'Kolkata Knight Riders', 'Kolkata Knight Riders', 'field', 'normal', '0', 'Kolkata Knight Riders', '0', '8', 'RV Uthappa', 'Eden Gardens', 'RM Deshpande', 'C Shamshuddin', '']\n",
      "['446', '2014', 'Chandigarh', '5/21/2014', 'Kings XI Punjab', 'Mumbai Indians', 'Mumbai Indians', 'field', 'normal', '0', 'Mumbai Indians', '0', '7', 'LMP Simmons', 'Punjab Cricket Association Stadium, Mohali', 'HDPK Dharmasena', 'VA Kulkarni', '']\n",
      "['447', '2014', 'Kolkata', '5/22/2014', 'Kolkata Knight Riders', 'Royal Challengers Bangalore', 'Royal Challengers Bangalore', 'field', 'normal', '0', 'Kolkata Knight Riders', '30', '0', 'RV Uthappa', 'Eden Gardens', 'AK Chaudhary', 'CK Nandan', '']\n",
      "['448', '2014', 'Ranchi', '5/22/2014', 'Chennai Super Kings', 'Sunrisers Hyderabad', 'Sunrisers Hyderabad', 'field', 'normal', '0', 'Sunrisers Hyderabad', '0', '6', 'DA Warner', 'JSCA International Stadium Complex', 'BNJ Oxenford', 'C Shamshuddin', '']\n",
      "['449', '2014', 'Mumbai', '5/23/2014', 'Mumbai Indians', 'Delhi Daredevils', 'Delhi Daredevils', 'field', 'normal', '0', 'Mumbai Indians', '15', '0', 'MEK Hussey', 'Wankhede Stadium', 'S Ravi', 'RJ Tucker', '']\n",
      "['450', '2014', 'Chandigarh', '5/23/2014', 'Kings XI Punjab', 'Rajasthan Royals', 'Rajasthan Royals', 'field', 'normal', '0', 'Kings XI Punjab', '16', '0', 'SE Marsh', 'Punjab Cricket Association Stadium, Mohali', 'HDPK Dharmasena', 'PG Pathak', '']\n",
      "['451', '2014', 'Bangalore', '5/24/2014', 'Royal Challengers Bangalore', 'Chennai Super Kings', 'Chennai Super Kings', 'field', 'normal', '0', 'Chennai Super Kings', '0', '8', 'MS Dhoni', 'M Chinnaswamy Stadium', 'AK Chaudhary', 'NJ Llong', '']\n",
      "['452', '2014', 'Kolkata', '5/24/2014', 'Sunrisers Hyderabad', 'Kolkata Knight Riders', 'Kolkata Knight Riders', 'field', 'normal', '0', 'Kolkata Knight Riders', '0', '4', 'YK Pathan', 'Eden Gardens', 'RM Deshpande', 'BNJ Oxenford', '']\n",
      "['453', '2014', 'Chandigarh', '5/25/2014', 'Delhi Daredevils', 'Kings XI Punjab', 'Kings XI Punjab', 'field', 'normal', '0', 'Kings XI Punjab', '0', '7', 'M Vohra', 'Punjab Cricket Association Stadium, Mohali', 'HDPK Dharmasena', 'VA Kulkarni', '']\n",
      "['454', '2014', 'Mumbai', '5/25/2014', 'Rajasthan Royals', 'Mumbai Indians', 'Mumbai Indians', 'field', 'normal', '0', 'Mumbai Indians', '0', '5', 'CJ Anderson', 'Wankhede Stadium', 'K Srinath', 'RJ Tucker', '']\n",
      "['455', '2014', 'Kolkata', '5/27/2014', 'Kolkata Knight Riders', 'Kings XI Punjab', 'Kings XI Punjab', 'field', 'normal', '0', 'Kolkata Knight Riders', '28', '0', 'UT Yadav', 'Eden Gardens', 'NJ Llong', 'S Ravi', '']\n",
      "['456', '2014', 'Mumbai', '5/28/2014', 'Mumbai Indians', 'Chennai Super Kings', 'Chennai Super Kings', 'field', 'normal', '0', 'Chennai Super Kings', '0', '7', 'SK Raina', 'Brabourne Stadium', 'VA Kulkarni', 'BNJ Oxenford', '']\n",
      "['457', '2014', 'Mumbai', '5/30/2014', 'Kings XI Punjab', 'Chennai Super Kings', 'Chennai Super Kings', 'field', 'normal', '0', 'Kings XI Punjab', '24', '0', 'V Sehwag', 'Wankhede Stadium', 'HDPK Dharmasena', 'RJ Tucker', '']\n",
      "['458', '2014', 'Bangalore', '6/1/2014', 'Kings XI Punjab', 'Kolkata Knight Riders', 'Kolkata Knight Riders', 'field', 'normal', '0', 'Kolkata Knight Riders', '0', '3', 'MK Pandey', 'M Chinnaswamy Stadium', 'HDPK Dharmasena', 'BNJ Oxenford', '']\n",
      "['459', '2015', 'Kolkata', '4/8/2015', 'Mumbai Indians', 'Kolkata Knight Riders', 'Kolkata Knight Riders', 'field', 'normal', '0', 'Kolkata Knight Riders', '0', '7', 'M Morkel', 'Eden Gardens', 'S Ravi', 'C Shamshuddin', '']\n",
      "['460', '2015', 'Chennai', '4/9/2015', 'Chennai Super Kings', 'Delhi Daredevils', 'Delhi Daredevils', 'field', 'normal', '0', 'Chennai Super Kings', '1', '0', 'A Nehra', 'MA Chidambaram Stadium, Chepauk', 'RK Illingworth', 'VA Kulkarni', '']\n",
      "['461', '2015', 'Pune', '4/10/2015', 'Rajasthan Royals', 'Kings XI Punjab', 'Kings XI Punjab', 'field', 'normal', '0', 'Rajasthan Royals', '26', '0', 'JP Faulkner', 'Maharashtra Cricket Association Stadium', 'SD Fry', 'CB Gaffaney', '']\n",
      "['462', '2015', 'Chennai', '4/11/2015', 'Chennai Super Kings', 'Sunrisers Hyderabad', 'Chennai Super Kings', 'bat', 'normal', '0', 'Chennai Super Kings', '45', '0', 'BB McCullum', 'MA Chidambaram Stadium, Chepauk', 'RK Illingworth', 'VA Kulkarni', '']\n",
      "['463', '2015', 'Kolkata', '4/11/2015', 'Kolkata Knight Riders', 'Royal Challengers Bangalore', 'Royal Challengers Bangalore', 'field', 'normal', '0', 'Royal Challengers Bangalore', '0', '3', 'CH Gayle', 'Eden Gardens', 'S Ravi', 'C Shamshuddin', '']\n",
      "['464', '2015', 'Delhi', '4/12/2015', 'Delhi Daredevils', 'Rajasthan Royals', 'Rajasthan Royals', 'field', 'normal', '0', 'Rajasthan Royals', '0', '3', 'DJ Hooda', 'Feroz Shah Kotla', 'SD Fry', 'CB Gaffaney', '']\n",
      "['465', '2015', 'Mumbai', '4/12/2015', 'Kings XI Punjab', 'Mumbai Indians', 'Mumbai Indians', 'field', 'normal', '0', 'Kings XI Punjab', '18', '0', 'GJ Bailey', 'Wankhede Stadium', 'AK Chaudhary', 'K Srinivasan', '']\n",
      "['466', '2015', 'Bangalore', '4/13/2015', 'Royal Challengers Bangalore', 'Sunrisers Hyderabad', 'Sunrisers Hyderabad', 'field', 'normal', '0', 'Sunrisers Hyderabad', '0', '8', 'DA Warner', 'M Chinnaswamy Stadium', 'RM Deshpande', 'RK Illingworth', '']\n",
      "['467', '2015', 'Ahmedabad', '4/14/2015', 'Mumbai Indians', 'Rajasthan Royals', 'Mumbai Indians', 'bat', 'normal', '0', 'Rajasthan Royals', '0', '7', 'SPD Smith', 'Sardar Patel Stadium, Motera', 'AK Chaudhary', 'SD Fry', '']\n",
      "['468', '2015', 'Kolkata', '4/30/2015', 'Chennai Super Kings', 'Kolkata Knight Riders', 'Kolkata Knight Riders', 'field', 'normal', '0', 'Kolkata Knight Riders', '0', '7', 'AD Russell', 'Eden Gardens', 'AK Chaudhary', 'M Erasmus', '']\n",
      "['469', '2015', 'Pune', '4/15/2015', 'Kings XI Punjab', 'Delhi Daredevils', 'Kings XI Punjab', 'bat', 'normal', '0', 'Delhi Daredevils', '0', '5', 'MA Agarwal', 'Maharashtra Cricket Association Stadium', 'CB Gaffaney', 'K Srinath', '']\n",
      "['470', '2015', 'Visakhapatnam', '4/16/2015', 'Sunrisers Hyderabad', 'Rajasthan Royals', 'Rajasthan Royals', 'field', 'normal', '0', 'Rajasthan Royals', '0', '6', 'AM Rahane', 'Dr. Y.S. Rajasekhara Reddy ACA-VDCA Cricket Stadium', 'PG Pathak', 'S Ravi', '']\n",
      "['471', '2015', 'Mumbai', '4/17/2015', 'Mumbai Indians', 'Chennai Super Kings', 'Mumbai Indians', 'bat', 'normal', '0', 'Chennai Super Kings', '0', '6', 'A Nehra', 'Wankhede Stadium', 'AK Chaudhary', 'M Erasmus', '']\n",
      "['472', '2015', 'Visakhapatnam', '4/18/2015', 'Delhi Daredevils', 'Sunrisers Hyderabad', 'Delhi Daredevils', 'bat', 'normal', '0', 'Delhi Daredevils', '4', '0', 'JP Duminy', 'Dr. Y.S. Rajasekhara Reddy ACA-VDCA Cricket Stadium', 'PG Pathak', 'S Ravi', '']\n",
      "['473', '2015', 'Pune', '4/18/2015', 'Kings XI Punjab', 'Kolkata Knight Riders', 'Kolkata Knight Riders', 'field', 'normal', '0', 'Kolkata Knight Riders', '0', '4', 'AD Russell', 'Maharashtra Cricket Association Stadium', 'SD Fry', 'CK Nandan', '']\n",
      "['474', '2015', 'Ahmedabad', '4/19/2015', 'Chennai Super Kings', 'Rajasthan Royals', 'Chennai Super Kings', 'bat', 'normal', '0', 'Rajasthan Royals', '0', '8', 'AM Rahane', 'Sardar Patel Stadium, Motera', 'AK Chaudhary', 'M Erasmus', '']\n",
      "['475', '2015', 'Bangalore', '4/19/2015', 'Mumbai Indians', 'Royal Challengers Bangalore', 'Royal Challengers Bangalore', 'field', 'normal', '0', 'Mumbai Indians', '18', '0', 'Harbhajan Singh', 'M Chinnaswamy Stadium', 'RK Illingworth', 'VA Kulkarni', '']\n",
      "['476', '2015', 'Delhi', '4/20/2015', 'Delhi Daredevils', 'Kolkata Knight Riders', 'Kolkata Knight Riders', 'field', 'normal', '0', 'Kolkata Knight Riders', '0', '6', 'UT Yadav', 'Feroz Shah Kotla', 'SD Fry', 'CB Gaffaney', '']\n",
      "['477', '2015', 'Ahmedabad', '4/21/2015', 'Rajasthan Royals', 'Kings XI Punjab', 'Kings XI Punjab', 'field', 'tie', '0', 'Kings XI Punjab', '0', '0', 'SE Marsh', 'Sardar Patel Stadium, Motera', 'M Erasmus', 'S Ravi', '']\n",
      "['478', '2015', 'Visakhapatnam', '4/22/2015', 'Sunrisers Hyderabad', 'Kolkata Knight Riders', 'Kolkata Knight Riders', 'field', 'normal', '1', 'Sunrisers Hyderabad', '16', '0', 'DA Warner', 'Dr. Y.S. Rajasekhara Reddy ACA-VDCA Cricket Stadium', 'RK Illingworth', 'VA Kulkarni', '']\n",
      "['479', '2015', 'Bangalore', '4/22/2015', 'Chennai Super Kings', 'Royal Challengers Bangalore', 'Royal Challengers Bangalore', 'field', 'normal', '0', 'Chennai Super Kings', '27', '0', 'SK Raina', 'M Chinnaswamy Stadium', 'JD Cloete', 'C Shamshuddin', '']\n",
      "['480', '2015', 'Delhi', '4/23/2015', 'Delhi Daredevils', 'Mumbai Indians', 'Mumbai Indians', 'field', 'normal', '0', 'Delhi Daredevils', '37', '0', 'SS Iyer', 'Feroz Shah Kotla', 'SD Fry', 'CK Nandan', '']\n",
      "['481', '2015', 'Ahmedabad', '4/24/2015', 'Rajasthan Royals', 'Royal Challengers Bangalore', 'Royal Challengers Bangalore', 'field', 'normal', '0', 'Royal Challengers Bangalore', '0', '9', 'MA Starc', 'Sardar Patel Stadium, Motera', 'M Erasmus', 'S Ravi', '']\n",
      "['482', '2015', 'Mumbai', '4/25/2015', 'Mumbai Indians', 'Sunrisers Hyderabad', 'Mumbai Indians', 'bat', 'normal', '0', 'Mumbai Indians', '20', '0', 'SL Malinga', 'Wankhede Stadium', 'HDPK Dharmasena', 'CB Gaffaney', '']\n",
      "['483', '2015', 'Chennai', '4/25/2015', 'Chennai Super Kings', 'Kings XI Punjab', 'Chennai Super Kings', 'bat', 'normal', '0', 'Chennai Super Kings', '97', '0', 'BB McCullum', 'MA Chidambaram Stadium, Chepauk', 'JD Cloete', 'C Shamshuddin', '']\n",
      "['484', '2015', 'Delhi', '4/26/2015', 'Delhi Daredevils', 'Royal Challengers Bangalore', 'Royal Challengers Bangalore', 'field', 'normal', '0', 'Royal Challengers Bangalore', '0', '10', 'VR Aaron', 'Feroz Shah Kotla', 'M Erasmus', 'S Ravi', '']\n",
      "['485', '2015', 'Chandigarh', '4/27/2015', 'Sunrisers Hyderabad', 'Kings XI Punjab', 'Kings XI Punjab', 'field', 'normal', '0', 'Sunrisers Hyderabad', '20', '0', 'TA Boult', 'Punjab Cricket Association Stadium, Mohali', 'HDPK Dharmasena', 'CB Gaffaney', '']\n",
      "['486', '2015', 'Kolkata', '5/7/2015', 'Kolkata Knight Riders', 'Delhi Daredevils', 'Kolkata Knight Riders', 'bat', 'normal', '0', 'Kolkata Knight Riders', '13', '0', 'PP Chawla', 'Eden Gardens', 'AK Chaudhary', 'M Erasmus', '']\n",
      "['487', '2015', 'Bangalore', '4/29/2015', 'Royal Challengers Bangalore', 'Rajasthan Royals', 'Rajasthan Royals', 'field', 'no result', '0', 'Royal Challengers Bangalore', '0', '0', 'A Chandila', 'M Chinnaswamy Stadium', 'JD Cloete', 'PG Pathak', '']\n",
      "['488', '2015', 'Chennai', '4/28/2015', 'Chennai Super Kings', 'Kolkata Knight Riders', 'Kolkata Knight Riders', 'field', 'normal', '0', 'Chennai Super Kings', '2', '0', 'DJ Bravo', 'MA Chidambaram Stadium, Chepauk', 'RM Deshpande', 'VA Kulkarni', '']\n",
      "['489', '2015', 'Delhi', '5/1/2015', 'Kings XI Punjab', 'Delhi Daredevils', 'Delhi Daredevils', 'field', 'normal', '0', 'Delhi Daredevils', '0', '9', 'NM Coulter-Nile', 'Feroz Shah Kotla', 'RK Illingworth', 'S Ravi', '']\n",
      "['490', '2015', 'Mumbai', '5/1/2015', 'Mumbai Indians', 'Rajasthan Royals', 'Rajasthan Royals', 'field', 'normal', '0', 'Mumbai Indians', '8', '0', 'AT Rayudu', 'Wankhede Stadium', 'HDPK Dharmasena', 'CK Nandan', '']\n",
      "['491', '2015', 'Bangalore', '5/2/2015', 'Kolkata Knight Riders', 'Royal Challengers Bangalore', 'Royal Challengers Bangalore', 'field', 'normal', '0', 'Royal Challengers Bangalore', '0', '7', 'Mandeep Singh', 'M Chinnaswamy Stadium', 'JD Cloete', 'PG Pathak', '']\n",
      "['492', '2015', 'Hyderabad', '5/2/2015', 'Sunrisers Hyderabad', 'Chennai Super Kings', 'Chennai Super Kings', 'field', 'normal', '0', 'Sunrisers Hyderabad', '22', '0', 'DA Warner', 'Rajiv Gandhi International Stadium, Uppal', 'AK Chaudhary', 'K Srinivasan', '']\n",
      "['493', '2015', 'Chandigarh', '5/3/2015', 'Mumbai Indians', 'Kings XI Punjab', 'Mumbai Indians', 'bat', 'normal', '0', 'Mumbai Indians', '23', '0', 'LMP Simmons', 'Punjab Cricket Association Stadium, Mohali', 'RK Illingworth', 'VA Kulkarni', '']\n",
      "['494', '2015', 'Mumbai', '5/3/2015', 'Rajasthan Royals', 'Delhi Daredevils', 'Delhi Daredevils', 'field', 'normal', '0', 'Rajasthan Royals', '14', '0', 'AM Rahane', 'Brabourne Stadium', 'HDPK Dharmasena', 'CB Gaffaney', '']\n",
      "['495', '2015', 'Chennai', '5/4/2015', 'Chennai Super Kings', 'Royal Challengers Bangalore', 'Chennai Super Kings', 'bat', 'normal', '0', 'Chennai Super Kings', '24', '0', 'SK Raina', 'MA Chidambaram Stadium, Chepauk', 'C Shamshuddin', 'K Srinath', '']\n",
      "['496', '2015', 'Kolkata', '5/4/2015', 'Kolkata Knight Riders', 'Sunrisers Hyderabad', 'Sunrisers Hyderabad', 'field', 'normal', '0', 'Kolkata Knight Riders', '35', '0', 'UT Yadav', 'Eden Gardens', 'AK Chaudhary', 'M Erasmus', '']\n",
      "['497', '2015', 'Mumbai', '5/5/2015', 'Delhi Daredevils', 'Mumbai Indians', 'Delhi Daredevils', 'bat', 'normal', '0', 'Mumbai Indians', '0', '5', 'Harbhajan Singh', 'Wankhede Stadium', 'HDPK Dharmasena', 'CB Gaffaney', '']\n",
      "['498', '2015', 'Bangalore', '5/6/2015', 'Royal Challengers Bangalore', 'Kings XI Punjab', 'Kings XI Punjab', 'field', 'normal', '0', 'Royal Challengers Bangalore', '138', '0', 'CH Gayle', 'M Chinnaswamy Stadium', 'RK Illingworth', 'VA Kulkarni', '']\n",
      "['499', '2015', 'Mumbai', '5/7/2015', 'Sunrisers Hyderabad', 'Rajasthan Royals', 'Rajasthan Royals', 'field', 'normal', '0', 'Sunrisers Hyderabad', '7', '0', 'EJG Morgan', 'Brabourne Stadium', 'JD Cloete', 'C Shamshuddin', '']\n",
      "['500', '2015', 'Chennai', '5/8/2015', 'Chennai Super Kings', 'Mumbai Indians', 'Chennai Super Kings', 'bat', 'normal', '0', 'Mumbai Indians', '0', '6', 'HH Pandya', 'MA Chidambaram Stadium, Chepauk', 'CB Gaffaney', 'CK Nandan', '']\n",
      "['501', '2015', 'Kolkata', '5/9/2015', 'Kings XI Punjab', 'Kolkata Knight Riders', 'Kings XI Punjab', 'bat', 'normal', '0', 'Kolkata Knight Riders', '0', '1', 'AD Russell', 'Eden Gardens', 'AK Chaudhary', 'HDPK Dharmasena', '']\n",
      "['502', '2015', 'Raipur', '5/9/2015', 'Sunrisers Hyderabad', 'Delhi Daredevils', 'Sunrisers Hyderabad', 'bat', 'normal', '0', 'Sunrisers Hyderabad', '6', '0', 'MC Henriques', 'Shaheed Veer Narayan Singh International Stadium', 'VA Kulkarni', 'S Ravi', '']\n",
      "['503', '2015', 'Mumbai', '5/10/2015', 'Royal Challengers Bangalore', 'Mumbai Indians', 'Royal Challengers Bangalore', 'bat', 'normal', '0', 'Royal Challengers Bangalore', '39', '0', 'AB de Villiers', 'Wankhede Stadium', 'JD Cloete', 'C Shamshuddin', '']\n",
      "['504', '2015', 'Chennai', '5/10/2015', 'Chennai Super Kings', 'Rajasthan Royals', 'Chennai Super Kings', 'bat', 'normal', '0', 'Chennai Super Kings', '12', '0', 'RA Jadeja', 'MA Chidambaram Stadium, Chepauk', 'M Erasmus', 'CK Nandan', '']\n",
      "['505', '2015', 'Hyderabad', '5/11/2015', 'Sunrisers Hyderabad', 'Kings XI Punjab', 'Sunrisers Hyderabad', 'bat', 'normal', '0', 'Sunrisers Hyderabad', '5', '0', 'DA Warner', 'Rajiv Gandhi International Stadium, Uppal', 'AK Chaudhary', 'HDPK Dharmasena', '']\n",
      "['506', '2015', 'Raipur', '5/12/2015', 'Chennai Super Kings', 'Delhi Daredevils', 'Chennai Super Kings', 'bat', 'normal', '0', 'Delhi Daredevils', '0', '6', 'Z Khan', 'Shaheed Veer Narayan Singh International Stadium', 'RK Illingworth', 'VA Kulkarni', '']\n",
      "['507', '2015', 'Chandigarh', '5/13/2015', 'Kings XI Punjab', 'Royal Challengers Bangalore', 'Royal Challengers Bangalore', 'field', 'normal', '0', 'Kings XI Punjab', '22', '0', 'AR Patel', 'Punjab Cricket Association Stadium, Mohali', 'JD Cloete', 'C Shamshuddin', '']\n",
      "['508', '2015', 'Mumbai', '5/14/2015', 'Mumbai Indians', 'Kolkata Knight Riders', 'Kolkata Knight Riders', 'field', 'normal', '0', 'Mumbai Indians', '5', '0', 'HH Pandya', 'Wankhede Stadium', 'RK Illingworth', 'VA Kulkarni', '']\n",
      "['509', '2015', 'Hyderabad', '5/15/2015', 'Sunrisers Hyderabad', 'Royal Challengers Bangalore', 'Sunrisers Hyderabad', 'bat', 'normal', '1', 'Royal Challengers Bangalore', '0', '6', 'V Kohli', 'Rajiv Gandhi International Stadium, Uppal', 'AK Chaudhary', 'HDPK Dharmasena', '']\n",
      "['510', '2015', 'Chandigarh', '5/16/2015', 'Kings XI Punjab', 'Chennai Super Kings', 'Kings XI Punjab', 'bat', 'normal', '0', 'Chennai Super Kings', '0', '7', 'P Negi', 'Punjab Cricket Association Stadium, Mohali', 'CK Nandan', 'C Shamshuddin', '']\n",
      "['511', '2015', 'Mumbai', '5/16/2015', 'Rajasthan Royals', 'Kolkata Knight Riders', 'Rajasthan Royals', 'bat', 'normal', '0', 'Rajasthan Royals', '9', '0', 'SR Watson', 'Brabourne Stadium', 'RM Deshpande', 'RK Illingworth', '']\n",
      "['512', '2015', 'Bangalore', '5/17/2015', 'Delhi Daredevils', 'Royal Challengers Bangalore', 'Royal Challengers Bangalore', 'field', 'no result', '0', 'Delhi Daredevils', '0', '0', 'A Chandila', 'M Chinnaswamy Stadium', 'HDPK Dharmasena', 'K Srinivasan', '']\n",
      "['513', '2015', 'Hyderabad', '5/17/2015', 'Sunrisers Hyderabad', 'Mumbai Indians', 'Sunrisers Hyderabad', 'bat', 'normal', '0', 'Mumbai Indians', '0', '9', 'MJ McClenaghan', 'Rajiv Gandhi International Stadium, Uppal', 'CB Gaffaney', 'K Srinath', '']\n",
      "['514', '2015', 'Mumbai', '5/19/2015', 'Mumbai Indians', 'Chennai Super Kings', 'Mumbai Indians', 'bat', 'normal', '0', 'Mumbai Indians', '25', '0', 'KA Pollard', 'Wankhede Stadium', 'HDPK Dharmasena', 'RK Illingworth', '']\n",
      "['515', '2015', 'Pune', '5/20/2015', 'Royal Challengers Bangalore', 'Rajasthan Royals', 'Royal Challengers Bangalore', 'bat', 'normal', '0', 'Royal Challengers Bangalore', '71', '0', 'AB de Villiers', 'Maharashtra Cricket Association Stadium', 'AK Chaudhary', 'C Shamshuddin', '']\n",
      "['516', '2015', 'Ranchi', '5/22/2015', 'Royal Challengers Bangalore', 'Chennai Super Kings', 'Chennai Super Kings', 'field', 'normal', '0', 'Chennai Super Kings', '0', '3', 'A Nehra', 'JSCA International Stadium Complex', 'AK Chaudhary', 'CB Gaffaney', '']\n",
      "['517', '2015', 'Kolkata', '5/24/2015', 'Mumbai Indians', 'Chennai Super Kings', 'Chennai Super Kings', 'field', 'normal', '0', 'Mumbai Indians', '41', '0', 'RG Sharma', 'Eden Gardens', 'HDPK Dharmasena', 'RK Illingworth', '']\n",
      "['518', '2016', 'Mumbai', '4/9/2016', 'Mumbai Indians', 'Rising Pune Supergiants', 'Mumbai Indians', 'bat', 'normal', '0', 'Rising Pune Supergiants', '0', '9', 'AM Rahane', 'Wankhede Stadium', 'HDPK Dharmasena', 'CK Nandan', '']\n",
      "['519', '2016', 'Kolkata', '4/10/2016', 'Delhi Daredevils', 'Kolkata Knight Riders', 'Kolkata Knight Riders', 'field', 'normal', '0', 'Kolkata Knight Riders', '0', '9', 'AD Russell', 'Eden Gardens', 'S Ravi', 'C Shamshuddin', '']\n",
      "['520', '2016', 'Chandigarh', '4/11/2016', 'Kings XI Punjab', 'Gujarat Lions', 'Gujarat Lions', 'field', 'normal', '0', 'Gujarat Lions', '0', '5', 'AJ Finch', 'Punjab Cricket Association IS Bindra Stadium, Mohali', 'AK Chaudhary', 'VA Kulkarni', '']\n",
      "['521', '2016', 'Bangalore', '4/12/2016', 'Royal Challengers Bangalore', 'Sunrisers Hyderabad', 'Sunrisers Hyderabad', 'field', 'normal', '0', 'Royal Challengers Bangalore', '45', '0', 'AB de Villiers', 'M Chinnaswamy Stadium', 'HDPK Dharmasena', 'VK Sharma', '']\n",
      "['522', '2016', 'Kolkata', '4/13/2016', 'Kolkata Knight Riders', 'Mumbai Indians', 'Mumbai Indians', 'field', 'normal', '0', 'Mumbai Indians', '0', '6', 'RG Sharma', 'Eden Gardens', 'Nitin Menon', 'S Ravi', '']\n",
      "['523', '2016', 'Rajkot', '4/14/2016', 'Rising Pune Supergiants', 'Gujarat Lions', 'Rising Pune Supergiants', 'bat', 'normal', '0', 'Gujarat Lions', '0', '7', 'AJ Finch', 'Saurashtra Cricket Association Stadium', 'VA Kulkarni', 'CK Nandan', '']\n",
      "['524', '2016', 'Delhi', '4/15/2016', 'Kings XI Punjab', 'Delhi Daredevils', 'Delhi Daredevils', 'field', 'normal', '0', 'Delhi Daredevils', '0', '8', 'A Mishra', 'Feroz Shah Kotla', 'S Ravi', 'C Shamshuddin', '']\n",
      "['525', '2016', 'Hyderabad', '4/16/2016', 'Sunrisers Hyderabad', 'Kolkata Knight Riders', 'Sunrisers Hyderabad', 'bat', 'normal', '0', 'Kolkata Knight Riders', '0', '8', 'G Gambhir', 'Rajiv Gandhi International Stadium, Uppal', 'AK Chaudhary', 'CK Nandan', '']\n",
      "['526', '2016', 'Mumbai', '4/16/2016', 'Mumbai Indians', 'Gujarat Lions', 'Gujarat Lions', 'field', 'normal', '0', 'Gujarat Lions', '0', '3', 'AJ Finch', 'Wankhede Stadium', 'HDPK Dharmasena', 'VK Sharma', '']\n",
      "['527', '2016', 'Chandigarh', '4/17/2016', 'Rising Pune Supergiants', 'Kings XI Punjab', 'Rising Pune Supergiants', 'bat', 'normal', '0', 'Kings XI Punjab', '0', '6', 'M Vohra', 'Punjab Cricket Association IS Bindra Stadium, Mohali', 'S Ravi', 'C Shamshuddin', '']\n",
      "['528', '2016', 'Bangalore', '4/17/2016', 'Royal Challengers Bangalore', 'Delhi Daredevils', 'Delhi Daredevils', 'field', 'normal', '0', 'Delhi Daredevils', '0', '7', 'Q de Kock', 'M Chinnaswamy Stadium', 'VA Kulkarni', 'A Nand Kishore', '']\n",
      "['529', '2016', 'Hyderabad', '4/18/2016', 'Mumbai Indians', 'Sunrisers Hyderabad', 'Sunrisers Hyderabad', 'field', 'normal', '0', 'Sunrisers Hyderabad', '0', '7', 'DA Warner', 'Rajiv Gandhi International Stadium, Uppal', 'HDPK Dharmasena', 'VK Sharma', '']\n",
      "['530', '2016', 'Chandigarh', '4/19/2016', 'Kings XI Punjab', 'Kolkata Knight Riders', 'Kolkata Knight Riders', 'field', 'normal', '0', 'Kolkata Knight Riders', '0', '6', 'RV Uthappa', 'Punjab Cricket Association IS Bindra Stadium, Mohali', 'S Ravi', 'C Shamshuddin', '']\n",
      "['531', '2016', 'Mumbai', '4/20/2016', 'Royal Challengers Bangalore', 'Mumbai Indians', 'Mumbai Indians', 'field', 'normal', '0', 'Mumbai Indians', '0', '6', 'RG Sharma', 'Wankhede Stadium', 'AK Chaudhary', 'CK Nandan', '']\n",
      "['532', '2016', 'Rajkot', '4/21/2016', 'Gujarat Lions', 'Sunrisers Hyderabad', 'Sunrisers Hyderabad', 'field', 'normal', '0', 'Sunrisers Hyderabad', '0', '10', 'B Kumar', 'Saurashtra Cricket Association Stadium', 'K Bharatan', 'HDPK Dharmasena', '']\n",
      "['533', '2016', 'Pune', '4/22/2016', 'Royal Challengers Bangalore', 'Rising Pune Supergiants', 'Rising Pune Supergiants', 'field', 'normal', '0', 'Royal Challengers Bangalore', '13', '0', 'AB de Villiers', 'Maharashtra Cricket Association Stadium', 'CB Gaffaney', 'VK Sharma', '']\n",
      "['534', '2016', 'Delhi', '4/23/2016', 'Delhi Daredevils', 'Mumbai Indians', 'Mumbai Indians', 'field', 'normal', '0', 'Delhi Daredevils', '10', '0', 'SV Samson', 'Feroz Shah Kotla', 'S Ravi', 'C Shamshuddin', '']\n",
      "['535', '2016', 'Hyderabad', '4/23/2016', 'Kings XI Punjab', 'Sunrisers Hyderabad', 'Sunrisers Hyderabad', 'field', 'normal', '0', 'Sunrisers Hyderabad', '0', '5', 'Mustafizur Rahman', 'Rajiv Gandhi International Stadium, Uppal', 'AK Chaudhary', 'CK Nandan', '']\n",
      "['536', '2016', 'Rajkot', '4/24/2016', 'Royal Challengers Bangalore', 'Gujarat Lions', 'Royal Challengers Bangalore', 'bat', 'normal', '0', 'Gujarat Lions', '0', '6', 'V Kohli', 'Saurashtra Cricket Association Stadium', 'K Bharatan', 'BNJ Oxenford', '']\n",
      "['537', '2016', 'Pune', '4/24/2016', 'Rising Pune Supergiants', 'Kolkata Knight Riders', 'Kolkata Knight Riders', 'field', 'normal', '0', 'Kolkata Knight Riders', '0', '2', 'SA Yadav', 'Maharashtra Cricket Association Stadium', 'CB Gaffaney', 'A Nand Kishore', '']\n",
      "['538', '2016', 'Chandigarh', '4/25/2016', 'Mumbai Indians', 'Kings XI Punjab', 'Kings XI Punjab', 'field', 'normal', '0', 'Mumbai Indians', '25', '0', 'PA Patel', 'Punjab Cricket Association IS Bindra Stadium, Mohali', 'Nitin Menon', 'RJ Tucker', '']\n",
      "['539', '2016', 'Hyderabad', '4/26/2016', 'Sunrisers Hyderabad', 'Rising Pune Supergiants', 'Rising Pune Supergiants', 'field', 'normal', '1', 'Rising Pune Supergiants', '34', '0', 'AB Dinda', 'Rajiv Gandhi International Stadium, Uppal', 'AY Dandekar', 'CK Nandan', '']\n",
      "['540', '2016', 'Delhi', '4/27/2016', 'Gujarat Lions', 'Delhi Daredevils', 'Delhi Daredevils', 'field', 'normal', '0', 'Gujarat Lions', '1', '0', 'CH Morris', 'Feroz Shah Kotla', 'M Erasmus', 'S Ravi', '']\n",
      "['541', '2016', 'Mumbai', '4/28/2016', 'Kolkata Knight Riders', 'Mumbai Indians', 'Mumbai Indians', 'field', 'normal', '0', 'Mumbai Indians', '0', '6', 'RG Sharma', 'Wankhede Stadium', 'Nitin Menon', 'RJ Tucker', '']\n",
      "['542', '2016', 'Pune', '4/29/2016', 'Rising Pune Supergiants', 'Gujarat Lions', 'Gujarat Lions', 'field', 'normal', '0', 'Gujarat Lions', '0', '3', 'DR Smith', 'Maharashtra Cricket Association Stadium', 'CB Gaffaney', 'BNJ Oxenford', '']\n",
      "['543', '2016', 'Delhi', '4/30/2016', 'Delhi Daredevils', 'Kolkata Knight Riders', 'Kolkata Knight Riders', 'field', 'normal', '0', 'Delhi Daredevils', '27', '0', 'CR Brathwaite', 'Feroz Shah Kotla', 'KN Ananthapadmanabhan', 'M Erasmus', '']\n",
      "['544', '2016', 'Hyderabad', '4/30/2016', 'Sunrisers Hyderabad', 'Royal Challengers Bangalore', 'Royal Challengers Bangalore', 'field', 'normal', '0', 'Sunrisers Hyderabad', '15', '0', 'DA Warner', 'Rajiv Gandhi International Stadium, Uppal', 'AK Chaudhary', 'HDPK Dharmasena', '']\n",
      "['545', '2016', 'Rajkot', '5/1/2016', 'Kings XI Punjab', 'Gujarat Lions', 'Gujarat Lions', 'field', 'normal', '0', 'Kings XI Punjab', '23', '0', 'AR Patel', 'Saurashtra Cricket Association Stadium', 'BNJ Oxenford', 'VK Sharma', '']\n",
      "['546', '2016', 'Pune', '5/1/2016', 'Rising Pune Supergiants', 'Mumbai Indians', 'Mumbai Indians', 'field', 'normal', '0', 'Mumbai Indians', '0', '8', 'RG Sharma', 'Maharashtra Cricket Association Stadium', 'AY Dandekar', 'RJ Tucker', '']\n",
      "['547', '2016', 'Bangalore', '5/2/2016', 'Royal Challengers Bangalore', 'Kolkata Knight Riders', 'Kolkata Knight Riders', 'field', 'normal', '0', 'Kolkata Knight Riders', '0', '5', 'AD Russell', 'M Chinnaswamy Stadium', 'M Erasmus', 'S Ravi', '']\n",
      "['548', '2016', 'Rajkot', '5/3/2016', 'Gujarat Lions', 'Delhi Daredevils', 'Delhi Daredevils', 'field', 'normal', '0', 'Delhi Daredevils', '0', '8', 'RR Pant', 'Saurashtra Cricket Association Stadium', 'CB Gaffaney', 'BNJ Oxenford', '']\n",
      "['549', '2016', 'Kolkata', '5/4/2016', 'Kolkata Knight Riders', 'Kings XI Punjab', 'Kings XI Punjab', 'field', 'normal', '0', 'Kolkata Knight Riders', '7', '0', 'AD Russell', 'Eden Gardens', 'AK Chaudhary', 'HDPK Dharmasena', '']\n",
      "['550', '2016', 'Delhi', '5/5/2016', 'Delhi Daredevils', 'Rising Pune Supergiants', 'Rising Pune Supergiants', 'field', 'normal', '0', 'Rising Pune Supergiants', '0', '7', 'AM Rahane', 'Feroz Shah Kotla', 'C Shamshuddin', 'RJ Tucker', '']\n",
      "['551', '2016', 'Hyderabad', '5/6/2016', 'Gujarat Lions', 'Sunrisers Hyderabad', 'Sunrisers Hyderabad', 'field', 'normal', '0', 'Sunrisers Hyderabad', '0', '5', 'B Kumar', 'Rajiv Gandhi International Stadium, Uppal', 'M Erasmus', 'S Ravi', '']\n",
      "['552', '2016', 'Bangalore', '5/7/2016', 'Rising Pune Supergiants', 'Royal Challengers Bangalore', 'Royal Challengers Bangalore', 'field', 'normal', '0', 'Royal Challengers Bangalore', '0', '7', 'V Kohli', 'M Chinnaswamy Stadium', 'CB Gaffaney', 'BNJ Oxenford', '']\n",
      "['553', '2016', 'Chandigarh', '5/7/2016', 'Kings XI Punjab', 'Delhi Daredevils', 'Delhi Daredevils', 'field', 'normal', '0', 'Kings XI Punjab', '9', '0', 'MP Stoinis', 'Punjab Cricket Association IS Bindra Stadium, Mohali', 'HDPK Dharmasena', 'CK Nandan', '']\n",
      "['554', '2016', 'Visakhapatnam', '5/8/2016', 'Sunrisers Hyderabad', 'Mumbai Indians', 'Mumbai Indians', 'field', 'normal', '0', 'Sunrisers Hyderabad', '85', '0', 'A Nehra', 'Dr. Y.S. Rajasekhara Reddy ACA-VDCA Cricket Stadium', 'S Ravi', 'C Shamshuddin', '']\n",
      "['555', '2016', 'Kolkata', '5/8/2016', 'Kolkata Knight Riders', 'Gujarat Lions', 'Gujarat Lions', 'field', 'normal', '0', 'Gujarat Lions', '0', '5', 'P Kumar', 'Eden Gardens', 'M Erasmus', 'RJ Tucker', '']\n",
      "['556', '2016', 'Chandigarh', '5/9/2016', 'Royal Challengers Bangalore', 'Kings XI Punjab', 'Kings XI Punjab', 'field', 'normal', '0', 'Royal Challengers Bangalore', '1', '0', 'SR Watson', 'Punjab Cricket Association IS Bindra Stadium, Mohali', 'AK Chaudhary', 'HDPK Dharmasena', '']\n",
      "['557', '2016', 'Visakhapatnam', '5/10/2016', 'Sunrisers Hyderabad', 'Rising Pune Supergiants', 'Sunrisers Hyderabad', 'bat', 'normal', '0', 'Sunrisers Hyderabad', '4', '0', 'A Zampa', 'Dr. Y.S. Rajasekhara Reddy ACA-VDCA Cricket Stadium', 'CB Gaffaney', 'VK Sharma', '']\n",
      "['558', '2016', 'Bangalore', '5/11/2016', 'Royal Challengers Bangalore', 'Mumbai Indians', 'Mumbai Indians', 'field', 'normal', '0', 'Mumbai Indians', '0', '6', 'KH Pandya', 'M Chinnaswamy Stadium', 'AY Dandekar', 'C Shamshuddin', '']\n",
      "['559', '2016', 'Hyderabad', '5/12/2016', 'Sunrisers Hyderabad', 'Delhi Daredevils', 'Delhi Daredevils', 'field', 'normal', '0', 'Delhi Daredevils', '0', '7', 'CH Morris', 'Rajiv Gandhi International Stadium, Uppal', 'K Bharatan', 'M Erasmus', '']\n",
      "['560', '2016', 'Visakhapatnam', '5/13/2016', 'Mumbai Indians', 'Kings XI Punjab', 'Mumbai Indians', 'bat', 'normal', '0', 'Kings XI Punjab', '0', '7', 'MP Stoinis', 'Dr. Y.S. Rajasekhara Reddy ACA-VDCA Cricket Stadium', 'HDPK Dharmasena', 'CK Nandan', '']\n",
      "['561', '2016', 'Bangalore', '5/14/2016', 'Royal Challengers Bangalore', 'Gujarat Lions', 'Gujarat Lions', 'field', 'normal', '0', 'Royal Challengers Bangalore', '144', '0', 'AB de Villiers', 'M Chinnaswamy Stadium', 'AY Dandekar', 'VK Sharma', '']\n",
      "['562', '2016', 'Kolkata', '5/14/2016', 'Rising Pune Supergiants', 'Kolkata Knight Riders', 'Rising Pune Supergiants', 'bat', 'normal', '1', 'Kolkata Knight Riders', '0', '8', 'YK Pathan', 'Eden Gardens', 'A Nand Kishore', 'BNJ Oxenford', '']\n",
      "['563', '2016', 'Chandigarh', '5/15/2016', 'Kings XI Punjab', 'Sunrisers Hyderabad', 'Kings XI Punjab', 'bat', 'normal', '0', 'Sunrisers Hyderabad', '0', '7', 'HM Amla', 'Punjab Cricket Association IS Bindra Stadium, Mohali', 'KN Ananthapadmanabhan', 'M Erasmus', '']\n",
      "['564', '2016', 'Visakhapatnam', '5/15/2016', 'Mumbai Indians', 'Delhi Daredevils', 'Delhi Daredevils', 'field', 'normal', '0', 'Mumbai Indians', '80', '0', 'KH Pandya', 'Dr. Y.S. Rajasekhara Reddy ACA-VDCA Cricket Stadium', 'Nitin Menon', 'CK Nandan', '']\n",
      "['565', '2016', 'Kolkata', '5/16/2016', 'Kolkata Knight Riders', 'Royal Challengers Bangalore', 'Royal Challengers Bangalore', 'field', 'normal', '0', 'Royal Challengers Bangalore', '0', '9', 'V Kohli', 'Eden Gardens', 'CB Gaffaney', 'A Nand Kishore', '']\n",
      "['566', '2016', 'Visakhapatnam', '5/17/2016', 'Delhi Daredevils', 'Rising Pune Supergiants', 'Rising Pune Supergiants', 'field', 'normal', '1', 'Rising Pune Supergiants', '19', '0', 'AB Dinda', 'Dr. Y.S. Rajasekhara Reddy ACA-VDCA Cricket Stadium', 'Nitin Menon', 'C Shamshuddin', '']\n",
      "['567', '2016', 'Bangalore', '5/18/2016', 'Royal Challengers Bangalore', 'Kings XI Punjab', 'Kings XI Punjab', 'field', 'normal', '1', 'Royal Challengers Bangalore', '82', '0', 'V Kohli', 'M Chinnaswamy Stadium', 'KN Ananthapadmanabhan', 'M Erasmus', '']\n",
      "['568', '2016', 'Kanpur', '5/19/2016', 'Kolkata Knight Riders', 'Gujarat Lions', 'Gujarat Lions', 'field', 'normal', '0', 'Gujarat Lions', '0', '6', 'DR Smith', 'Green Park', 'AK Chaudhary', 'CK Nandan', '']\n",
      "['569', '2016', 'Raipur', '5/20/2016', 'Sunrisers Hyderabad', 'Delhi Daredevils', 'Delhi Daredevils', 'field', 'normal', '0', 'Delhi Daredevils', '0', '6', 'KK Nair', 'Shaheed Veer Narayan Singh International Stadium', 'A Nand Kishore', 'BNJ Oxenford', '']\n",
      "['570', '2016', 'Visakhapatnam', '5/21/2016', 'Kings XI Punjab', 'Rising Pune Supergiants', 'Kings XI Punjab', 'bat', 'normal', '0', 'Rising Pune Supergiants', '0', '4', 'MS Dhoni', 'Dr. Y.S. Rajasekhara Reddy ACA-VDCA Cricket Stadium', 'HDPK Dharmasena', 'Nitin Menon', '']\n",
      "['571', '2016', 'Kanpur', '5/21/2016', 'Mumbai Indians', 'Gujarat Lions', 'Gujarat Lions', 'field', 'normal', '0', 'Gujarat Lions', '0', '6', 'SK Raina', 'Green Park', 'AK Chaudhary', 'CK Nandan', '']\n",
      "['572', '2016', 'Kolkata', '5/22/2016', 'Kolkata Knight Riders', 'Sunrisers Hyderabad', 'Sunrisers Hyderabad', 'field', 'normal', '0', 'Kolkata Knight Riders', '22', '0', 'YK Pathan', 'Eden Gardens', 'KN Ananthapadmanabhan', 'M Erasmus', '']\n",
      "['573', '2016', 'Raipur', '5/22/2016', 'Delhi Daredevils', 'Royal Challengers Bangalore', 'Royal Challengers Bangalore', 'field', 'normal', '0', 'Royal Challengers Bangalore', '0', '6', 'V Kohli', 'Shaheed Veer Narayan Singh International Stadium', 'A Nand Kishore', 'BNJ Oxenford', '']\n",
      "['574', '2016', 'Bangalore', '5/24/2016', 'Gujarat Lions', 'Royal Challengers Bangalore', 'Royal Challengers Bangalore', 'field', 'normal', '0', 'Royal Challengers Bangalore', '0', '4', 'AB de Villiers', 'M Chinnaswamy Stadium', 'AK Chaudhary', 'HDPK Dharmasena', '']\n",
      "['575', '2016', 'Delhi', '5/25/2016', 'Sunrisers Hyderabad', 'Kolkata Knight Riders', 'Kolkata Knight Riders', 'field', 'normal', '0', 'Sunrisers Hyderabad', '22', '0', 'MC Henriques', 'Feroz Shah Kotla', 'M Erasmus', 'C Shamshuddin', '']\n",
      "['576', '2016', 'Delhi', '5/27/2016', 'Gujarat Lions', 'Sunrisers Hyderabad', 'Sunrisers Hyderabad', 'field', 'normal', '0', 'Sunrisers Hyderabad', '0', '4', 'DA Warner', 'Feroz Shah Kotla', 'M Erasmus', 'CK Nandan', '']\n",
      "['577', '2016', 'Bangalore', '5/29/2016', 'Sunrisers Hyderabad', 'Royal Challengers Bangalore', 'Sunrisers Hyderabad', 'bat', 'normal', '0', 'Sunrisers Hyderabad', '8', '0', 'BCJ Cutting', 'M Chinnaswamy Stadium', 'HDPK Dharmasena', 'BNJ Oxenford', '']\n"
     ]
    }
   ],
   "source": [
    "#%%file f1.py\n",
    "import csv\n",
    "with open('matches.csv', newline='') as csvfile:\n",
    "    csvreader = csv.reader(csvfile)\n",
    "    header = next(csvreader) # Skip the header row\n",
    "    # Skip the header row\n",
    "    for row in csvreader:\n",
    "# Process each remaining row in the file\n",
    "# Process each remaining row in the file\n",
    "       print(row)"
   ]
  },
  {
   "cell_type": "code",
   "execution_count": 2,
   "id": "55efccc7-ca9a-4bf2-a93a-2eead05944d2",
   "metadata": {},
   "outputs": [
    {
     "name": "stdout",
     "output_type": "stream",
     "text": [
      "Overwriting CLA.py\n"
     ]
    }
   ],
   "source": [
    "%%file CLA.py\n",
    "import sys\n",
    "\n",
    "# total arguments\n",
    "n = len(sys.argv)\n",
    "print(\"Total arguments passed:\", n)\n",
    "\n",
    "# Arguments passed\n",
    "print(\"\\nName of Python script:\", sys.argv[0])\n",
    "\n",
    "print(\"\\nArguments passed:\", end = \" \")\n",
    "for i in range(1, n):\n",
    "    print(sys.argv[i], end = \" \")\n",
    "    \n",
    "# Addition of numbers\n",
    "Sum = 0\n",
    "# Using argparse module\n",
    "for i in range(1, n):\n",
    "    print(sys.argv[i])\n",
    "    Sum += float(sys.argv[i])\n",
    "    \n",
    "print(\"\\n\\nResult:\", Sum)"
   ]
  },
  {
   "cell_type": "code",
   "execution_count": 41,
   "id": "0875476c-0025-49fc-8833-16ad363e633d",
   "metadata": {},
   "outputs": [
    {
     "name": "stdout",
     "output_type": "stream",
     "text": [
      "Hi welcome to Python\n",
      "Coding is fun\n",
      "Have fun\n",
      "C is core programming "
     ]
    }
   ],
   "source": [
    "file1 = open(\"C://Users//farit//test.txt\", \"r\")     # open a file\n",
    "#file1.seek(0)\n",
    "lines=file1.readlines()\n",
    "for line in lines:\n",
    "     print(line, end=\"\")\n",
    "file1.close()                                \n",
    "# close the file\n"
   ]
  },
  {
   "cell_type": "code",
   "execution_count": 43,
   "id": "4ae986bc-b87c-40e5-9090-8c3753218b99",
   "metadata": {},
   "outputs": [],
   "source": [
    "#with open('example.txt', 'w') as file:, \n",
    "#the file variable is a reference to the file object that is returned by the open()\n",
    "#function. \n",
    "'''open('example.txt', 'w'): This function call opens the file named example.txt in write \n",
    "mode ('w'). If the file does not already exist, it will be created. \n",
    "If it does exist, its contents will be truncated (erased).'''\n",
    "\n",
    "with open('example_new.txt', 'a') as file1:\n",
    "    # Write a line to the file\n",
    "    \n",
    "    file1.write(\"Hello, world!\\n\")\n",
    "    file1.write(\"This is a sample text file.\")\n",
    "    file1.write(\"Have a good day\")\n",
    "    print(\"\\nHello\", file=file1)\n"
   ]
  },
  {
   "cell_type": "code",
   "execution_count": 24,
   "id": "bdfbdea4-81c2-4425-bf43-8e8289eb5fd9",
   "metadata": {},
   "outputs": [
    {
     "name": "stdout",
     "output_type": "stream",
     "text": [
      "Hello, world!\n",
      "\n",
      "This is a sample text file.Have a good day\n",
      "\n"
     ]
    },
    {
     "data": {
      "text/plain": [
       "'    # Read the third line\\n    line3 = file.readline()\\n    print(\"Line 3:\", line3.strip())'"
      ]
     },
     "execution_count": 24,
     "metadata": {},
     "output_type": "execute_result"
    }
   ],
   "source": [
    "with open('example_new.txt', 'r') as file:\n",
    "    # Read the first line\n",
    "    line1 = file.readline()\n",
    "    print(line1)  # .strip() to remove any leading/trailing whitespace\n",
    "    \n",
    "    # Read the second line\n",
    "    line2 = file.readline()\n",
    "    print(line2)\n",
    "    file.close()\n",
    "    \n",
    "\"\"\"    # Read the third line\n",
    "    line3 = file.readline()\n",
    "    print(\"Line 3:\", line3.strip())\"\"\""
   ]
  },
  {
   "cell_type": "code",
   "execution_count": 71,
   "id": "424657e9-cacd-4768-9286-6f3bd527212b",
   "metadata": {},
   "outputs": [
    {
     "name": "stdout",
     "output_type": "stream",
     "text": [
      "<_csv.reader object at 0x0000015F36CD3AC0>\n",
      "['Name', 'Age', 'Occupation']\n",
      "Name: John, Age: 30, Occupation: Engineer\n",
      "Name: Sara, Age: 25, Occupation: Doctor\n",
      "Name: Mike, Age: 28, Occupation: Lawyer\n"
     ]
    }
   ],
   "source": [
    "import csv\n",
    "with open('file.csv', newline='') as csvfile:\n",
    "    csvreader = csv.reader(csvfile)\n",
    "    print(csvreader)\n",
    "    header=next(csvreader)\n",
    "    print(header)\n",
    "    #print(list(csvreader))\n",
    "    #print(csvreader)   \n",
    "    for row in csvreader:\n",
    "       #print(row)\n",
    "       print(f\"Name: {row[0]}, Age: {row[1]}, Occupation: {row[2]}\")"
   ]
  },
  {
   "cell_type": "code",
   "execution_count": 77,
   "id": "172ec5ba-2d25-4520-8451-f6cc48627f7f",
   "metadata": {},
   "outputs": [
    {
     "name": "stdout",
     "output_type": "stream",
     "text": [
      "Name: John, Age: 30, Occupation: Engineer\n",
      "Name: Kiyara, Age: 40, Occupation: Engineer\n",
      "Name: Jill, Age: 34, Occupation: Engineer\n",
      "Engineer Count: 3\n"
     ]
    }
   ],
   "source": [
    "import csv\n",
    "ec=0\n",
    "with open('file1.csv', newline='') as csvfile:\n",
    "    csvreader = csv.DictReader(csvfile)\n",
    "    for row in csvreader:\n",
    "       #print(row)\n",
    "       \n",
    "       if row['Occupation'] == 'Engineer':\n",
    "           ec=ec+1\n",
    "           print(f\"Name: {row['Name']}, Age: {row['Age']}, Occupation: {row['Occupation']}\")\n",
    "\n",
    "print(\"Engineer Count:\",ec)\n",
    "    "
   ]
  },
  {
   "cell_type": "code",
   "execution_count": 86,
   "id": "56e5ea89-7e26-463f-80c5-7cd76f70bf07",
   "metadata": {},
   "outputs": [
    {
     "name": "stdout",
     "output_type": "stream",
     "text": [
      "['John', '30', 'Engineer']\n",
      "['Sara', '25', 'Doctor']\n",
      "['Mike', '28', 'Lawyer']\n"
     ]
    }
   ],
   "source": [
    "import csv\n",
    "with open('file.csv', newline='') as csvfile:\n",
    "    csvreader = csv.reader(csvfile)\n",
    "    header = next(csvreader) \n",
    "    for row in csvreader:\n",
    "         print(row)\n",
    "    #print(csvreader)\n",
    "   "
   ]
  },
  {
   "cell_type": "code",
   "execution_count": 85,
   "id": "4e077a90-3352-436d-96f4-2ec7acca9289",
   "metadata": {},
   "outputs": [],
   "source": [
    " import csv\n",
    " with open('output.csv', 'w', newline='') as csvfile:\n",
    "     csvwriter = csv.writer(csvfile)\n",
    "     csvwriter.writerow(['Name', 'Age', 'Occupation'])\n",
    "     csvwriter.writerow(['Arun', 45, 'Director'])\n",
    "     csvwriter.writerows([\n",
    "     ['John', 30, 'Engineer'],\n",
    "     ['Sara', 25, 'Doctor'],\n",
    "     ['Mike', 28, 'Lawyer'],\n",
    "     ['Arun', 23, 'Software Engineer']\n",
    "         ])\n",
    " csvfile.close()\n",
    " with open('output.csv', 'r+', newline='') as csvfile:\n",
    "     csvreader = csv.reader(csvfile)\n",
    "     header=next(csvreader)\n",
    "     csvwriter = csv.writer(csvfile)\n",
    "     csvwriter.writerow(['Arun Kumar', 45, 'CEO'])\n",
    "\n",
    "csvfile.close()\n",
    "     "
   ]
  },
  {
   "cell_type": "code",
   "execution_count": 89,
   "id": "7b866a63-1576-4b39-a984-da1f9cb961ee",
   "metadata": {},
   "outputs": [],
   "source": [
    " import csv\n",
    " data = [\n",
    " {'Name': 'John', 'Age': 30, 'Occupation': 'Engineer'},\n",
    " {'Name': 'Sara', 'Age': 25, 'Occupation': 'Doctor'},\n",
    " {'Name': 'Sara', 'Age': 25, 'Occupation': 'Doctor'},\n",
    " {'Name': 'Mike', 'Age': 28, 'Occupation': 'Lawyer'}\n",
    " ]\n",
    " with open('output12.csv', 'w', newline='') as csvfile:\n",
    "     header = ['Name', 'Age', 'Occupation']\n",
    "     csvDictWriter = csv.DictWriter(csvfile, fieldnames=header)\n",
    "     csvDictWriter.writeheader()\n",
    "     csvDictWriter.writerows(data)"
   ]
  },
  {
   "cell_type": "code",
   "execution_count": 91,
   "id": "04d032e0-d6c7-4ac3-86c8-38e776b8b59f",
   "metadata": {},
   "outputs": [
    {
     "name": "stdin",
     "output_type": "stream",
     "text": [
      "enter no of Employees 2\n",
      "Enter id 1\n",
      "Enter Name Ragu\n",
      "Enter Occupation Engineer\n",
      "Enter salary 123456\n",
      "Enter id 3\n",
      "Enter Name Ravi\n",
      "Enter Occupation CEO\n",
      "Enter salary 12436789900\n"
     ]
    }
   ],
   "source": [
    " import csv\n",
    " n=int(input(\"enter no of Employees\"))\n",
    " data={}\n",
    " L_data=[]\n",
    " for i in range(n):\n",
    "     data={}\n",
    "     id=input(\"Enter id\")\n",
    "     name=input(\"Enter Name\")\n",
    "     Occ=input(\"Enter Occupation\")\n",
    "     sal=float(input(\"Enter salary\"))\n",
    "     data[\"ID\"]=id\n",
    "     data[\"Name\"]=name\n",
    "     data[\"Occupation\"]=Occ\n",
    "     data[\"Salary\"]=sal\n",
    "     L_data.append(data)\n",
    " \n",
    " with open('output_new.csv', 'w', newline='') as csvfile:\n",
    "     fieldnames = [\"ID\",'Name','Occupation',\"Salary\"]\n",
    "     csvDictWriter = csv.DictWriter(csvfile, fieldnames=fieldnames)\n",
    "     csvDictWriter.writeheader()\n",
    "     csvDictWriter.writerows(L_data)"
   ]
  },
  {
   "cell_type": "code",
   "execution_count": 16,
   "id": "47c8b7b2-a8a4-485a-8c9d-be523784449c",
   "metadata": {},
   "outputs": [
    {
     "name": "stdout",
     "output_type": "stream",
     "text": [
      "['Hi welcome to Python\\n', 'Coding is fun']\n",
      "2\n"
     ]
    }
   ],
   "source": [
    "file1 = open(\"C://Users//farit//test.txt\", \"r\")     # open a file\n",
    "lines = file1.readlines()    # read the file  print(read_content)\n",
    "print(lines)\n",
    "print(len(lines))\n",
    "\n",
    "file1.close()                                \n",
    "# close the file\n"
   ]
  },
  {
   "cell_type": "code",
   "execution_count": 93,
   "id": "ed3613de-c803-47fe-8ac1-6a522779a8be",
   "metadata": {},
   "outputs": [
    {
     "name": "stdout",
     "output_type": "stream",
     "text": [
      "3\n",
      "2\n"
     ]
    }
   ],
   "source": [
    "import csv\n",
    "c = 0\n",
    "mc=0\n",
    "with open('matches1.csv') as file:\n",
    "    csvFile = csv.reader(file)\n",
    "    #print(type(csvFile), csvFile)\n",
    "    for lines in csvFile:\n",
    "         if lines[0] == \"2006\":\n",
    "            c = c+1\n",
    "         if lines[3] == \"MI\":\n",
    "            mc = mc+1\n",
    "file.closed\n",
    "print(c)\n",
    "print(mc)"
   ]
  },
  {
   "cell_type": "code",
   "execution_count": 3,
   "id": "3d6748f0-bed9-4beb-bc28-86014b195dbc",
   "metadata": {},
   "outputs": [
    {
     "name": "stdout",
     "output_type": "stream",
     "text": [
      "['Farida', 'PRofessor', '100000']\n",
      "['Aruna', 'Associate', '20000']\n"
     ]
    },
    {
     "data": {
      "text/plain": [
       "True"
      ]
     },
     "execution_count": 3,
     "metadata": {},
     "output_type": "execute_result"
    }
   ],
   "source": [
    "import csv\n",
    "c = 0\n",
    "mc=0\n",
    "with open('../emp1.csv') as file:\n",
    "    csvFile = csv.reader(file)\n",
    "    #print(type(csvFile), csvFile)\n",
    "    header=next(csvFile)\n",
    "    for lines in csvFile:\n",
    "       print(lines)\n",
    "       \n",
    "file.closed\n",
    "#print(c)"
   ]
  },
  {
   "cell_type": "code",
   "execution_count": 5,
   "id": "d62db97a-b2bb-417d-a0cc-735d8c6d4ac4",
   "metadata": {},
   "outputs": [
    {
     "name": "stdout",
     "output_type": "stream",
     "text": [
      "2006 matches count = 3\n",
      "MI winning matches count = 2\n"
     ]
    },
    {
     "data": {
      "text/plain": [
       "True"
      ]
     },
     "execution_count": 5,
     "metadata": {},
     "output_type": "execute_result"
    }
   ],
   "source": [
    "import csv\n",
    "c = 0\n",
    "mc=0\n",
    "with open('matches1.csv') as file:\n",
    "    csvFile = csv.reader(file)\n",
    "    header = next(csvFile) \n",
    "    #print(type(csvFile), csvFile)\n",
    "    for lines in csvFile:\n",
    "       #s1.add(lines[1])\n",
    "       if lines[0] == \"2006\":\n",
    "        c = c+1\n",
    "       if lines[3] == \"MI\":\n",
    "        mc = mc+1\n",
    "       #print(lines)\n",
    "print(\"2006 matches count = %d\" % c)     \n",
    "print(\"MI winning matches count = %d\" % mc) \n",
    "file.closed"
   ]
  },
  {
   "cell_type": "code",
   "execution_count": 5,
   "id": "e44c8d8c-4d43-4dbc-b90e-6f6e575aaf3e",
   "metadata": {},
   "outputs": [
    {
     "name": "stdout",
     "output_type": "stream",
     "text": [
      "Average Salary=105826.800000\n",
      "113 Charitha 120000\n",
      "115 Ravi 234567\n",
      "Engineers count = 2\n",
      "CSE dept Employees count = 4\n"
     ]
    },
    {
     "data": {
      "text/plain": [
       "True"
      ]
     },
     "execution_count": 5,
     "metadata": {},
     "output_type": "execute_result"
    }
   ],
   "source": [
    "import csv\n",
    "c = 0\n",
    "dc=0\n",
    "lc=0\n",
    "s=0\n",
    "with open('emp.csv') as file:\n",
    "    csvFile = csv.reader(file)\n",
    "    header = next(csvFile) \n",
    "    #print(type(csvFile), csvFile)\n",
    "    for lines in csvFile:\n",
    "       #s1.add(lines[1])\n",
    "       if lines[2] == \"Engineer\":\n",
    "        c = c+1\n",
    "       if lines[4] == \"CSE\":\n",
    "        dc = dc+1\n",
    "       s=s+float(lines[3])\n",
    "       #print(lines)\n",
    "       lc=lc+1\n",
    "    \n",
    "    avesal= s/lc\n",
    "    file.seek(0)   \n",
    "    csvFile = csv.reader(file)\n",
    "    header = next(csvFile) \n",
    "    print(\"Average Salary=%f\"% avesal)\n",
    "    for lines in csvFile:\n",
    "        if int(lines[3]) > avesal:\n",
    "            print(lines[0],lines[1],lines[3])\n",
    "        \n",
    "print(\"Engineers count = %d\" % c)     \n",
    "print(\"CSE dept Employees count = %d\" % dc) \n",
    "file.closed"
   ]
  },
  {
   "cell_type": "code",
   "execution_count": 9,
   "id": "7eda4640-4285-4ccc-84cf-ffb3bc4bff2b",
   "metadata": {},
   "outputs": [],
   "source": [
    "def hello():\n",
    "    print(\"Hello\")  \n"
   ]
  },
  {
   "cell_type": "code",
   "execution_count": 11,
   "id": "8a1c9853-d143-4b86-8318-63409bb00df7",
   "metadata": {},
   "outputs": [
    {
     "name": "stdout",
     "output_type": "stream",
     "text": [
      "Hello\n",
      "Hello\n"
     ]
    }
   ],
   "source": [
    "hello()\n",
    "hello()"
   ]
  },
  {
   "cell_type": "code",
   "execution_count": 17,
   "id": "45dd4efc-f358-4d6e-8bfc-54fe2f3390c1",
   "metadata": {},
   "outputs": [
    {
     "name": "stdout",
     "output_type": "stream",
     "text": [
      "hello\n",
      "hello\n"
     ]
    }
   ],
   "source": [
    "def display():\n",
    "    print(\"hello\")\n",
    "\n",
    "display()\n",
    "disp1=display\n",
    "del display\n",
    "disp1()"
   ]
  },
  {
   "cell_type": "code",
   "execution_count": 21,
   "id": "be314ed4-ffe2-4981-a547-b308342932e6",
   "metadata": {},
   "outputs": [
    {
     "name": "stdout",
     "output_type": "stream",
     "text": [
      "200\n",
      "None\n"
     ]
    }
   ],
   "source": [
    "def pro(a,b):\n",
    "    print(a*b)\n",
    "\n",
    "print(pro(10,20))"
   ]
  },
  {
   "cell_type": "code",
   "execution_count": 35,
   "id": "fd223143-1529-4566-bb7a-0a7266ac3f36",
   "metadata": {},
   "outputs": [
    {
     "name": "stdout",
     "output_type": "stream",
     "text": [
      "sum=9\n",
      "sum1=54\n"
     ]
    }
   ],
   "source": [
    "def sum(a,b):\n",
    "    return a+b\n",
    "\n",
    "s=sum(4,5)\n",
    "print(\"sum=%d\" % s)\n",
    "print(\"sum1=%d\" % sum(20,34))\n"
   ]
  },
  {
   "cell_type": "code",
   "execution_count": 11,
   "id": "d0d75d5c-de24-4190-baf3-2106a475f5a7",
   "metadata": {},
   "outputs": [
    {
     "name": "stdout",
     "output_type": "stream",
     "text": [
      "Hello\n",
      "Python\n",
      "Hello\n",
      "Python\n",
      "Hello\n",
      "Python\n"
     ]
    }
   ],
   "source": [
    "def display():\n",
    "    print(\"Hello\");print(\"Python\")\n",
    "\n",
    "display()\n",
    "\n",
    "display1=display\n",
    "del display\n",
    "display1()\n",
    "display1()"
   ]
  },
  {
   "cell_type": "code",
   "execution_count": 11,
   "id": "0ad10fa1-c406-4b7d-9f29-fc0fda3fa099",
   "metadata": {},
   "outputs": [
    {
     "name": "stdin",
     "output_type": "stream",
     "text": [
      "enter a number 6\n"
     ]
    },
    {
     "name": "stdout",
     "output_type": "stream",
     "text": [
      "Fact=720\n"
     ]
    }
   ],
   "source": [
    "def fact(n):\n",
    "    f=1\n",
    "    for i in range(1,n+1):\n",
    "        f=f*i\n",
    "    return f\n",
    "n=int(input(\"enter a number\"))\n",
    "facto=fact(n)\n",
    "print(\"Fact=%d\" % facto)    "
   ]
  },
  {
   "cell_type": "code",
   "execution_count": 21,
   "id": "844d0c95-4cdb-43aa-8ff2-aaa20ce8fb05",
   "metadata": {},
   "outputs": [
    {
     "name": "stdin",
     "output_type": "stream",
     "text": [
      "enter a number 45\n"
     ]
    },
    {
     "name": "stdout",
     "output_type": "stream",
     "text": [
      "0 1 1 2 3 5 8 13 21 34 55 89 144 233 377 610 987 1597 2584 4181 6765 10946 17711 28657 46368 75025 121393 196418 317811 514229 832040 1346269 2178309 3524578 5702887 9227465 14930352 24157817 39088169 63245986 102334155 165580141 267914296 433494437 701408733 1134903170 1836311903 "
     ]
    }
   ],
   "source": [
    "def fibonacci(n):\n",
    "    f1=0\n",
    "    f2=1\n",
    "    print(f1,f2,sep=\" \",end=\" \")\n",
    "    for i in range(0,n):\n",
    "        f3=f1+f2\n",
    "        print(f3,end=' ')\n",
    "        f1=f2\n",
    "        f2=f3\n",
    "\n",
    "fibonacci(int(input(\"enter a number\")))\n",
    " "
   ]
  },
  {
   "cell_type": "code",
   "execution_count": 1,
   "id": "cef54cf0-54ff-4cc1-8d8c-39e800be8b6b",
   "metadata": {},
   "outputs": [
    {
     "name": "stdout",
     "output_type": "stream",
     "text": [
      "120\n",
      "<class 'tuple'>\n",
      "180\n",
      "<class 'tuple'>\n",
      "0\n",
      "<class 'tuple'>\n"
     ]
    }
   ],
   "source": [
    "def func1(*v):\n",
    "    s=0\n",
    "    for i in v:\n",
    "        s=s+i\n",
    "    print(s)\n",
    "    print(type(v))\n",
    "\n",
    "func1(20, 40, 60)\n",
    "func1(80, 100)\n",
    "func1()"
   ]
  },
  {
   "cell_type": "code",
   "execution_count": 52,
   "id": "21502a2d-20c2-4a9a-bca1-d3970504bd79",
   "metadata": {},
   "outputs": [
    {
     "name": "stdout",
     "output_type": "stream",
     "text": [
      "hIWELCOMEto Python\n",
      "479.5\n",
      "abc\n"
     ]
    }
   ],
   "source": [
    "def func1(*arg):\n",
    "    if len(arg) >0:\n",
    "        if str(arg[0]).isalpha():\n",
    "            s=\"\"\n",
    "        elif str(arg[0]).isdigit():\n",
    "            s=0  \n",
    "        for i in arg:\n",
    "            s=s+i\n",
    "        print(s)\n",
    "        #print(type(arg))\n",
    "func1(\"hI\", \"WELCOME\",\"to Python\")\n",
    "func1(80, 100,20,45,234.5)\n",
    "func1('a','b','c')\n",
    "func1()"
   ]
  },
  {
   "cell_type": "code",
   "execution_count": 58,
   "id": "0dd9d424-6dff-4d2c-b168-65ecdc9c19fe",
   "metadata": {},
   "outputs": [
    {
     "ename": "TypeError",
     "evalue": "func1() missing 1 required keyword-only argument: 'b'",
     "output_type": "error",
     "traceback": [
      "\u001b[1;31m---------------------------------------------------------------------------\u001b[0m",
      "\u001b[1;31mTypeError\u001b[0m                                 Traceback (most recent call last)",
      "Cell \u001b[1;32mIn[58], line 14\u001b[0m\n\u001b[0;32m     11\u001b[0m         \u001b[38;5;28mprint\u001b[39m(s)\n\u001b[0;32m     12\u001b[0m         \u001b[38;5;28mprint\u001b[39m(\u001b[38;5;28mtype\u001b[39m(arg))\n\u001b[1;32m---> 14\u001b[0m func1(\u001b[38;5;241m10\u001b[39m, \u001b[38;5;124m\"\u001b[39m\u001b[38;5;124mhI\u001b[39m\u001b[38;5;124m\"\u001b[39m, \u001b[38;5;124m\"\u001b[39m\u001b[38;5;124mWELCOME\u001b[39m\u001b[38;5;124m\"\u001b[39m,\u001b[38;5;241m12\u001b[39m)\n\u001b[0;32m     15\u001b[0m func1(\u001b[38;5;241m80\u001b[39m, \u001b[38;5;241m100\u001b[39m)\n\u001b[0;32m     16\u001b[0m func1(\u001b[38;5;124m'\u001b[39m\u001b[38;5;124ma\u001b[39m\u001b[38;5;124m'\u001b[39m,\u001b[38;5;124m'\u001b[39m\u001b[38;5;124mb\u001b[39m\u001b[38;5;124m'\u001b[39m,\u001b[38;5;124m'\u001b[39m\u001b[38;5;124mc\u001b[39m\u001b[38;5;124m'\u001b[39m)\n",
      "\u001b[1;31mTypeError\u001b[0m: func1() missing 1 required keyword-only argument: 'b'"
     ]
    }
   ],
   "source": [
    "def func1(a,*arg,b):\n",
    "    print(a,b)\n",
    "    if len(arg) >0:\n",
    "        if str(arg[0]).isalpha():\n",
    "            s=\"\"\n",
    "        elif str(arg[0]).isdigit():\n",
    "            s=0  \n",
    "    \n",
    "        for i in arg:\n",
    "            s=s+i\n",
    "        print(s)\n",
    "        print(type(arg))\n",
    "\n",
    "func1(10, \"hI\", \"WELCOME\",12)\n",
    "func1(80, 100)\n",
    "func1('a','b','c')\n",
    "func1()"
   ]
  },
  {
   "cell_type": "code",
   "execution_count": 56,
   "id": "d1299e75-dd76-4568-aeb3-b5f82424dc10",
   "metadata": {},
   "outputs": [
    {
     "name": "stdout",
     "output_type": "stream",
     "text": [
      "{'a': ['m', 2], 'n': 1, 'o': 6} <class 'dict'>\n",
      "a n o \n",
      "a n o \n",
      "['m', 2] 1 6 "
     ]
    }
   ],
   "source": [
    "def f1(**kwarg):\n",
    "    print(kwarg, type(kwarg)) #kwarg is of type dict\n",
    "    #print(kwarg, type(kwarg)) #kwarg is of type dict\n",
    "    for i in kwarg:\n",
    "         print(i,end=\" \")\n",
    "    print()\n",
    "    for i in kwarg.keys():\n",
    "       print(i,end=\" \")\n",
    "    print()\n",
    "    for i in kwarg.values():\n",
    "       print(i,end=\" \")\n",
    "   \n",
    "f1(a=[\"m\",2],n=1,o=6)"
   ]
  },
  {
   "cell_type": "code",
   "execution_count": 9,
   "id": "5088f38c-40ec-4552-9736-b9019930a85d",
   "metadata": {},
   "outputs": [
    {
     "name": "stdout",
     "output_type": "stream",
     "text": [
      "{'a': 2, 'b': 1, 'c': 6} <class 'dict'>\n",
      "a b c \n",
      "a b c \n",
      "2 1 6 "
     ]
    }
   ],
   "source": [
    "def f1(**kwar):\n",
    "     print(kwar, type(kwar)) #kwarg is of type dict\n",
    "     #print(kwar, type(kwar)) #kwarg is of type dict\n",
    "     for i in kwar:\n",
    "         print(i,end=\" \")\n",
    "     print()\n",
    "     for i in kwar.keys():\n",
    "         print(i,end=\" \")\n",
    "     print()\n",
    "     for i in kwar.values():\n",
    "         print(i,end=\" \")\n",
    "f1(a=2,b=1,c=6)"
   ]
  },
  {
   "cell_type": "code",
   "execution_count": 33,
   "id": "0eada55a-1b55-49bc-b45c-43b95447b084",
   "metadata": {},
   "outputs": [
    {
     "name": "stdin",
     "output_type": "stream",
     "text": [
      "Enter no of students 2\n",
      "Students name= Rani\n",
      "Enter mark 45\n",
      "Enter mark 67\n",
      "Enter mark 89\n",
      "Enter mark 45\n",
      "Enter mark 67\n"
     ]
    },
    {
     "name": "stdout",
     "output_type": "stream",
     "text": [
      "Rani students total is 313.000000 and Average is 62.600000\n"
     ]
    },
    {
     "name": "stdin",
     "output_type": "stream",
     "text": [
      "Students name= Tina\n",
      "Enter mark 45\n",
      "Enter mark 78\n",
      "Enter mark 90\n",
      "Enter mark 99\n",
      "Enter mark 67\n"
     ]
    },
    {
     "name": "stdout",
     "output_type": "stream",
     "text": [
      "Tina students total is 379.000000 and Average is 75.800000\n"
     ]
    }
   ],
   "source": [
    "def stud_fun(L):\n",
    "    t=0\n",
    "    for i in range(0,5):\n",
    "        t=t+L[i]\n",
    "    return t,t/5\n",
    "\n",
    "\n",
    "n=int(input(\"Enter no of students\"))\n",
    "for i in range(0,n):\n",
    "    l=[]\n",
    "    name=input(\"Students name=\")\n",
    "    for j in range(0,5):\n",
    "        x=float(input(\"Enter mark\"))\n",
    "        l.append(x)\n",
    "    re=stud_fun(l)\n",
    "    print(\"%s students total is %f and Average is %f\" % (name,re[0],re[1]))   \n",
    "    "
   ]
  },
  {
   "cell_type": "code",
   "execution_count": 65,
   "id": "c87064b9-ace9-4a9f-9335-d734a4fae702",
   "metadata": {},
   "outputs": [
    {
     "name": "stdout",
     "output_type": "stream",
     "text": [
      "f1 is pes\n"
     ]
    }
   ],
   "source": [
    "def f1():\t\t\t#added to symbol table\n",
    "\tprint(\"in f1\")\n",
    "\treturn \"Cool day\"\n",
    "def f1(x):\t# since the functions have same name, the function above is replaced with this in the symbol       \n",
    "                #table with parameters added\n",
    "   print(\"f1 is\",x)\n",
    "\n",
    "#f1()\t\t#Error\n",
    "f1(\"pes\")"
   ]
  },
  {
   "cell_type": "code",
   "execution_count": 67,
   "id": "a5bd6e28-1b80-4108-8871-d163bf16115b",
   "metadata": {},
   "outputs": [
    {
     "name": "stdout",
     "output_type": "stream",
     "text": [
      "in f1\n",
      "<function f1 at 0x000001CF7F8B2AC0>\n",
      "None\n"
     ]
    }
   ],
   "source": [
    "def f1():\n",
    "\tprint(\"in f1\")\n",
    "k=f1()\n",
    "print(f1)\t\t#prints function address. This is not a call\n",
    "print(k)"
   ]
  },
  {
   "cell_type": "code",
   "execution_count": 3,
   "id": "d4f2c79e-5ad5-40e2-9b44-ff98ec9e6724",
   "metadata": {},
   "outputs": [
    {
     "name": "stdout",
     "output_type": "stream",
     "text": [
      "global first outside 10\n",
      "inside 11\n",
      "global second outside 10\n"
     ]
    }
   ],
   "source": [
    "x=10\n",
    "print(\"global first outside\",x)\n",
    "def f1():\n",
    "    x=11\n",
    "    #local variable x.\n",
    "    #Life and scope is only within this function\n",
    "    print(\"inside\",x)\n",
    "f1()\n",
    "print(\"global second outside\",x)"
   ]
  },
  {
   "cell_type": "code",
   "execution_count": 15,
   "id": "f721c4c7-e3d1-4a5d-91f1-1de3f2f58259",
   "metadata": {},
   "outputs": [
    {
     "name": "stdout",
     "output_type": "stream",
     "text": [
      "20\n",
      "30\n",
      "21\n",
      "None\n",
      "21\n"
     ]
    }
   ],
   "source": [
    "y=20\n",
    "def sum(a,b):\n",
    "    print(a+b)\n",
    "    global y\n",
    "    y=y+1\n",
    "    print(y)\n",
    "print(y)\n",
    "print(sum(10,20))\n",
    "print(y)"
   ]
  },
  {
   "cell_type": "code",
   "execution_count": 11,
   "id": "849b26c8-8588-4c07-9f9d-9deb5ca58a77",
   "metadata": {},
   "outputs": [
    {
     "name": "stdout",
     "output_type": "stream",
     "text": [
      "global first outside 10\n",
      "11\n",
      "inside 20\n",
      "global second outside 20\n"
     ]
    }
   ],
   "source": [
    "x=10\n",
    "print(\"global first outside\",x)\n",
    "def f1():\n",
    "    global x\n",
    "    x=x+1\n",
    "    print(x)\n",
    "    x=20\n",
    "    #Life and scope is only within this function\n",
    "    print(\"inside\",x)\n",
    "f1()\n",
    "print(\"global second outside\",x)"
   ]
  },
  {
   "cell_type": "code",
   "execution_count": 19,
   "id": "18c0f35e-9824-49fe-ac7b-244df40f7ae4",
   "metadata": {},
   "outputs": [
    {
     "name": "stdout",
     "output_type": "stream",
     "text": [
      "global first outside 10\n"
     ]
    },
    {
     "ename": "SyntaxError",
     "evalue": "name 'x' is used prior to global declaration (1434439608.py, line 7)",
     "output_type": "error",
     "traceback": [
      "\u001b[1;36m  Cell \u001b[1;32mIn[19], line 7\u001b[1;36m\u001b[0m\n\u001b[1;33m    global x\u001b[0m\n\u001b[1;37m    ^\u001b[0m\n\u001b[1;31mSyntaxError\u001b[0m\u001b[1;31m:\u001b[0m name 'x' is used prior to global declaration\n"
     ]
    }
   ],
   "source": [
    "x=10    \n",
    "print(\"global first outside\",x)\n",
    "def f1():\n",
    "\tx=x+1\t\t#Syntax Warning in 3.5.2\n",
    "\t\t\t\t# Error in 3.6.2\n",
    "\t\t\t\t#Hoisting happens here\n",
    "\tglobal x\n",
    "\tprint(\"inside\",x)\n",
    "f1()\n",
    "print(\"global second outside\",x)\n"
   ]
  },
  {
   "cell_type": "code",
   "execution_count": 35,
   "id": "06885055-80cf-4675-b714-4c2e11c38aea",
   "metadata": {},
   "outputs": [
    {
     "name": "stdout",
     "output_type": "stream",
     "text": [
      "100\n",
      "200\n",
      "40\n",
      "730\n",
      "600\n",
      "730\n"
     ]
    }
   ],
   "source": [
    "# scope:\n",
    "#\twhere we can access; visibility\n",
    "# life:\n",
    "#\texistence of the variable\n",
    "#\tWhen the variable is created and when it will die\n",
    "a = 100\n",
    "e = 600\n",
    "f = 700\n",
    "\n",
    "h = 1111\n",
    "def check() :\n",
    "\tprint(a) # 100 # global variable\n",
    "\tprint(b) # 200\n",
    "\tc = 30 # local variable\n",
    "\tif c == 30 :\n",
    "\t\td = 40\n",
    "\telse:\n",
    "\t\td = 50\n",
    "\tprint(d) # ok; d is local to the function; no concept of local to a suite of \n",
    "\t# a control structure\n",
    "\te = 60 # local variable\n",
    "\t# cannot directly modify a global variable\n",
    "\t# to access the global variable, for its value, nothing is required\n",
    "\t# to modify a global variable, we should declare that it is global\n",
    "\tglobal f\n",
    "\tf = f+30\n",
    "\tprint(f) #730\n",
    "\t\n",
    "\n",
    "\n",
    "b = 200\n",
    "check()\n",
    "#print(c) # not defined\n",
    "print(e) # 600\n",
    "print(f) # 730"
   ]
  },
  {
   "cell_type": "code",
   "execution_count": 93,
   "id": "26484241-f2dc-47cb-ba8b-c6443d6f92d2",
   "metadata": {},
   "outputs": [
    {
     "name": "stdout",
     "output_type": "stream",
     "text": [
      "in f1\n",
      "in f2\n"
     ]
    }
   ],
   "source": [
    "f1()\t\t\t# f1 not available in symbol table. So it is an error\n",
    "def f1():\n",
    "\tprint(\"in f1\")\n",
    "\treturn \"Cool day\""
   ]
  },
  {
   "cell_type": "code",
   "execution_count": 39,
   "id": "d83b2a9a-db1f-4331-b5f3-cccd304bfd7f",
   "metadata": {},
   "outputs": [
    {
     "ename": "TypeError",
     "evalue": "f1() got multiple values for argument 'a'",
     "output_type": "error",
     "traceback": [
      "\u001b[1;31m---------------------------------------------------------------------------\u001b[0m",
      "\u001b[1;31mTypeError\u001b[0m                                 Traceback (most recent call last)",
      "Cell \u001b[1;32mIn[39], line 4\u001b[0m\n\u001b[0;32m      1\u001b[0m \u001b[38;5;28;01mdef\u001b[39;00m \u001b[38;5;21mf1\u001b[39m(a,b):\t\n\u001b[0;32m      2\u001b[0m \t\u001b[38;5;28mprint\u001b[39m(a\u001b[38;5;241m+\u001b[39mb)\n\u001b[1;32m----> 4\u001b[0m f1(\u001b[38;5;241m2\u001b[39m,b\u001b[38;5;241m=\u001b[39m\u001b[38;5;241m3\u001b[39m,a\u001b[38;5;241m=\u001b[39m\u001b[38;5;241m7\u001b[39m)   \u001b[38;5;66;03m#TypeError\u001b[39;00m\n\u001b[0;32m      5\u001b[0m f1(\u001b[38;5;241m2\u001b[39m,b\u001b[38;5;241m=\u001b[39m\u001b[38;5;241m7\u001b[39m)\t\t\u001b[38;5;66;03m# a is positional argument, b is keyword argument\u001b[39;00m\n\u001b[0;32m      6\u001b[0m f1(\u001b[38;5;241m2\u001b[39m,a\u001b[38;5;241m=\u001b[39m\u001b[38;5;241m7\u001b[39m)\n",
      "\u001b[1;31mTypeError\u001b[0m: f1() got multiple values for argument 'a'"
     ]
    }
   ],
   "source": [
    "def f1(a,b):\t\n",
    "\tprint(a+b)\n",
    "\n",
    "f1(2,b=3,a=7)   #TypeError\n",
    "f1(2,b=7)\t\t# a is positional argument, b is keyword argument\n",
    "f1(2,a=7)    #TypeError\n",
    "#f1(a=7,2)   #SyntaxError: positional argument follows keyword argument\n"
   ]
  },
  {
   "cell_type": "code",
   "execution_count": 5,
   "id": "4124f2ce-bb0a-45d2-a343-090f7a16c7a3",
   "metadata": {},
   "outputs": [
    {
     "name": "stdout",
     "output_type": "stream",
     "text": [
      "(1, 2, 3, 4)\n",
      "<class 'tuple'>\n",
      "1 2 3 4\n",
      "({1: 11, 2: 22}, {3: 33, 4: 44})\n",
      "<class 'tuple'>\n",
      "{1: 11, 2: 22} {3: 33, 4: 44}\n",
      "({1: 11, 2: 22, 3: 33, 4: 44},)\n",
      "<class 'tuple'>\n",
      "{1: 11, 2: 22, 3: 33, 4: 44}\n"
     ]
    }
   ],
   "source": [
    "def f1(*arg):\n",
    "\tprint(arg)\n",
    "\tprint(type(arg))\t#tuple\n",
    "\tprint(*arg)\t#pass starred argument to any function, it does unpacking.\n",
    "\t\t\t\t#see below code too.\n",
    "\t#print(type(*arg))\t#  *arg becomes 1 2 3 4 , type cannot take more than 1 argument\n",
    "f1(1,2,3,4)\n",
    "f1({1:11,2:22},{3:33,4:44})\n",
    "f1({1:11,2:22,3:33,4:44})\n"
   ]
  },
  {
   "cell_type": "code",
   "execution_count": 17,
   "id": "ffe1018f-3a2d-49f3-be78-1a0495ecefee",
   "metadata": {},
   "outputs": [
    {
     "name": "stdout",
     "output_type": "stream",
     "text": [
      "4 13\n",
      "4 15\n"
     ]
    }
   ],
   "source": [
    "x=13\n",
    "def f1(a,b=x):\t\t#at the time of leader processing, whatever the value at x is fixed\n",
    "\tprint(a,b)\n",
    "x=15\n",
    "f1(4)\n",
    "def f2(a,b=x):\t\t#at the time of leader processing, whatever the value at x is fixed\n",
    "\tprint(a,b)\n",
    "f2(4)"
   ]
  },
  {
   "cell_type": "code",
   "execution_count": 25,
   "id": "42995d70-6103-4d4d-8864-fae207dd28c6",
   "metadata": {},
   "outputs": [
    {
     "ename": "SyntaxError",
     "evalue": "positional argument follows keyword argument (3622173874.py, line 8)",
     "output_type": "error",
     "traceback": [
      "\u001b[1;36m  Cell \u001b[1;32mIn[25], line 8\u001b[1;36m\u001b[0m\n\u001b[1;33m    f1(b=20,11)\u001b[0m\n\u001b[1;37m              ^\u001b[0m\n\u001b[1;31mSyntaxError\u001b[0m\u001b[1;31m:\u001b[0m positional argument follows keyword argument\n"
     ]
    }
   ],
   "source": [
    "def f1(a,b=10):   #default value for b is 10\t\n",
    "\tb=a+b\n",
    "\tprint(b)\n",
    "f1(2,3)\n",
    "f1(2)\n",
    "f1(a=2)\n",
    "f1(b=13,a=9)\n",
    "f1(b=20,11)"
   ]
  },
  {
   "cell_type": "code",
   "execution_count": 32,
   "id": "29dc85e0-f277-4902-bb11-817dbfe4c369",
   "metadata": {},
   "outputs": [
    {
     "name": "stdout",
     "output_type": "stream",
     "text": [
      "beginning outside [23, 45, 89]\n",
      "inside function [22, 33]\n",
      "2071184122624\n",
      "Later outside [23, 45, 89]\n",
      "2071184127360\n"
     ]
    }
   ],
   "source": [
    "x=[23,45,89]\n",
    "def f1(y):\n",
    "\ty=[22,33]\n",
    "\tprint(\"inside function\",y);print(id(y))\n",
    "\n",
    "print(\"beginning outside\",x)\n",
    "f1(x)\n",
    "print(\"Later outside\",x)\n",
    "print(id(x))\n"
   ]
  },
  {
   "cell_type": "code",
   "execution_count": 38,
   "id": "44823ed6-56f4-4593-85c4-31a88afa1983",
   "metadata": {},
   "outputs": [
    {
     "name": "stdout",
     "output_type": "stream",
     "text": [
      "beginning outside [23, 45, 89]\n",
      "2071176219008\n",
      "inside function [23, 45, 89, 78]\n",
      "2071176219008\n",
      "Later outside [23, 45, 89, 78]\n",
      "2071176219008\n"
     ]
    }
   ],
   "source": [
    "x=[23,45,89]\n",
    "def f1(y):\n",
    "    print(id(y)); y.append(78);\tprint(\"inside function\",y);print(id(y))\n",
    "\n",
    "print(\"beginning outside\",x)\n",
    "f1(x)\n",
    "print(\"Later outside\",x)\n",
    "print(id(x))"
   ]
  },
  {
   "cell_type": "code",
   "execution_count": 44,
   "id": "c4c29ba6-fb1e-4da7-a0db-97648de27d02",
   "metadata": {},
   "outputs": [
    {
     "name": "stdout",
     "output_type": "stream",
     "text": [
      "beginning outside [23, 45, 89]\n",
      "2071176212416\n",
      "inside function [23, 45, 89, 99]\n",
      "2071184087680\n",
      "Later outside [23, 45, 89]\n",
      "2071176212416\n"
     ]
    }
   ],
   "source": [
    "x=[23,45,89]\n",
    "def f1(y):\n",
    "    print(id(y));y=y+[99]; \tprint(\"inside function\",y);print(id(y))\n",
    "\n",
    "print(\"beginning outside\",x)\n",
    "f1(x)\n",
    "print(\"Later outside\",x)\n",
    "print(id(x))"
   ]
  },
  {
   "cell_type": "code",
   "execution_count": 46,
   "id": "6836b37c-e446-4114-900b-002e63b82ef4",
   "metadata": {},
   "outputs": [
    {
     "name": "stdout",
     "output_type": "stream",
     "text": [
      "beginning outside [23, 45, 89]\n",
      "2071154364992\n",
      "2071154364992\n",
      "inside function [23, 45, 89, 99]\n",
      "Later outside [23, 45, 89, 99]\n",
      "2071154364992\n"
     ]
    }
   ],
   "source": [
    "\n",
    "x=[23,45,89]\n",
    "def f1(y):\n",
    "\tprint(id(y))\n",
    "\ty+=[99]\t\t# changes the id of y\n",
    "\tprint(id(y))\n",
    "\tprint(\"inside function\",y)\n",
    "print(\"beginning outside\",x)\n",
    "f1(x)\t\t\n",
    "print(\"Later outside\",x)\t#x is not changed\n",
    "print(id(x))\n"
   ]
  },
  {
   "cell_type": "code",
   "execution_count": 62,
   "id": "7cd296ea-54c7-4930-94ae-c39b8c6e719b",
   "metadata": {},
   "outputs": [
    {
     "name": "stdout",
     "output_type": "stream",
     "text": [
      "beginning outside [23, 45, 89]\n",
      "1862084892416\n",
      "1862084892416\n",
      "inside function [23, 45, 89, 22, 33]\n",
      "Later outside [23, 45, 89, 22, 33]\n"
     ]
    },
    {
     "data": {
      "text/plain": [
       "1862084892416"
      ]
     },
     "execution_count": 62,
     "metadata": {},
     "output_type": "execute_result"
    }
   ],
   "source": [
    "x=[23,45,89]\n",
    "def f1(y):\n",
    "\tprint(id(y))\n",
    "\ty+=[22,33]\n",
    "\tprint(id(y))\t#no change in id of y. same as y above and x outside\n",
    "\tprint(\"inside function\",y)\n",
    "print(\"beginning outside\",x)\n",
    "f1(x)\n",
    "print(\"Later outside\",x) #x is affected\n",
    "id(x)"
   ]
  },
  {
   "cell_type": "code",
   "execution_count": null,
   "id": "4ab63028-b21d-4de3-a2be-e5d0b97e1ff7",
   "metadata": {},
   "outputs": [],
   "source": []
  },
  {
   "cell_type": "code",
   "execution_count": 50,
   "id": "67fc4bc3-ee97-4089-ad45-832a952f90c8",
   "metadata": {},
   "outputs": [
    {
     "name": "stdout",
     "output_type": "stream",
     "text": [
      "140711423755080\n",
      "140711423755080\n"
     ]
    }
   ],
   "source": [
    "l=[1,2,2,3]\n",
    "print(id(l[1]))\n",
    "print(id(l[2]))"
   ]
  },
  {
   "cell_type": "code",
   "execution_count": 56,
   "id": "ef52c9ce-18f2-4c27-839e-ff8e51f2ae68",
   "metadata": {},
   "outputs": [
    {
     "name": "stdout",
     "output_type": "stream",
     "text": [
      "140711423755336\n"
     ]
    },
    {
     "data": {
      "text/plain": [
       "140711423755336"
      ]
     },
     "execution_count": 56,
     "metadata": {},
     "output_type": "execute_result"
    }
   ],
   "source": [
    "x=10\n",
    "y=10\n",
    "print(id(x))\n",
    "id(y)"
   ]
  },
  {
   "cell_type": "code",
   "execution_count": 108,
   "id": "d400766c-534c-4fc3-bc2e-abd49f27676b",
   "metadata": {},
   "outputs": [
    {
     "name": "stdout",
     "output_type": "stream",
     "text": [
      "4 12\n"
     ]
    }
   ],
   "source": [
    "x=12\n",
    "def f1(a,b=x):\t\t#at the time of leader processing, whatever the value at x is fixed\n",
    "\tprint(a,b)\n",
    "x=15\n",
    "f1(4)\n"
   ]
  },
  {
   "cell_type": "code",
   "execution_count": 110,
   "id": "9f60faae-6481-4fce-8508-66fc48de6f66",
   "metadata": {},
   "outputs": [
    {
     "name": "stdout",
     "output_type": "stream",
     "text": [
      "[2]\n",
      "[2, 22]\n",
      "[2, 22, 33]\n",
      "[3, 4, 12]\n",
      "[2, 22, 33, 25]\n",
      "[5, 6, 7, 8, 45]\n"
     ]
    }
   ],
   "source": [
    "def f1(a,b=[]):\n",
    "\tb.append(a)\n",
    "\tprint(b)\n",
    "f1(2)\n",
    "f1(22)\n",
    "f1(33)\n",
    "f1(12,[3,4])\n",
    "f1(25)\n",
    "f1(45,[5,6,7,8])"
   ]
  },
  {
   "cell_type": "code",
   "execution_count": 112,
   "id": "b8e19eab-19d0-4028-b4da-9ad45f87f1d2",
   "metadata": {},
   "outputs": [
    {
     "name": "stdout",
     "output_type": "stream",
     "text": [
      "[2]\n",
      "[22]\n",
      "[33]\n",
      "[3, 4, 12]\n",
      "[25]\n",
      "[5, 6, 7, 8, 45]\n"
     ]
    }
   ],
   "source": [
    "def f1(a,b=[]):\n",
    "\tb=b+[a]\n",
    "\tprint(b)\n",
    "f1(2)\n",
    "f1(22)\n",
    "f1(33)\n",
    "f1(12,[3,4])\n",
    "f1(25)\n",
    "f1(45,[5,6,7,8])"
   ]
  },
  {
   "cell_type": "code",
   "execution_count": 72,
   "id": "47f6a242-14b2-4d8a-ba10-a3185faf5f3c",
   "metadata": {},
   "outputs": [
    {
     "name": "stdout",
     "output_type": "stream",
     "text": [
      "in f1\n",
      "in f2\n"
     ]
    }
   ],
   "source": [
    "def f1():\n",
    "\tprint(\"in f1\")\n",
    "\tf2()\n",
    "def f2():\n",
    "\tprint(\"in f2\")\n",
    "f1()\n"
   ]
  },
  {
   "cell_type": "code",
   "execution_count": 74,
   "id": "f1782393-d494-47df-9e60-eafb1292f0f8",
   "metadata": {},
   "outputs": [
    {
     "name": "stdout",
     "output_type": "stream",
     "text": [
      "in f1\n",
      "in f2\n"
     ]
    }
   ],
   "source": [
    "def f1():\n",
    "\tprint(\"in f1\")\n",
    "\tf2()\n",
    "f1()\t\t#Error\n",
    "def f2():\n",
    "\tprint(\"in f2\")\n"
   ]
  },
  {
   "cell_type": "code",
   "execution_count": 114,
   "id": "5b4e8a37-9755-4a2f-a5cc-6dc152a0c1de",
   "metadata": {},
   "outputs": [
    {
     "name": "stdout",
     "output_type": "stream",
     "text": [
      "in f1\n",
      "in f1\n",
      "None\n"
     ]
    }
   ],
   "source": [
    "def f1():\n",
    "\tprint(\"in f1\")\n",
    "\tf2()\n",
    "def f2():\n",
    "\treturn \"Hello\"\n",
    "f1()\n",
    "print(f1())"
   ]
  },
  {
   "cell_type": "code",
   "execution_count": 116,
   "id": "0d21caa8-4829-4e9c-8dae-c11fe75018aa",
   "metadata": {},
   "outputs": [
    {
     "name": "stdout",
     "output_type": "stream",
     "text": [
      "in f1\n",
      "in f1\n",
      "Hello\n"
     ]
    }
   ],
   "source": [
    "def f1():\n",
    "\tprint(\"in f1\")\n",
    "\tx=f2(); return x\n",
    "\n",
    "def f2():\n",
    "\treturn \"Hello\"\n",
    "f1()\n",
    "print(f1())\n"
   ]
  },
  {
   "cell_type": "code",
   "execution_count": 89,
   "id": "924a2181-2c6b-4f11-9a80-eb1273834e67",
   "metadata": {},
   "outputs": [
    {
     "name": "stdout",
     "output_type": "stream",
     "text": [
      "in f1\n",
      "Hello\n",
      "in f1\n",
      "Hello\n"
     ]
    }
   ],
   "source": [
    "def f1():\n",
    "\tprint(\"in f1\")\n",
    "\tx=f2(); return x\n",
    "\n",
    "def f2():\n",
    "\treturn \"Hello\"\n",
    "    \n",
    "print(f1())\n",
    "print(f1())"
   ]
  },
  {
   "cell_type": "code",
   "execution_count": 91,
   "id": "a57d272c-e914-41e5-970b-bdd7ecd5f63a",
   "metadata": {},
   "outputs": [
    {
     "name": "stdout",
     "output_type": "stream",
     "text": [
      "in f1\n",
      "in f2\n",
      "None\n"
     ]
    }
   ],
   "source": [
    "def f1():\n",
    "\tprint(\"in f1\")\n",
    "\treturn f2()\n",
    "def f2():\n",
    "\tprint(\"in f2\")\n",
    "print(f1())\n"
   ]
  },
  {
   "cell_type": "code",
   "execution_count": 19,
   "id": "c798d0e3-6298-4104-997d-c441af140573",
   "metadata": {},
   "outputs": [
    {
     "name": "stdout",
     "output_type": "stream",
     "text": [
      "aeirou\n",
      "aeiou\n"
     ]
    }
   ],
   "source": [
    "#finding a word in sentence which has all the vowels\n",
    "def all_vowel_count(st):\n",
    "    v={'a':0,'e':0,'i':0,'o':0,'u':0}\n",
    "    #print(st)\n",
    "    for i in st:\n",
    "        i=i.lower()\n",
    "        if i in \"aeiou\":\n",
    "            v[i]=v.setdefault(i,0)+1 # v[i]=v[i]+1 #vi[i]=v.get(i) +1\n",
    "            \n",
    "    #print(v)\n",
    "    if (v['a'] > 0 and v['e'] > 0 and v['i'] > 0 and v['o'] > 0 and v['u'] > 0):\n",
    "        return True\n",
    "    else:\n",
    "        return False\n",
    "        \n",
    "s=\"Hi aeirou is vowels list. Good to do coding aeiou is vowels in english\"\n",
    "ls=s.split()\n",
    "for word in ls:\n",
    "    vc=all_vowel_count(word)\n",
    "    if vc== True:\n",
    "        print(word)"
   ]
  },
  {
   "cell_type": "code",
   "execution_count": 37,
   "id": "2ed1dea2-5bc7-48c0-984e-4e9a1cd290a1",
   "metadata": {},
   "outputs": [
    {
     "name": "stdout",
     "output_type": "stream",
     "text": [
      "Hi 1\n",
      "aeirou 5\n",
      "is 1\n",
      "vowels 2\n",
      "list. 1\n",
      "Good 2\n",
      "to 1\n",
      "do 1\n",
      "coding 2\n"
     ]
    }
   ],
   "source": [
    "#finding vowel count for each word in sentence \n",
    "def vowel_count(st):\n",
    "    vc=0\n",
    "    for i in st:\n",
    "        if i in \"aeiouAEIOU\":\n",
    "            vc=vc+1\n",
    "    return vc \n",
    "s=\"Hi aeirou is vowels list. Good to do coding\"\n",
    "ls=s.split()\n",
    "for word in ls:\n",
    "    vc=vowel_count(word)\n",
    "    print(word,vc)"
   ]
  },
  {
   "cell_type": "code",
   "execution_count": 10,
   "id": "8941eff5-8d19-424e-8cff-32bfb8726548",
   "metadata": {},
   "outputs": [
    {
     "name": "stdin",
     "output_type": "stream",
     "text": [
      "Enter value of n 5\n"
     ]
    },
    {
     "name": "stdout",
     "output_type": "stream",
     "text": [
      "factorial of 5 is 120\n"
     ]
    }
   ],
   "source": [
    "def fact(n):\n",
    "    # Base case: \n",
    "    if n == 0:\n",
    "        return 1\n",
    "    else:\n",
    "        # Recursive case: \n",
    "        return n * fact(n - 1)\n",
    "        \n",
    "n=int(input(\"Enter value of n\"))\n",
    "print(f\"factorial of {n} is {fact(n)}\")"
   ]
  },
  {
   "cell_type": "code",
   "execution_count": 28,
   "id": "885dc07f-bf37-4d38-945c-61cef2e449cf",
   "metadata": {},
   "outputs": [
    {
     "name": "stdin",
     "output_type": "stream",
     "text": [
      "Enter value of n 7\n"
     ]
    },
    {
     "ename": "RecursionError",
     "evalue": "maximum recursion depth exceeded",
     "output_type": "error",
     "traceback": [
      "\u001b[1;31m---------------------------------------------------------------------------\u001b[0m",
      "\u001b[1;31mRecursionError\u001b[0m                            Traceback (most recent call last)",
      "Cell \u001b[1;32mIn[28], line 6\u001b[0m\n\u001b[0;32m      3\u001b[0m      \u001b[38;5;28;01mreturn\u001b[39;00m n \u001b[38;5;241m*\u001b[39m fact(n \u001b[38;5;241m-\u001b[39m \u001b[38;5;241m1\u001b[39m)\n\u001b[0;32m      5\u001b[0m n\u001b[38;5;241m=\u001b[39m\u001b[38;5;28mint\u001b[39m(\u001b[38;5;28minput\u001b[39m(\u001b[38;5;124m\"\u001b[39m\u001b[38;5;124mEnter value of n\u001b[39m\u001b[38;5;124m\"\u001b[39m))\n\u001b[1;32m----> 6\u001b[0m \u001b[38;5;28mprint\u001b[39m(\u001b[38;5;124mf\u001b[39m\u001b[38;5;124m\"\u001b[39m\u001b[38;5;124mfactorial of \u001b[39m\u001b[38;5;132;01m{\u001b[39;00mn\u001b[38;5;132;01m}\u001b[39;00m\u001b[38;5;124m is \u001b[39m\u001b[38;5;132;01m{\u001b[39;00mfact(n)\u001b[38;5;132;01m}\u001b[39;00m\u001b[38;5;124m\"\u001b[39m)\n",
      "Cell \u001b[1;32mIn[28], line 3\u001b[0m, in \u001b[0;36mfact\u001b[1;34m(n)\u001b[0m\n\u001b[0;32m      1\u001b[0m \u001b[38;5;28;01mdef\u001b[39;00m \u001b[38;5;21mfact\u001b[39m(n):\n\u001b[0;32m      2\u001b[0m      \u001b[38;5;66;03m# Recursive case: \u001b[39;00m\n\u001b[1;32m----> 3\u001b[0m      \u001b[38;5;28;01mreturn\u001b[39;00m n \u001b[38;5;241m*\u001b[39m fact(n \u001b[38;5;241m-\u001b[39m \u001b[38;5;241m1\u001b[39m)\n",
      "Cell \u001b[1;32mIn[28], line 3\u001b[0m, in \u001b[0;36mfact\u001b[1;34m(n)\u001b[0m\n\u001b[0;32m      1\u001b[0m \u001b[38;5;28;01mdef\u001b[39;00m \u001b[38;5;21mfact\u001b[39m(n):\n\u001b[0;32m      2\u001b[0m      \u001b[38;5;66;03m# Recursive case: \u001b[39;00m\n\u001b[1;32m----> 3\u001b[0m      \u001b[38;5;28;01mreturn\u001b[39;00m n \u001b[38;5;241m*\u001b[39m fact(n \u001b[38;5;241m-\u001b[39m \u001b[38;5;241m1\u001b[39m)\n",
      "    \u001b[1;31m[... skipping similar frames: fact at line 3 (2970 times)]\u001b[0m\n",
      "Cell \u001b[1;32mIn[28], line 3\u001b[0m, in \u001b[0;36mfact\u001b[1;34m(n)\u001b[0m\n\u001b[0;32m      1\u001b[0m \u001b[38;5;28;01mdef\u001b[39;00m \u001b[38;5;21mfact\u001b[39m(n):\n\u001b[0;32m      2\u001b[0m      \u001b[38;5;66;03m# Recursive case: \u001b[39;00m\n\u001b[1;32m----> 3\u001b[0m      \u001b[38;5;28;01mreturn\u001b[39;00m n \u001b[38;5;241m*\u001b[39m fact(n \u001b[38;5;241m-\u001b[39m \u001b[38;5;241m1\u001b[39m)\n",
      "\u001b[1;31mRecursionError\u001b[0m: maximum recursion depth exceeded"
     ]
    }
   ],
   "source": [
    "def fact(n):\n",
    "     # Recursive case: \n",
    "     return n * fact(n - 1)\n",
    "        \n",
    "n=int(input(\"Enter value of n\"))\n",
    "print(f\"factorial of {n} is {fact(n)}\")"
   ]
  },
  {
   "cell_type": "code",
   "execution_count": 1,
   "id": "4677f863-5a98-4e4f-b7d7-27c0d5c92000",
   "metadata": {},
   "outputs": [
    {
     "name": "stdin",
     "output_type": "stream",
     "text": [
      "Enter value of n 5\n"
     ]
    },
    {
     "name": "stdout",
     "output_type": "stream",
     "text": [
      "sum of 5 is 15\n"
     ]
    }
   ],
   "source": [
    "def sum(n):\n",
    "    # Base case: \n",
    "    if n == 1:\n",
    "        return 1\n",
    "    else:\n",
    "        # Recursive case:\n",
    "        return n + sum(n - 1)\n",
    "        \n",
    "n=int(input(\"Enter value of n\"))\n",
    "print(f\"sum of {n} is {sum(n)}\")"
   ]
  },
  {
   "cell_type": "code",
   "execution_count": 5,
   "id": "f9f2cfe8-f4c7-4dc6-9c7f-6ce3c13cee45",
   "metadata": {},
   "outputs": [
    {
     "name": "stdin",
     "output_type": "stream",
     "text": [
      "Enter value of n 15\n"
     ]
    },
    {
     "name": "stdout",
     "output_type": "stream",
     "text": [
      "Fibonacci of 15 is 610\n"
     ]
    }
   ],
   "source": [
    "#generation of particular fibonacci no\n",
    "def fibonacci(n):\n",
    "    # Base case: Fibonacci of 0 is 0, and Fibonacci of 1 is 1\n",
    "    if n == 0:\n",
    "        return 0\n",
    "    elif n == 1:\n",
    "        return 1\n",
    "    else:\n",
    "        # Recursive case: Fibonacci(n) = Fibonacci(n-1) + Fibonacci(n-2)\n",
    "        return fibonacci(n - 1) + fibonacci(n - 2)\n",
    "\n",
    "# Example usage:\n",
    "n=int(input(\"Enter value of n\"))\n",
    "print(f\"Fibonacci of {n} is {fibonacci(n)}\")"
   ]
  },
  {
   "cell_type": "code",
   "execution_count": 19,
   "id": "9a6f8927-fd78-47c5-a24e-56547fffb9f2",
   "metadata": {},
   "outputs": [
    {
     "name": "stdin",
     "output_type": "stream",
     "text": [
      "Enter value of n 45\n"
     ]
    },
    {
     "name": "stdout",
     "output_type": "stream",
     "text": [
      "0 1 1 2 3 5 8 13 21 34 55 89 144 233 377 610 987 1597 2584 4181 6765 10946 17711 28657 46368 75025 121393 196418 317811 514229 832040 1346269 2178309 3524578 5702887 9227465 14930352 24157817 39088169 "
     ]
    },
    {
     "ename": "KeyboardInterrupt",
     "evalue": "",
     "output_type": "error",
     "traceback": [
      "\u001b[1;31m---------------------------------------------------------------------------\u001b[0m",
      "\u001b[1;31mKeyboardInterrupt\u001b[0m                         Traceback (most recent call last)",
      "Cell \u001b[1;32mIn[19], line 15\u001b[0m\n\u001b[0;32m     13\u001b[0m n\u001b[38;5;241m=\u001b[39m\u001b[38;5;28mint\u001b[39m(\u001b[38;5;28minput\u001b[39m(\u001b[38;5;124m\"\u001b[39m\u001b[38;5;124mEnter value of n\u001b[39m\u001b[38;5;124m\"\u001b[39m))\n\u001b[0;32m     14\u001b[0m \u001b[38;5;28;01mfor\u001b[39;00m i \u001b[38;5;129;01min\u001b[39;00m \u001b[38;5;28mrange\u001b[39m(n\u001b[38;5;241m+\u001b[39m\u001b[38;5;241m1\u001b[39m):\n\u001b[1;32m---> 15\u001b[0m     \u001b[38;5;28mprint\u001b[39m(fibonacci(i),end\u001b[38;5;241m=\u001b[39m\u001b[38;5;124m'\u001b[39m\u001b[38;5;124m \u001b[39m\u001b[38;5;124m'\u001b[39m)\n",
      "Cell \u001b[1;32mIn[19], line 10\u001b[0m, in \u001b[0;36mfibonacci\u001b[1;34m(n)\u001b[0m\n\u001b[0;32m      7\u001b[0m     \u001b[38;5;28;01mreturn\u001b[39;00m \u001b[38;5;241m1\u001b[39m\n\u001b[0;32m      8\u001b[0m \u001b[38;5;28;01melse\u001b[39;00m:\n\u001b[0;32m      9\u001b[0m     \u001b[38;5;66;03m# Recursive case: Fibonacci(n) = Fibonacci(n-1) + Fibonacci(n-2)\u001b[39;00m\n\u001b[1;32m---> 10\u001b[0m     \u001b[38;5;28;01mreturn\u001b[39;00m fibonacci(n \u001b[38;5;241m-\u001b[39m \u001b[38;5;241m1\u001b[39m) \u001b[38;5;241m+\u001b[39m fibonacci(n \u001b[38;5;241m-\u001b[39m \u001b[38;5;241m2\u001b[39m)\n",
      "Cell \u001b[1;32mIn[19], line 10\u001b[0m, in \u001b[0;36mfibonacci\u001b[1;34m(n)\u001b[0m\n\u001b[0;32m      7\u001b[0m     \u001b[38;5;28;01mreturn\u001b[39;00m \u001b[38;5;241m1\u001b[39m\n\u001b[0;32m      8\u001b[0m \u001b[38;5;28;01melse\u001b[39;00m:\n\u001b[0;32m      9\u001b[0m     \u001b[38;5;66;03m# Recursive case: Fibonacci(n) = Fibonacci(n-1) + Fibonacci(n-2)\u001b[39;00m\n\u001b[1;32m---> 10\u001b[0m     \u001b[38;5;28;01mreturn\u001b[39;00m fibonacci(n \u001b[38;5;241m-\u001b[39m \u001b[38;5;241m1\u001b[39m) \u001b[38;5;241m+\u001b[39m fibonacci(n \u001b[38;5;241m-\u001b[39m \u001b[38;5;241m2\u001b[39m)\n",
      "    \u001b[1;31m[... skipping similar frames: fibonacci at line 10 (19 times)]\u001b[0m\n",
      "Cell \u001b[1;32mIn[19], line 10\u001b[0m, in \u001b[0;36mfibonacci\u001b[1;34m(n)\u001b[0m\n\u001b[0;32m      7\u001b[0m     \u001b[38;5;28;01mreturn\u001b[39;00m \u001b[38;5;241m1\u001b[39m\n\u001b[0;32m      8\u001b[0m \u001b[38;5;28;01melse\u001b[39;00m:\n\u001b[0;32m      9\u001b[0m     \u001b[38;5;66;03m# Recursive case: Fibonacci(n) = Fibonacci(n-1) + Fibonacci(n-2)\u001b[39;00m\n\u001b[1;32m---> 10\u001b[0m     \u001b[38;5;28;01mreturn\u001b[39;00m fibonacci(n \u001b[38;5;241m-\u001b[39m \u001b[38;5;241m1\u001b[39m) \u001b[38;5;241m+\u001b[39m fibonacci(n \u001b[38;5;241m-\u001b[39m \u001b[38;5;241m2\u001b[39m)\n",
      "Cell \u001b[1;32mIn[19], line 2\u001b[0m, in \u001b[0;36mfibonacci\u001b[1;34m(n)\u001b[0m\n\u001b[0;32m      1\u001b[0m \u001b[38;5;66;03m#generation of particular fibonacci no\u001b[39;00m\n\u001b[1;32m----> 2\u001b[0m \u001b[38;5;28;01mdef\u001b[39;00m \u001b[38;5;21mfibonacci\u001b[39m(n):\n\u001b[0;32m      3\u001b[0m     \u001b[38;5;66;03m# Base case: Fibonacci of 0 is 0, and Fibonacci of 1 is 1\u001b[39;00m\n\u001b[0;32m      4\u001b[0m     \u001b[38;5;28;01mif\u001b[39;00m n \u001b[38;5;241m==\u001b[39m \u001b[38;5;241m0\u001b[39m:\n\u001b[0;32m      5\u001b[0m         \u001b[38;5;28;01mreturn\u001b[39;00m \u001b[38;5;241m0\u001b[39m\n",
      "\u001b[1;31mKeyboardInterrupt\u001b[0m: "
     ]
    }
   ],
   "source": [
    "#generation of particular fibonacci no\n",
    "def fibonacci(n):\n",
    "    # Base case: Fibonacci of 0 is 0, and Fibonacci of 1 is 1\n",
    "    if n == 0:\n",
    "        return 0\n",
    "    elif n == 1:\n",
    "        return 1\n",
    "    else:\n",
    "        # Recursive case: Fibonacci(n) = Fibonacci(n-1) + Fibonacci(n-2)\n",
    "        return fibonacci(n - 1) + fibonacci(n - 2)\n",
    "\n",
    "# Example usage:\n",
    "n=int(input(\"Enter value of n\"))\n",
    "for i in range(n+1):\n",
    "    print(fibonacci(i),end=' ')"
   ]
  },
  {
   "cell_type": "code",
   "execution_count": 9,
   "id": "268e861d-e8bf-4682-8a8b-dc7a7967cfb2",
   "metadata": {},
   "outputs": [
    {
     "name": "stdin",
     "output_type": "stream",
     "text": [
      "enter a string Hi welocme to Python\n"
     ]
    },
    {
     "name": "stdout",
     "output_type": "stream",
     "text": [
      "i welocme to Python\n",
      " welocme to Python\n",
      "welocme to Python\n",
      "elocme to Python\n",
      "locme to Python\n",
      "ocme to Python\n",
      "cme to Python\n",
      "me to Python\n",
      "e to Python\n",
      " to Python\n",
      "to Python\n",
      "o Python\n",
      " Python\n",
      "Python\n",
      "ython\n",
      "thon\n",
      "hon\n",
      "on\n",
      "n\n",
      "\n",
      "The length of the string 'Hi welocme to Python' is 20\n"
     ]
    }
   ],
   "source": [
    "def string_length(s):\n",
    "    # Base case: if the string is empty, its length is 0\n",
    "    if s == \"\":\n",
    "        return 0\n",
    "    else:\n",
    "        # Recursive case: 1 + the length of the rest of the string\n",
    "        print(s[1:])\n",
    "        return 1 + string_length(s[1:])\n",
    "\n",
    "# Example usage:\n",
    "input_string = input(\"enter a string\")\n",
    "print(f\"The length of the string '{input_string}' is {string_length(input_string)}\")"
   ]
  },
  {
   "cell_type": "code",
   "execution_count": 7,
   "id": "9ff0a82e-7116-4a1a-a96a-4f9bd4d0e79e",
   "metadata": {},
   "outputs": [
    {
     "name": "stdin",
     "output_type": "stream",
     "text": [
      "Enter number 3\n",
      "Enter exponent 4\n"
     ]
    },
    {
     "name": "stdout",
     "output_type": "stream",
     "text": [
      "81\n"
     ]
    }
   ],
   "source": [
    "def power(a,b):\n",
    "    if b==1:\n",
    "        return a\n",
    "    else:\n",
    "        return a*power(a,b-1)\n",
    "        \n",
    "a=int(input(\"Enter number\"))\n",
    "b=int(input(\"Enter exponent\"))\n",
    "print(power(a,b))"
   ]
  },
  {
   "cell_type": "code",
   "execution_count": 9,
   "id": "b9b9f474-279c-4d9b-a893-c8bcc6ce8fd7",
   "metadata": {},
   "outputs": [
    {
     "name": "stdin",
     "output_type": "stream",
     "text": [
      "Enter number 4\n",
      "Enter number 5\n"
     ]
    },
    {
     "name": "stdout",
     "output_type": "stream",
     "text": [
      "20\n"
     ]
    }
   ],
   "source": [
    "def product(a,b):\n",
    "    if b==0:\n",
    "        return 0\n",
    "    else:\n",
    "        return a+product(a,b-1)\n",
    "        \n",
    "a=int(input(\"Enter number\"))\n",
    "b=int(input(\"Enter number\"))\n",
    "print(product(a,b))"
   ]
  },
  {
   "cell_type": "code",
   "execution_count": 35,
   "id": "64719e7e-423a-4eee-866b-22dba7f626d6",
   "metadata": {},
   "outputs": [
    {
     "name": "stdout",
     "output_type": "stream",
     "text": [
      "GCD :  5\n"
     ]
    }
   ],
   "source": [
    "def gcd(m,n): #Recursive Function\n",
    "     if m == n:#terminatingcondition\n",
    "         return m\n",
    "     elif m > n :\n",
    "         return gcd(m-n, n)\n",
    "     else:\n",
    "         return gcd(m,n-m)\n",
    "     \n",
    "    \n",
    "print(\"GCD : \",gcd(505, 120))"
   ]
  },
  {
   "cell_type": "code",
   "execution_count": 86,
   "id": "be8e2c5e-06ca-4ea3-ab15-1425b21405b8",
   "metadata": {},
   "outputs": [
    {
     "name": "stdout",
     "output_type": "stream",
     "text": [
      "GCD :  5\n"
     ]
    }
   ],
   "source": [
    "def gcd(m,n): #Recursive Function\n",
    "    while True:\n",
    "       if m>n:\n",
    "        m=m-n\n",
    "       elif n>m:\n",
    "        n=n-m\n",
    "       else:\n",
    "        return m\n",
    "    \n",
    "print(\"GCD : \",gcd(5, 10))"
   ]
  },
  {
   "cell_type": "code",
   "execution_count": 24,
   "id": "a10a56a8-4818-40bd-817a-76d3997d3744",
   "metadata": {},
   "outputs": [
    {
     "name": "stdin",
     "output_type": "stream",
     "text": [
      "enter a string welcome\n"
     ]
    },
    {
     "name": "stdout",
     "output_type": "stream",
     "text": [
      "elcome\n",
      "elcom\n",
      "elco\n",
      "elc\n",
      "el\n",
      "e\n",
      "\n",
      "The length of the string 'welcome' is 7\n"
     ]
    }
   ],
   "source": [
    "def string_length(s):\n",
    "    # Base case: if the string is empty, its length is 0\n",
    "    if s == \"\":\n",
    "        return 0\n",
    "    else:\n",
    "        # Recursive case: 1 + the length of the rest of the string\n",
    "        print(s[1:])\n",
    "        return 1 + string_length(s[:-1])\n",
    "\n",
    "# Example usage:\n",
    "input_string = input(\"enter a string\")\n",
    "print(f\"The length of the string '{input_string}' is {string_length(input_string)}\")"
   ]
  },
  {
   "cell_type": "code",
   "execution_count": 13,
   "id": "98e53a34-305d-4324-8a27-4d4ebded6d30",
   "metadata": {},
   "outputs": [
    {
     "name": "stdout",
     "output_type": "stream",
     "text": [
      "The sum of the first 5 natural numbers is 15\n"
     ]
    }
   ],
   "source": [
    "def sumofnatural(n):\n",
    "    # Base case: if n is 0, the sum is 0\n",
    "    if n == 0:\n",
    "        return 0\n",
    "    else:\n",
    "        # Recursive case: Sum(n) = n + Sum(n-1)\n",
    "        return n + sumofnatural(n - 1)\n",
    "\n",
    "# Example usage:\n",
    "n = 5\n",
    "print(f\"The sum of the first {n} natural numbers is {sumofnatural(n)}\")"
   ]
  },
  {
   "cell_type": "code",
   "execution_count": 1,
   "id": "da12aa59-dbee-4f47-b7c6-03db509e008f",
   "metadata": {},
   "outputs": [
    {
     "name": "stdout",
     "output_type": "stream",
     "text": [
      "hello\n",
      "hello\n",
      "hello\n",
      "hello\n",
      "hello\n",
      "hello\n",
      "hello\n",
      "hello\n",
      "hello\n",
      "hello\n",
      "hello\n",
      "hello\n",
      "hello\n",
      "hello\n",
      "hello\n",
      "hello\n",
      "hello\n",
      "hello\n",
      "hello\n",
      "hello\n",
      "hello\n",
      "hello\n",
      "hello\n",
      "hello\n",
      "hello\n",
      "hello\n",
      "hello\n",
      "hello\n",
      "hello\n",
      "hello\n",
      "hello\n",
      "hello\n",
      "hello\n",
      "hello\n",
      "hello\n",
      "hello\n",
      "hello\n",
      "hello\n",
      "hello\n",
      "hello\n",
      "hello\n",
      "hello\n",
      "hello\n",
      "hello\n",
      "hello\n",
      "hello\n",
      "hello\n",
      "hello\n",
      "hello\n",
      "hello\n",
      "hello\n",
      "hello\n",
      "hello\n",
      "hello\n",
      "hello\n",
      "hello\n",
      "hello\n",
      "hello\n",
      "hello\n",
      "hello\n",
      "hello\n",
      "hello\n",
      "hello\n",
      "hello\n",
      "hello\n",
      "hello\n",
      "hello\n",
      "hello\n",
      "hello\n",
      "hello\n",
      "hello\n",
      "hello\n",
      "hello\n",
      "hello\n",
      "hello\n",
      "hello\n",
      "hello\n",
      "hello\n",
      "hello\n",
      "hello\n",
      "hello\n",
      "hello\n",
      "hello\n",
      "hello\n",
      "hello\n",
      "hello\n",
      "hello\n",
      "hello\n",
      "hello\n",
      "hello\n",
      "hello\n",
      "hello\n",
      "hello\n",
      "hello\n",
      "hello\n",
      "hello\n",
      "hello\n",
      "hello\n",
      "hello\n",
      "hello\n",
      "hello\n",
      "hello\n",
      "hello\n",
      "hello\n",
      "hello\n",
      "hello\n",
      "hello\n",
      "hello\n",
      "hello\n",
      "hello\n",
      "hello\n",
      "hello\n",
      "hello\n",
      "hello\n",
      "hello\n",
      "hello\n",
      "hello\n",
      "hello\n",
      "hello\n",
      "hello\n",
      "hello\n",
      "hello\n",
      "hello\n",
      "hello\n",
      "hello\n",
      "hello\n",
      "hello\n",
      "hello\n",
      "hello\n",
      "hello\n",
      "hello\n",
      "hello\n",
      "hello\n",
      "hello\n",
      "hello\n",
      "hello\n",
      "hello\n",
      "hello\n",
      "hello\n",
      "hello\n",
      "hello\n",
      "hello\n",
      "hello\n",
      "hello\n",
      "hello\n",
      "hello\n",
      "hello\n",
      "hello\n",
      "hello\n",
      "hello\n",
      "hello\n",
      "hello\n",
      "hello\n",
      "hello\n",
      "hello\n",
      "hello\n",
      "hello\n",
      "hello\n",
      "hello\n",
      "hello\n",
      "hello\n",
      "hello\n",
      "hello\n",
      "hello\n",
      "hello\n",
      "hello\n",
      "hello\n",
      "hello\n",
      "hello\n",
      "hello\n",
      "hello\n",
      "hello\n",
      "hello\n",
      "hello\n",
      "hello\n",
      "hello\n",
      "hello\n",
      "hello\n",
      "hello\n",
      "hello\n",
      "hello\n",
      "hello\n",
      "hello\n",
      "hello\n",
      "hello\n",
      "hello\n",
      "hello\n",
      "hello\n",
      "hello\n",
      "hello\n",
      "hello\n",
      "hello\n",
      "hello\n",
      "hello\n",
      "hello\n",
      "hello\n",
      "hello\n",
      "hello\n",
      "hello\n",
      "hello\n",
      "hello\n",
      "hello\n",
      "hello\n",
      "hello\n",
      "hello\n",
      "hello\n",
      "hello\n",
      "hello\n",
      "hello\n",
      "hello\n",
      "hello\n",
      "hello\n",
      "hello\n",
      "hello\n",
      "hello\n",
      "hello\n",
      "hello\n",
      "hello\n",
      "hello\n",
      "hello\n",
      "hello\n",
      "hello\n",
      "hello\n",
      "hello\n",
      "hello\n",
      "hello\n",
      "hello\n",
      "hello\n",
      "hello\n",
      "hello\n",
      "hello\n",
      "hello\n",
      "hello\n",
      "hello\n",
      "hello\n",
      "hello\n",
      "hello\n",
      "hello\n",
      "hello\n",
      "hello\n",
      "hello\n",
      "hello\n",
      "hello\n",
      "hello\n",
      "hello\n",
      "hello\n",
      "hello\n",
      "hello\n",
      "hello\n",
      "hello\n",
      "hello\n",
      "hello\n",
      "hello\n",
      "hello\n",
      "hello\n",
      "hello\n",
      "hello\n",
      "hello\n",
      "hello\n",
      "hello\n",
      "hello\n",
      "hello\n",
      "hello\n",
      "hello\n",
      "hello\n",
      "hello\n",
      "hello\n",
      "hello\n",
      "hello\n",
      "hello\n",
      "hello\n",
      "hello\n",
      "hello\n",
      "hello\n",
      "hello\n",
      "hello\n",
      "hello\n",
      "hello\n",
      "hello\n",
      "hello\n",
      "hello\n",
      "hello\n",
      "hello\n",
      "hello\n",
      "hello\n",
      "hello\n",
      "hello\n",
      "hello\n",
      "hello\n",
      "hello\n",
      "hello\n",
      "hello\n",
      "hello\n",
      "hello\n",
      "hello\n",
      "hello\n",
      "hello\n",
      "hello\n",
      "hello\n",
      "hello\n",
      "hello\n",
      "hello\n",
      "hello\n",
      "hello\n",
      "hello\n",
      "hello\n",
      "hello\n",
      "hello\n",
      "hello\n",
      "hello\n",
      "hello\n",
      "hello\n",
      "hello\n",
      "hello\n",
      "hello\n",
      "hello\n",
      "hello\n",
      "hello\n",
      "hello\n",
      "hello\n",
      "hello\n",
      "hello\n",
      "hello\n",
      "hello\n",
      "hello\n",
      "hello\n",
      "hello\n",
      "hello\n",
      "hello\n",
      "hello\n",
      "hello\n",
      "hello\n",
      "hello\n",
      "hello\n",
      "hello\n",
      "hello\n",
      "hello\n",
      "hello\n",
      "hello\n",
      "hello\n",
      "hello\n",
      "hello\n",
      "hello\n",
      "hello\n",
      "hello\n",
      "hello\n",
      "hello\n",
      "hello\n",
      "hello\n",
      "hello\n",
      "hello\n",
      "hello\n",
      "hello\n",
      "hello\n",
      "hello\n",
      "hello\n",
      "hello\n",
      "hello\n",
      "hello\n",
      "hello\n",
      "hello\n",
      "hello\n",
      "hello\n",
      "hello\n",
      "hello\n",
      "hello\n",
      "hello\n",
      "hello\n",
      "hello\n",
      "hello\n",
      "hello\n",
      "hello\n",
      "hello\n",
      "hello\n",
      "hello\n",
      "hello\n",
      "hello\n",
      "hello\n",
      "hello\n",
      "hello\n",
      "hello\n",
      "hello\n",
      "hello\n",
      "hello\n",
      "hello\n",
      "hello\n",
      "hello\n",
      "hello\n",
      "hello\n",
      "hello\n",
      "hello\n",
      "hello\n",
      "hello\n",
      "hello\n",
      "hello\n",
      "hello\n",
      "hello\n",
      "hello\n",
      "hello\n",
      "hello\n",
      "hello\n",
      "hello\n",
      "hello\n",
      "hello\n",
      "hello\n",
      "hello\n",
      "hello\n",
      "hello\n",
      "hello\n",
      "hello\n",
      "hello\n",
      "hello\n",
      "hello\n",
      "hello\n",
      "hello\n",
      "hello\n",
      "hello\n",
      "hello\n",
      "hello\n",
      "hello\n",
      "hello\n",
      "hello\n",
      "hello\n",
      "hello\n",
      "hello\n",
      "hello\n",
      "hello\n",
      "hello\n",
      "hello\n",
      "hello\n",
      "hello\n",
      "hello\n",
      "hello\n",
      "hello\n",
      "hello\n",
      "hello\n",
      "hello\n",
      "hello\n",
      "hello\n",
      "hello\n",
      "hello\n",
      "hello\n",
      "hello\n",
      "hello\n",
      "hello\n",
      "hello\n",
      "hello\n",
      "hello\n",
      "hello\n",
      "hello\n",
      "hello\n",
      "hello\n",
      "hello\n",
      "hello\n",
      "hello\n",
      "hello\n",
      "hello\n",
      "hello\n",
      "hello\n",
      "hello\n",
      "hello\n",
      "hello\n",
      "hello\n",
      "hello\n",
      "hello\n",
      "hello\n",
      "hello\n",
      "hello\n",
      "hello\n",
      "hello\n",
      "hello\n",
      "hello\n",
      "hello\n",
      "hello\n",
      "hello\n",
      "hello\n",
      "hello\n",
      "hello\n",
      "hello\n",
      "hello\n",
      "hello\n",
      "hello\n",
      "hello\n",
      "hello\n",
      "hello\n",
      "hello\n",
      "hello\n",
      "hello\n",
      "hello\n",
      "hello\n",
      "hello\n",
      "hello\n",
      "hello\n",
      "hello\n",
      "hello\n",
      "hello\n",
      "hello\n",
      "hello\n",
      "hello\n",
      "hello\n",
      "hello\n",
      "hello\n",
      "hello\n",
      "hello\n",
      "hello\n",
      "hello\n",
      "hello\n",
      "hello\n",
      "hello\n",
      "hello\n",
      "hello\n",
      "hello\n",
      "hello\n",
      "hello\n",
      "hello\n",
      "hello\n",
      "hello\n",
      "hello\n",
      "hello\n",
      "hello\n",
      "hello\n",
      "hello\n",
      "hello\n",
      "hello\n",
      "hello\n",
      "hello\n",
      "hello\n",
      "hello\n",
      "hello\n",
      "hello\n",
      "hello\n",
      "hello\n",
      "hello\n",
      "hello\n",
      "hello\n",
      "hello\n",
      "hello\n",
      "hello\n",
      "hello\n",
      "hello\n",
      "hello\n",
      "hello\n",
      "hello\n",
      "hello\n",
      "hello\n",
      "hello\n",
      "hello\n",
      "hello\n",
      "hello\n",
      "hello\n",
      "hello\n",
      "hello\n",
      "hello\n",
      "hello\n",
      "hello\n",
      "hello\n",
      "hello\n",
      "hello\n",
      "hello\n",
      "hello\n",
      "hello\n",
      "hello\n",
      "hello\n",
      "hello\n",
      "hello\n",
      "hello\n",
      "hello\n",
      "hello\n",
      "hello\n",
      "hello\n",
      "hello\n",
      "hello\n",
      "hello\n",
      "hello\n",
      "hello\n",
      "hello\n",
      "hello\n",
      "hello\n",
      "hello\n",
      "hello\n",
      "hello\n",
      "hello\n",
      "hello\n",
      "hello\n",
      "hello\n",
      "hello\n",
      "hello\n",
      "hello\n",
      "hello\n",
      "hello\n",
      "hello\n",
      "hello\n",
      "hello\n",
      "hello\n",
      "hello\n",
      "hello\n",
      "hello\n",
      "hello\n",
      "hello\n",
      "hello\n",
      "hello\n",
      "hello\n",
      "hello\n",
      "hello\n",
      "hello\n",
      "hello\n",
      "hello\n",
      "hello\n",
      "hello\n",
      "hello\n",
      "hello\n",
      "hello\n",
      "hello\n",
      "hello\n",
      "hello\n",
      "hello\n",
      "hello\n",
      "hello\n",
      "hello\n",
      "hello\n",
      "hello\n",
      "hello\n",
      "hello\n",
      "hello\n",
      "hello\n",
      "hello\n",
      "hello\n",
      "hello\n",
      "hello\n",
      "hello\n",
      "hello\n",
      "hello\n",
      "hello\n",
      "hello\n",
      "hello\n",
      "hello\n",
      "hello\n",
      "hello\n",
      "hello\n",
      "hello\n",
      "hello\n",
      "hello\n",
      "hello\n",
      "hello\n",
      "hello\n",
      "hello\n",
      "hello\n",
      "hello\n",
      "hello\n",
      "hello\n",
      "hello\n",
      "hello\n",
      "hello\n",
      "hello\n",
      "hello\n",
      "hello\n",
      "hello\n",
      "hello\n",
      "hello\n",
      "hello\n",
      "hello\n",
      "hello\n",
      "hello\n",
      "hello\n",
      "hello\n",
      "hello\n",
      "hello\n",
      "hello\n",
      "hello\n",
      "hello\n",
      "hello\n",
      "hello\n",
      "hello\n",
      "hello\n",
      "hello\n",
      "hello\n",
      "hello\n",
      "hello\n",
      "hello\n",
      "hello\n",
      "hello\n",
      "hello\n",
      "hello\n",
      "hello\n",
      "hello\n",
      "hello\n",
      "hello\n",
      "hello\n",
      "hello\n",
      "hello\n",
      "hello\n",
      "hello\n",
      "hello\n",
      "hello\n",
      "hello\n",
      "hello\n",
      "hello\n",
      "hello\n",
      "hello\n",
      "hello\n",
      "hello\n",
      "hello\n",
      "hello\n",
      "hello\n",
      "hello\n",
      "hello\n",
      "hello\n",
      "hello\n",
      "hello\n",
      "hello\n",
      "hello\n",
      "hello\n",
      "hello\n",
      "hello\n",
      "hello\n",
      "hello\n",
      "hello\n",
      "hello\n",
      "hello\n",
      "hello\n",
      "hello\n",
      "hello\n",
      "hello\n",
      "hello\n",
      "hello\n",
      "hello\n",
      "hello\n",
      "hello\n",
      "hello\n",
      "hello\n",
      "hello\n",
      "hello\n",
      "hello\n",
      "hello\n",
      "hello\n",
      "hello\n",
      "hello\n",
      "hello\n",
      "hello\n",
      "hello\n",
      "hello\n",
      "hello\n",
      "hello\n",
      "hello\n",
      "hello\n",
      "hello\n",
      "hello\n",
      "hello\n",
      "hello\n",
      "hello\n",
      "hello\n",
      "hello\n",
      "hello\n",
      "hello\n",
      "hello\n",
      "hello\n",
      "hello\n",
      "hello\n",
      "hello\n",
      "hello\n",
      "hello\n",
      "hello\n",
      "hello\n",
      "hello\n",
      "hello\n",
      "hello\n",
      "hello\n",
      "hello\n",
      "hello\n",
      "hello\n",
      "hello\n",
      "hello\n",
      "hello\n",
      "hello\n",
      "hello\n",
      "hello\n",
      "hello\n",
      "hello\n",
      "hello\n",
      "hello\n",
      "hello\n",
      "hello\n",
      "hello\n",
      "hello\n",
      "hello\n",
      "hello\n",
      "hello\n",
      "hello\n",
      "hello\n",
      "hello\n",
      "hello\n",
      "hello\n",
      "hello\n",
      "hello\n",
      "hello\n",
      "hello\n",
      "hello\n",
      "hello\n",
      "hello\n",
      "hello\n",
      "hello\n",
      "hello\n",
      "hello\n",
      "hello\n",
      "hello\n",
      "hello\n",
      "hello\n",
      "hello\n",
      "hello\n",
      "hello\n",
      "hello\n",
      "hello\n",
      "hello\n",
      "hello\n",
      "hello\n",
      "hello\n",
      "hello\n",
      "hello\n",
      "hello\n",
      "hello\n",
      "hello\n",
      "hello\n",
      "hello\n",
      "hello\n",
      "hello\n",
      "hello\n",
      "hello\n",
      "hello\n",
      "hello\n",
      "hello\n",
      "hello\n",
      "hello\n",
      "hello\n",
      "hello\n",
      "hello\n",
      "hello\n",
      "hello\n",
      "hello\n",
      "hello\n",
      "hello\n",
      "hello\n",
      "hello\n",
      "hello\n",
      "hello\n",
      "hello\n",
      "hello\n",
      "hello\n",
      "hello\n",
      "hello\n",
      "hello\n",
      "hello\n",
      "hello\n",
      "hello\n",
      "hello\n",
      "hello\n",
      "hello\n",
      "hello\n",
      "hello\n",
      "hello\n",
      "hello\n",
      "hello\n",
      "hello\n",
      "hello\n",
      "hello\n",
      "hello\n",
      "hello\n",
      "hello\n",
      "hello\n",
      "hello\n",
      "hello\n",
      "hello\n",
      "hello\n",
      "hello\n",
      "hello\n",
      "hello\n",
      "hello\n",
      "hello\n",
      "hello\n",
      "hello\n",
      "hello\n",
      "hello\n",
      "hello\n",
      "hello\n",
      "hello\n",
      "hello\n",
      "hello\n",
      "hello\n",
      "hello\n",
      "hello\n",
      "hello\n",
      "hello\n",
      "hello\n",
      "hello\n",
      "hello\n",
      "hello\n",
      "hello\n",
      "hello\n",
      "hello\n",
      "hello\n",
      "hello\n",
      "hello\n",
      "hello\n",
      "hello\n",
      "hello\n",
      "hello\n",
      "hello\n",
      "hello\n",
      "hello\n",
      "hello\n",
      "hello\n",
      "hello\n",
      "hello\n",
      "hello\n",
      "hello\n",
      "hello\n",
      "hello\n",
      "hello\n",
      "hello\n",
      "hello\n",
      "hello\n",
      "hello\n",
      "hello\n",
      "hello\n",
      "hello\n",
      "hello\n",
      "hello\n",
      "hello\n",
      "hello\n",
      "hello\n",
      "hello\n",
      "hello\n",
      "hello\n",
      "hello\n",
      "hello\n",
      "hello\n",
      "hello\n",
      "hello\n",
      "hello\n",
      "hello\n",
      "hello\n",
      "hello\n",
      "hello\n",
      "hello\n",
      "hello\n",
      "hello\n",
      "hello\n",
      "hello\n",
      "hello\n",
      "hello\n",
      "hello\n",
      "hello\n",
      "hello\n",
      "hello\n",
      "hello\n",
      "hello\n",
      "hello\n",
      "hello\n",
      "hello\n",
      "hello\n",
      "hello\n",
      "hello\n",
      "hello\n",
      "hello\n",
      "hello\n",
      "hello\n",
      "hello\n",
      "hello\n",
      "hello\n",
      "hello\n",
      "hello\n",
      "hello\n",
      "hello\n",
      "hello\n",
      "hello\n",
      "hello\n",
      "hello\n",
      "hello\n",
      "hello\n",
      "hello\n",
      "hello\n",
      "hello\n",
      "hello\n",
      "hello\n",
      "hello\n",
      "hello\n",
      "hello\n",
      "hello\n",
      "hello\n",
      "hello\n",
      "hello\n",
      "hello\n",
      "hello\n",
      "hello\n",
      "hello\n",
      "hello\n",
      "hello\n",
      "hello\n",
      "hello\n",
      "hello\n",
      "hello\n",
      "hello\n",
      "hello\n",
      "hello\n",
      "hello\n",
      "hello\n",
      "hello\n",
      "hello\n",
      "hello\n",
      "hello\n",
      "hello\n",
      "hello\n",
      "hello\n",
      "hello\n",
      "hello\n",
      "hello\n",
      "hello\n",
      "hello\n",
      "hello\n",
      "hello\n",
      "hello\n",
      "hello\n",
      "hello\n",
      "hello\n",
      "hello\n",
      "hello\n",
      "hello\n",
      "hello\n",
      "hello\n",
      "hello\n",
      "hello\n",
      "hello\n",
      "hello\n",
      "hello\n",
      "hello\n",
      "hello\n",
      "hello\n",
      "hello\n",
      "hello\n",
      "hello\n",
      "hello\n",
      "hello\n",
      "hello\n",
      "hello\n",
      "hello\n",
      "hello\n",
      "hello\n",
      "hello\n",
      "hello\n",
      "hello\n",
      "hello\n",
      "hello\n",
      "hello\n",
      "hello\n",
      "hello\n",
      "hello\n",
      "hello\n",
      "hello\n",
      "hello\n",
      "hello\n",
      "hello\n",
      "hello\n",
      "hello\n",
      "hello\n",
      "hello\n",
      "hello\n",
      "hello\n",
      "hello\n",
      "hello\n",
      "hello\n",
      "hello\n",
      "hello\n",
      "hello\n",
      "hello\n",
      "hello\n",
      "hello\n",
      "hello\n",
      "hello\n",
      "hello\n",
      "hello\n",
      "hello\n",
      "hello\n",
      "hello\n",
      "hello\n",
      "hello\n",
      "hello\n",
      "hello\n",
      "hello\n",
      "hello\n",
      "hello\n",
      "hello\n",
      "hello\n",
      "hello\n",
      "hello\n",
      "hello\n",
      "hello\n",
      "hello\n",
      "hello\n",
      "hello\n",
      "hello\n",
      "hello\n",
      "hello\n",
      "hello\n",
      "hello\n",
      "hello\n",
      "hello\n",
      "hello\n",
      "hello\n",
      "hello\n",
      "hello\n",
      "hello\n",
      "hello\n",
      "hello\n",
      "hello\n",
      "hello\n",
      "hello\n",
      "hello\n",
      "hello\n",
      "hello\n",
      "hello\n",
      "hello\n",
      "hello\n",
      "hello\n",
      "hello\n",
      "hello\n",
      "hello\n",
      "hello\n",
      "hello\n",
      "hello\n",
      "hello\n",
      "hello\n",
      "hello\n",
      "hello\n",
      "hello\n",
      "hello\n",
      "hello\n",
      "hello\n",
      "hello\n",
      "hello\n",
      "hello\n",
      "hello\n",
      "hello\n",
      "hello\n",
      "hello\n",
      "hello\n",
      "hello\n",
      "hello\n",
      "hello\n",
      "hello\n",
      "hello\n",
      "hello\n",
      "hello\n",
      "hello\n",
      "hello\n",
      "hello\n",
      "hello\n",
      "hello\n",
      "hello\n",
      "hello\n",
      "hello\n",
      "hello\n",
      "hello\n",
      "hello\n",
      "hello\n",
      "hello\n",
      "hello\n",
      "hello\n",
      "hello\n",
      "hello\n",
      "hello\n",
      "hello\n",
      "hello\n",
      "hello\n",
      "hello\n",
      "hello\n",
      "hello\n",
      "hello\n",
      "hello\n",
      "hello\n",
      "hello\n",
      "hello\n",
      "hello\n",
      "hello\n",
      "hello\n",
      "hello\n",
      "hello\n",
      "hello\n",
      "hello\n",
      "hello\n",
      "hello\n",
      "hello\n",
      "hello\n",
      "hello\n",
      "hello\n",
      "hello\n",
      "hello\n",
      "hello\n",
      "hello\n",
      "hello\n",
      "hello\n",
      "hello\n",
      "hello\n",
      "hello\n",
      "hello\n",
      "hello\n",
      "hello\n",
      "hello\n",
      "hello\n",
      "hello\n",
      "hello\n",
      "hello\n",
      "hello\n",
      "hello\n",
      "hello\n",
      "hello\n",
      "hello\n",
      "hello\n",
      "hello\n",
      "hello\n",
      "hello\n",
      "hello\n",
      "hello\n",
      "hello\n",
      "hello\n",
      "hello\n",
      "hello\n",
      "hello\n",
      "hello\n",
      "hello\n",
      "hello\n",
      "hello\n",
      "hello\n",
      "hello\n",
      "hello\n",
      "hello\n",
      "hello\n",
      "hello\n",
      "hello\n",
      "hello\n",
      "hello\n",
      "hello\n",
      "hello\n",
      "hello\n",
      "hello\n",
      "hello\n",
      "hello\n",
      "hello\n",
      "hello\n",
      "hello\n",
      "hello\n",
      "hello\n",
      "hello\n",
      "hello\n",
      "hello\n",
      "hello\n",
      "hello\n",
      "hello\n",
      "hello\n",
      "hello\n",
      "hello\n",
      "hello\n",
      "hello\n",
      "hello\n",
      "hello\n",
      "hello\n",
      "hello\n",
      "hello\n",
      "hello\n",
      "hello\n",
      "hello\n",
      "hello\n",
      "hello\n",
      "hello\n",
      "hello\n",
      "hello\n",
      "hello\n",
      "hello\n",
      "hello\n",
      "hello\n",
      "hello\n",
      "hello\n",
      "hello\n",
      "hello\n",
      "hello\n",
      "hello\n",
      "hello\n",
      "hello\n",
      "hello\n",
      "hello\n",
      "hello\n",
      "hello\n",
      "hello\n",
      "hello\n",
      "hello\n",
      "hello\n",
      "hello\n",
      "hello\n",
      "hello\n",
      "hello\n",
      "hello\n",
      "hello\n",
      "hello\n",
      "hello\n",
      "hello\n",
      "hello\n",
      "hello\n",
      "hello\n",
      "hello\n",
      "hello\n",
      "hello\n",
      "hello\n",
      "hello\n",
      "hello\n",
      "hello\n",
      "hello\n",
      "hello\n",
      "hello\n",
      "hello\n",
      "hello\n",
      "hello\n",
      "hello\n",
      "hello\n",
      "hello\n",
      "hello\n",
      "hello\n",
      "hello\n",
      "hello\n",
      "hello\n",
      "hello\n",
      "hello\n",
      "hello\n",
      "hello\n",
      "hello\n",
      "hello\n",
      "hello\n",
      "hello\n",
      "hello\n",
      "hello\n",
      "hello\n",
      "hello\n",
      "hello\n",
      "hello\n",
      "hello\n",
      "hello\n",
      "hello\n",
      "hello\n",
      "hello\n",
      "hello\n",
      "hello\n",
      "hello\n",
      "hello\n",
      "hello\n",
      "hello\n",
      "hello\n",
      "hello\n",
      "hello\n",
      "hello\n",
      "hello\n",
      "hello\n",
      "hello\n",
      "hello\n",
      "hello\n",
      "hello\n",
      "hello\n",
      "hello\n",
      "hello\n",
      "hello\n",
      "hello\n",
      "hello\n",
      "hello\n",
      "hello\n",
      "hello\n",
      "hello\n",
      "hello\n",
      "hello\n",
      "hello\n",
      "hello\n",
      "hello\n",
      "hello\n",
      "hello\n",
      "hello\n",
      "hello\n",
      "hello\n",
      "hello\n",
      "hello\n",
      "hello\n",
      "hello\n",
      "hello\n",
      "hello\n",
      "hello\n",
      "hello\n",
      "hello\n",
      "hello\n",
      "hello\n",
      "hello\n",
      "hello\n",
      "hello\n",
      "hello\n",
      "hello\n",
      "hello\n",
      "hello\n",
      "hello\n",
      "hello\n",
      "hello\n",
      "hello\n",
      "hello\n",
      "hello\n",
      "hello\n",
      "hello\n",
      "hello\n",
      "hello\n",
      "hello\n",
      "hello\n",
      "hello\n",
      "hello\n",
      "hello\n",
      "hello\n",
      "hello\n",
      "hello\n",
      "hello\n",
      "hello\n",
      "hello\n",
      "hello\n",
      "hello\n",
      "hello\n",
      "hello\n",
      "hello\n",
      "hello\n",
      "hello\n",
      "hello\n",
      "hello\n",
      "hello\n",
      "hello\n",
      "hello\n",
      "hello\n",
      "hello\n",
      "hello\n",
      "hello\n",
      "hello\n",
      "hello\n",
      "hello\n",
      "hello\n",
      "hello\n",
      "hello\n",
      "hello\n",
      "hello\n",
      "hello\n",
      "hello\n",
      "hello\n",
      "hello\n",
      "hello\n",
      "hello\n",
      "hello\n",
      "hello\n",
      "hello\n",
      "hello\n",
      "hello\n",
      "hello\n",
      "hello\n",
      "hello\n",
      "hello\n",
      "hello\n",
      "hello\n",
      "hello\n",
      "hello\n",
      "hello\n",
      "hello\n",
      "hello\n",
      "hello\n",
      "hello\n",
      "hello\n",
      "hello\n",
      "hello\n",
      "hello\n",
      "hello\n",
      "hello\n",
      "hello\n",
      "hello\n",
      "hello\n",
      "hello\n",
      "hello\n",
      "hello\n",
      "hello\n",
      "hello\n",
      "hello\n",
      "hello\n",
      "hello\n",
      "hello\n",
      "hello\n",
      "hello\n",
      "hello\n",
      "hello\n",
      "hello\n",
      "hello\n",
      "hello\n",
      "hello\n",
      "hello\n",
      "hello\n",
      "hello\n",
      "hello\n",
      "hello\n",
      "hello\n",
      "hello\n",
      "hello\n",
      "hello\n",
      "hello\n",
      "hello\n",
      "hello\n",
      "hello\n",
      "hello\n",
      "hello\n",
      "hello\n",
      "hello\n",
      "hello\n",
      "hello\n",
      "hello\n",
      "hello\n",
      "hello\n",
      "hello\n",
      "hello\n",
      "hello\n",
      "hello\n",
      "hello\n",
      "hello\n",
      "hello\n",
      "hello\n",
      "hello\n",
      "hello\n",
      "hello\n",
      "hello\n",
      "hello\n",
      "hello\n",
      "hello\n",
      "hello\n",
      "hello\n",
      "hello\n",
      "hello\n",
      "hello\n",
      "hello\n",
      "hello\n",
      "hello\n",
      "hello\n",
      "hello\n",
      "hello\n",
      "hello\n",
      "hello\n",
      "hello\n",
      "hello\n",
      "hello\n",
      "hello\n",
      "hello\n",
      "hello\n",
      "hello\n",
      "hello\n",
      "hello\n",
      "hello\n",
      "hello\n",
      "hello\n",
      "hello\n",
      "hello\n",
      "hello\n",
      "hello\n",
      "hello\n",
      "hello\n",
      "hello\n",
      "hello\n",
      "hello\n",
      "hello\n",
      "hello\n",
      "hello\n",
      "hello\n",
      "hello\n",
      "hello\n",
      "hello\n",
      "hello\n",
      "hello\n",
      "hello\n",
      "hello\n",
      "hello\n",
      "hello\n",
      "hello\n",
      "hello\n",
      "hello\n",
      "hello\n",
      "hello\n",
      "hello\n",
      "hello\n",
      "hello\n",
      "hello\n",
      "hello\n",
      "hello\n",
      "hello\n",
      "hello\n",
      "hello\n",
      "hello\n",
      "hello\n",
      "hello\n",
      "hello\n",
      "hello\n",
      "hello\n",
      "hello\n",
      "hello\n",
      "hello\n",
      "hello\n",
      "hello\n",
      "hello\n",
      "hello\n",
      "hello\n",
      "hello\n",
      "hello\n",
      "hello\n",
      "hello\n",
      "hello\n",
      "hello\n",
      "hello\n",
      "hello\n",
      "hello\n",
      "hello\n",
      "hello\n",
      "hello\n",
      "hello\n",
      "hello\n",
      "hello\n",
      "hello\n",
      "hello\n",
      "hello\n",
      "hello\n",
      "hello\n",
      "hello\n",
      "hello\n",
      "hello\n",
      "hello\n",
      "hello\n",
      "hello\n",
      "hello\n",
      "hello\n",
      "hello\n",
      "hello\n",
      "hello\n",
      "hello\n",
      "hello\n",
      "hello\n",
      "hello\n",
      "hello\n",
      "hello\n",
      "hello\n",
      "hello\n",
      "hello\n",
      "hello\n",
      "hello\n",
      "hello\n",
      "hello\n",
      "hello\n",
      "hello\n",
      "hello\n",
      "hello\n",
      "hello\n",
      "hello\n",
      "hello\n",
      "hello\n",
      "hello\n",
      "hello\n",
      "hello\n",
      "hello\n",
      "hello\n",
      "hello\n",
      "hello\n",
      "hello\n",
      "hello\n",
      "hello\n",
      "hello\n",
      "hello\n",
      "hello\n",
      "hello\n",
      "hello\n",
      "hello\n",
      "hello\n",
      "hello\n",
      "hello\n",
      "hello\n",
      "hello\n",
      "hello\n",
      "hello\n",
      "hello\n",
      "hello\n",
      "hello\n",
      "hello\n",
      "hello\n",
      "hello\n",
      "hello\n",
      "hello\n",
      "hello\n",
      "hello\n",
      "hello\n",
      "hello\n",
      "hello\n",
      "hello\n",
      "hello\n",
      "hello\n",
      "hello\n",
      "hello\n",
      "hello\n",
      "hello\n",
      "hello\n",
      "hello\n",
      "hello\n",
      "hello\n",
      "hello\n",
      "hello\n",
      "hello\n",
      "hello\n",
      "hello\n",
      "hello\n",
      "hello\n",
      "hello\n",
      "hello\n",
      "hello\n",
      "hello\n",
      "hello\n",
      "hello\n",
      "hello\n",
      "hello\n",
      "hello\n",
      "hello\n",
      "hello\n",
      "hello\n",
      "hello\n",
      "hello\n",
      "hello\n",
      "hello\n",
      "hello\n",
      "hello\n",
      "hello\n",
      "hello\n",
      "hello\n",
      "hello\n",
      "hello\n",
      "hello\n",
      "hello\n",
      "hello\n",
      "hello\n",
      "hello\n",
      "hello\n",
      "hello\n",
      "hello\n",
      "hello\n",
      "hello\n",
      "hello\n",
      "hello\n",
      "hello\n",
      "hello\n",
      "hello\n",
      "hello\n",
      "hello\n",
      "hello\n",
      "hello\n",
      "hello\n",
      "hello\n",
      "hello\n",
      "hello\n",
      "hello\n",
      "hello\n",
      "hello\n",
      "hello\n",
      "hello\n",
      "hello\n",
      "hello\n",
      "hello\n",
      "hello\n",
      "hello\n",
      "hello\n",
      "hello\n",
      "hello\n",
      "hello\n",
      "hello\n",
      "hello\n",
      "hello\n",
      "hello\n",
      "hello\n",
      "hello\n",
      "hello\n",
      "hello\n",
      "hello\n",
      "hello\n",
      "hello\n",
      "hello\n",
      "hello\n",
      "hello\n",
      "hello\n",
      "hello\n",
      "hello\n",
      "hello\n",
      "hello\n",
      "hello\n",
      "hello\n",
      "hello\n",
      "hello\n",
      "hello\n",
      "hello\n",
      "hello\n",
      "hello\n",
      "hello\n",
      "hello\n",
      "hello\n",
      "hello\n",
      "hello\n",
      "hello\n",
      "hello\n",
      "hello\n",
      "hello\n",
      "hello\n",
      "hello\n",
      "hello\n",
      "hello\n",
      "hello\n",
      "hello\n",
      "hello\n",
      "hello\n",
      "hello\n",
      "hello\n",
      "hello\n",
      "hello\n",
      "hello\n",
      "hello\n",
      "hello\n",
      "hello\n",
      "hello\n",
      "hello\n",
      "hello\n",
      "hello\n",
      "hello\n",
      "hello\n",
      "hello\n",
      "hello\n",
      "hello\n",
      "hello\n",
      "hello\n",
      "hello\n",
      "hello\n",
      "hello\n",
      "hello\n",
      "hello\n",
      "hello\n",
      "hello\n",
      "hello\n",
      "hello\n",
      "hello\n",
      "hello\n",
      "hello\n",
      "hello\n",
      "hello\n",
      "hello\n",
      "hello\n",
      "hello\n",
      "hello\n",
      "hello\n",
      "hello\n",
      "hello\n",
      "hello\n",
      "hello\n",
      "hello\n",
      "hello\n",
      "hello\n",
      "hello\n",
      "hello\n",
      "hello\n",
      "hello\n",
      "hello\n",
      "hello\n",
      "hello\n",
      "hello\n",
      "hello\n",
      "hello\n",
      "hello\n",
      "hello\n",
      "hello\n",
      "hello\n",
      "hello\n",
      "hello\n",
      "hello\n",
      "hello\n",
      "hello\n",
      "hello\n",
      "hello\n",
      "hello\n",
      "hello\n",
      "hello\n",
      "hello\n",
      "hello\n",
      "hello\n",
      "hello\n",
      "hello\n",
      "hello\n",
      "hello\n",
      "hello\n",
      "hello\n",
      "hello\n",
      "hello\n",
      "hello\n",
      "hello\n",
      "hello\n",
      "hello\n",
      "hello\n",
      "hello\n",
      "hello\n",
      "hello\n",
      "hello\n",
      "hello\n",
      "hello\n",
      "hello\n",
      "hello\n",
      "hello\n",
      "hello\n",
      "hello\n",
      "hello\n",
      "hello\n",
      "hello\n",
      "hello\n",
      "hello\n",
      "hello\n",
      "hello\n",
      "hello\n",
      "hello\n",
      "hello\n",
      "hello\n",
      "hello\n",
      "hello\n",
      "hello\n",
      "hello\n",
      "hello\n",
      "hello\n",
      "hello\n",
      "hello\n",
      "hello\n",
      "hello\n",
      "hello\n",
      "hello\n",
      "hello\n",
      "hello\n",
      "hello\n",
      "hello\n",
      "hello\n",
      "hello\n",
      "hello\n",
      "hello\n",
      "hello\n",
      "hello\n",
      "hello\n",
      "hello\n",
      "hello\n",
      "hello\n",
      "hello\n",
      "hello\n",
      "hello\n",
      "hello\n",
      "hello\n",
      "hello\n",
      "hello\n",
      "hello\n",
      "hello\n",
      "hello\n",
      "hello\n",
      "hello\n",
      "hello\n",
      "hello\n",
      "hello\n",
      "hello\n",
      "hello\n",
      "hello\n",
      "hello\n",
      "hello\n",
      "hello\n",
      "hello\n",
      "hello\n",
      "hello\n",
      "hello\n",
      "hello\n",
      "hello\n",
      "hello\n",
      "hello\n",
      "hello\n",
      "hello\n",
      "hello\n",
      "hello\n",
      "hello\n",
      "hello\n",
      "hello\n",
      "hello\n",
      "hello\n",
      "hello\n",
      "hello\n",
      "hello\n",
      "hello\n",
      "hello\n",
      "hello\n",
      "hello\n",
      "hello\n",
      "hello\n",
      "hello\n",
      "hello\n",
      "hello\n",
      "hello\n",
      "hello\n",
      "hello\n",
      "hello\n",
      "hello\n",
      "hello\n",
      "hello\n",
      "hello\n",
      "hello\n",
      "hello\n",
      "hello\n",
      "hello\n",
      "hello\n",
      "hello\n",
      "hello\n",
      "hello\n",
      "hello\n",
      "hello\n",
      "hello\n",
      "hello\n",
      "hello\n",
      "hello\n",
      "hello\n",
      "hello\n",
      "hello\n",
      "hello\n",
      "hello\n",
      "hello\n",
      "hello\n",
      "hello\n",
      "hello\n",
      "hello\n",
      "hello\n",
      "hello\n",
      "hello\n",
      "hello\n",
      "hello\n",
      "hello\n",
      "hello\n",
      "hello\n",
      "hello\n",
      "hello\n",
      "hello\n",
      "hello\n",
      "hello\n",
      "hello\n",
      "hello\n",
      "hello\n",
      "hello\n",
      "hello\n",
      "hello\n",
      "hello\n",
      "hello\n",
      "hello\n",
      "hello\n",
      "hello\n",
      "hello\n",
      "hello\n",
      "hello\n",
      "hello\n",
      "hello\n",
      "hello\n",
      "hello\n",
      "hello\n",
      "hello\n",
      "hello\n",
      "hello\n",
      "hello\n",
      "hello\n",
      "hello\n",
      "hello\n",
      "hello\n",
      "hello\n",
      "hello\n",
      "hello\n",
      "hello\n",
      "hello\n",
      "hello\n",
      "hello\n",
      "hello\n",
      "hello\n",
      "hello\n",
      "hello\n",
      "hello\n",
      "hello\n",
      "hello\n",
      "hello\n",
      "hello\n",
      "hello\n",
      "hello\n",
      "hello\n",
      "hello\n",
      "hello\n",
      "hello\n",
      "hello\n",
      "hello\n",
      "hello\n",
      "hello\n",
      "hello\n",
      "hello\n",
      "hello\n",
      "hello\n",
      "hello\n",
      "hello\n",
      "hello\n",
      "hello\n",
      "hello\n",
      "hello\n",
      "hello\n",
      "hello\n",
      "hello\n",
      "hello\n",
      "hello\n",
      "hello\n",
      "hello\n",
      "hello\n",
      "hello\n",
      "hello\n",
      "hello\n",
      "hello\n",
      "hello\n",
      "hello\n",
      "hello\n",
      "hello\n",
      "hello\n",
      "hello\n",
      "hello\n",
      "hello\n",
      "hello\n",
      "hello\n",
      "hello\n",
      "hello\n",
      "hello\n",
      "hello\n",
      "hello\n",
      "hello\n",
      "hello\n",
      "hello\n",
      "hello\n",
      "hello\n",
      "hello\n",
      "hello\n",
      "hello\n",
      "hello\n",
      "hello\n",
      "hello\n",
      "hello\n",
      "hello\n",
      "hello\n",
      "hello\n",
      "hello\n",
      "hello\n",
      "hello\n",
      "hello\n",
      "hello\n",
      "hello\n",
      "hello\n",
      "hello\n",
      "hello\n",
      "hello\n",
      "hello\n",
      "hello\n",
      "hello\n",
      "hello\n",
      "hello\n",
      "hello\n",
      "hello\n",
      "hello\n",
      "hello\n",
      "hello\n",
      "hello\n",
      "hello\n",
      "hello\n",
      "hello\n",
      "hello\n",
      "hello\n",
      "hello\n",
      "hello\n",
      "hello\n",
      "hello\n",
      "hello\n",
      "hello\n",
      "hello\n",
      "hello\n",
      "hello\n",
      "hello\n",
      "hello\n",
      "hello\n",
      "hello\n",
      "hello\n",
      "hello\n",
      "hello\n",
      "hello\n",
      "hello\n",
      "hello\n",
      "hello\n",
      "hello\n",
      "hello\n",
      "hello\n",
      "hello\n",
      "hello\n",
      "hello\n",
      "hello\n",
      "hello\n",
      "hello\n",
      "hello\n",
      "hello\n",
      "hello\n",
      "hello\n",
      "hello\n",
      "hello\n",
      "hello\n",
      "hello\n",
      "hello\n",
      "hello\n",
      "hello\n",
      "hello\n",
      "hello\n",
      "hello\n",
      "hello\n",
      "hello\n",
      "hello\n",
      "hello\n",
      "hello\n",
      "hello\n",
      "hello\n",
      "hello\n",
      "hello\n",
      "hello\n",
      "hello\n",
      "hello\n",
      "hello\n",
      "hello\n",
      "hello\n",
      "hello\n",
      "hello\n",
      "hello\n",
      "hello\n",
      "hello\n",
      "hello\n",
      "hello\n",
      "hello\n",
      "hello\n",
      "hello\n",
      "hello\n",
      "hello\n",
      "hello\n",
      "hello\n",
      "hello\n",
      "hello\n",
      "hello\n",
      "hello\n",
      "hello\n",
      "hello\n",
      "hello\n",
      "hello\n",
      "hello\n",
      "hello\n",
      "hello\n",
      "hello\n",
      "hello\n",
      "hello\n",
      "hello\n",
      "hello\n",
      "hello\n",
      "hello\n",
      "hello\n",
      "hello\n",
      "hello\n",
      "hello\n",
      "hello\n",
      "hello\n",
      "hello\n",
      "hello\n",
      "hello\n",
      "hello\n",
      "hello\n",
      "hello\n",
      "hello\n",
      "hello\n",
      "hello\n",
      "hello\n",
      "hello\n",
      "hello\n",
      "hello\n",
      "hello\n",
      "hello\n",
      "hello\n",
      "hello\n",
      "hello\n",
      "hello\n",
      "hello\n",
      "hello\n",
      "hello\n",
      "hello\n",
      "hello\n",
      "hello\n",
      "hello\n",
      "hello\n",
      "hello\n",
      "hello\n",
      "hello\n",
      "hello\n",
      "hello\n",
      "hello\n",
      "hello\n",
      "hello\n",
      "hello\n",
      "hello\n",
      "hello\n",
      "hello\n",
      "hello\n",
      "hello\n",
      "hello\n",
      "hello\n",
      "hello\n",
      "hello\n",
      "hello\n",
      "hello\n",
      "hello\n",
      "hello\n",
      "hello\n",
      "hello\n",
      "hello\n",
      "hello\n",
      "hello\n",
      "hello\n",
      "hello\n",
      "hello\n",
      "hello\n",
      "hello\n",
      "hello\n",
      "hello\n",
      "hello\n",
      "hello\n",
      "hello\n",
      "hello\n",
      "hello\n",
      "hello\n",
      "hello\n",
      "hello\n",
      "hello\n",
      "hello\n",
      "hello\n",
      "hello\n",
      "hello\n",
      "hello\n",
      "hello\n",
      "hello\n",
      "hello\n",
      "hello\n",
      "hello\n",
      "hello\n",
      "hello\n",
      "hello\n",
      "hello\n",
      "hello\n",
      "hello\n",
      "hello\n",
      "hello\n",
      "hello\n",
      "hello\n",
      "hello\n",
      "hello\n",
      "hello\n",
      "hello\n",
      "hello\n",
      "hello\n",
      "hello\n",
      "hello\n",
      "hello\n",
      "hello\n",
      "hello\n",
      "hello\n",
      "hello\n",
      "hello\n",
      "hello\n",
      "hello\n",
      "hello\n",
      "hello\n",
      "hello\n",
      "hello\n",
      "hello\n",
      "hello\n",
      "hello\n",
      "hello\n",
      "hello\n",
      "hello\n",
      "hello\n",
      "hello\n",
      "hello\n",
      "hello\n",
      "hello\n",
      "hello\n",
      "hello\n",
      "hello\n",
      "hello\n",
      "hello\n",
      "hello\n",
      "hello\n",
      "hello\n",
      "hello\n",
      "hello\n",
      "hello\n",
      "hello\n",
      "hello\n",
      "hello\n",
      "hello\n",
      "hello\n",
      "hello\n",
      "hello\n",
      "hello\n",
      "hello\n",
      "hello\n",
      "hello\n",
      "hello\n",
      "hello\n",
      "hello\n",
      "hello\n",
      "hello\n",
      "hello\n",
      "hello\n",
      "hello\n",
      "hello\n",
      "hello\n",
      "hello\n",
      "hello\n",
      "hello\n",
      "hello\n",
      "hello\n",
      "hello\n",
      "hello\n",
      "hello\n",
      "hello\n",
      "hello\n",
      "hello\n",
      "hello\n",
      "hello\n",
      "hello\n",
      "hello\n",
      "hello\n",
      "hello\n",
      "hello\n",
      "hello\n",
      "hello\n",
      "hello\n",
      "hello\n",
      "hello\n",
      "hello\n",
      "hello\n",
      "hello\n",
      "hello\n",
      "hello\n",
      "hello\n",
      "hello\n",
      "hello\n",
      "hello\n",
      "hello\n",
      "hello\n",
      "hello\n",
      "hello\n",
      "hello\n",
      "hello\n",
      "hello\n",
      "hello\n",
      "hello\n",
      "hello\n",
      "hello\n",
      "hello\n",
      "hello\n",
      "hello\n",
      "hello\n",
      "hello\n",
      "hello\n",
      "hello\n",
      "hello\n",
      "hello\n",
      "hello\n",
      "hello\n",
      "hello\n",
      "hello\n",
      "hello\n",
      "hello\n",
      "hello\n",
      "hello\n",
      "hello\n",
      "hello\n",
      "hello\n",
      "hello\n",
      "hello\n",
      "hello\n",
      "hello\n",
      "hello\n",
      "hello\n",
      "hello\n",
      "hello\n",
      "hello\n",
      "hello\n",
      "hello\n",
      "hello\n",
      "hello\n",
      "hello\n",
      "hello\n",
      "hello\n",
      "hello\n",
      "hello\n",
      "hello\n",
      "hello\n",
      "hello\n",
      "hello\n",
      "hello\n",
      "hello\n",
      "hello\n",
      "hello\n",
      "hello\n",
      "hello\n",
      "hello\n",
      "hello\n",
      "hello\n",
      "hello\n",
      "hello\n",
      "hello\n",
      "hello\n",
      "hello\n",
      "hello\n",
      "hello\n",
      "hello\n",
      "hello\n",
      "hello\n",
      "hello\n",
      "hello\n",
      "hello\n",
      "hello\n",
      "hello\n",
      "hello\n",
      "hello\n",
      "hello\n",
      "hello\n",
      "hello\n",
      "hello\n",
      "hello\n",
      "hello\n",
      "hello\n",
      "hello\n",
      "hello\n",
      "hello\n",
      "hello\n",
      "hello\n",
      "hello\n",
      "hello\n",
      "hello\n",
      "hello\n",
      "hello\n",
      "hello\n",
      "hello\n",
      "hello\n",
      "hello\n",
      "hello\n",
      "hello\n",
      "hello\n",
      "hello\n",
      "hello\n",
      "hello\n",
      "hello\n",
      "hello\n",
      "hello\n",
      "hello\n",
      "hello\n",
      "hello\n",
      "hello\n",
      "hello\n",
      "hello\n",
      "hello\n",
      "hello\n",
      "hello\n",
      "hello\n",
      "hello\n",
      "hello\n",
      "hello\n",
      "hello\n",
      "hello\n",
      "hello\n",
      "hello\n",
      "hello\n",
      "hello\n",
      "hello\n",
      "hello\n",
      "hello\n",
      "hello\n",
      "hello\n",
      "hello\n",
      "hello\n",
      "hello\n",
      "hello\n",
      "hello\n",
      "hello\n",
      "hello\n",
      "hello\n",
      "hello\n",
      "hello\n",
      "hello\n",
      "hello\n",
      "hello\n",
      "hello\n",
      "hello\n",
      "hello\n",
      "hello\n",
      "hello\n",
      "hello\n",
      "hello\n",
      "hello\n",
      "hello\n",
      "hello\n",
      "hello\n",
      "hello\n",
      "hello\n",
      "hello\n",
      "hello\n",
      "hello\n",
      "hello\n",
      "hello\n",
      "hello\n",
      "hello\n",
      "hello\n",
      "hello\n",
      "hello\n",
      "hello\n",
      "hello\n",
      "hello\n",
      "hello\n",
      "hello\n",
      "hello\n",
      "hello\n",
      "hello\n",
      "hello\n",
      "hello\n",
      "hello\n",
      "hello\n",
      "hello\n",
      "hello\n",
      "hello\n",
      "hello\n",
      "hello\n",
      "hello\n",
      "hello\n",
      "hello\n",
      "hello\n",
      "hello\n",
      "hello\n",
      "hello\n",
      "hello\n",
      "hello\n",
      "hello\n",
      "hello\n",
      "hello\n",
      "hello\n",
      "hello\n",
      "hello\n",
      "hello\n",
      "hello\n",
      "hello\n",
      "hello\n",
      "hello\n",
      "hello\n",
      "hello\n",
      "hello\n",
      "hello\n",
      "hello\n",
      "hello\n",
      "hello\n",
      "hello\n",
      "hello\n",
      "hello\n",
      "hello\n",
      "hello\n",
      "hello\n",
      "hello\n",
      "hello\n",
      "hello\n",
      "hello\n",
      "hello\n",
      "hello\n",
      "hello\n",
      "hello\n",
      "hello\n",
      "hello\n",
      "hello\n",
      "hello\n",
      "hello\n",
      "hello\n",
      "hello\n",
      "hello\n",
      "hello\n",
      "hello\n",
      "hello\n",
      "hello\n",
      "hello\n",
      "hello\n",
      "hello\n",
      "hello\n",
      "hello\n",
      "hello\n",
      "hello\n",
      "hello\n",
      "hello\n",
      "hello\n",
      "hello\n",
      "hello\n",
      "hello\n",
      "hello\n",
      "hello\n",
      "hello\n",
      "hello\n",
      "hello\n",
      "hello\n",
      "hello\n",
      "hello\n",
      "hello\n",
      "hello\n",
      "hello\n",
      "hello\n",
      "hello\n",
      "hello\n",
      "hello\n",
      "hello\n",
      "hello\n",
      "hello\n",
      "hello\n",
      "hello\n",
      "hello\n",
      "hello\n",
      "hello\n",
      "hello\n",
      "hello\n",
      "hello\n",
      "hello\n",
      "hello\n",
      "hello\n",
      "hello\n",
      "hello\n",
      "hello\n",
      "hello\n",
      "hello\n",
      "hello\n",
      "hello\n",
      "hello\n",
      "hello\n",
      "hello\n",
      "hello\n",
      "hello\n",
      "hello\n",
      "hello\n",
      "hello\n",
      "hello\n",
      "hello\n",
      "hello\n",
      "hello\n",
      "hello\n",
      "hello\n",
      "hello\n",
      "hello\n",
      "hello\n",
      "hello\n",
      "hello\n",
      "hello\n",
      "hello\n",
      "hello\n",
      "hello\n",
      "hello\n",
      "hello\n",
      "hello\n",
      "hello\n",
      "hello\n",
      "hello\n",
      "hello\n",
      "hello\n",
      "hello\n",
      "hello\n",
      "hello\n",
      "hello\n",
      "hello\n",
      "hello\n",
      "hello\n",
      "hello\n",
      "hello\n",
      "hello\n",
      "hello\n",
      "hello\n",
      "hello\n",
      "hello\n",
      "hello\n",
      "hello\n",
      "hello\n",
      "hello\n",
      "hello\n",
      "hello\n",
      "hello\n",
      "hello\n",
      "hello\n",
      "hello\n",
      "hello\n",
      "hello\n",
      "hello\n",
      "hello\n",
      "hello\n",
      "hello\n",
      "hello\n",
      "hello\n",
      "hello\n",
      "hello\n",
      "hello\n",
      "hello\n",
      "hello\n",
      "hello\n",
      "hello\n",
      "hello\n",
      "hello\n",
      "hello\n",
      "hello\n",
      "hello\n",
      "hello\n",
      "hello\n",
      "hello\n",
      "hello\n",
      "hello\n",
      "hello\n",
      "hello\n",
      "hello\n",
      "hello\n",
      "hello\n",
      "hello\n",
      "hello\n",
      "hello\n",
      "hello\n",
      "hello\n",
      "hello\n",
      "hello\n",
      "hello\n",
      "hello\n",
      "hello\n",
      "hello\n",
      "hello\n",
      "hello\n",
      "hello\n",
      "hello\n",
      "hello\n",
      "hello\n",
      "hello\n",
      "hello\n",
      "hello\n",
      "hello\n",
      "hello\n",
      "hello\n",
      "hello\n",
      "hello\n",
      "hello\n",
      "hello\n",
      "hello\n",
      "hello\n",
      "hello\n",
      "hello\n",
      "hello\n",
      "hello\n",
      "hello\n",
      "hello\n",
      "hello\n",
      "hello\n",
      "hello\n",
      "hello\n",
      "hello\n",
      "hello\n",
      "hello\n",
      "hello\n",
      "hello\n",
      "hello\n",
      "hello\n",
      "hello\n",
      "hello\n",
      "hello\n",
      "hello\n",
      "hello\n",
      "hello\n",
      "hello\n",
      "hello\n",
      "hello\n",
      "hello\n",
      "hello\n",
      "hello\n",
      "hello\n",
      "hello\n",
      "hello\n",
      "hello\n",
      "hello\n",
      "hello\n",
      "hello\n",
      "hello\n",
      "hello\n",
      "hello\n",
      "hello\n",
      "hello\n",
      "hello\n",
      "hello\n",
      "hello\n",
      "hello\n",
      "hello\n",
      "hello\n",
      "hello\n",
      "hello\n",
      "hello\n",
      "hello\n",
      "hello\n",
      "hello\n",
      "hello\n",
      "hello\n",
      "hello\n",
      "hello\n",
      "hello\n",
      "hello\n",
      "hello\n",
      "hello\n",
      "hello\n",
      "hello\n",
      "hello\n",
      "hello\n",
      "hello\n",
      "hello\n",
      "hello\n",
      "hello\n",
      "hello\n",
      "hello\n",
      "hello\n",
      "hello\n",
      "hello\n",
      "hello\n",
      "hello\n",
      "hello\n",
      "hello\n",
      "hello\n",
      "hello\n",
      "hello\n",
      "hello\n",
      "hello\n",
      "hello\n",
      "hello\n",
      "hello\n",
      "hello\n",
      "hello\n",
      "hello\n",
      "hello\n",
      "hello\n",
      "hello\n",
      "hello\n",
      "hello\n",
      "hello\n",
      "hello\n",
      "hello\n",
      "hello\n",
      "hello\n",
      "hello\n",
      "hello\n",
      "hello\n",
      "hello\n",
      "hello\n",
      "hello\n",
      "hello\n",
      "hello\n",
      "hello\n",
      "hello\n",
      "hello\n"
     ]
    },
    {
     "ename": "RecursionError",
     "evalue": "maximum recursion depth exceeded while calling a Python object",
     "output_type": "error",
     "traceback": [
      "\u001b[1;31m---------------------------------------------------------------------------\u001b[0m",
      "\u001b[1;31mRecursionError\u001b[0m                            Traceback (most recent call last)",
      "Cell \u001b[1;32mIn[1], line 6\u001b[0m\n\u001b[0;32m      2\u001b[0m     \u001b[38;5;28mprint\u001b[39m(\u001b[38;5;124m\"\u001b[39m\u001b[38;5;124mhello\u001b[39m\u001b[38;5;124m\"\u001b[39m)\n\u001b[0;32m      3\u001b[0m     hello()\n\u001b[1;32m----> 6\u001b[0m hello()\n",
      "Cell \u001b[1;32mIn[1], line 3\u001b[0m, in \u001b[0;36mhello\u001b[1;34m()\u001b[0m\n\u001b[0;32m      1\u001b[0m \u001b[38;5;28;01mdef\u001b[39;00m \u001b[38;5;21mhello\u001b[39m():\n\u001b[0;32m      2\u001b[0m     \u001b[38;5;28mprint\u001b[39m(\u001b[38;5;124m\"\u001b[39m\u001b[38;5;124mhello\u001b[39m\u001b[38;5;124m\"\u001b[39m)\n\u001b[1;32m----> 3\u001b[0m     hello()\n",
      "Cell \u001b[1;32mIn[1], line 3\u001b[0m, in \u001b[0;36mhello\u001b[1;34m()\u001b[0m\n\u001b[0;32m      1\u001b[0m \u001b[38;5;28;01mdef\u001b[39;00m \u001b[38;5;21mhello\u001b[39m():\n\u001b[0;32m      2\u001b[0m     \u001b[38;5;28mprint\u001b[39m(\u001b[38;5;124m\"\u001b[39m\u001b[38;5;124mhello\u001b[39m\u001b[38;5;124m\"\u001b[39m)\n\u001b[1;32m----> 3\u001b[0m     hello()\n",
      "    \u001b[1;31m[... skipping similar frames: hello at line 3 (2966 times)]\u001b[0m\n",
      "Cell \u001b[1;32mIn[1], line 3\u001b[0m, in \u001b[0;36mhello\u001b[1;34m()\u001b[0m\n\u001b[0;32m      1\u001b[0m \u001b[38;5;28;01mdef\u001b[39;00m \u001b[38;5;21mhello\u001b[39m():\n\u001b[0;32m      2\u001b[0m     \u001b[38;5;28mprint\u001b[39m(\u001b[38;5;124m\"\u001b[39m\u001b[38;5;124mhello\u001b[39m\u001b[38;5;124m\"\u001b[39m)\n\u001b[1;32m----> 3\u001b[0m     hello()\n",
      "Cell \u001b[1;32mIn[1], line 2\u001b[0m, in \u001b[0;36mhello\u001b[1;34m()\u001b[0m\n\u001b[0;32m      1\u001b[0m \u001b[38;5;28;01mdef\u001b[39;00m \u001b[38;5;21mhello\u001b[39m():\n\u001b[1;32m----> 2\u001b[0m     \u001b[38;5;28mprint\u001b[39m(\u001b[38;5;124m\"\u001b[39m\u001b[38;5;124mhello\u001b[39m\u001b[38;5;124m\"\u001b[39m)\n\u001b[0;32m      3\u001b[0m     hello()\n",
      "File \u001b[1;32m~\\anaconda3\\Lib\\site-packages\\ipykernel\\iostream.py:649\u001b[0m, in \u001b[0;36mOutStream.write\u001b[1;34m(self, string)\u001b[0m\n\u001b[0;32m    646\u001b[0m     msg \u001b[38;5;241m=\u001b[39m \u001b[38;5;124m\"\u001b[39m\u001b[38;5;124mI/O operation on closed file\u001b[39m\u001b[38;5;124m\"\u001b[39m\n\u001b[0;32m    647\u001b[0m     \u001b[38;5;28;01mraise\u001b[39;00m \u001b[38;5;167;01mValueError\u001b[39;00m(msg)\n\u001b[1;32m--> 649\u001b[0m is_child \u001b[38;5;241m=\u001b[39m \u001b[38;5;129;01mnot\u001b[39;00m \u001b[38;5;28mself\u001b[39m\u001b[38;5;241m.\u001b[39m_is_master_process()\n\u001b[0;32m    650\u001b[0m \u001b[38;5;66;03m# only touch the buffer in the IO thread to avoid races\u001b[39;00m\n\u001b[0;32m    651\u001b[0m \u001b[38;5;28;01mwith\u001b[39;00m \u001b[38;5;28mself\u001b[39m\u001b[38;5;241m.\u001b[39m_buffer_lock:\n",
      "File \u001b[1;32m~\\anaconda3\\Lib\\site-packages\\ipykernel\\iostream.py:520\u001b[0m, in \u001b[0;36mOutStream._is_master_process\u001b[1;34m(self)\u001b[0m\n\u001b[0;32m    519\u001b[0m \u001b[38;5;28;01mdef\u001b[39;00m \u001b[38;5;21m_is_master_process\u001b[39m(\u001b[38;5;28mself\u001b[39m):\n\u001b[1;32m--> 520\u001b[0m     \u001b[38;5;28;01mreturn\u001b[39;00m os\u001b[38;5;241m.\u001b[39mgetpid() \u001b[38;5;241m==\u001b[39m \u001b[38;5;28mself\u001b[39m\u001b[38;5;241m.\u001b[39m_master_pid\n",
      "\u001b[1;31mRecursionError\u001b[0m: maximum recursion depth exceeded while calling a Python object"
     ]
    }
   ],
   "source": [
    "def hello():\n",
    "    print(\"hello\")\n",
    "    hello()\n",
    "    \n",
    "\n",
    "hello()"
   ]
  },
  {
   "cell_type": "code",
   "execution_count": 18,
   "id": "6526a531-711e-436a-b69d-77a1263fddcb",
   "metadata": {},
   "outputs": [
    {
     "name": "stdout",
     "output_type": "stream",
     "text": [
      "256 230\n"
     ]
    }
   ],
   "source": [
    "def f1(n):\n",
    "    s=230\n",
    "    print(n,s);\n",
    "    f1()\n",
    "    \n",
    "    return\n",
    "s=256\n",
    "f1(s)"
   ]
  },
  {
   "cell_type": "code",
   "execution_count": 23,
   "id": "b7f5b5f7-462f-46dd-819f-737f28128340",
   "metadata": {},
   "outputs": [
    {
     "name": "stdin",
     "output_type": "stream",
     "text": [
      "Enter number of disks\n",
      " 4\n"
     ]
    },
    {
     "name": "stdout",
     "output_type": "stream",
     "text": [
      "Move disk 1 from source A to destination B\n",
      "Move disk 2 from source A to destination C\n",
      "Move disk 1 from source B to destination C\n",
      "Move disk 3 from source A to destination B\n",
      "Move disk 1 from source C to destination A\n",
      "Move disk 2 from source C to destination B\n",
      "Move disk 1 from source A to destination B\n",
      "Move disk 4 from source A to destination C\n",
      "Move disk 1 from source B to destination C\n",
      "Move disk 2 from source B to destination A\n",
      "Move disk 1 from source C to destination A\n",
      "Move disk 3 from source B to destination C\n",
      "Move disk 1 from source A to destination B\n",
      "Move disk 2 from source A to destination C\n",
      "Move disk 1 from source B to destination C\n"
     ]
    }
   ],
   "source": [
    "def TowerOfHanoi(n , src, aux, dest):  #Recursive Function\n",
    "    if  n==1:                        #terminating condition\n",
    "      print (\"Move disk 1 from source\",src,\"to destination\",dest) \n",
    "      return\n",
    "    TowerOfHanoi(n-1, src, dest, aux)\n",
    "    print (\"Move disk\",n,\"from source\",src,\"to destination\",dest)\n",
    "    TowerOfHanoi(n-1, aux, src, dest)\n",
    "    \n",
    "n=int(input(\"Enter number of disks\\n\")) \n",
    "TowerOfHanoi(n,'A','B','C')"
   ]
  },
  {
   "cell_type": "code",
   "execution_count": 49,
   "id": "3f3e0098-c8b7-4285-8eb3-d75ca25b007f",
   "metadata": {},
   "outputs": [
    {
     "name": "stdout",
     "output_type": "stream",
     "text": [
      "Result: 6\n"
     ]
    }
   ],
   "source": [
    "def divide(x, y): \n",
    "    if(x < y):\n",
    "       return 0 \n",
    "    else:\n",
    "     return 1 + divide(x- y,y)\n",
    "print(\"Result:\", divide(45, 7))"
   ]
  },
  {
   "cell_type": "code",
   "execution_count": 53,
   "id": "43bcfd6c-1e46-40f8-b9b1-ca289a6b51ca",
   "metadata": {},
   "outputs": [
    {
     "name": "stdout",
     "output_type": "stream",
     "text": [
      "Multiplication= 6\n"
     ]
    }
   ],
   "source": [
    "def multiply(x):\n",
    "     return x[0]*x[1]\n",
    "\n",
    "def compute(func,x):\n",
    " return func(x)\n",
    "\n",
    "num_list=[2,3] \n",
    "product=compute(multiply,num_list) \n",
    "print(\"Multiplication=\",product)"
   ]
  },
  {
   "cell_type": "code",
   "execution_count": 2,
   "id": "28c44251-55f0-4e9f-96e2-cb8695ed870d",
   "metadata": {},
   "outputs": [
    {
     "name": "stdin",
     "output_type": "stream",
     "text": [
      "enter a number 1 4\n",
      "enter a number 2 5\n",
      "Enter + or - or * or / -\n"
     ]
    },
    {
     "name": "stdout",
     "output_type": "stream",
     "text": [
      "Difference= -1\n"
     ]
    }
   ],
   "source": [
    "def multiply(x,y):\n",
    "     return x*y\n",
    "def div(x,y):\n",
    "     return x/y\n",
    "def add(x,y):\n",
    "     return x+y\n",
    "def sub(x,y):\n",
    "     return x-y\n",
    "\n",
    "def compute(func,x,y):\n",
    " return func(x,y)\n",
    "\n",
    "num1=int(input(\"enter a number 1\"))\n",
    "num2=int(input(\"enter a number 2\"))\n",
    "op=input(\"Enter + or - or * or /\")\n",
    "if op=='+':\n",
    "    sum=compute(add,num1,num2) \n",
    "    print(\"Sum=\",sum)\n",
    "elif op=='-':\n",
    "    dif=compute(sub,num1,num2) \n",
    "    print(\"Difference=\",dif)\n",
    "elif op=='*':\n",
    "    product=compute(multiply,num1,num2) \n",
    "    print(\"Multiplication=\",product)\n",
    "else:\n",
    "    quo=compute(div,num1,num2) \n",
    "    print(\"Quotient=\",quo)\n",
    "    "
   ]
  },
  {
   "cell_type": "code",
   "execution_count": null,
   "id": "fcb4689a-540d-4be8-ab86-d2eadbe81de4",
   "metadata": {},
   "outputs": [],
   "source": [
    " def function(func_list, x, y):\n",
    "     print(\"Inside function\")\n",
    "     for func in func_list:\n",
    "         func(x,y)"
   ]
  },
  {
   "cell_type": "code",
   "execution_count": null,
   "id": "7b3b90a7-d25f-421a-b96c-77472b7b62bb",
   "metadata": {},
   "outputs": [],
   "source": []
  },
  {
   "cell_type": "code",
   "execution_count": 13,
   "id": "9e526b44-dc6c-470f-8684-65db0dd87927",
   "metadata": {},
   "outputs": [
    {
     "name": "stdout",
     "output_type": "stream",
     "text": [
      "Writing sentiment.py\n"
     ]
    }
   ],
   "source": [
    "%%file sentiment.py\n",
    " f=open(\"feedback.txt\")\n",
    " r=f.readlines()\n",
    " print(r)\n",
    " a=[\"service\",\"price\",\"quality\"]\n",
    " gr=[\"excellent\",\"great,\",\"satisfied\",\"happy\"]\n",
    " br=[\"poor\",\"bad\",\"disappointed\",\"unsatisfied\"]\n",
    " ac=0\n",
    " gc=0\n",
    " bc=0\n",
    " bl=[]\n",
    " gl=[]\n",
    " for i in r:\n",
    "     w=i.split()\n",
    "     for j in w:\n",
    "         if j in a:\n",
    "             ac= ac+1\n",
    "         elif j in gr:\n",
    "             gl.append(i)\n",
    "             gc=gc+1\n",
    "         elif j in br:\n",
    "             bl.append(i)\n",
    "             bc=bc+1\n",
    "         else:\n",
    "             continue\n",
    " print(\"Number of keyword counts = \",ac+gc+bc)\n",
    " print(\"Number of positive keyword counts = \",gc)\n",
    " print(\"Number of negative keyword counts = \",bc)\n",
    " print(\"Positive feedback:\")\n",
    " for k in gl:\n",
    "     print(k,end='\\n')\n",
    "     print(\"Negative feedback\")\n",
    " for fi in bl:\n",
    "     print(fi,end='\\n')\n",
    " f.close()"
   ]
  },
  {
   "cell_type": "code",
   "execution_count": 21,
   "id": "c88af6ae-6632-4830-8a8f-41aca7b812e7",
   "metadata": {},
   "outputs": [
    {
     "data": {
      "text/plain": [
       "-4"
      ]
     },
     "execution_count": 21,
     "metadata": {},
     "output_type": "execute_result"
    }
   ],
   "source": [
    "-2<<1"
   ]
  },
  {
   "cell_type": "code",
   "execution_count": 23,
   "id": "d75dc6a7-d361-46a9-b471-4643df85e538",
   "metadata": {},
   "outputs": [
    {
     "data": {
      "text/plain": [
       "-1"
      ]
     },
     "execution_count": 23,
     "metadata": {},
     "output_type": "execute_result"
    }
   ],
   "source": [
    "-2>>1"
   ]
  },
  {
   "cell_type": "code",
   "execution_count": 25,
   "id": "75c7a37f-18f5-462d-825b-e9b5550309ac",
   "metadata": {},
   "outputs": [
    {
     "data": {
      "text/plain": [
       "33"
      ]
     },
     "execution_count": 25,
     "metadata": {},
     "output_type": "execute_result"
    }
   ],
   "source": [
    "32|1"
   ]
  },
  {
   "cell_type": "code",
   "execution_count": 27,
   "id": "077df61a-e9a9-40c3-b758-3cbb42efeb55",
   "metadata": {},
   "outputs": [
    {
     "data": {
      "text/plain": [
       "-4"
      ]
     },
     "execution_count": 27,
     "metadata": {},
     "output_type": "execute_result"
    }
   ],
   "source": [
    "-7>>1"
   ]
  },
  {
   "cell_type": "code",
   "execution_count": 49,
   "id": "0c82d16c-78e2-49aa-be15-01643749850f",
   "metadata": {},
   "outputs": [
    {
     "name": "stdout",
     "output_type": "stream",
     "text": [
      "23\n",
      "24\n"
     ]
    }
   ],
   "source": [
    "num=23\n",
    "if ++num:\n",
    "    print(num)\n",
    "    num=num+1\n",
    "print(num)"
   ]
  },
  {
   "cell_type": "code",
   "execution_count": 45,
   "id": "1fc79dde-54cb-44b6-a86f-b617dd372ee1",
   "metadata": {},
   "outputs": [
    {
     "ename": "SyntaxError",
     "evalue": "invalid syntax (729601961.py, line 2)",
     "output_type": "error",
     "traceback": [
      "\u001b[1;36m  Cell \u001b[1;32mIn[45], line 2\u001b[1;36m\u001b[0m\n\u001b[1;33m    num++\u001b[0m\n\u001b[1;37m         ^\u001b[0m\n\u001b[1;31mSyntaxError\u001b[0m\u001b[1;31m:\u001b[0m invalid syntax\n"
     ]
    }
   ],
   "source": [
    "num=8\n",
    "num++\n",
    "#1++num"
   ]
  },
  {
   "cell_type": "code",
   "execution_count": 55,
   "id": "c27c861a-75d0-4e5b-8aca-c44cb69af0f9",
   "metadata": {},
   "outputs": [
    {
     "name": "stdout",
     "output_type": "stream",
     "text": [
      "5\n"
     ]
    }
   ],
   "source": [
    "print(5 or 4 and 7)"
   ]
  },
  {
   "cell_type": "code",
   "execution_count": 57,
   "id": "65689af2-e353-4d14-b81f-c676b5075ad9",
   "metadata": {},
   "outputs": [
    {
     "data": {
      "text/plain": [
       "1953125"
      ]
     },
     "execution_count": 57,
     "metadata": {},
     "output_type": "execute_result"
    }
   ],
   "source": [
    "5**3**2"
   ]
  },
  {
   "cell_type": "code",
   "execution_count": 61,
   "id": "526ecc41-37ed-4027-a602-7708b31472ed",
   "metadata": {},
   "outputs": [
    {
     "data": {
      "text/plain": [
       "1.0"
      ]
     },
     "execution_count": 61,
     "metadata": {},
     "output_type": "execute_result"
    }
   ],
   "source": [
    "5*2/4//2"
   ]
  },
  {
   "cell_type": "code",
   "execution_count": 1,
   "id": "671255b7-f8a9-4e60-933e-aeadda4dc25d",
   "metadata": {},
   "outputs": [
    {
     "name": "stdin",
     "output_type": "stream",
     "text": [
      "Enter a number 45\n"
     ]
    },
    {
     "name": "stdout",
     "output_type": "stream",
     "text": [
      "not Prime\n"
     ]
    }
   ],
   "source": [
    "import math\n",
    "def is_prime(n):\n",
    "    f=0\n",
    "    for i in range(2,int(math.sqrt(n))+1):\n",
    "        if n%i == 0:\n",
    "            f=1\n",
    "            break\n",
    "    return f\n",
    "n=int(input(\"Enter a number\"))\n",
    "x=is_prime(n)\n",
    "if x == 0:\n",
    "    print(\"Prime\")\n",
    "else:\n",
    "    print(\"not Prime\")\n"
   ]
  },
  {
   "cell_type": "code",
   "execution_count": null,
   "id": "96e0d37a-9156-46b3-9eb7-31475af022f6",
   "metadata": {},
   "outputs": [],
   "source": [
    "import math\n",
    "def is_prime(n):\n",
    "    f=0\n",
    "    for i in range(2,int(math.sqrt(n))+1):\n",
    "        if n%i == 0:\n",
    "            f=1\n",
    "            break   \n",
    "    return f\n",
    "    \n",
    "n=int(input(\"Enter a number\"))\n",
    "x=is_prime(n)\n",
    "if x == 0:\n",
    "    print(\"Prime\")\n",
    "else:\n",
    "    print(\"not Prime\")\n"
   ]
  },
  {
   "cell_type": "code",
   "execution_count": 17,
   "id": "9f35f664-83b6-48ea-93cd-3285a71edfe5",
   "metadata": {},
   "outputs": [
    {
     "name": "stdin",
     "output_type": "stream",
     "text": [
      "Enter a number 15\n",
      "Enter a number 20\n"
     ]
    },
    {
     "name": "stdout",
     "output_type": "stream",
     "text": [
      "17 19 "
     ]
    }
   ],
   "source": [
    "import math\n",
    "def is_prime(n):\n",
    "    f=0\n",
    "    for i in range(2,int(math.sqrt(n))+1):\n",
    "        if n%i == 0:\n",
    "            f=1\n",
    "            break\n",
    "    return f\n",
    "m=int(input(\"Enter a number\"))\n",
    "n=int(input(\"Enter a number\"))\n",
    "for i in range(m, n+1):\n",
    "    x=is_prime(i)\n",
    "    if x == 0:\n",
    "        print(i,end=\" \")\n",
    "    "
   ]
  },
  {
   "cell_type": "code",
   "execution_count": 21,
   "id": "0c4c861f-96ea-44f4-8111-81af289d0a67",
   "metadata": {},
   "outputs": [
    {
     "name": "stdin",
     "output_type": "stream",
     "text": [
      "Enter a number 3\n"
     ]
    },
    {
     "name": "stdout",
     "output_type": "stream",
     "text": [
      "Prime\n"
     ]
    }
   ],
   "source": [
    "n=int(input(\"Enter a number\"))\n",
    "\n",
    "for i in range(2,int(math.sqrt(n))+1):\n",
    "      if n%i == 0:\n",
    "        print(\"not prime\")\n",
    "        break  \n",
    "else:\n",
    "    print(\"Prime\")\n",
    "    "
   ]
  },
  {
   "cell_type": "code",
   "execution_count": null,
   "id": "9ca664d0-1a8e-465c-b654-8a986a774357",
   "metadata": {},
   "outputs": [],
   "source": []
  },
  {
   "cell_type": "code",
   "execution_count": 51,
   "id": "9620846b-a880-4ef4-9b15-bb0d67618722",
   "metadata": {},
   "outputs": [
    {
     "name": "stdout",
     "output_type": "stream",
     "text": [
      "['w', 'e', 'l', 'c', 'o', 'm', 'e', 't']\n",
      "['e', 'w', 0, 0, 0, 0, 0, 0]\n",
      "['e', 'w', 'c', 'l', 0, 0, 0, 0]\n",
      "['e', 'w', 'c', 'l', 'm', 'o', 0, 0]\n",
      "['e', 'w', 'c', 'l', 'm', 'o', 't', 'e']\n",
      "['e', 'w', 'c', 'l', 'm', 'o', 't', 'e']\n"
     ]
    }
   ],
   "source": [
    "s=\"welcomet\"\n",
    "s=list(s)\n",
    "s1=[0]*len(s)\n",
    "j=0\n",
    "print(s)\n",
    "for i in range(0,len(s)+1,2):\n",
    "    if i < len(s):\n",
    "        s1[j]=s[i+1]\n",
    "        s1[j+1]=s[i]\n",
    "        j+=2\n",
    "        print(str(s1))\n",
    "s2=str(s1)\n",
    "print(s1)"
   ]
  },
  {
   "cell_type": "code",
   "execution_count": 3,
   "id": "51201d3d-5656-4b77-bc89-a5991b089585",
   "metadata": {},
   "outputs": [],
   "source": [
    "_x=10"
   ]
  },
  {
   "cell_type": "code",
   "execution_count": 1,
   "id": "f7741297-185e-41f5-9c49-d13ed0b474ab",
   "metadata": {},
   "outputs": [
    {
     "name": "stdout",
     "output_type": "stream",
     "text": [
      "16\n"
     ]
    }
   ],
   "source": [
    "print(2*(4//2)**3)"
   ]
  },
  {
   "cell_type": "code",
   "execution_count": 3,
   "id": "230a08dc-2ac8-49b2-8fac-0917aedcceb7",
   "metadata": {},
   "outputs": [
    {
     "ename": "TypeError",
     "evalue": "argument of type 'int' is not iterable",
     "output_type": "error",
     "traceback": [
      "\u001b[1;31m---------------------------------------------------------------------------\u001b[0m",
      "\u001b[1;31mTypeError\u001b[0m                                 Traceback (most recent call last)",
      "Cell \u001b[1;32mIn[3], line 1\u001b[0m\n\u001b[1;32m----> 1\u001b[0m \u001b[38;5;28mprint\u001b[39m(\u001b[38;5;241m0\u001b[39m \u001b[38;5;129;01min\u001b[39;00m \u001b[38;5;241m1010101\u001b[39m)\n",
      "\u001b[1;31mTypeError\u001b[0m: argument of type 'int' is not iterable"
     ]
    }
   ],
   "source": [
    "print(0 in 1010101)"
   ]
  },
  {
   "cell_type": "code",
   "execution_count": 7,
   "id": "c3634afd-57b2-492b-8694-8890cff2cd2b",
   "metadata": {},
   "outputs": [
    {
     "ename": "SyntaxError",
     "evalue": "invalid non-printable character U+00A0 (3187752983.py, line 2)",
     "output_type": "error",
     "traceback": [
      "\u001b[1;36m  Cell \u001b[1;32mIn[7], line 2\u001b[1;36m\u001b[0m\n\u001b[1;33m    msgs.append(msg)\u001b[0m\n\u001b[1;37m    ^\u001b[0m\n\u001b[1;31mSyntaxError\u001b[0m\u001b[1;31m:\u001b[0m invalid non-printable character U+00A0\n"
     ]
    }
   ],
   "source": [
    "def show_message(msg=\"sookshm\", msgs = []):\n",
    "    msgs.append(msg)\n",
    "    return msgs\n",
    "\n",
    "show_message() \n",
    "show_message(\"ingenious\") \n",
    "print(show_message(\"visionary\"))"
   ]
  },
  {
   "cell_type": "code",
   "execution_count": 23,
   "id": "0876644a-1c35-49f8-adc9-7ce247f5d021",
   "metadata": {},
   "outputs": [
    {
     "name": "stdout",
     "output_type": "stream",
     "text": [
      "Sum = 30\n"
     ]
    }
   ],
   "source": [
    " def add(x, y): #Recursive Function \n",
    "    if(y == 0): #terminatingcondition\n",
    "        return x\n",
    "    return add(x+1, y- 1) \n",
    "\n",
    " print(\"Sum =\", add(10, 20))"
   ]
  },
  {
   "cell_type": "code",
   "execution_count": 29,
   "id": "d157e278-dab4-40f9-bf07-fd792ffeecf3",
   "metadata": {},
   "outputs": [
    {
     "name": "stdout",
     "output_type": "stream",
     "text": [
      "Sum = 7\n"
     ]
    }
   ],
   "source": [
    " def add(x, y): #Recursive Function \n",
    "    if(y == 0): #terminatingcondition\n",
    "        return x\n",
    "    return 1+add(x, y- 1) \n",
    "\n",
    " print(\"Sum =\", add(5, 2))"
   ]
  },
  {
   "cell_type": "code",
   "execution_count": 12,
   "id": "82c7e483-1475-4aa0-aa25-d702364f8c43",
   "metadata": {},
   "outputs": [
    {
     "name": "stdout",
     "output_type": "stream",
     "text": [
      "Result = -10\n"
     ]
    }
   ],
   "source": [
    "def subtract(x, y): #Recursive Function \n",
    "    if(y == 0):     #terminating condition\n",
    "         return x\n",
    "    return subtract(x-1, y-1)\n",
    "    \n",
    "print(\"Result =\", subtract(10,20))"
   ]
  },
  {
   "cell_type": "code",
   "execution_count": 14,
   "id": "fc39e153-385b-4b97-8a02-9fb800c7190b",
   "metadata": {},
   "outputs": [
    {
     "name": "stdout",
     "output_type": "stream",
     "text": [
      "Product = 200\n"
     ]
    }
   ],
   "source": [
    "def product(a,b): #Recursive Function \n",
    "\tif(a<b):\n",
    " \t\treturn product(b,a) \n",
    "\telif(b!=0):\n",
    " \t\treturn(a+product(a,b-1)) \n",
    "\telse:\n",
    " \t\t#Stopping point\n",
    " \t\treturn 0\n",
    " \n",
    "print(\"Product =\",product(10,20))"
   ]
  },
  {
   "cell_type": "code",
   "execution_count": 19,
   "id": "b4e2f2d2-a1a2-499a-8e91-152765c8cb80",
   "metadata": {},
   "outputs": [
    {
     "name": "stdout",
     "output_type": "stream",
     "text": [
      "Result: 4\n"
     ]
    }
   ],
   "source": [
    "def divide(x, y): \n",
    "\tif(x < y):   #terminating condition\n",
    " \t\treturn 0 \n",
    "\telse:  #Recursive Function \n",
    " \t\treturn 1 + divide(x- y,y)\n",
    "\n",
    "print(\"Result:\", divide(20, 5))"
   ]
  },
  {
   "cell_type": "code",
   "execution_count": null,
   "id": "39842bd1-bce7-45bb-b652-650ea403b83c",
   "metadata": {},
   "outputs": [],
   "source": [
    "def find_me(a,n):\n",
    "\tif not a:\t\t#empty data structure is False\n",
    "\t\t\t\t\t#Non-Empty data sturcture is True\n",
    "\t\t\t\t\t#Non-zero value is True\n",
    "\t\treturn False\n",
    "\telif a[0]==n:\n",
    "\t\treturn True\n",
    "\telse:\n",
    "\t\treturn find_me(a[1:],n)\t#write the diagram\n",
    "\n",
    "a=[12,34,33,45]\n",
    "n=int(input(\"Enter number to search\"))\n",
    "print(find_me(a,n))\n"
   ]
  },
  {
   "cell_type": "code",
   "execution_count": 23,
   "id": "d767ee7d-cfed-4a16-b403-12f9adf2c082",
   "metadata": {},
   "outputs": [
    {
     "name": "stdout",
     "output_type": "stream",
     "text": [
      "Processed data: [2, 4, 6]\n"
     ]
    }
   ],
   "source": [
    "def process_data(data, c):\n",
    "     result = [d * 2 for d in data]\n",
    "     c(result)      \n",
    "                    # Call the callback function with the result\n",
    "def print_result(res):\n",
    "     print(\"Processed data:\", res)\n",
    "     \n",
    "data = [1, 2, 3]\n",
    "process_data(data, print_result)\n"
   ]
  },
  {
   "cell_type": "code",
   "execution_count": 25,
   "id": "b9513d97-d4f0-4704-8956-1ea017d7e5eb",
   "metadata": {},
   "outputs": [
    {
     "data": {
      "text/plain": [
       "'WELCOME'"
      ]
     },
     "execution_count": 25,
     "metadata": {},
     "output_type": "execute_result"
    }
   ],
   "source": [
    "\"welcome\".upper()"
   ]
  },
  {
   "cell_type": "code",
   "execution_count": 48,
   "id": "50301ac6-ef9b-4d28-967e-e6fe698c1c89",
   "metadata": {},
   "outputs": [
    {
     "name": "stdout",
     "output_type": "stream",
     "text": [
      "Hi welcome\n",
      "20\n",
      "Hi welcome\n",
      "30\n"
     ]
    }
   ],
   "source": [
    "def outer(msg):\n",
    "    x=10\n",
    "    def inner():\n",
    "        print(msg)\n",
    "        nonlocal x\n",
    "        x=x+10\n",
    "        print(x)\n",
    "    return inner\n",
    "\n",
    "ano_var_inner=outer(\"Hi welcome\")\n",
    "ano_var_inner()\n",
    "ano_var_inner()"
   ]
  },
  {
   "cell_type": "code",
   "execution_count": 62,
   "id": "dcc5cf6a-30c9-42c3-bf42-c69283d8b0cd",
   "metadata": {},
   "outputs": [
    {
     "name": "stdout",
     "output_type": "stream",
     "text": [
      "10\n",
      "30\n",
      "30\n"
     ]
    }
   ],
   "source": [
    "x=10\n",
    "def f():\n",
    "    global x\n",
    "    print(x)\n",
    "    x=x+20\n",
    "    print(x)\n",
    "def f1():\n",
    "    print(x)\n",
    "\n",
    "f()\n",
    "print(x)\n",
    "f1()\n"
   ]
  },
  {
   "cell_type": "code",
   "execution_count": null,
   "id": "0ff581d5-8602-400a-9a91-71931c0cdd56",
   "metadata": {},
   "outputs": [],
   "source": []
  },
  {
   "cell_type": "code",
   "execution_count": 50,
   "id": "ba9a0aa5-f08e-4f87-8e3b-7030e76f6117",
   "metadata": {},
   "outputs": [
    {
     "ename": "NameError",
     "evalue": "name 'z' is not defined",
     "output_type": "error",
     "traceback": [
      "\u001b[1;31m---------------------------------------------------------------------------\u001b[0m",
      "\u001b[1;31mNameError\u001b[0m                                 Traceback (most recent call last)",
      "Cell \u001b[1;32mIn[50], line 10\u001b[0m\n\u001b[0;32m      7\u001b[0m     \u001b[38;5;28mprint\u001b[39m(z)\n\u001b[0;32m      8\u001b[0m     \u001b[38;5;28;01mreturn\u001b[39;00m inner\n\u001b[1;32m---> 10\u001b[0m ano_var_inner\u001b[38;5;241m=\u001b[39mouter(\u001b[38;5;124m\"\u001b[39m\u001b[38;5;124mHi welcome\u001b[39m\u001b[38;5;124m\"\u001b[39m)\n\u001b[0;32m     11\u001b[0m ano_var_inner()\n",
      "Cell \u001b[1;32mIn[50], line 7\u001b[0m, in \u001b[0;36mouter\u001b[1;34m(msg)\u001b[0m\n\u001b[0;32m      5\u001b[0m     \u001b[38;5;28mprint\u001b[39m(msg)\n\u001b[0;32m      6\u001b[0m     \u001b[38;5;28mprint\u001b[39m(x)\n\u001b[1;32m----> 7\u001b[0m \u001b[38;5;28mprint\u001b[39m(z)\n\u001b[0;32m      8\u001b[0m \u001b[38;5;28;01mreturn\u001b[39;00m inner\n",
      "\u001b[1;31mNameError\u001b[0m: name 'z' is not defined"
     ]
    }
   ],
   "source": [
    "def outer(msg):\n",
    "    x=10\n",
    "    def inner():\n",
    "        z=20\n",
    "        print(msg)\n",
    "        print(x)\n",
    "    print(z)\n",
    "    return inner\n",
    "\n",
    "ano_var_inner=outer(\"Hi welcome\")\n",
    "ano_var_inner()\n",
    "#ano_var_inner()"
   ]
  },
  {
   "cell_type": "code",
   "execution_count": null,
   "id": "083c825a-d4e3-46cf-98b8-d1c2fdacc1f9",
   "metadata": {},
   "outputs": [],
   "source": [
    "# Python program to illustrate functions \n",
    "# can be passed as arguments to other functions \n",
    "def shout(text): \n",
    "    return text.upper() \n",
    "\n",
    "def whisper(text): \n",
    "    return text.lower() \n",
    "\n",
    "def greet(func): \n",
    "    # storing the function in a variable \n",
    "    greeting = func(\"\"\"Hi, I am created by a function passed as an argument.\"\"\") \n",
    "    print (greeting) \n",
    "\n",
    "greet(shout) \n",
    "greet(whisper)"
   ]
  },
  {
   "cell_type": "code",
   "execution_count": 30,
   "id": "0ab96547-c6e2-449d-be3d-2b454c741d92",
   "metadata": {},
   "outputs": [
    {
     "name": "stdout",
     "output_type": "stream",
     "text": [
      "Welcome\n"
     ]
    }
   ],
   "source": [
    "def func1():\n",
    "    def func2():\n",
    "        print(\"Welcome\")\n",
    "    #func2()\n",
    "    return func2\n",
    "#func1()\n",
    "x=func1()\n",
    "x()"
   ]
  },
  {
   "cell_type": "code",
   "execution_count": 5,
   "id": "3e1e05b2-ee81-40aa-8349-c640e2460f8f",
   "metadata": {},
   "outputs": [
    {
     "name": "stdout",
     "output_type": "stream",
     "text": [
      "f2= 2723412272096\n",
      "Hello\n",
      "world\n",
      "c= 2723412272096\n"
     ]
    }
   ],
   "source": [
    " def f1(): #outer function\n",
    "     def f2(): #inner function\n",
    "         print (\"Hello\")\n",
    "         print (\"world\")\n",
    "     print('f2=',id(f2))\n",
    "     return f2\n",
    "     \n",
    " c=f1() #refers to f2()\n",
    " c()\n",
    " print('c=',id(c)) #id of f2() and c() are same"
   ]
  },
  {
   "cell_type": "code",
   "execution_count": 3,
   "id": "f73566f4-5c88-4bbc-836a-6df215f2fbb8",
   "metadata": {},
   "outputs": [
    {
     "name": "stdout",
     "output_type": "stream",
     "text": [
      "10.0\n",
      "32.0\n"
     ]
    }
   ],
   "source": [
    "def division(y): #outer function\n",
    "     def divide(x): #inner function\n",
    "         return x/y\n",
    "     return divide\n",
    " \n",
    "d1=division(2) #refers to divide\n",
    "d2=division(3) #refers to divide\n",
    "print(d1(20))\n",
    "print(d2(96))"
   ]
  },
  {
   "cell_type": "code",
   "execution_count": 1,
   "id": "9822d9e3-223f-4e62-96ee-be4455098a0a",
   "metadata": {},
   "outputs": [
    {
     "ename": "NameError",
     "evalue": "name 'f1' is not defined",
     "output_type": "error",
     "traceback": [
      "\u001b[1;31m---------------------------------------------------------------------------\u001b[0m",
      "\u001b[1;31mNameError\u001b[0m                                 Traceback (most recent call last)",
      "Cell \u001b[1;32mIn[1], line 8\u001b[0m\n\u001b[0;32m      6\u001b[0m  \u001b[38;5;66;03m#refers to f2()\u001b[39;00m\n\u001b[0;32m      7\u001b[0m \u001b[38;5;28;01mdel\u001b[39;00m f1\n\u001b[1;32m----> 8\u001b[0m c\u001b[38;5;241m=\u001b[39mf1()\n\u001b[0;32m      9\u001b[0m c()\n",
      "\u001b[1;31mNameError\u001b[0m: name 'f1' is not defined"
     ]
    }
   ],
   "source": [
    " def f1(): #outer function\n",
    "     def f2(): #inner function\n",
    "         print (\"Hello\")\n",
    "         print (\"world\")\n",
    "     return f2\n",
    "  #refers to f2()\n",
    " del f1\n",
    " c=f1()\n",
    " c() #still work"
   ]
  },
  {
   "cell_type": "code",
   "execution_count": 3,
   "id": "8c3fe81e-9038-4432-8d2c-5db1639e4420",
   "metadata": {},
   "outputs": [
    {
     "name": "stdout",
     "output_type": "stream",
     "text": [
      "Inner function: x = 20\n",
      "Outer function: x = 20\n"
     ]
    }
   ],
   "source": [
    "'''The nonlocal keyword is used in Python to refer to a variable in the nearest enclosing \n",
    "scope (excluding global scope). When a variable is declared as nonlocal, \n",
    "Python will search for that variable in the enclosing scope and allow the function to\n",
    "modify it. This is different from using global, which refers to variables in the \n",
    "global scope.'''\n",
    "def outer_function():\n",
    "    x = 10  # x is in the enclosing scope\n",
    "\n",
    "    def inner_function():\n",
    "        nonlocal x  # Refers to x from outer_function\n",
    "        x = 20  # Modifies x from outer_function's scope\n",
    "        print(f\"Inner function: x = {x}\")\n",
    "\n",
    "    inner_function()\n",
    "    print(f\"Outer function: x = {x}\")\n",
    "\n",
    "outer_function()"
   ]
  },
  {
   "cell_type": "code",
   "execution_count": 72,
   "id": "c375d5c2-3ba9-44df-b309-f8cc097f683a",
   "metadata": {},
   "outputs": [
    {
     "name": "stdout",
     "output_type": "stream",
     "text": [
      "Decorator\n",
      "3628800\n",
      "**************\n"
     ]
    }
   ],
   "source": [
    "import math\n",
    "def calculate(f):              #decorator function\n",
    "     def inner1(*args):    #*args is variable length argument\n",
    "         print(\"Decorator\")\n",
    "         f(*args)     # this is being decorated by decorator\n",
    "         print(\"**************\")\n",
    "     return inner1\n",
    "@calculate\n",
    "def factorial(num): #factorial() getting decorated\n",
    "     print(math.factorial(num)) \n",
    "\n",
    "factorial(10)"
   ]
  },
  {
   "cell_type": "code",
   "execution_count": 74,
   "id": "b7b2541d-bb64-48e4-9a17-ea6721bf91d5",
   "metadata": {},
   "outputs": [
    {
     "name": "stdout",
     "output_type": "stream",
     "text": [
      "Decorator\n",
      "3628800\n",
      "**************\n"
     ]
    }
   ],
   "source": [
    "import math\n",
    "def calculate(f):              #decorator function\n",
    "     def inner1(args):    #*args is variable length argument\n",
    "         print(\"Decorator\")\n",
    "         f(args)     # this is being decorated by decorator\n",
    "         print(\"**************\")\n",
    "     return inner1\n",
    "@calculate\n",
    "def factorial(num): #factorial() getting decorated\n",
    "     print(math.factorial(num)) \n",
    "\n",
    "factorial(10)"
   ]
  },
  {
   "cell_type": "code",
   "execution_count": 9,
   "id": "00f6b66d-bbbd-4680-9e9e-30d48555fe42",
   "metadata": {},
   "outputs": [
    {
     "name": "stdout",
     "output_type": "stream",
     "text": [
      "2.0\n"
     ]
    }
   ],
   "source": [
    "def div (a,b):\n",
    "    print(a/b)\n",
    "\n",
    "def smart_div(func):\n",
    "    def inner(a,b):\n",
    "        if a<b:\n",
    "            a,b=b,a\n",
    "        return func(a,b)\n",
    "    return inner\n",
    "\n",
    "f=smart_div(div)\n",
    "f(10,20)"
   ]
  },
  {
   "cell_type": "code",
   "execution_count": 11,
   "id": "d3698b61-8c4a-4ead-beae-50e3d6d3adce",
   "metadata": {},
   "outputs": [
    {
     "name": "stdout",
     "output_type": "stream",
     "text": [
      "Hello, before the function is called\n",
      "Inside Hello function\n",
      "Hello, after the function is called\n"
     ]
    }
   ],
   "source": [
    "#decorators\n",
    "def func_decorator(func):\n",
    "     def inner_func():\n",
    "         print(\"Hello, before the function is called\")\n",
    "         func()\n",
    "         print(\"Hello, after the function is called\")\n",
    "     \n",
    "     return inner_func\n",
    "    \n",
    "def func_hello():\n",
    "     print(\"Inside Hello function\")\n",
    "hello = func_decorator(func_hello)\n",
    "\n",
    "hello()"
   ]
  },
  {
   "cell_type": "code",
   "execution_count": 48,
   "id": "7a315565-d4ad-426c-b3d6-88ceb4558cb3",
   "metadata": {},
   "outputs": [
    {
     "name": "stdout",
     "output_type": "stream",
     "text": [
      "Hello, before the function is called\n",
      "Inside Hello function\n",
      "Hello, after the function is called\n"
     ]
    }
   ],
   "source": [
    "#decorators\n",
    "def func_decorator(func):\n",
    "     def inner_func():\n",
    "         print(\"Hello, before the function is called\")\n",
    "         func()\n",
    "         print(\"Hello, after the function is called\")\n",
    "     \n",
    "     return inner_func\n",
    " \n",
    "@func_decorator\n",
    "def func_hello():\n",
    "     print(\"Inside Hello function\")\n",
    "    \n",
    "func_hello()"
   ]
  },
  {
   "cell_type": "code",
   "execution_count": 50,
   "id": "17360a99-c5ec-4c40-83fb-d829e54d8949",
   "metadata": {},
   "outputs": [
    {
     "name": "stdout",
     "output_type": "stream",
     "text": [
      "Hello, before the function is called\n",
      "Inside Hello function\n",
      "Hello, after the function is called\n"
     ]
    }
   ],
   "source": [
    "@func_decorator\n",
    "def func_hello():\n",
    "     print(\"Inside Hello function\")\n",
    "\n",
    "'''Above code is equivalent to -\n",
    "def func_hello():\n",
    "     print(\"Inside Hello function\")\n",
    "     \n",
    "func_hello = func_decorator(func_hello)'''\n",
    "\n",
    "func_hello()"
   ]
  },
  {
   "cell_type": "code",
   "execution_count": 56,
   "id": "aff0ddb6-ab76-4575-b0b2-96a5ef6316e9",
   "metadata": {},
   "outputs": [
    {
     "name": "stdout",
     "output_type": "stream",
     "text": [
      "Decorator\n",
      "3628800\n",
      "2432902008176640000\n",
      "**************\n"
     ]
    }
   ],
   "source": [
    "import math\n",
    "def calculate(f):  #decorator function\n",
    "     def inner1(*args):  #*args is variable length argument\n",
    "         print(\"Decorator\")\n",
    "         f(*args)        # this is being decorated by decorator\n",
    "         print(\"**************\")\n",
    "     return inner1\n",
    "    \n",
    "   \n",
    "def factorial(*num):  #factorial() getting decorated\n",
    "    for i in num:\n",
    "     print(math.factorial(i)) \n",
    "\n",
    "inner=calculate(factorial)\n",
    "inner(10,20)\n"
   ]
  },
  {
   "cell_type": "code",
   "execution_count": 61,
   "id": "d323f7ac-6e42-411d-8a5d-29bbdac5f019",
   "metadata": {},
   "outputs": [
    {
     "name": "stdout",
     "output_type": "stream",
     "text": [
      "Decorator\n",
      "^^^^^^^^^^^^^^^\n",
      "3628800\n",
      "2432902008176640000\n",
      "**************\n",
      "Decorator\n",
      "^^^^^^^^^^^^^^^\n",
      "15.0\n",
      "**************\n",
      "Decorator\n",
      "^^^^^^^^^^^^^^^\n",
      "89\n",
      "**************\n",
      "Decorator\n",
      "^^^^^^^^^^^^^^^\n",
      "-40\n",
      "**************\n"
     ]
    }
   ],
   "source": [
    "import math\n",
    "def calculate(f):  #decorator function\n",
    "     def inner1(*args):  #*args is variable length argument\n",
    "         print(\"Decorator\")\n",
    "         print(\"^^^^^^^^^^^^^^^\")\n",
    "         f(*args)        # this is being decorated by decorator\n",
    "         print(\"**************\")\n",
    "     return inner1\n",
    "    \n",
    "@calculate    \n",
    "def factorial(*num):  #factorial() getting decorated\n",
    "    for i in num:\n",
    "     print(math.factorial(i)) \n",
    "'''\n",
    "inner=calculate(factorial)\n",
    "inner(10,20)'''\n",
    "\n",
    "@calculate\n",
    "def squareroot(num): #squareroot() getting decorated\n",
    " print(math.sqrt(num))\n",
    "\n",
    "'''\n",
    "inner=calculate(squareroot)\n",
    "inner(10,20)'''\n",
    "\n",
    "@calculate\n",
    "def maximum(*num): #maximum() getting decorated\n",
    "    m=0\n",
    "    for i in num:\n",
    "       if i > m:\n",
    "           m=i\n",
    "    print(m)\n",
    "\n",
    "@calculate\n",
    "def min(*num): #maximum() getting decorated\n",
    "    m=num[0]\n",
    "    for i in num:\n",
    "       if i < m:\n",
    "           m=i\n",
    "    print(m)\n",
    "\n",
    "'''inner=calculate(factorial)\n",
    "inner(10)'''\n",
    "factorial(10,20)\n",
    "squareroot(225)\n",
    "maximum(12,34,2,56,45,67,89)\n",
    "min(10,-3,-40,203,45,1)"
   ]
  },
  {
   "cell_type": "code",
   "execution_count": null,
   "id": "1d9cd69e-8b18-4666-a75d-a9360e003d56",
   "metadata": {},
   "outputs": [],
   "source": [
    "import math\n",
    "def calculate(f):  #decorator function\n",
    "     def inner1(*args):  #*args is variable length argument\n",
    "         print(\"Decorator\")\n",
    "         f(*args)        # this is being decorated by decorator\n",
    "         print(\"**************\")\n",
    "     return inner1\n",
    "    \n",
    "@calculate    \n",
    "def factorial(num):  #factorial() getting decorated\n",
    "     print(math.factorial(num)) \n",
    "\n",
    "@calculate\n",
    "def squareroot(num): #squareroot() getting decorated\n",
    " print(math.sqrt(num))\n",
    "    \n",
    "factorial(10)\n",
    "squareroot(225)"
   ]
  },
  {
   "cell_type": "code",
   "execution_count": 9,
   "id": "759820b3-7875-4129-b1b6-af5b60dcac58",
   "metadata": {},
   "outputs": [
    {
     "name": "stdout",
     "output_type": "stream",
     "text": [
      "<generator object fun1 at 0x0000025BE4564D40>\n",
      "0\n",
      "Generator\n",
      "1\n",
      "Generator\n",
      "2\n",
      "Generator\n",
      "3\n",
      "Generator\n",
      "4\n",
      "Generator\n"
     ]
    },
    {
     "data": {
      "text/plain": [
       "'print(next(obj))\\nprint(next(obj))\\nprint(next(obj))\\nprint(next(obj))\\nprint(next(obj))'"
      ]
     },
     "execution_count": 9,
     "metadata": {},
     "output_type": "execute_result"
    }
   ],
   "source": [
    "#generator\n",
    "def fun1():\n",
    "    for i in range(5):\n",
    "        yield i\n",
    "        print(\"Generator\")\n",
    "   \n",
    "\n",
    "obj=fun1()\n",
    "print(obj)\n",
    "#for i in obj:\n",
    "#    print(i)\n",
    "\n",
    "    \n",
    "print(next(obj))\n",
    "print(next(obj))\n",
    "print(next(obj))\n",
    "print(next(obj))\n",
    "print(next(obj))"
   ]
  },
  {
   "cell_type": "code",
   "execution_count": 59,
   "id": "97573b87-f98c-46f0-8b68-7799844ab367",
   "metadata": {},
   "outputs": [
    {
     "name": "stdout",
     "output_type": "stream",
     "text": [
      "0\n",
      "4\n",
      "16\n",
      "<class 'generator'>\n"
     ]
    }
   ],
   "source": [
    "generator_exp=(i**2 for i in range(5) if i%2==0)\n",
    "#for i in generator_exp:\n",
    " #   print(i)\n",
    "print(next(generator_exp))\n",
    "print(next(generator_exp))\n",
    "print(next(generator_exp))\n",
    "\n",
    "print(type(generator_exp))"
   ]
  },
  {
   "cell_type": "code",
   "execution_count": 1,
   "id": "61d40c05-20b9-42a2-a915-199641a8e62c",
   "metadata": {},
   "outputs": [
    {
     "name": "stdout",
     "output_type": "stream",
     "text": [
      "<class 'generator'>\n",
      "40\n"
     ]
    }
   ],
   "source": [
    "def fibonacci_numbers(nums):\n",
    "    x,y=0,1\n",
    "    for i in range(nums):\n",
    "        x,y=y,x+y\n",
    "        yield x\n",
    "# Generator function - square\n",
    "def square(nums):\n",
    "    print(type(nums))\n",
    "    \n",
    "    for num in nums:\n",
    "        yield num**2\n",
    "print(sum(square(fibonacci_numbers(5))))"
   ]
  },
  {
   "cell_type": "code",
   "execution_count": null,
   "id": "2837240b-a9ab-47c6-9ce1-493e20d667e1",
   "metadata": {},
   "outputs": [],
   "source": []
  },
  {
   "cell_type": "code",
   "execution_count": null,
   "id": "bc951104-cf44-4d52-aa28-9a952db78a18",
   "metadata": {},
   "outputs": [],
   "source": []
  },
  {
   "cell_type": "code",
   "execution_count": 15,
   "id": "2cce4c83-cdbf-4543-ad05-05ae417955c5",
   "metadata": {},
   "outputs": [],
   "source": [
    "import tkinter\n",
    "root = tkinter.Tk()     \n",
    "root.mainloop()"
   ]
  },
  {
   "cell_type": "code",
   "execution_count": 56,
   "id": "6c7fe9bf-c486-4c72-89dd-9e4233ef6784",
   "metadata": {},
   "outputs": [],
   "source": [
    "#tkinter\n",
    "import tkinter\n",
    "root = tkinter.Tk()          \n",
    "root.title(\"Tkinter Demonstration\")   #Title\n",
    "root.geometry('500x500')  #Dimension\n",
    "root.mainloop() #creates window\n",
    " \n",
    " #loops continuously until we close the  window\n"
   ]
  },
  {
   "cell_type": "code",
   "execution_count": 58,
   "id": "fd8850eb-3da1-4e22-88f6-1203bf135756",
   "metadata": {},
   "outputs": [],
   "source": [
    " from tkinter import *\n",
    " win =Tk() \n",
    " win.title(\"Tkinter Demonstration\")\n",
    " win.geometry('300x200')\n",
    " \n",
    " b=Button(win, text='Submit')\n",
    " b.pack()\n",
    " win.mainloop()"
   ]
  },
  {
   "cell_type": "code",
   "execution_count": 68,
   "id": "0ecd7b34-99f7-46bb-b2b8-305bc18d2a60",
   "metadata": {},
   "outputs": [],
   "source": [
    "import tkinter\n",
    "from tkinter import *\n",
    "from tkinter import messagebox\n",
    "\n",
    "win = Tk() \n",
    "win.title(\"Tkinter Button Widget Demonstration\")\n",
    "win.geometry('300x200')\n",
    "def click():\n",
    "    messagebox.showinfo(\"Message\", \"Yellow Button clicked\")\n",
    "a=Button(win, text=\"yellow\", command=click, activeforeground=\"red\", activebackground=\"orange\", padx=30, pady=25)\n",
    "a.pack()\n",
    "win.mainloop()"
   ]
  },
  {
   "cell_type": "code",
   "execution_count": 70,
   "id": "3cf60411-38a6-4d33-b6cb-9be1063a8aa2",
   "metadata": {},
   "outputs": [],
   "source": [
    "import tkinter\n",
    "from tkinter import *\n",
    "from tkinter import messagebox\n",
    "win = Tk() \n",
    "win.title(\"Tkinter Button Widget Demonstration\")\n",
    "win.geometry('300x200')\n",
    "def click():\n",
    "     messagebox.showinfo(\"Message\", \"Green Button clicked\")\n",
    "    \n",
    "a=Button(win, text=\"yellow\", activeforeground=\"yellow\",activebackground=\"orange\", pady=10)\n",
    "b=Button(win, text=\"Blue\", activeforeground=\"blue\",activebackground=\"orange\", pady=10)\n",
    " # adding click function to the below button\n",
    "c=Button(win, text=\"Green\", command=click, activeforeground = \"green\", activebackground=\"green\", pady=10) \n",
    "d=Button(win, text=\"red\", activeforeground=\"blue\",activebackground=\"red\", pady=10)\n",
    "a.pack(side=LEFT)\n",
    "b.pack(side=RIGHT)\n",
    "c.pack(side=TOP)\n",
    "d.pack(side=BOTTOM)\n",
    "win.mainloop()\n",
    "\n"
   ]
  },
  {
   "cell_type": "code",
   "execution_count": 74,
   "id": "869e2811-bdad-4d48-94ea-98d90b29c038",
   "metadata": {},
   "outputs": [],
   "source": [
    "from tkinter import * \n",
    "win=Tk() \n",
    "win.title(\"Tkinter Canvas Widget Demonstration\")\n",
    "win.geometry(\"300x300\") \n",
    "#creating canvas\n",
    "cv=Canvas(win, bg = \"orange\", height = \"300\") \n",
    "cv.pack() \n",
    "win.mainloop()"
   ]
  },
  {
   "cell_type": "code",
   "execution_count": 9,
   "id": "8eaa4487-bc1a-4c11-a785-4b17f4d338de",
   "metadata": {},
   "outputs": [
    {
     "data": {
      "text/plain": [
       "(0, 1, 2, 3)"
      ]
     },
     "execution_count": 9,
     "metadata": {},
     "output_type": "execute_result"
    }
   ],
   "source": [
    "x=0,1,2,3\n",
    "x"
   ]
  },
  {
   "cell_type": "code",
   "execution_count": null,
   "id": "ad78796c-562f-461f-9705-4a6b3517f057",
   "metadata": {},
   "outputs": [
    {
     "name": "stdout",
     "output_type": "stream",
     "text": [
      "Hello World\n"
     ]
    }
   ],
   "source": [
    "from tkinter import *\n",
    " \n",
    "def set():\n",
    "    print(\"Hello World\")\n",
    " \n",
    "root = Tk()\n",
    "root.geometry(\"200x150\")\n",
    " \n",
    "frame = Frame(root)\n",
    "frame.pack()\n",
    "button = Button(frame, text = \"Button1\", command = set,fg = \"red\", font = \"Verdana 14 underline\",bd = 10, bg = \"light blue\", relief = \"solid\")\n",
    "button.pack(pady = 40)\n",
    " \n",
    "root.mainloop()"
   ]
  },
  {
   "cell_type": "code",
   "execution_count": 88,
   "id": "0e910e06-91af-41f4-ac14-a1332ab3224a",
   "metadata": {},
   "outputs": [],
   "source": [
    "\"\"\"\n",
    "x1, y1, x2, y2: These define the bounding box (coordinates of the top-left and bottom-right corners of \n",
    "the rectangle) for the arc. The arc will be drawn inside this box.\n",
    "start: The starting angle of the arc, in degrees. The angle is measured counterclockwise from the \n",
    "positive x-axis. extent: The extent of the arc, in degrees. This defines how far the arc will extend \n",
    "from the start angle.\"\"\"\n",
    "\n",
    "import tkinter\n",
    "win=tkinter.Tk()\n",
    "win.title(\"Tkinter Canvas Widget\")\n",
    "# creating canvas\n",
    "cv=tkinter.Canvas(win, bg=\"yellow\", height=300, width=300)\n",
    "# drawing two arcs\n",
    "coord = 10, 10, 300, 300 # These are the coordinates of the bounding box (top-left and bottom-right corners) \n",
    "                         #in which the arc will be drawn.\n",
    "arc1=cv.create_arc(coord, start=0, extent=150, fill=\"pink\")\n",
    "#arc2=cv.create_arc(coord, start=150, extent=200, fill=\"green\")\n",
    "# adding canvas to window and display it\n",
    "cv.pack()\n",
    "win.mainloop()"
   ]
  },
  {
   "cell_type": "code",
   "execution_count": 32,
   "id": "29c4d871-79d0-4c3d-827c-6f95f38e7ed1",
   "metadata": {},
   "outputs": [
    {
     "name": "stdout",
     "output_type": "stream",
     "text": [
      "Requirement already satisfied: pillow in c:\\users\\farit\\anaconda3\\lib\\site-packages (10.2.0)\n",
      "Note: you may need to restart the kernel to use updated packages.\n"
     ]
    }
   ],
   "source": [
    "pip install pillow"
   ]
  },
  {
   "cell_type": "code",
   "execution_count": 30,
   "id": "ba6b36b6-569a-40a6-a1dd-e989e89c9eb4",
   "metadata": {},
   "outputs": [
    {
     "ename": "TclError",
     "evalue": "couldn't recognize data in image file \"flower1.png\"",
     "output_type": "error",
     "traceback": [
      "\u001b[1;31m---------------------------------------------------------------------------\u001b[0m",
      "\u001b[1;31mTclError\u001b[0m                                  Traceback (most recent call last)",
      "Cell \u001b[1;32mIn[30], line 4\u001b[0m\n\u001b[0;32m      2\u001b[0m win\u001b[38;5;241m=\u001b[39mTk()\n\u001b[0;32m      3\u001b[0m cv\u001b[38;5;241m=\u001b[39mCanvas(win, height\u001b[38;5;241m=\u001b[39m\u001b[38;5;241m700\u001b[39m, width\u001b[38;5;241m=\u001b[39m\u001b[38;5;241m700\u001b[39m)\n\u001b[1;32m----> 4\u001b[0m filename\u001b[38;5;241m=\u001b[39mPhotoImage(file\u001b[38;5;241m=\u001b[39m\u001b[38;5;124m\"\u001b[39m\u001b[38;5;124mflower1.png\u001b[39m\u001b[38;5;124m\"\u001b[39m)\n\u001b[0;32m      5\u001b[0m image\u001b[38;5;241m=\u001b[39mcv\u001b[38;5;241m.\u001b[39mcreate_image(\u001b[38;5;241m20\u001b[39m, \u001b[38;5;241m20\u001b[39m, anchor\u001b[38;5;241m=\u001b[39mnw, image\u001b[38;5;241m=\u001b[39mfilename)\n\u001b[0;32m      6\u001b[0m cv\u001b[38;5;241m.\u001b[39mpack()\n",
      "File \u001b[1;32m~\\anaconda3\\Lib\\tkinter\\__init__.py:4125\u001b[0m, in \u001b[0;36mPhotoImage.__init__\u001b[1;34m(self, name, cnf, master, **kw)\u001b[0m\n\u001b[0;32m   4120\u001b[0m \u001b[38;5;28;01mdef\u001b[39;00m \u001b[38;5;21m__init__\u001b[39m(\u001b[38;5;28mself\u001b[39m, name\u001b[38;5;241m=\u001b[39m\u001b[38;5;28;01mNone\u001b[39;00m, cnf\u001b[38;5;241m=\u001b[39m{}, master\u001b[38;5;241m=\u001b[39m\u001b[38;5;28;01mNone\u001b[39;00m, \u001b[38;5;241m*\u001b[39m\u001b[38;5;241m*\u001b[39mkw):\n\u001b[0;32m   4121\u001b[0m \u001b[38;5;250m    \u001b[39m\u001b[38;5;124;03m\"\"\"Create an image with NAME.\u001b[39;00m\n\u001b[0;32m   4122\u001b[0m \n\u001b[0;32m   4123\u001b[0m \u001b[38;5;124;03m    Valid resource names: data, format, file, gamma, height, palette,\u001b[39;00m\n\u001b[0;32m   4124\u001b[0m \u001b[38;5;124;03m    width.\"\"\"\u001b[39;00m\n\u001b[1;32m-> 4125\u001b[0m     Image\u001b[38;5;241m.\u001b[39m\u001b[38;5;21m__init__\u001b[39m(\u001b[38;5;28mself\u001b[39m, \u001b[38;5;124m'\u001b[39m\u001b[38;5;124mphoto\u001b[39m\u001b[38;5;124m'\u001b[39m, name, cnf, master, \u001b[38;5;241m*\u001b[39m\u001b[38;5;241m*\u001b[39mkw)\n",
      "File \u001b[1;32m~\\anaconda3\\Lib\\tkinter\\__init__.py:4072\u001b[0m, in \u001b[0;36mImage.__init__\u001b[1;34m(self, imgtype, name, cnf, master, **kw)\u001b[0m\n\u001b[0;32m   4070\u001b[0m \u001b[38;5;28;01mfor\u001b[39;00m k, v \u001b[38;5;129;01min\u001b[39;00m cnf\u001b[38;5;241m.\u001b[39mitems():\n\u001b[0;32m   4071\u001b[0m     options \u001b[38;5;241m=\u001b[39m options \u001b[38;5;241m+\u001b[39m (\u001b[38;5;124m'\u001b[39m\u001b[38;5;124m-\u001b[39m\u001b[38;5;124m'\u001b[39m\u001b[38;5;241m+\u001b[39mk, v)\n\u001b[1;32m-> 4072\u001b[0m \u001b[38;5;28mself\u001b[39m\u001b[38;5;241m.\u001b[39mtk\u001b[38;5;241m.\u001b[39mcall((\u001b[38;5;124m'\u001b[39m\u001b[38;5;124mimage\u001b[39m\u001b[38;5;124m'\u001b[39m, \u001b[38;5;124m'\u001b[39m\u001b[38;5;124mcreate\u001b[39m\u001b[38;5;124m'\u001b[39m, imgtype, name,) \u001b[38;5;241m+\u001b[39m options)\n\u001b[0;32m   4073\u001b[0m \u001b[38;5;28mself\u001b[39m\u001b[38;5;241m.\u001b[39mname \u001b[38;5;241m=\u001b[39m name\n",
      "\u001b[1;31mTclError\u001b[0m: couldn't recognize data in image file \"flower1.png\""
     ]
    }
   ],
   "source": [
    "from tkinter import * \n",
    "win=Tk()\n",
    "cv=Canvas(win, height=700, width=700)\n",
    "filename=PhotoImage(file=\"flower1.png\")\n",
    "image=cv.create_image(20, 20, anchor=nw, image=filename)\n",
    "cv.pack()\n",
    "win.mainloop()\n",
    "\"\"\"\n",
    "The anchor option defines how the image will be positioned at the coordinates provided. \n",
    "The default anchor is center, meaning the image will be centered at the given coordinates. \n",
    "The anchor option allows you to adjust the positioning relative to the specified coordinates. \"\"\""
   ]
  },
  {
   "cell_type": "code",
   "execution_count": 7,
   "id": "422d4c7f-7be4-4b4d-94d0-28ce98f2ac19",
   "metadata": {},
   "outputs": [],
   "source": [
    "import tkinter as tk\n",
    "from tkinter import * \n",
    "from PIL import Image, ImageTk  # Importing Image and ImageTk from Pillow\n",
    "\n",
    "# Create the main window\n",
    "root = tk.Tk()\n",
    "\n",
    "# Open the image using Pillow (can handle .jpg, .png, .bmp, etc.)\n",
    "image = Image.open(\"th.jpg\")  # Replace with your image file path\n",
    "\n",
    "# Convert the image to a format that Tkinter can use\n",
    "photo = ImageTk.PhotoImage(image)\n",
    "cv=Canvas(root, height=500, width=500)\n",
    "image=cv.create_image(20, 100, anchor=NW, image=photo)\n",
    "\n",
    "# Create a label widget and display the image\n",
    "#label = tk.Label(root, image=photo)\n",
    "#label.pack()\n",
    "cv.pack()\n",
    "root.mainloop()"
   ]
  },
  {
   "cell_type": "code",
   "execution_count": 13,
   "id": "17be11f1-e323-4cee-97f8-28a77b08c581",
   "metadata": {},
   "outputs": [
    {
     "data": {
      "text/plain": [
       "'\\nIntVar is a special variable class used to manage integer values in a way that allows \\ntkinter widgets to interact with the variable and automatically update the GUI when the\\nvalue changes. It is part of the tkinter variable classes, which also include StringVar, \\nDoubleVar, and BooleanVar. IntVar is commonly used with widgets like Entry, Label, \\nRadiobutton, Checkbutton, and others that can  reflect or modify integer values in a \\ntkinter GUI. '"
      ]
     },
     "execution_count": 13,
     "metadata": {},
     "output_type": "execute_result"
    }
   ],
   "source": [
    "from tkinter import *\n",
    "win=Tk() \n",
    "win.geometry(\"300x300\") \n",
    "w=Label(win, text ='Select Your Hobbies:', fg=\"red\",font = \"50\") \n",
    "w.pack() \n",
    "Checkbutton1 = int() # holds integer data passed to the checkbutton. The IntVar class \n",
    "#is used to store an integer value, and it automatically updates any tkinter widget that \n",
    "#is linked to it.\n",
    "Checkbutton2 = IntVar() # Create an IntVar variable to track the state of the Checkbutton\n",
    "Checkbutton3 = IntVar()\n",
    "cb1=Checkbutton(win, text=\"Painting\",variable = Checkbutton1, onvalue = 1, offvalue = 0, height = 2, width = 10) \n",
    "cb2=Checkbutton(win, text = \"Dancing\", variable = Checkbutton2, onvalue = 1, offvalue = 0, height = 2, width = 10)\n",
    "cb3=Checkbutton(win, text = \"Cooking\", variable = Checkbutton3, onvalue = 1, offvalue = 0, height = 2, width = 10) \n",
    "cb1.pack() \n",
    "cb2.pack() \n",
    "cb3.pack() \n",
    "mainloop()\n",
    "\n",
    "\"\"\"\n",
    "IntVar is a special variable class used to manage integer values in a way that allows \n",
    "tkinter widgets to interact with the variable and automatically update the GUI when the\n",
    "value changes. It is part of the tkinter variable classes, which also include StringVar, \n",
    "DoubleVar, and BooleanVar. IntVar is commonly used with widgets like Entry, Label, \n",
    "Radiobutton, Checkbutton, and others that can  reflect or modify integer values in a \n",
    "tkinter GUI. \"\"\""
   ]
  },
  {
   "cell_type": "code",
   "execution_count": 19,
   "id": "ddc4addc-e810-40d4-91f5-4daa628115ac",
   "metadata": {},
   "outputs": [],
   "source": [
    "from tkinter import * \n",
    "from tkinter import messagebox\n",
    "win=Tk() \n",
    "win.geometry(\"400x250\") \n",
    "username=Label(win, text = \"Username\").place(x = 30,y = 50) \n",
    "password=Label(win, text = \"Password\").place(x = 30, y = 90)\n",
    "def click():\n",
    "    messagebox.showinfo(\"Message\",\"Login done\")\n",
    "    \n",
    "submitbutton=Button(win, text = \"Submit\",activebackground = \"red\", command=click, activeforeground = \"blue\").place(x = 30, y = 140) \n",
    "e1=Entry(win,width = 20).place(x = 100, y = 50) \n",
    "e2=Entry(win, width = 20,show=\"*\").place(x = 100, y = 90) \n",
    "win.mainloop()"
   ]
  },
  {
   "cell_type": "code",
   "execution_count": null,
   "id": "e94439bc-ecdd-458f-a7df-d166af78501c",
   "metadata": {},
   "outputs": [],
   "source": [
    "from tkinter import * \n",
    "from tkinter import messagebox\n",
    "log={\"Arun\":\"xyz123\",\"Aravind\":\"12345\",\"Ragu\":\"xyz123\"}\n",
    "win=Tk() \n",
    "win.geometry(\"400x250\") \n",
    "username=Label(win, text = \"Username\").place(x = 30,y = 50) \n",
    "password=Label(win, text = \"Password\").place(x = 30, y = 90)\n",
    "def click():\n",
    "    u=e1.get()\n",
    "    x= u in log\n",
    "    if x:\n",
    "        p=e2.get()\n",
    "        if str(log[u]) == p:\n",
    "            messagebox.askokcancel(\"Message\",\"Login done\")\n",
    "        else:\n",
    "            messagebox.showinfo(\"Message\",\"Wrong Password\")\n",
    "    else:\n",
    "       messagebox.showinfo(\"Message\",\"User does not exist\")\n",
    "    \n",
    "submitbutton=Button(win, text = \"Submit\",activebackground = \"red\", command=click, activeforeground = \"blue\").place(x = 30, y = 140) \n",
    "e1=Entry(win,width = 20)\n",
    "e1.place(x = 100, y = 50) \n",
    "e2=Entry(win, width = 20, show=\"*\")\n",
    "e2.place(x = 100, y = 90) \n",
    "\n",
    "win.mainloop()"
   ]
  },
  {
   "cell_type": "code",
   "execution_count": 31,
   "id": "2edb8b2f-becc-4fe7-a428-522634fda056",
   "metadata": {},
   "outputs": [],
   "source": [
    "from tkinter import * \n",
    "win=Tk() \n",
    "win.geometry(\"400x250\") \n",
    "name=Label(win, text = \"Name\").place(x = 30,y = 50) \n",
    "email=Label(win, text = \"Email\").place(x = 30, y = 90) \n",
    "password=Label(win, text = \"Password\").place(x = 30, y = 130)\n",
    "submitbtn=Button(win, text = \"Submit\",activebackground = \"red\", activeforeground = \"blue\").place(x = 30, y = 170) \n",
    "entry1=Entry(win,relief=\"flat\").place(x = 80, y = 50)\n",
    "entry2=Entry(win).place(x = 80, y = 90) \n",
    "entry3=Entry(win).place(x = 95, y = 130) \n",
    "win.mainloop()"
   ]
  },
  {
   "cell_type": "code",
   "execution_count": 3,
   "id": "13e4bf2d-9f37-4d90-92e3-f4962ef71d66",
   "metadata": {},
   "outputs": [],
   "source": [
    "from tkinter import *\n",
    "from tkinter import messagebox\n",
    "win=Tk()\n",
    "# function to use the askquestion() function\n",
    "def Submit(): \n",
    "    messagebox.askquestion(\"Form\", \"Do you want to Submit\")\n",
    "    messagebox.showerror(\"Error\",\"Your entry is wrong\")\n",
    "    \n",
    "win.geometry(\"300x300\")\n",
    "# creating Submit Button\n",
    "b=Button(win, text = \"Submit\", command = Submit) \n",
    "b.pack() \n",
    "win.mainloop()"
   ]
  },
  {
   "cell_type": "code",
   "execution_count": 9,
   "id": "0e4a70c1-de0c-484f-b9ab-9104dfa87792",
   "metadata": {},
   "outputs": [],
   "source": [
    "from tkinter import *\n",
    "win = Tk() \n",
    "win.geometry(\"300x150\") \n",
    "w=Label(win, text ='Frame Demonstration', font = \"50\") \n",
    "w.pack() \n",
    "frame=Frame(win) \n",
    "frame.pack()\n",
    "b1= Button(frame, text =\"Python\", fg =\"red\") \n",
    "b1.pack( side = LEFT) \n",
    "b2 = Button(frame, text =\"Java\", fg =\"brown\") \n",
    "b2.pack( side = LEFT ) \n",
    "b3 = Button(frame, text =\".Net\", fg =\"blue\") \n",
    "b3.pack( side = LEFT )\n",
    "bottomframe=Frame(win)\n",
    "bottomframe.pack(side = BOTTOM ) \n",
    "b4 = Button(bottomframe, text =\"C\", fg =\"green\") \n",
    "b4.pack( side = BOTTOM) \n",
    "b5 = Button(bottomframe, text =\"C++\", fg =\"green\") \n",
    "b5.pack( side = BOTTOM) \n",
    "b6 = Button(bottomframe, text =\"Fortran\", fg =\"green\") \n",
    "b6.pack( side = BOTTOM) \n",
    "win.mainloop()"
   ]
  },
  {
   "cell_type": "code",
   "execution_count": null,
   "id": "810228ea-4291-42ff-bd02-08ff9afd20a3",
   "metadata": {},
   "outputs": [],
   "source": [
    "from tkinter import *\n",
    "win=Tk()\n",
    "win.geometry(\"400x400\")\n",
    "# Frame 1\n",
    "frame1=Frame(win,bg=\"black\",width=500,height=300)\n",
    "frame1.pack()\n",
    "# Frame 2 is created within Frame 1\n",
    "frame2=Frame(frame1,bg=\"Grey\",width=100,height=100)\n",
    "frame2.pack(pady=20,padx=20)\n",
    "win.mainloop()"
   ]
  },
  {
   "cell_type": "code",
   "execution_count": 1,
   "id": "2598048b-0b82-4956-8187-af826a02d08b",
   "metadata": {},
   "outputs": [
    {
     "name": "stdout",
     "output_type": "stream",
     "text": [
      "Writing module1.py\n"
     ]
    }
   ],
   "source": [
    "%%file module1.py\n",
    "a=10\n",
    "print(\"Welcome to Module-1\")\n",
    "def f1():\n",
    "    print(\"in f1\")\n",
    "def f2():\n",
    "    print(\"in f2\")\n",
    "def _f3():\n",
    "    print(\"in f3\")\n"
   ]
  },
  {
   "cell_type": "code",
   "execution_count": null,
   "id": "972114c8-7e5e-4587-b22b-eaf8eb8a3ef8",
   "metadata": {},
   "outputs": [],
   "source": []
  },
  {
   "cell_type": "code",
   "execution_count": 3,
   "id": "d6eab816-6af9-47cc-bc40-f69533f8cce6",
   "metadata": {},
   "outputs": [
    {
     "name": "stdout",
     "output_type": "stream",
     "text": [
      "Welcome to Module-1\n",
      "in f1\n",
      "in f2\n",
      "in f3\n",
      "value is 10\n",
      "value is 12\n"
     ]
    }
   ],
   "source": [
    "import module1 #All functions and variables of module1 are are available available\n",
    "module1.f1()\n",
    "module1.f2()\n",
    "module1._f3()\n",
    "print(\"value is\", module1.a)\n",
    "module1.a +=  2\n",
    "print(\"value is\", module1.a)"
   ]
  },
  {
   "cell_type": "code",
   "execution_count": 1,
   "id": "0a2cfc97-a4ff-4e5d-8178-dab95e011fa4",
   "metadata": {
    "scrolled": true
   },
   "outputs": [
    {
     "name": "stdout",
     "output_type": "stream",
     "text": [
      "['C:\\\\Users\\\\farit\\\\Notebooks', 'C:\\\\Users\\\\farit\\\\anaconda3\\\\python311.zip', 'C:\\\\Users\\\\farit\\\\anaconda3\\\\DLLs', 'C:\\\\Users\\\\farit\\\\anaconda3\\\\Lib', 'C:\\\\Users\\\\farit\\\\anaconda3', '', 'C:\\\\Users\\\\farit\\\\anaconda3\\\\Lib\\\\site-packages', 'C:\\\\Users\\\\farit\\\\anaconda3\\\\Lib\\\\site-packages\\\\win32', 'C:\\\\Users\\\\farit\\\\anaconda3\\\\Lib\\\\site-packages\\\\win32\\\\lib', 'C:\\\\Users\\\\farit\\\\anaconda3\\\\Lib\\\\site-packages\\\\Pythonwin']\n"
     ]
    }
   ],
   "source": [
    "#In Python, sys.path is a list of strings that specifies the search paths for modules. When you import a module, Python looks through these paths to find \n",
    "#the module.\n",
    "import sys\n",
    "print(sys.path)"
   ]
  },
  {
   "cell_type": "code",
   "execution_count": 3,
   "id": "6f134d11-9ad8-4ad9-b212-2459ff1b61a8",
   "metadata": {},
   "outputs": [],
   "source": [
    "assert 23==23"
   ]
  },
  {
   "cell_type": "code",
   "execution_count": 5,
   "id": "7d5b8c8d-44a0-470f-af78-e971a53f51ae",
   "metadata": {},
   "outputs": [
    {
     "name": "stdout",
     "output_type": "stream",
     "text": [
      "Welcome to Python 3.11's help utility! If this is your first time using\n",
      "Python, you should definitely check out the tutorial at\n",
      "https://docs.python.org/3.11/tutorial/.\n",
      "\n",
      "Enter the name of any module, keyword, or topic to get help on writing\n",
      "Python programs and using Python modules.  To get a list of available\n",
      "modules, keywords, symbols, or topics, enter \"modules\", \"keywords\",\n",
      "\"symbols\", or \"topics\".\n",
      "\n",
      "Each module also comes with a one-line summary of what it does; to list\n",
      "the modules whose name or summary contain a given string such as \"spam\",\n",
      "enter \"modules spam\".\n",
      "\n",
      "To quit this help utility and return to the interpreter,\n",
      "enter \"q\" or \"quit\".\n",
      "\n"
     ]
    },
    {
     "name": "stdin",
     "output_type": "stream",
     "text": [
      "help>  pass\n"
     ]
    },
    {
     "name": "stdout",
     "output_type": "stream",
     "text": [
      "The \"pass\" statement\n",
      "********************\n",
      "\n",
      "   pass_stmt ::= \"pass\"\n",
      "\n",
      "\"pass\" is a null operation — when it is executed, nothing happens. It\n",
      "is useful as a placeholder when a statement is required syntactically,\n",
      "but no code needs to be executed, for example:\n",
      "\n",
      "   def f(arg): pass    # a function that does nothing (yet)\n",
      "\n",
      "   class C: pass       # a class with no methods (yet)\n",
      "\n"
     ]
    },
    {
     "name": "stdin",
     "output_type": "stream",
     "text": [
      "help>  return\n"
     ]
    },
    {
     "name": "stdout",
     "output_type": "stream",
     "text": [
      "The \"return\" statement\n",
      "**********************\n",
      "\n",
      "   return_stmt ::= \"return\" [expression_list]\n",
      "\n",
      "\"return\" may only occur syntactically nested in a function definition,\n",
      "not within a nested class definition.\n",
      "\n",
      "If an expression list is present, it is evaluated, else \"None\" is\n",
      "substituted.\n",
      "\n",
      "\"return\" leaves the current function call with the expression list (or\n",
      "\"None\") as return value.\n",
      "\n",
      "When \"return\" passes control out of a \"try\" statement with a \"finally\"\n",
      "clause, that \"finally\" clause is executed before really leaving the\n",
      "function.\n",
      "\n",
      "In a generator function, the \"return\" statement indicates that the\n",
      "generator is done and will cause \"StopIteration\" to be raised. The\n",
      "returned value (if any) is used as an argument to construct\n",
      "\"StopIteration\" and becomes the \"StopIteration.value\" attribute.\n",
      "\n",
      "In an asynchronous generator function, an empty \"return\" statement\n",
      "indicates that the asynchronous generator is done and will cause\n",
      "\"StopAsyncIteration\" to be raised.  A non-empty \"return\" statement is\n",
      "a syntax error in an asynchronous generator function.\n",
      "\n",
      "Related help topics: FUNCTIONS\n",
      "\n",
      "\n",
      "You are now leaving help and returning to the Python interpreter.\n",
      "If you want to ask for help on a particular object directly from the\n",
      "interpreter, you can type \"help(object)\".  Executing \"help('string')\"\n",
      "has the same effect as typing a particular string at the help> prompt.\n"
     ]
    }
   ],
   "source": [
    "help()"
   ]
  },
  {
   "cell_type": "code",
   "execution_count": 15,
   "id": "ba18cc2a-9871-4858-96c4-70a4a8ac91d1",
   "metadata": {},
   "outputs": [
    {
     "name": "stdout",
     "output_type": "stream",
     "text": [
      "10\n",
      "I am in main\n"
     ]
    }
   ],
   "source": [
    "x=10\n",
    "print(x)\n",
    "if __name__==\"__main__\" :\n",
    "    print(\"I am in main\")\n",
    "else:\n",
    "    print(\"Not main\")"
   ]
  },
  {
   "cell_type": "code",
   "execution_count": null,
   "id": "dab71e81-eaeb-46d7-8cba-7c8457d64c36",
   "metadata": {},
   "outputs": [],
   "source": []
  },
  {
   "cell_type": "code",
   "execution_count": 3,
   "id": "53f18cc5-aa30-4a88-baab-fc5033034cc4",
   "metadata": {},
   "outputs": [
    {
     "name": "stdout",
     "output_type": "stream",
     "text": [
      "Using __doc__:\n",
      "Performing addition of two numbers.\n",
      "Using help:\n",
      "Help on function add in module __main__:\n",
      "\n",
      "add()\n",
      "    Performing addition of two numbers.\n",
      "\n"
     ]
    }
   ],
   "source": [
    "def add():\n",
    "    '''Performing addition of two numbers.'''\n",
    "    a=10\n",
    "    b=7\n",
    "    print(a+b)\n",
    "print(\"Using __doc__:\")\n",
    "print(add.__doc__)\n",
    "print(\"Using help:\")\n",
    "help(add)"
   ]
  },
  {
   "cell_type": "code",
   "execution_count": 3,
   "id": "73d4e0eb-ddf4-475f-9d80-df036764773a",
   "metadata": {},
   "outputs": [
    {
     "name": "stdout",
     "output_type": "stream",
     "text": [
      "Welcome to Python 3.11's help utility! If this is your first time using\n",
      "Python, you should definitely check out the tutorial at\n",
      "https://docs.python.org/3.11/tutorial/.\n",
      "\n",
      "Enter the name of any module, keyword, or topic to get help on writing\n",
      "Python programs and using Python modules.  To get a list of available\n",
      "modules, keywords, symbols, or topics, enter \"modules\", \"keywords\",\n",
      "\"symbols\", or \"topics\".\n",
      "\n",
      "Each module also comes with a one-line summary of what it does; to list\n",
      "the modules whose name or summary contain a given string such as \"spam\",\n",
      "enter \"modules spam\".\n",
      "\n",
      "To quit this help utility and return to the interpreter,\n",
      "enter \"q\" or \"quit\".\n",
      "\n"
     ]
    },
    {
     "name": "stdin",
     "output_type": "stream",
     "text": [
      "help>  pass\n"
     ]
    },
    {
     "name": "stdout",
     "output_type": "stream",
     "text": [
      "The \"pass\" statement\n",
      "********************\n",
      "\n",
      "   pass_stmt ::= \"pass\"\n",
      "\n",
      "\"pass\" is a null operation — when it is executed, nothing happens. It\n",
      "is useful as a placeholder when a statement is required syntactically,\n",
      "but no code needs to be executed, for example:\n",
      "\n",
      "   def f(arg): pass    # a function that does nothing (yet)\n",
      "\n",
      "   class C: pass       # a class with no methods (yet)\n",
      "\n"
     ]
    },
    {
     "name": "stdin",
     "output_type": "stream",
     "text": [
      "help>  declaration\n"
     ]
    },
    {
     "name": "stdout",
     "output_type": "stream",
     "text": [
      "No Python documentation found for 'declaration'.\n",
      "Use help() to get the interactive help utility.\n",
      "Use help(str) for help on the str class.\n",
      "\n"
     ]
    },
    {
     "name": "stdin",
     "output_type": "stream",
     "text": [
      "help>  lamda\n"
     ]
    },
    {
     "name": "stdout",
     "output_type": "stream",
     "text": [
      "No Python documentation found for 'lamda'.\n",
      "Use help() to get the interactive help utility.\n",
      "Use help(str) for help on the str class.\n",
      "\n"
     ]
    },
    {
     "name": "stdin",
     "output_type": "stream",
     "text": [
      "help>  lambda\n"
     ]
    },
    {
     "name": "stdout",
     "output_type": "stream",
     "text": [
      "Lambdas\n",
      "*******\n",
      "\n",
      "   lambda_expr ::= \"lambda\" [parameter_list] \":\" expression\n",
      "\n",
      "Lambda expressions (sometimes called lambda forms) are used to create\n",
      "anonymous functions. The expression \"lambda parameters: expression\"\n",
      "yields a function object.  The unnamed object behaves like a function\n",
      "object defined with:\n",
      "\n",
      "   def <lambda>(parameters):\n",
      "       return expression\n",
      "\n",
      "See section Function definitions for the syntax of parameter lists.\n",
      "Note that functions created with lambda expressions cannot contain\n",
      "statements or annotations.\n",
      "\n",
      "Related help topics: FUNCTIONS\n",
      "\n",
      "\n",
      "You are now leaving help and returning to the Python interpreter.\n",
      "If you want to ask for help on a particular object directly from the\n",
      "interpreter, you can type \"help(object)\".  Executing \"help('string')\"\n",
      "has the same effect as typing a particular string at the help> prompt.\n"
     ]
    }
   ],
   "source": [
    "help()"
   ]
  },
  {
   "cell_type": "code",
   "execution_count": 17,
   "id": "b93ca59b-f415-4b2a-9294-8cace1b5a993",
   "metadata": {},
   "outputs": [
    {
     "name": "stdout",
     "output_type": "stream",
     "text": [
      "Overwriting file1.py\n"
     ]
    }
   ],
   "source": [
    "%%file file1.py\n",
    "print (\"file1 __name__ = %s\" %__name__) \n",
    "if __name__ == \"__main__\": \n",
    "    print (\"file1 is executed directly\") \n",
    "else: \n",
    "    print (\"file1 is imported\")"
   ]
  },
  {
   "cell_type": "code",
   "execution_count": 19,
   "id": "51945baa-88d1-4c6e-ac96-52144454caca",
   "metadata": {},
   "outputs": [
    {
     "name": "stdout",
     "output_type": "stream",
     "text": [
      "file1 __name__ = __main__\n",
      "file1 is executed directly\n"
     ]
    }
   ],
   "source": [
    "\n",
    "print (\"file1 __name__ = %s\" %__name__) \n",
    "if __name__ == \"__main__\": \n",
    "    print (\"file1 is executed directly\") \n",
    "else: \n",
    "    print (\"file1 is imported\")"
   ]
  },
  {
   "cell_type": "code",
   "execution_count": 21,
   "id": "b62d5829-e9f0-455f-9e11-e15e4b62092c",
   "metadata": {},
   "outputs": [
    {
     "name": "stdout",
     "output_type": "stream",
     "text": [
      "file1 __name__ = file1\n",
      "file1 is imported\n",
      "file2 __name__ = __main__\n",
      "file2 is executed directly\n"
     ]
    }
   ],
   "source": [
    "#%%file file2.py\n",
    "import file1\n",
    "print (\"file2 __name__ = %s\" %__name__) \n",
    "if __name__ == \"__main__\": \n",
    "    print (\"file2 is executed directly\") \n",
    "else: \n",
    "    print (\"file2 is imported\")"
   ]
  },
  {
   "cell_type": "code",
   "execution_count": 27,
   "id": "8641e9a2-daeb-456f-bf46-90120d111345",
   "metadata": {},
   "outputs": [],
   "source": [
    "import sys\n",
    "sys.path.insert(0, 'C:/Users/farit/AppData/Local/Packages/PythonSoftwareFoundation.Python.3.11_qbz5n2kfra8p0/LocalCache/local-packages/Python311/Scripts')"
   ]
  },
  {
   "cell_type": "code",
   "execution_count": 17,
   "id": "d4075ed3-48be-4330-afbf-dee6a9e48f14",
   "metadata": {},
   "outputs": [
    {
     "name": "stdout",
     "output_type": "stream",
     "text": [
      "Trying:\n",
      "    fact(5)\n",
      "Expecting:\n",
      "    120\n",
      "ok\n",
      "Trying:\n",
      "    fact(0)\n",
      "Expecting:\n",
      "    1\n",
      "ok\n",
      "12 items had no tests:\n",
      "    fact\n",
      "    fact.dataframe_columns\n",
      "    fact.dataframe_hash\n",
      "    fact.dtypes_str\n",
      "    fact.get_dataframes\n",
      "    fact.import_pandas_safely\n",
      "    fact.is_data_frame\n",
      "    fact.mydoubler\n",
      "    fact.myfunc\n",
      "    fact.mytripler\n",
      "    fact.upper\n",
      "    fact.x\n",
      "1 items passed all tests:\n",
      "   2 tests in fact.fact\n",
      "2 tests in 13 items.\n",
      "2 passed and 0 failed.\n",
      "Test passed.\n"
     ]
    },
    {
     "data": {
      "text/plain": [
       "TestResults(failed=0, attempted=2)"
      ]
     },
     "execution_count": 17,
     "metadata": {},
     "output_type": "execute_result"
    }
   ],
   "source": [
    "# import testmod for testing a function\n",
    "from doctest import testmod\n",
    "# define a function to test\n",
    "def fact(n):\n",
    "    '''\n",
    "    >>> fact(5)\n",
    "    120\n",
    "    >>> fact(0)\n",
    "    1\n",
    "    '''\n",
    "    if n==0:\n",
    "        res=1\n",
    "    else:\n",
    "        res=n*fact(n-1)\n",
    "    return res\n",
    "\n",
    "testmod(name ='fact', verbose = True)"
   ]
  },
  {
   "cell_type": "code",
   "execution_count": 1,
   "id": "64c5bffb-e89b-4e2c-8cf1-fe69fcaeec58",
   "metadata": {},
   "outputs": [
    {
     "name": "stdout",
     "output_type": "stream",
     "text": [
      "> \u001b[1;32mc:\\users\\farit\\appdata\\local\\temp\\ipykernel_19148\\2355548607.py\u001b[0m(6)\u001b[0;36mfact\u001b[1;34m()\u001b[0m\n",
      "\n"
     ]
    },
    {
     "name": "stdin",
     "output_type": "stream",
     "text": [
      "ipdb>  next\n"
     ]
    },
    {
     "name": "stdout",
     "output_type": "stream",
     "text": [
      "1\n",
      "> \u001b[1;32mc:\\users\\farit\\appdata\\local\\temp\\ipykernel_19148\\2355548607.py\u001b[0m(7)\u001b[0;36mfact\u001b[1;34m()\u001b[0m\n",
      "\n"
     ]
    },
    {
     "name": "stdin",
     "output_type": "stream",
     "text": [
      "ipdb>  next\n"
     ]
    },
    {
     "name": "stdout",
     "output_type": "stream",
     "text": [
      "> \u001b[1;32mc:\\users\\farit\\appdata\\local\\temp\\ipykernel_19148\\2355548607.py\u001b[0m(4)\u001b[0;36mfact\u001b[1;34m()\u001b[0m\n",
      "\n"
     ]
    },
    {
     "name": "stdin",
     "output_type": "stream",
     "text": [
      "ipdb>  next\n"
     ]
    },
    {
     "name": "stdout",
     "output_type": "stream",
     "text": [
      "> \u001b[1;32mc:\\users\\farit\\appdata\\local\\temp\\ipykernel_19148\\2355548607.py\u001b[0m(5)\u001b[0;36mfact\u001b[1;34m()\u001b[0m\n",
      "\n"
     ]
    },
    {
     "name": "stdin",
     "output_type": "stream",
     "text": [
      "ipdb>  next\n"
     ]
    },
    {
     "name": "stdout",
     "output_type": "stream",
     "text": [
      "> \u001b[1;32mc:\\users\\farit\\appdata\\local\\temp\\ipykernel_19148\\2355548607.py\u001b[0m(6)\u001b[0;36mfact\u001b[1;34m()\u001b[0m\n",
      "\n"
     ]
    },
    {
     "name": "stdin",
     "output_type": "stream",
     "text": [
      "ipdb>  list\n"
     ]
    },
    {
     "name": "stdout",
     "output_type": "stream",
     "text": [
      "\u001b[0;32m      1 \u001b[0m\u001b[1;32mimport\u001b[0m \u001b[0mpdb\u001b[0m\u001b[1;33m\u001b[0m\u001b[1;33m\u001b[0m\u001b[0m\n",
      "\u001b[0;32m      2 \u001b[0m\u001b[1;32mdef\u001b[0m \u001b[0mfact\u001b[0m\u001b[1;33m(\u001b[0m\u001b[0mn\u001b[0m\u001b[1;33m)\u001b[0m\u001b[1;33m:\u001b[0m\u001b[1;33m\u001b[0m\u001b[1;33m\u001b[0m\u001b[0m\n",
      "\u001b[0;32m      3 \u001b[0m    \u001b[0mf\u001b[0m \u001b[1;33m=\u001b[0m \u001b[1;36m1\u001b[0m\u001b[1;33m\u001b[0m\u001b[1;33m\u001b[0m\u001b[0m\n",
      "\u001b[0;32m      4 \u001b[0m    \u001b[1;32mfor\u001b[0m \u001b[0mi\u001b[0m \u001b[1;32min\u001b[0m \u001b[0mrange\u001b[0m\u001b[1;33m(\u001b[0m\u001b[1;36m1\u001b[0m\u001b[1;33m,\u001b[0m\u001b[0mn\u001b[0m\u001b[1;33m+\u001b[0m\u001b[1;36m1\u001b[0m\u001b[1;33m)\u001b[0m\u001b[1;33m:\u001b[0m\u001b[1;33m\u001b[0m\u001b[1;33m\u001b[0m\u001b[0m\n",
      "\u001b[0;32m      5 \u001b[0m        \u001b[0mpdb\u001b[0m\u001b[1;33m.\u001b[0m\u001b[0mset_trace\u001b[0m\u001b[1;33m(\u001b[0m\u001b[1;33m)\u001b[0m\u001b[1;33m\u001b[0m\u001b[1;33m\u001b[0m\u001b[0m\n",
      "\u001b[1;32m----> 6 \u001b[1;33m        \u001b[0mprint\u001b[0m \u001b[1;33m(\u001b[0m\u001b[0mi\u001b[0m\u001b[1;33m)\u001b[0m\u001b[1;33m\u001b[0m\u001b[1;33m\u001b[0m\u001b[0m\n",
      "\u001b[0m\u001b[0;32m      7 \u001b[0m        \u001b[0mf\u001b[0m \u001b[1;33m=\u001b[0m \u001b[0mf\u001b[0m \u001b[1;33m*\u001b[0m \u001b[0mi\u001b[0m\u001b[1;33m\u001b[0m\u001b[1;33m\u001b[0m\u001b[0m\n",
      "\u001b[0;32m      8 \u001b[0m    \u001b[1;32mreturn\u001b[0m \u001b[0mf\u001b[0m\u001b[1;33m\u001b[0m\u001b[1;33m\u001b[0m\u001b[0m\n",
      "\u001b[0;32m      9 \u001b[0m\u001b[0mprint\u001b[0m\u001b[1;33m(\u001b[0m\u001b[1;34m\"Factorial of 5 =\"\u001b[0m\u001b[1;33m,\u001b[0m\u001b[0mfact\u001b[0m\u001b[1;33m(\u001b[0m\u001b[1;36m5\u001b[0m\u001b[1;33m)\u001b[0m\u001b[1;33m)\u001b[0m\u001b[1;33m\u001b[0m\u001b[1;33m\u001b[0m\u001b[0m\n",
      "\n"
     ]
    },
    {
     "name": "stdin",
     "output_type": "stream",
     "text": [
      "ipdb>  next\n"
     ]
    },
    {
     "name": "stdout",
     "output_type": "stream",
     "text": [
      "2\n",
      "> \u001b[1;32mc:\\users\\farit\\appdata\\local\\temp\\ipykernel_19148\\2355548607.py\u001b[0m(7)\u001b[0;36mfact\u001b[1;34m()\u001b[0m\n",
      "\n"
     ]
    },
    {
     "name": "stdin",
     "output_type": "stream",
     "text": [
      "ipdb>  next\n"
     ]
    },
    {
     "name": "stdout",
     "output_type": "stream",
     "text": [
      "> \u001b[1;32mc:\\users\\farit\\appdata\\local\\temp\\ipykernel_19148\\2355548607.py\u001b[0m(4)\u001b[0;36mfact\u001b[1;34m()\u001b[0m\n",
      "\n"
     ]
    },
    {
     "name": "stdin",
     "output_type": "stream",
     "text": [
      "ipdb>  next\n"
     ]
    },
    {
     "name": "stdout",
     "output_type": "stream",
     "text": [
      "> \u001b[1;32mc:\\users\\farit\\appdata\\local\\temp\\ipykernel_19148\\2355548607.py\u001b[0m(5)\u001b[0;36mfact\u001b[1;34m()\u001b[0m\n",
      "\n"
     ]
    },
    {
     "name": "stdin",
     "output_type": "stream",
     "text": [
      "ipdb>  next\n"
     ]
    },
    {
     "name": "stdout",
     "output_type": "stream",
     "text": [
      "> \u001b[1;32mc:\\users\\farit\\appdata\\local\\temp\\ipykernel_19148\\2355548607.py\u001b[0m(6)\u001b[0;36mfact\u001b[1;34m()\u001b[0m\n",
      "\n"
     ]
    },
    {
     "name": "stdin",
     "output_type": "stream",
     "text": [
      "ipdb>  next\n"
     ]
    },
    {
     "name": "stdout",
     "output_type": "stream",
     "text": [
      "3\n",
      "> \u001b[1;32mc:\\users\\farit\\appdata\\local\\temp\\ipykernel_19148\\2355548607.py\u001b[0m(7)\u001b[0;36mfact\u001b[1;34m()\u001b[0m\n",
      "\n"
     ]
    },
    {
     "name": "stdin",
     "output_type": "stream",
     "text": [
      "ipdb>  next\n"
     ]
    },
    {
     "name": "stdout",
     "output_type": "stream",
     "text": [
      "> \u001b[1;32mc:\\users\\farit\\appdata\\local\\temp\\ipykernel_19148\\2355548607.py\u001b[0m(4)\u001b[0;36mfact\u001b[1;34m()\u001b[0m\n",
      "\n"
     ]
    },
    {
     "name": "stdin",
     "output_type": "stream",
     "text": [
      "ipdb>  next\n"
     ]
    },
    {
     "name": "stdout",
     "output_type": "stream",
     "text": [
      "> \u001b[1;32mc:\\users\\farit\\appdata\\local\\temp\\ipykernel_19148\\2355548607.py\u001b[0m(5)\u001b[0;36mfact\u001b[1;34m()\u001b[0m\n",
      "\n"
     ]
    },
    {
     "name": "stdin",
     "output_type": "stream",
     "text": [
      "ipdb>  next\n"
     ]
    },
    {
     "name": "stdout",
     "output_type": "stream",
     "text": [
      "> \u001b[1;32mc:\\users\\farit\\appdata\\local\\temp\\ipykernel_19148\\2355548607.py\u001b[0m(6)\u001b[0;36mfact\u001b[1;34m()\u001b[0m\n",
      "\n"
     ]
    },
    {
     "name": "stdin",
     "output_type": "stream",
     "text": [
      "ipdb>  next\n"
     ]
    },
    {
     "name": "stdout",
     "output_type": "stream",
     "text": [
      "4\n",
      "> \u001b[1;32mc:\\users\\farit\\appdata\\local\\temp\\ipykernel_19148\\2355548607.py\u001b[0m(7)\u001b[0;36mfact\u001b[1;34m()\u001b[0m\n",
      "\n"
     ]
    },
    {
     "name": "stdin",
     "output_type": "stream",
     "text": [
      "ipdb>  next\n"
     ]
    },
    {
     "name": "stdout",
     "output_type": "stream",
     "text": [
      "> \u001b[1;32mc:\\users\\farit\\appdata\\local\\temp\\ipykernel_19148\\2355548607.py\u001b[0m(4)\u001b[0;36mfact\u001b[1;34m()\u001b[0m\n",
      "\n"
     ]
    },
    {
     "name": "stdin",
     "output_type": "stream",
     "text": [
      "ipdb>  list\n"
     ]
    },
    {
     "name": "stdout",
     "output_type": "stream",
     "text": [
      "\u001b[0;32m      1 \u001b[0m\u001b[1;32mimport\u001b[0m \u001b[0mpdb\u001b[0m\u001b[1;33m\u001b[0m\u001b[1;33m\u001b[0m\u001b[0m\n",
      "\u001b[0;32m      2 \u001b[0m\u001b[1;32mdef\u001b[0m \u001b[0mfact\u001b[0m\u001b[1;33m(\u001b[0m\u001b[0mn\u001b[0m\u001b[1;33m)\u001b[0m\u001b[1;33m:\u001b[0m\u001b[1;33m\u001b[0m\u001b[1;33m\u001b[0m\u001b[0m\n",
      "\u001b[0;32m      3 \u001b[0m    \u001b[0mf\u001b[0m \u001b[1;33m=\u001b[0m \u001b[1;36m1\u001b[0m\u001b[1;33m\u001b[0m\u001b[1;33m\u001b[0m\u001b[0m\n",
      "\u001b[1;32m----> 4 \u001b[1;33m    \u001b[1;32mfor\u001b[0m \u001b[0mi\u001b[0m \u001b[1;32min\u001b[0m \u001b[0mrange\u001b[0m\u001b[1;33m(\u001b[0m\u001b[1;36m1\u001b[0m\u001b[1;33m,\u001b[0m\u001b[0mn\u001b[0m\u001b[1;33m+\u001b[0m\u001b[1;36m1\u001b[0m\u001b[1;33m)\u001b[0m\u001b[1;33m:\u001b[0m\u001b[1;33m\u001b[0m\u001b[1;33m\u001b[0m\u001b[0m\n",
      "\u001b[0m\u001b[0;32m      5 \u001b[0m        \u001b[0mpdb\u001b[0m\u001b[1;33m.\u001b[0m\u001b[0mset_trace\u001b[0m\u001b[1;33m(\u001b[0m\u001b[1;33m)\u001b[0m\u001b[1;33m\u001b[0m\u001b[1;33m\u001b[0m\u001b[0m\n",
      "\u001b[0;32m      6 \u001b[0m        \u001b[0mprint\u001b[0m \u001b[1;33m(\u001b[0m\u001b[0mi\u001b[0m\u001b[1;33m)\u001b[0m\u001b[1;33m\u001b[0m\u001b[1;33m\u001b[0m\u001b[0m\n",
      "\u001b[0;32m      7 \u001b[0m        \u001b[0mf\u001b[0m \u001b[1;33m=\u001b[0m \u001b[0mf\u001b[0m \u001b[1;33m*\u001b[0m \u001b[0mi\u001b[0m\u001b[1;33m\u001b[0m\u001b[1;33m\u001b[0m\u001b[0m\n",
      "\u001b[0;32m      8 \u001b[0m    \u001b[1;32mreturn\u001b[0m \u001b[0mf\u001b[0m\u001b[1;33m\u001b[0m\u001b[1;33m\u001b[0m\u001b[0m\n",
      "\u001b[0;32m      9 \u001b[0m\u001b[0mprint\u001b[0m\u001b[1;33m(\u001b[0m\u001b[1;34m\"Factorial of 5 =\"\u001b[0m\u001b[1;33m,\u001b[0m\u001b[0mfact\u001b[0m\u001b[1;33m(\u001b[0m\u001b[1;36m5\u001b[0m\u001b[1;33m)\u001b[0m\u001b[1;33m)\u001b[0m\u001b[1;33m\u001b[0m\u001b[1;33m\u001b[0m\u001b[0m\n",
      "\n"
     ]
    },
    {
     "name": "stdin",
     "output_type": "stream",
     "text": [
      "ipdb>  next\n"
     ]
    },
    {
     "name": "stdout",
     "output_type": "stream",
     "text": [
      "> \u001b[1;32mc:\\users\\farit\\appdata\\local\\temp\\ipykernel_19148\\2355548607.py\u001b[0m(5)\u001b[0;36mfact\u001b[1;34m()\u001b[0m\n",
      "\n"
     ]
    },
    {
     "name": "stdin",
     "output_type": "stream",
     "text": [
      "ipdb>  list\n"
     ]
    },
    {
     "name": "stdout",
     "output_type": "stream",
     "text": [
      "\u001b[0;32m      1 \u001b[0m\u001b[1;32mimport\u001b[0m \u001b[0mpdb\u001b[0m\u001b[1;33m\u001b[0m\u001b[1;33m\u001b[0m\u001b[0m\n",
      "\u001b[0;32m      2 \u001b[0m\u001b[1;32mdef\u001b[0m \u001b[0mfact\u001b[0m\u001b[1;33m(\u001b[0m\u001b[0mn\u001b[0m\u001b[1;33m)\u001b[0m\u001b[1;33m:\u001b[0m\u001b[1;33m\u001b[0m\u001b[1;33m\u001b[0m\u001b[0m\n",
      "\u001b[0;32m      3 \u001b[0m    \u001b[0mf\u001b[0m \u001b[1;33m=\u001b[0m \u001b[1;36m1\u001b[0m\u001b[1;33m\u001b[0m\u001b[1;33m\u001b[0m\u001b[0m\n",
      "\u001b[0;32m      4 \u001b[0m    \u001b[1;32mfor\u001b[0m \u001b[0mi\u001b[0m \u001b[1;32min\u001b[0m \u001b[0mrange\u001b[0m\u001b[1;33m(\u001b[0m\u001b[1;36m1\u001b[0m\u001b[1;33m,\u001b[0m\u001b[0mn\u001b[0m\u001b[1;33m+\u001b[0m\u001b[1;36m1\u001b[0m\u001b[1;33m)\u001b[0m\u001b[1;33m:\u001b[0m\u001b[1;33m\u001b[0m\u001b[1;33m\u001b[0m\u001b[0m\n",
      "\u001b[1;32m----> 5 \u001b[1;33m        \u001b[0mpdb\u001b[0m\u001b[1;33m.\u001b[0m\u001b[0mset_trace\u001b[0m\u001b[1;33m(\u001b[0m\u001b[1;33m)\u001b[0m\u001b[1;33m\u001b[0m\u001b[1;33m\u001b[0m\u001b[0m\n",
      "\u001b[0m\u001b[0;32m      6 \u001b[0m        \u001b[0mprint\u001b[0m \u001b[1;33m(\u001b[0m\u001b[0mi\u001b[0m\u001b[1;33m)\u001b[0m\u001b[1;33m\u001b[0m\u001b[1;33m\u001b[0m\u001b[0m\n",
      "\u001b[0;32m      7 \u001b[0m        \u001b[0mf\u001b[0m \u001b[1;33m=\u001b[0m \u001b[0mf\u001b[0m \u001b[1;33m*\u001b[0m \u001b[0mi\u001b[0m\u001b[1;33m\u001b[0m\u001b[1;33m\u001b[0m\u001b[0m\n",
      "\u001b[0;32m      8 \u001b[0m    \u001b[1;32mreturn\u001b[0m \u001b[0mf\u001b[0m\u001b[1;33m\u001b[0m\u001b[1;33m\u001b[0m\u001b[0m\n",
      "\u001b[0;32m      9 \u001b[0m\u001b[0mprint\u001b[0m\u001b[1;33m(\u001b[0m\u001b[1;34m\"Factorial of 5 =\"\u001b[0m\u001b[1;33m,\u001b[0m\u001b[0mfact\u001b[0m\u001b[1;33m(\u001b[0m\u001b[1;36m5\u001b[0m\u001b[1;33m)\u001b[0m\u001b[1;33m)\u001b[0m\u001b[1;33m\u001b[0m\u001b[1;33m\u001b[0m\u001b[0m\n",
      "\n"
     ]
    },
    {
     "name": "stdin",
     "output_type": "stream",
     "text": [
      "ipdb>  next\n"
     ]
    },
    {
     "name": "stdout",
     "output_type": "stream",
     "text": [
      "> \u001b[1;32mc:\\users\\farit\\appdata\\local\\temp\\ipykernel_19148\\2355548607.py\u001b[0m(6)\u001b[0;36mfact\u001b[1;34m()\u001b[0m\n",
      "\n",
      "--KeyboardInterrupt--\n",
      "\n",
      "KeyboardInterrupt: Interrupted by user\n",
      "5\n",
      "Factorial of 5 = 120\n"
     ]
    }
   ],
   "source": [
    "import pdb\n",
    "def fact(n):\n",
    "    f = 1\n",
    "    for i in range(1,n+1):\n",
    "        pdb.set_trace()\n",
    "        print (i)\n",
    "        f = f * i\n",
    "    return f\n",
    "print(\"Factorial of 5 =\",fact(5))"
   ]
  },
  {
   "cell_type": "code",
   "execution_count": 13,
   "id": "f328aee3-e9fc-4cbd-bf11-4f50ac23162c",
   "metadata": {},
   "outputs": [],
   "source": [
    "assert 10==10"
   ]
  },
  {
   "cell_type": "code",
   "execution_count": 19,
   "id": "24fe3d77-4eea-4398-ae74-099185998b2e",
   "metadata": {},
   "outputs": [
    {
     "name": "stdout",
     "output_type": "stream",
     "text": [
      "Trying:\n",
      "    fact(5)\n",
      "Expecting:\n",
      "    120\n",
      "ok\n",
      "Trying:\n",
      "    fact(0)\n",
      "Expecting:\n",
      "    1\n",
      "ok\n",
      "Trying:\n",
      "    length(\"Welcome\")\n",
      "Expecting:\n",
      "    7\n",
      "ok\n",
      "Trying:\n",
      "    length(\"Hi welcome to Python\")\n",
      "Expecting:\n",
      "    20\n",
      "ok\n",
      "12 items had no tests:\n",
      "    length\n",
      "    length.dataframe_columns\n",
      "    length.dataframe_hash\n",
      "    length.dtypes_str\n",
      "    length.get_dataframes\n",
      "    length.import_pandas_safely\n",
      "    length.is_data_frame\n",
      "    length.mydoubler\n",
      "    length.myfunc\n",
      "    length.mytripler\n",
      "    length.upper\n",
      "    length.x\n",
      "2 items passed all tests:\n",
      "   2 tests in length.fact\n",
      "   2 tests in length.length\n",
      "4 tests in 14 items.\n",
      "4 passed and 0 failed.\n",
      "Test passed.\n"
     ]
    },
    {
     "data": {
      "text/plain": [
       "TestResults(failed=0, attempted=4)"
      ]
     },
     "execution_count": 19,
     "metadata": {},
     "output_type": "execute_result"
    }
   ],
   "source": [
    "# import testmod for testing a function\n",
    "from doctest import testmod\n",
    "# define a function to test\n",
    "def length(str):\n",
    "    '''\n",
    "    >>> length(\"Welcome\")\n",
    "    7\n",
    "    >>> length(\"Hi welcome to Python\")\n",
    "    20\n",
    "    '''\n",
    "    c=0\n",
    "    for i in str:\n",
    "        c=c+1\n",
    "    return c\n",
    "\n",
    "testmod(name ='length', verbose = True)"
   ]
  },
  {
   "cell_type": "code",
   "execution_count": 1,
   "id": "9ceb5040-e737-4fc5-94d6-a823653a90c5",
   "metadata": {},
   "outputs": [],
   "source": [
    "from tkinter import *\n",
    "from tkinter.ttk import *\n",
    " \n",
    "# Creating master Tkinter window \n",
    "master = Tk() \n",
    "master.geometry(\"175x175\") \n",
    " \n",
    "# Tkinter string variable \n",
    "# able to store any string value \n",
    "v1 = StringVar(master, \"1\")\n",
    "v2 = StringVar(master, \"2\") \n",
    " \n",
    "Radiobutton(master, text = \"Male\", variable = v1,value = \"1\").pack(side = TOP, ipady = 5)\n",
    "Radiobutton(master, text = \"Female\", variable = v2,value = \"2\").pack(side = TOP, ipady = 5)\n",
    "master.mainloop()"
   ]
  },
  {
   "cell_type": "code",
   "execution_count": null,
   "id": "40b16cae-79d6-4caa-a389-0cf26ef0bc56",
   "metadata": {},
   "outputs": [],
   "source": [
    "import tkinter as tk \n",
    "from tkinter import ttk \n",
    "\n",
    "# Creating tkinter window \n",
    "window = tk.Tk() \n",
    "window.geometry('350x250') \n",
    "# Label \n",
    "ttk.Label(window, text = \"Select the Month :\", \n",
    "\t\tfont = (\"Times New Roman\", 10)).grid(column = 0, \n",
    "\t\trow = 15, padx = 10, pady = 25) \n",
    "\n",
    "n = tk.StringVar() \n",
    "monthchoosen = ttk.Combobox(window, width = 27, \n",
    "\t\t\t\t\t\t\ttextvariable = n) \n",
    "\n",
    "# Adding combobox drop down list \n",
    "monthchoosen['values'] = (' January', \n",
    "\t\t\t\t\t\t' February', \n",
    "\t\t\t\t\t\t' March', \n",
    "\t\t\t\t\t\t' April', \n",
    "\t\t\t\t\t\t' May', \n",
    "\t\t\t\t\t\t' June', \n",
    "\t\t\t\t\t\t' July', \n",
    "\t\t\t\t\t\t' August', \n",
    "\t\t\t\t\t\t' September', \n",
    "\t\t\t\t\t\t' October', \n",
    "\t\t\t\t\t\t' November', \n",
    "\t\t\t\t\t\t' December') \n",
    "\n",
    "monthchoosen.grid(column = 1, row = 15) \n",
    "\n",
    "# Shows february as a default value \n",
    "monthchoosen.current(2) \n",
    "window.mainloop() \n"
   ]
  },
  {
   "cell_type": "code",
   "execution_count": null,
   "id": "8396c470-3c02-496c-a851-159758106659",
   "metadata": {},
   "outputs": [],
   "source": []
  },
  {
   "cell_type": "code",
   "execution_count": null,
   "id": "d1926eab-a8e3-4788-a35e-1905e116d68c",
   "metadata": {},
   "outputs": [],
   "source": []
  },
  {
   "cell_type": "markdown",
   "id": "83a351e5-a4c6-4af2-bf68-5685a591c451",
   "metadata": {},
   "source": [
    "#Lambda Function"
   ]
  },
  {
   "cell_type": "code",
   "execution_count": 3,
   "id": "a0d124f9-7a69-4676-a930-55b8b7da9c46",
   "metadata": {},
   "outputs": [
    {
     "name": "stdout",
     "output_type": "stream",
     "text": [
      "20\n"
     ]
    }
   ],
   "source": [
    "x = lambda a : a + 10\n",
    "print(x(10))"
   ]
  },
  {
   "cell_type": "code",
   "execution_count": 5,
   "id": "4bf0e0c3-3e4f-44b0-89ff-b14cf0f37c5c",
   "metadata": {},
   "outputs": [
    {
     "name": "stdout",
     "output_type": "stream",
     "text": [
      "30\n"
     ]
    }
   ],
   "source": [
    "#Lambda functions can take any number of arguments:\n",
    "x = lambda a, b : a * b\n",
    "print(x(5, 6))"
   ]
  },
  {
   "cell_type": "code",
   "execution_count": 5,
   "id": "a56c91bd-5082-43e2-bd92-966dfe37ab5d",
   "metadata": {},
   "outputs": [
    {
     "name": "stdout",
     "output_type": "stream",
     "text": [
      "The maximum is  7\n",
      "<function <lambda> at 0x0000027347E03060> <class 'function'>\n"
     ]
    }
   ],
   "source": [
    "maximum=lambda a,b : a if a>b else b #max(a,b) can also be used\n",
    "print(\"The maximum is \",maximum(6,7))\n",
    "print(maximum,type(maximum))"
   ]
  },
  {
   "cell_type": "code",
   "execution_count": 3,
   "id": "2752376e-766c-4643-affb-e3d2a461f302",
   "metadata": {},
   "outputs": [
    {
     "name": "stdout",
     "output_type": "stream",
     "text": [
      "The maximum is  7\n",
      "<function <lambda> at 0x000002734631B920> <class 'function'>\n"
     ]
    }
   ],
   "source": [
    "maximum=lambda a,b : max(a,b) #max(a,b) can also be used\n",
    "print(\"The maximum is \",maximum(6,7))\n",
    "print(maximum,type(maximum))"
   ]
  },
  {
   "cell_type": "code",
   "execution_count": 9,
   "id": "40206cfd-cac0-4a79-b4b8-14639807b2be",
   "metadata": {},
   "outputs": [
    {
     "name": "stdout",
     "output_type": "stream",
     "text": [
      "60\n"
     ]
    }
   ],
   "source": [
    "#The power of lambda is better shown when you use them \n",
    "#as an anonymous function inside another function.\n",
    "def myfunc(n):\n",
    "  return lambda a : a * n\n",
    "\n",
    "mydoubler = myfunc(2)\n",
    "\n",
    "print(mydoubler(30))\n"
   ]
  },
  {
   "cell_type": "code",
   "execution_count": 11,
   "id": "e30d5971-27ea-4627-958c-3d98fe56bc90",
   "metadata": {},
   "outputs": [
    {
     "name": "stdout",
     "output_type": "stream",
     "text": [
      "22\n",
      "33\n"
     ]
    }
   ],
   "source": [
    "def myfunc(n):\n",
    "  return lambda a : a * n\n",
    "\n",
    "mydoubler = myfunc(2)\n",
    "mytripler = myfunc(3)\n",
    "\n",
    "print(mydoubler(11))\n",
    "print(mytripler(11))"
   ]
  },
  {
   "cell_type": "code",
   "execution_count": 15,
   "id": "7770849c-9ca5-446d-be43-795ae803781f",
   "metadata": {},
   "outputs": [
    {
     "name": "stdout",
     "output_type": "stream",
     "text": [
      "WELCOME\n"
     ]
    }
   ],
   "source": [
    "upper = lambda string: string.upper()\n",
    "s=\"welcome\"\n",
    "print(upper(s))"
   ]
  },
  {
   "cell_type": "code",
   "execution_count": 15,
   "id": "d58cdbb9-212f-4d4d-b459-db4f848ef662",
   "metadata": {},
   "outputs": [
    {
     "name": "stdout",
     "output_type": "stream",
     "text": [
      "[12, 34, None, None, None]\n"
     ]
    }
   ],
   "source": [
    "l=[12,34,55,67,33]\n",
    "e_l=map(lambda x: x if x%2==0 else None , l)\n",
    "print(list(e_l))"
   ]
  },
  {
   "cell_type": "code",
   "execution_count": 43,
   "id": "0078b78b-cc1b-4d03-b609-b95b1aabadf3",
   "metadata": {},
   "outputs": [
    {
     "name": "stdout",
     "output_type": "stream",
     "text": [
      "[True, True, False, False, False]\n"
     ]
    }
   ],
   "source": [
    "l=[12,34,55,67,33]\n",
    "e_l=map(lambda x: x%2==0 , l)\n",
    "print(list(e_l))"
   ]
  },
  {
   "cell_type": "code",
   "execution_count": null,
   "id": "de7919cf-451f-4361-acd2-42027735f262",
   "metadata": {},
   "outputs": [],
   "source": []
  },
  {
   "cell_type": "code",
   "execution_count": null,
   "id": "0854faa7-9dde-4293-aed6-727ad1d29080",
   "metadata": {},
   "outputs": [],
   "source": []
  },
  {
   "cell_type": "code",
   "execution_count": 1,
   "id": "8017508c-ba4d-4d38-b970-27ab6c4f0db1",
   "metadata": {},
   "outputs": [
    {
     "name": "stdout",
     "output_type": "stream",
     "text": [
      "['APPLE', 'PINEAPPLE', 'FIG', 'MANGOES']\n"
     ]
    }
   ],
   "source": [
    "a = [ 'apple', 'pineapple', 'fig', 'mangoes' ]\n",
    "b = list(map(str.upper, a)) \n",
    "print(b) "
   ]
  },
  {
   "cell_type": "code",
   "execution_count": null,
   "id": "c37ab107-59d3-4416-8dc6-5b177472c46e",
   "metadata": {},
   "outputs": [],
   "source": [
    "l=[1,2,3]\n",
    "def square(i):\n",
    "    \n",
    "b=map("
   ]
  },
  {
   "cell_type": "code",
   "execution_count": 9,
   "id": "10e7b9be-9f04-458b-a192-7da87ee3ebcf",
   "metadata": {},
   "outputs": [
    {
     "name": "stdout",
     "output_type": "stream",
     "text": [
      "<map object at 0x000001DC0C2F9030>\n"
     ]
    },
    {
     "data": {
      "text/plain": [
       "map"
      ]
     },
     "execution_count": 9,
     "metadata": {},
     "output_type": "execute_result"
    }
   ],
   "source": [
    "a = [ 'apple', 'pineapple', 'fig', 'mangoes' ]\n",
    "b = list(map(len, a)) \n",
    "print(b)\n",
    "type(b)"
   ]
  },
  {
   "cell_type": "code",
   "execution_count": 11,
   "id": "945db356-a8d2-4e46-a5c6-74f38e5845af",
   "metadata": {},
   "outputs": [
    {
     "name": "stdout",
     "output_type": "stream",
     "text": [
      "[5, 9, 3, 7]\n"
     ]
    },
    {
     "data": {
      "text/plain": [
       "list"
      ]
     },
     "execution_count": 11,
     "metadata": {},
     "output_type": "execute_result"
    }
   ],
   "source": [
    "a = [ 'apple', 'pineapple', 'fig', 'mangoes' ]\n",
    "b = list(map(len, a)) \n",
    "print(b)\n",
    "type(b)"
   ]
  },
  {
   "cell_type": "code",
   "execution_count": 22,
   "id": "5bc7f7f4-3fde-4f23-89b1-2d359217a76f",
   "metadata": {},
   "outputs": [
    {
     "name": "stdout",
     "output_type": "stream",
     "text": [
      "[121, 1089, 484, 1936]\n"
     ]
    }
   ],
   "source": [
    "def get_square(n):  #user defined function\n",
    " return n*n                                                                                \n",
    "a = [11, 33, 22, 44] \n",
    "b = list(map(get_square, a)) \n",
    "print(b) "
   ]
  },
  {
   "cell_type": "code",
   "execution_count": 13,
   "id": "810c6eb5-35fe-4f40-9c94-ba31cd1c50d0",
   "metadata": {},
   "outputs": [
    {
     "name": "stdout",
     "output_type": "stream",
     "text": [
      "The modified list is  [1, 4, 3, 8, 5]\n"
     ]
    }
   ],
   "source": [
    "def double_num(n):   #user defined function\n",
    "    if n% 2 == 0:  \n",
    "        return n * 2 \n",
    "    else:  \n",
    "        return n  \n",
    "numbers = [1, 2, 3, 4, 5]  \n",
    "result = list(map(double_num, numbers)) \n",
    "print(\"The modified list is \",result)"
   ]
  },
  {
   "cell_type": "code",
   "execution_count": 17,
   "id": "1f6718f7-0f96-4e79-8521-7ed48ab0415a",
   "metadata": {},
   "outputs": [
    {
     "name": "stdin",
     "output_type": "stream",
     "text": [
      "Enter number n 4\n",
      "Enter number 5\n",
      "Enter number 15\n",
      "Enter number 70\n",
      "Enter number 60\n"
     ]
    },
    {
     "name": "stdout",
     "output_type": "stream",
     "text": [
      "The modified list is  [None, 15, None, 60]\n"
     ]
    }
   ],
   "source": [
    "def div_3_5(n):   #user defined function\n",
    "    if n% 3 == 0 and n%5 == 0:  \n",
    "        return n\n",
    "    #else:  \n",
    "     #   return\n",
    "        \n",
    "l=[]\n",
    "n=int(input(\"Enter number n\"))\n",
    "for i in range(n):\n",
    "    num=int(input(\"Enter number\"))\n",
    "    l=l+[num]\n",
    "    #l=l.append(num)\n",
    "    \n",
    "result = list(map(div_3_5, l)) \n",
    "print(\"The modified list is \",result)"
   ]
  },
  {
   "cell_type": "code",
   "execution_count": 21,
   "id": "72d7eefe-332b-4350-ac5e-0fc5804f0abc",
   "metadata": {},
   "outputs": [
    {
     "name": "stdout",
     "output_type": "stream",
     "text": [
      "[24, 16, 45]\n"
     ]
    }
   ],
   "source": [
    "num1 = [4, 2, 5,6,8] \n",
    "num2 = [6, 8, 9] \n",
    "def product(x,y): \n",
    " return x*y \n",
    "result = map(product, num1, num2) \n",
    "print(list(result))"
   ]
  },
  {
   "cell_type": "code",
   "execution_count": 23,
   "id": "6bbc3464-be2e-4ef7-88e7-c9fe9bcfae51",
   "metadata": {},
   "outputs": [
    {
     "name": "stdout",
     "output_type": "stream",
     "text": [
      "['aaaa', 'bb', 'ccccc']\n"
     ]
    }
   ],
   "source": [
    "num1 = (4, 2, 5)                                                                                                                             \n",
    "num2 = \"abc\"                                                                                       \n",
    "def product(x,y): \n",
    " return x*y \n",
    "result = map(product, num1, num2) \n",
    "print(list(result)) "
   ]
  },
  {
   "cell_type": "code",
   "execution_count": 25,
   "id": "0ce20027-99c0-4bbb-8771-4b38b0ff7598",
   "metadata": {},
   "outputs": [
    {
     "name": "stdout",
     "output_type": "stream",
     "text": [
      "[6, 20, 30]\n"
     ]
    }
   ],
   "source": [
    "num1 = {4, 2, 5}                                                                                                                             \n",
    "num2 = {5, 6, 3}                                                                                   \n",
    "def product(x,y): \n",
    " return x*y \n",
    "result = map(product, num1, num2) \n",
    "print(list(result)) "
   ]
  },
  {
   "cell_type": "code",
   "execution_count": 18,
   "id": "ea5ffaba-d787-40b0-8b38-bba0bf58db36",
   "metadata": {},
   "outputs": [
    {
     "name": "stdout",
     "output_type": "stream",
     "text": [
      "['APPLE', 'PINEAPPLE', 'FIG', 'MANGOES']\n"
     ]
    }
   ],
   "source": [
    "a = [ 'apple', 'pineapple', 'fig', 'mangoes' ]\n",
    "print(list(map(lambda x: x.upper(), a)))  "
   ]
  },
  {
   "cell_type": "code",
   "execution_count": 19,
   "id": "5e2d55ea-e5c7-4904-bb5e-599a95215895",
   "metadata": {},
   "outputs": [
    {
     "name": "stdout",
     "output_type": "stream",
     "text": [
      "[121, 1089, 484, 1936]\n"
     ]
    }
   ],
   "source": [
    "a = [11, 33, 22, 44] \n",
    "b = list(map(lambda x: x*x, a)) \n",
    "print(b)"
   ]
  },
  {
   "cell_type": "code",
   "execution_count": 5,
   "id": "663590a1-41ba-450d-ba6b-21be8a6fd4e3",
   "metadata": {},
   "outputs": [
    {
     "name": "stdout",
     "output_type": "stream",
     "text": [
      "Students with marks greater than 70 are [55, 65, 45]\n"
     ]
    }
   ],
   "source": [
    "marks = [55, 78, 90, 87, 65, 45]\n",
    "def myFunc(m):\n",
    "    if m > 70 :\n",
    "        return True\n",
    "    else:\n",
    "        return False\n",
    "Distinction = list(filter(myFunc, marks))\n",
    "print(\"Students with marks greater than 70 are\",Distinction)"
   ]
  },
  {
   "cell_type": "code",
   "execution_count": 29,
   "id": "bd0b77ca-c55d-458f-b933-2fc5c7ea0697",
   "metadata": {},
   "outputs": [
    {
     "name": "stdout",
     "output_type": "stream",
     "text": [
      "Prime numbers are [23, 17, 97]\n"
     ]
    }
   ],
   "source": [
    "import math\n",
    "l = [55,12,23,17,97,78, 90, 87, 65, 45]\n",
    "def is_prime(m):\n",
    "    for i in range(2,int(math.sqrt(m))+1):\n",
    "        if m%i == 0:\n",
    "            return False\n",
    "    else:\n",
    "        return True\n",
    "        \n",
    "Prime = list(filter(is_prime, l))\n",
    "print(\"Prime numbers are\",Prime)"
   ]
  },
  {
   "cell_type": "code",
   "execution_count": 33,
   "id": "fec25365-fde4-4b4d-b57f-b94ee04b9782",
   "metadata": {},
   "outputs": [
    {
     "name": "stdout",
     "output_type": "stream",
     "text": [
      "['i', 'o', 'a', 'i', 'i', 'u', 'o', 'i', 'o', 'o']\n",
      "10\n"
     ]
    }
   ],
   "source": [
    "vowels=['a','e','i','o','u']\n",
    "def is_vowel(c):\n",
    "    if c in vowels:\n",
    "        return True\n",
    "    else:\n",
    "        return False\n",
    "sent=\"Hi Programming is fun. Python is good\"\n",
    "v_l=list(filter(is_vowel,sent))\n",
    "print(v_l)\n",
    "print(len(v_l))"
   ]
  },
  {
   "cell_type": "code",
   "execution_count": 7,
   "id": "7b704962-dc05-47c4-9ae5-b47e80480aa8",
   "metadata": {},
   "outputs": [
    {
     "name": "stdout",
     "output_type": "stream",
     "text": [
      "['Hi', 'Programming', 'is', 'fun.', 'Python', 'is', 'good,', 'alks']\n",
      "8\n"
     ]
    }
   ],
   "source": [
    "#filter the words in sentence which vowels in it\n",
    "vowels=['a','e','i','o','u']\n",
    "def is_vowel(w):\n",
    "    for i in w:\n",
    "        if i in vowels:\n",
    "            return True\n",
    "    else:\n",
    "        return False\n",
    "        \n",
    "sent=\"Hi Programming is fun. Python is good, alks skdf\"\n",
    "words=sent.split()\n",
    "vw_l=list(filter(is_vowel,words))\n",
    "print(vw_l)\n",
    "print(len(vw_l))"
   ]
  },
  {
   "cell_type": "code",
   "execution_count": 9,
   "id": "de55fd17-caeb-4889-82a4-42a09d27663d",
   "metadata": {},
   "outputs": [
    {
     "name": "stdout",
     "output_type": "stream",
     "text": [
      "[2, 12, 78]\n",
      "[1, 3, 45, 67, 33, 89]\n"
     ]
    }
   ],
   "source": [
    "#segregating even and odd numbers\n",
    "l=[1,2,3,45,67,33,12,78,89]\n",
    "e_l=filter(lambda x: x%2==0, l)\n",
    "print(list(e_l))\n",
    "o_l=filter(lambda x: x%2!=0, l)\n",
    "print(list(o_l))"
   ]
  },
  {
   "cell_type": "code",
   "execution_count": 45,
   "id": "47200b3c-e049-47da-ad86-49186e473c28",
   "metadata": {},
   "outputs": [
    {
     "name": "stdout",
     "output_type": "stream",
     "text": [
      "[6, 6]\n"
     ]
    }
   ],
   "source": [
    "Names=[ 'Ram', 'Tejas', 'Aditya', 'Ravi', 'Dinesh', 'Raghu' ]\n",
    "#finds all names whose length exceeds 5 and converts them to uppercase\n",
    "print(list(map(len, filter(lambda name : len(name) > 5, Names))))"
   ]
  },
  {
   "cell_type": "code",
   "execution_count": 11,
   "id": "5f88c227-c431-4b06-9dad-4471c3c8e5a0",
   "metadata": {},
   "outputs": [
    {
     "name": "stdout",
     "output_type": "stream",
     "text": [
      "['ADITYA', 'DINESH']\n"
     ]
    }
   ],
   "source": [
    "Names=[ 'Ram', 'Tejas', 'Aditya', 'Ravi', 'Dinesh', 'Raghu' ]\n",
    "#finds all names whose length exceeds 5 and converts them to uppercase\n",
    "print(list(map(str.upper, filter(lambda name : len(name) > 5, Names))))"
   ]
  },
  {
   "cell_type": "code",
   "execution_count": 49,
   "id": "471d2d10-0767-4bc9-b0c8-7793d144407a",
   "metadata": {},
   "outputs": [
    {
     "name": "stdout",
     "output_type": "stream",
     "text": [
      "[3, 2]\n"
     ]
    }
   ],
   "source": [
    "Names=[ 'Ram', 'Tejas', 'Aditya', 'Ravi', 'Dinesh', 'Raghu' ]\n",
    "vowels=['a','e','i','o','u']\n",
    "def vowel(s):\n",
    "    c=0\n",
    "    for i in s:\n",
    "        if str.lower(i) in vowels:\n",
    "            c=c+1\n",
    "    return c\n",
    "#finds all names whose length exceeds 5 and converts them to uppercase\n",
    "print(list(map(vowel, filter(lambda name : len(name) > 5, Names))))"
   ]
  },
  {
   "cell_type": "code",
   "execution_count": 13,
   "id": "811a050f-81d4-45e2-b175-0d19753e2591",
   "metadata": {},
   "outputs": [
    {
     "name": "stdout",
     "output_type": "stream",
     "text": [
      "The list of multiples of 3 is [3, 6, 9]\n"
     ]
    }
   ],
   "source": [
    "numbers = [1, 2, 3, 4, 5, 6, 7, 8, 9, 10]\n",
    "result = list(filter(lambda x: x%3==0, numbers))\n",
    "print(\"The list of multiples of 3 is\", result)"
   ]
  },
  {
   "cell_type": "code",
   "execution_count": 20,
   "id": "677c5f8f-0e92-417f-bc38-691f247c509d",
   "metadata": {},
   "outputs": [
    {
     "name": "stdin",
     "output_type": "stream",
     "text": [
      "Enter the number :  4\n"
     ]
    },
    {
     "name": "stdout",
     "output_type": "stream",
     "text": [
      "4 X 1 = 4\n",
      "4 X 2 = 8\n",
      "4 X 3 = 12\n",
      "4 X 4 = 16\n",
      "4 X 5 = 20\n",
      "4 X 6 = 24\n",
      "4 X 7 = 28\n",
      "4 X 8 = 32\n",
      "4 X 9 = 36\n",
      "4 X 10 = 40\n"
     ]
    }
   ],
   "source": [
    " n = int(input(\"Enter the number : \"))\n",
    " def generate(i) : \n",
    "     prod = n * i # prod : local variable\n",
    "     return str(n) + \" X \" + str(i) + \" = \" + str(prod)\n",
    "     \n",
    " for line in map(generate, range(1, 11)):\n",
    "     print(line) "
   ]
  },
  {
   "cell_type": "code",
   "execution_count": 15,
   "id": "1b2f47c4-09da-4b60-bf24-1ef7a8c268fa",
   "metadata": {},
   "outputs": [
    {
     "name": "stdout",
     "output_type": "stream",
     "text": [
      "The factorial is  120\n"
     ]
    }
   ],
   "source": [
    "import functools\n",
    "n = 5\n",
    "print(\"The factorial is \",functools.reduce(int.__mul__ , range(1, n + 1)))"
   ]
  },
  {
   "cell_type": "code",
   "execution_count": 17,
   "id": "57ae74ee-bb8b-4743-8467-e0e950b616db",
   "metadata": {},
   "outputs": [
    {
     "data": {
      "text/plain": [
       "['GenericAlias',\n",
       " 'RLock',\n",
       " 'WRAPPER_ASSIGNMENTS',\n",
       " 'WRAPPER_UPDATES',\n",
       " '_CacheInfo',\n",
       " '_HashedSeq',\n",
       " '_NOT_FOUND',\n",
       " '__all__',\n",
       " '__builtins__',\n",
       " '__cached__',\n",
       " '__doc__',\n",
       " '__file__',\n",
       " '__loader__',\n",
       " '__name__',\n",
       " '__package__',\n",
       " '__spec__',\n",
       " '_c3_merge',\n",
       " '_c3_mro',\n",
       " '_compose_mro',\n",
       " '_convert',\n",
       " '_find_impl',\n",
       " '_ge_from_gt',\n",
       " '_ge_from_le',\n",
       " '_ge_from_lt',\n",
       " '_gt_from_ge',\n",
       " '_gt_from_le',\n",
       " '_gt_from_lt',\n",
       " '_initial_missing',\n",
       " '_le_from_ge',\n",
       " '_le_from_gt',\n",
       " '_le_from_lt',\n",
       " '_lru_cache_wrapper',\n",
       " '_lt_from_ge',\n",
       " '_lt_from_gt',\n",
       " '_lt_from_le',\n",
       " '_make_key',\n",
       " '_unwrap_partial',\n",
       " 'cache',\n",
       " 'cached_property',\n",
       " 'cmp_to_key',\n",
       " 'get_cache_token',\n",
       " 'lru_cache',\n",
       " 'namedtuple',\n",
       " 'partial',\n",
       " 'partialmethod',\n",
       " 'recursive_repr',\n",
       " 'reduce',\n",
       " 'singledispatch',\n",
       " 'singledispatchmethod',\n",
       " 'total_ordering',\n",
       " 'update_wrapper',\n",
       " 'wraps']"
      ]
     },
     "execution_count": 17,
     "metadata": {},
     "output_type": "execute_result"
    }
   ],
   "source": [
    "dir(functools)"
   ]
  },
  {
   "cell_type": "code",
   "execution_count": 35,
   "id": "76af8094-2755-48d0-8b67-7428e588a8b3",
   "metadata": {},
   "outputs": [
    {
     "name": "stdout",
     "output_type": "stream",
     "text": [
      "282766848\n"
     ]
    }
   ],
   "source": [
    "import functools\n",
    "print(functools.reduce(int.__mul__, [34,56,78,56,34]))"
   ]
  },
  {
   "cell_type": "code",
   "execution_count": 19,
   "id": "322c11e9-327e-41c5-98a9-78a5998567d2",
   "metadata": {},
   "outputs": [
    {
     "name": "stdout",
     "output_type": "stream",
     "text": [
      "258\n"
     ]
    }
   ],
   "source": [
    "import functools\n",
    "print(functools.reduce(int.__add__, [34,56,78,56,34]))"
   ]
  },
  {
   "cell_type": "code",
   "execution_count": 39,
   "id": "93027450-9543-4f75-b208-714d52bee1a3",
   "metadata": {},
   "outputs": [
    {
     "name": "stdout",
     "output_type": "stream",
     "text": [
      "5050\n"
     ]
    }
   ],
   "source": [
    "print(functools.reduce(int.__add__, range(1,101)))"
   ]
  },
  {
   "cell_type": "code",
   "execution_count": 41,
   "id": "16ae9297-fd84-463a-baa5-e585eeaff8af",
   "metadata": {},
   "outputs": [
    {
     "name": "stdout",
     "output_type": "stream",
     "text": [
      "2500\n"
     ]
    }
   ],
   "source": [
    "print(functools.reduce(int.__add__, range(1,101,2)))"
   ]
  },
  {
   "cell_type": "code",
   "execution_count": 45,
   "id": "47cddf49-97ff-46fb-8f73-34aa16ba2288",
   "metadata": {},
   "outputs": [
    {
     "name": "stdout",
     "output_type": "stream",
     "text": [
      "330\n"
     ]
    }
   ],
   "source": [
    "import functools\n",
    "print(functools.reduce(lambda x,y:x+y, [45,67,34,23,35,56,70]))"
   ]
  },
  {
   "cell_type": "code",
   "execution_count": 49,
   "id": "7b13dcf4-458a-44b6-b293-0d1a2a8a2e2b",
   "metadata": {},
   "outputs": [
    {
     "name": "stdout",
     "output_type": "stream",
     "text": [
      "120\n"
     ]
    }
   ],
   "source": [
    "import functools\n",
    "n=5\n",
    "print(functools.reduce(lambda x,y:x*y, range(1,n+1)))"
   ]
  },
  {
   "cell_type": "code",
   "execution_count": 51,
   "id": "7cb2decb-7dff-4d2f-b1fb-7ab87efcdf06",
   "metadata": {},
   "outputs": [
    {
     "name": "stdout",
     "output_type": "stream",
     "text": [
      "120\n"
     ]
    }
   ],
   "source": [
    "import functools\n",
    "n=5\n",
    "def product(x,y):\n",
    "    return x*y\n",
    "print(functools.reduce(product, range(1,n+1)))"
   ]
  },
  {
   "cell_type": "code",
   "execution_count": 7,
   "id": "13e4948f-dc74-45cd-acad-3cd7e60be93f",
   "metadata": {},
   "outputs": [
    {
     "name": "stdout",
     "output_type": "stream",
     "text": [
      "45\n"
     ]
    }
   ],
   "source": [
    "import functools\n",
    "print(functools.reduce(int.__add__, range(10)))"
   ]
  },
  {
   "cell_type": "code",
   "execution_count": 11,
   "id": "08706055-76c9-454a-954a-b766b7f084f9",
   "metadata": {},
   "outputs": [
    {
     "name": "stdout",
     "output_type": "stream",
     "text": [
      "product :  100 11\n",
      "product :  1100 22\n",
      "product :  24200 33\n",
      "product :  798600 44\n",
      "The product with 100 as initial value is 35138400\n"
     ]
    }
   ],
   "source": [
    "def product(x, y):\n",
    "    print(\"product : \", x, y)\n",
    "    return x * y\n",
    "print(\"The product with 100 as initial value is\",\\\n",
    "      functools.reduce(product, [11, 22, 33, 44],100))"
   ]
  },
  {
   "cell_type": "code",
   "execution_count": 1,
   "id": "47f205d6-9dbe-4fe1-a6ab-36df9aac6e87",
   "metadata": {},
   "outputs": [
    {
     "name": "stdout",
     "output_type": "stream",
     "text": [
      "15\n"
     ]
    }
   ],
   "source": [
    "from functools import reduce\n",
    "def sum_list(numbers):\n",
    "    return reduce(lambda x, y: x + y, numbers)\n",
    "\n",
    "# Example usage\n",
    "numbers = [1, 2, 3, 4, 5]\n",
    "print(sum_list(numbers))  # Output should be 15"
   ]
  },
  {
   "cell_type": "code",
   "execution_count": 15,
   "id": "2b8097df-0283-4130-973f-fb49b5cd487d",
   "metadata": {},
   "outputs": [
    {
     "name": "stdout",
     "output_type": "stream",
     "text": [
      "392040\n"
     ]
    }
   ],
   "source": [
    "from functools import reduce\n",
    "def product_list(numbers):\n",
    "    return reduce(lambda x, y: x * y, numbers)\n",
    "# Example usage\n",
    "numbers = [11, 24, 33, 45]\n",
    "print(product_list(numbers))  "
   ]
  },
  {
   "cell_type": "code",
   "execution_count": 19,
   "id": "05f2d117-1b35-476e-be8c-a54228c4bc97",
   "metadata": {},
   "outputs": [
    {
     "name": "stdout",
     "output_type": "stream",
     "text": [
      "8\n"
     ]
    }
   ],
   "source": [
    "from functools import reduce\n",
    "def maxi(x,y):\n",
    "    if x>y:\n",
    "        return x\n",
    "    else:\n",
    "        return y\n",
    "def find_max(numbers):\n",
    "    return reduce(lambda x, y: x if x > y else y, numbers)\n",
    "# Example usage\n",
    "numbers = [2, 8, 1, 7, 4]\n",
    "print(reduce(maxi, numbers))\n",
    "#print(find_max(numbers))  # Output should be 8"
   ]
  },
  {
   "cell_type": "code",
   "execution_count": 53,
   "id": "d7fb496a-e6b3-45a4-9bdd-63c3212df741",
   "metadata": {},
   "outputs": [
    {
     "name": "stdout",
     "output_type": "stream",
     "text": [
      "67\n"
     ]
    }
   ],
   "source": [
    "from functools import reduce\n",
    "numbers=[45,67,34,12,48,19,67]\n",
    "m=reduce(lambda x, y: x if x > y else y, numbers)\n",
    "print(m)"
   ]
  },
  {
   "cell_type": "code",
   "execution_count": 25,
   "id": "38b8c317-bcd6-4cb2-b088-deffa6b1ddd9",
   "metadata": {},
   "outputs": [
    {
     "name": "stdout",
     "output_type": "stream",
     "text": [
      "Hello World! Have Fun in coding\n"
     ]
    }
   ],
   "source": [
    "from functools import reduce\n",
    "\n",
    "def concatenate_strings(strings):\n",
    "    return reduce(lambda x, y: x + y, strings)\n",
    "\n",
    "# Example usage\n",
    "strings = ['Hello', ' ', 'World', '!', ' Have ','Fun ','in ','coding']\n",
    "print(concatenate_strings(strings))  # Output should be 'Hello World!'"
   ]
  },
  {
   "cell_type": "code",
   "execution_count": 37,
   "id": "9cbe10f1-d481-45b8-8b1d-be2e50bdcd5d",
   "metadata": {},
   "outputs": [
    {
     "name": "stdout",
     "output_type": "stream",
     "text": [
      "Hello World! Have Fun in coding\n"
     ]
    }
   ],
   "source": [
    "from functools import reduce\n",
    "strings = ['Hello', ' ', 'World', '!', ' Have ','Fun ','in ','coding']\n",
    "rstr=reduce(lambda x, y: x + y, strings)\n",
    "\n",
    "# Example usage\n",
    "\n",
    "print(rstr)  "
   ]
  },
  {
   "cell_type": "code",
   "execution_count": 31,
   "id": "cbdbeb38-a64d-431e-a2d8-b371fdf74a96",
   "metadata": {},
   "outputs": [
    {
     "name": "stdout",
     "output_type": "stream",
     "text": [
      "4\n"
     ]
    }
   ],
   "source": [
    "from functools import reduce\n",
    "#import math\n",
    "def gcd(m,n):\n",
    "    if m<n:\n",
    "        return gcd(m,n-m)\n",
    "    elif m>n:\n",
    "         return gcd(m-n,n)\n",
    "    else:\n",
    "        return m\n",
    "\n",
    "def find_gcd(numbers):\n",
    "    return reduce(math.gcd, numbers)\n",
    "# Example usage\n",
    "numbers = [36, 60, 48,96,100]\n",
    "print(reduce(gcd,numbers))\n",
    "#print(find_gcd(numbers))  # Output should be 12"
   ]
  },
  {
   "cell_type": "code",
   "execution_count": 127,
   "id": "cb3776d4-8250-4f2c-8e63-36e78d4d2e15",
   "metadata": {},
   "outputs": [
    {
     "name": "stdout",
     "output_type": "stream",
     "text": [
      "[1, 2, 3, 4, 5, 6]\n"
     ]
    }
   ],
   "source": [
    "from functools import reduce\n",
    "\n",
    "def flatten_list(lists):\n",
    "    return reduce(lambda x, y: x + y, lists)\n",
    "\n",
    "# Example usage\n",
    "lists = [[1, 2], [3, 4], [5, 6]]\n",
    "print(flatten_list(lists))  # Output should be [1, 2, 3, 4, 5, 6]"
   ]
  },
  {
   "cell_type": "code",
   "execution_count": 45,
   "id": "91b16c6e-7127-433c-a0b5-5e040209314a",
   "metadata": {},
   "outputs": [
    {
     "name": "stdout",
     "output_type": "stream",
     "text": [
      "[1, 2, 3, 4, 5, 6]\n"
     ]
    }
   ],
   "source": [
    "lists = [[1, 2], [3, 4], [5, 6]]\n",
    "new_l=reduce(lambda x, y: x + y, lists)\n",
    "print(new_l)"
   ]
  },
  {
   "cell_type": "code",
   "execution_count": null,
   "id": "cd49d5fc-d4bc-4e4d-be1f-97b59c62fc6b",
   "metadata": {},
   "outputs": [],
   "source": [
    "from functools import reduce\n",
    "def count_occurrences(lst, target):\n",
    "    return reduce(\n",
    "        )\n",
    "# Example usage\n",
    "lst = [1, 2, 3, 4, 1, 2, 1]\n",
    "target = 1\n",
    "print(count_occurrences(lst, target))  # Output should be 3"
   ]
  },
  {
   "cell_type": "code",
   "execution_count": 43,
   "id": "150ac781-4102-4b91-a386-062a874a9009",
   "metadata": {},
   "outputs": [
    {
     "name": "stdout",
     "output_type": "stream",
     "text": [
      "3\n"
     ]
    }
   ],
   "source": [
    "lst = [1, 2, 3, 4, 1, 2, 1]\n",
    "t = 1\n",
    "count=reduce(lambda c,x: c+1 if x==t else c,lst,0)\n",
    "print(count)"
   ]
  },
  {
   "cell_type": "code",
   "execution_count": 39,
   "id": "0bea0a6e-946b-42a9-a58f-a9115d5af3d3",
   "metadata": {},
   "outputs": [
    {
     "name": "stdout",
     "output_type": "stream",
     "text": [
      "3\n"
     ]
    }
   ],
   "source": [
    "str=\"Hi welocme to Python\"\n",
    "t='o'\n",
    "count=reduce(lambda c,x: c+1 if x==t else c,str,0)\n",
    "print(count)"
   ]
  },
  {
   "cell_type": "code",
   "execution_count": 49,
   "id": "4c0052a4-36f1-49ce-8869-f6f6e524e5f6",
   "metadata": {},
   "outputs": [
    {
     "name": "stdout",
     "output_type": "stream",
     "text": [
      "['H', ' ', 'w', 'l', 'c', 'm', ' ', 't', ' ', 'P', 'y', 't', 'h', 'n']\n",
      "H wlcm t Pythn\n"
     ]
    }
   ],
   "source": [
    "import functools\n",
    "str=\"Hi welocme to Python\"\n",
    "v=\"aeiou\"\n",
    "final_str=list(functools.reduce(lambda x,y :x+(y if y not in v else \"\"),str,\"\"))\n",
    "print(final_str)\n",
    "print(\"\".join(final_str))"
   ]
  },
  {
   "cell_type": "code",
   "execution_count": 79,
   "id": "86eaf8d0-9e2f-4844-b03f-14723ce3aa84",
   "metadata": {},
   "outputs": [
    {
     "name": "stdout",
     "output_type": "stream",
     "text": [
      "H wlcm t Pythn\n"
     ]
    }
   ],
   "source": [
    "str=\"Hi welocme to Python\"\n",
    "v=\"aeiou\"\n",
    "final_str=reduce(lambda x,y :x+y if y not in v else x,str,\"\")\n",
    "print(final_str)\n",
    "\n",
    "#print(\"\".join(final_str))"
   ]
  },
  {
   "cell_type": "code",
   "execution_count": 139,
   "id": "2a872927-f342-47dd-b64b-403d1aaedde9",
   "metadata": {},
   "outputs": [
    {
     "name": "stdout",
     "output_type": "stream",
     "text": [
      "4\n"
     ]
    }
   ],
   "source": [
    "str=\"Hi welocme to Python\"\n",
    "t=' '\n",
    "count=reduce(lambda c,x: c+1 if x==t else c,str,1)\n",
    "print(count)"
   ]
  },
  {
   "cell_type": "code",
   "execution_count": 75,
   "id": "66354eee-6ee3-476e-b637-1600dde0b8f8",
   "metadata": {},
   "outputs": [
    {
     "name": "stdout",
     "output_type": "stream",
     "text": [
      "336\n"
     ]
    }
   ],
   "source": [
    "#Filter Even Numbers and Sum Them\n",
    "from functools import reduce\n",
    "def sum_even_numbers(numbers):\n",
    "    return reduce(lambda total, x: total + (x if x % 2 == 0 else total), numbers, 0)\n",
    "# Example usage\n",
    "numbers = [1, 22, 33, 40, 5, 69]\n",
    "print(sum_even_numbers(numbers))  # Output should be 62\n"
   ]
  },
  {
   "cell_type": "code",
   "execution_count": 141,
   "id": "d14408fd-c7dc-4fae-9b86-8bed56b417ce",
   "metadata": {},
   "outputs": [
    {
     "name": "stdout",
     "output_type": "stream",
     "text": [
      "62\n"
     ]
    }
   ],
   "source": [
    "from functools import reduce\n",
    "numbers = [1, 22, 33, 40, 5, 69]\n",
    "result=reduce(lambda total, x: total + x if x % 2 == 0 else total, numbers, 0)\n",
    "print(result)  # Output should be 62"
   ]
  },
  {
   "cell_type": "code",
   "execution_count": 143,
   "id": "6a5f9d09-b8bf-43a3-bf80-eb2064a33bd9",
   "metadata": {},
   "outputs": [
    {
     "name": "stdout",
     "output_type": "stream",
     "text": [
      "[5, 6, 7, 6, 7, 8, 7, 8, 9]\n"
     ]
    }
   ],
   "source": [
    "m=[1,2,3]\n",
    "n=[4,5,6]\n",
    "nl=[x+y for x in m for y in n]\n",
    "print(nl)"
   ]
  },
  {
   "cell_type": "code",
   "execution_count": null,
   "id": "9c902713-5028-4c98-88f5-664fd3886eac",
   "metadata": {},
   "outputs": [],
   "source": [
    "m=[1,2,3]\n",
    "n=[4,5,6]\n",
    "nl=[x+y for x in m for y in n]\n",
    "print(nl)"
   ]
  },
  {
   "cell_type": "code",
   "execution_count": 1,
   "id": "1407d763-a54c-45b5-abb7-dda853dd9967",
   "metadata": {},
   "outputs": [
    {
     "name": "stdout",
     "output_type": "stream",
     "text": [
      "[1, 9, 25, 49, 81, 121, 169, 225, 289, 361]\n"
     ]
    }
   ],
   "source": [
    "l=[x*x for x in range(1,20,2)]\n",
    "print(l)"
   ]
  },
  {
   "cell_type": "code",
   "execution_count": 145,
   "id": "f7c62e94-7e17-4925-b9cc-2e944b5c4d9c",
   "metadata": {},
   "outputs": [
    {
     "name": "stdout",
     "output_type": "stream",
     "text": [
      "[1, 3, 5, 7]\n",
      "[2, 4, 6, 8]\n"
     ]
    }
   ],
   "source": [
    "matrix = [[1, 2], [3,4], [5,6], [7,8]]\n",
    "\n",
    "transpose = [[row[i] for row in matrix] for i in range(2)]\n",
    "for row in transpose:\n",
    "    print (row)\n",
    "    "
   ]
  },
  {
   "cell_type": "code",
   "execution_count": null,
   "id": "888e424c-fdbf-43f4-988b-68c9400ff7b4",
   "metadata": {},
   "outputs": [],
   "source": []
  },
  {
   "cell_type": "code",
   "execution_count": 1,
   "id": "c764c419-d9dc-4898-99db-3247721a1f01",
   "metadata": {},
   "outputs": [
    {
     "name": "stdout",
     "output_type": "stream",
     "text": [
      "[1, 9, 25, 49, 81]\n"
     ]
    }
   ],
   "source": [
    "list1=[x*x for x in range(1,11)]\n",
    "list2=[x for x in list1 if x%2 != 0]\n",
    "list3 =[x*x for x in range(1,11) if x%2 !=0]\n",
    "print(list3)"
   ]
  },
  {
   "cell_type": "code",
   "execution_count": 19,
   "id": "c2dfa391-e8f3-4832-8199-e7f6568e4293",
   "metadata": {},
   "outputs": [
    {
     "name": "stdout",
     "output_type": "stream",
     "text": [
      "[0, 10, 20, 30, 40, 50, 60, 70, 80, 90]\n"
     ]
    }
   ],
   "source": [
    "l=[y for y in range(100) if y % 2 == 0 if y % 5 == 0]\n",
    "print(l)"
   ]
  },
  {
   "cell_type": "code",
   "execution_count": 25,
   "id": "21285a0d-69c1-43ef-a969-f3bd1203be38",
   "metadata": {},
   "outputs": [
    {
     "name": "stdout",
     "output_type": "stream",
     "text": [
      "[67, 876]\n"
     ]
    }
   ],
   "source": [
    "l=[1234,67,45,876]\n",
    "l6=[n for n in l if '6' in str(n)]\n",
    "print(l6)"
   ]
  },
  {
   "cell_type": "code",
   "execution_count": 35,
   "id": "48f3cd94-14df-4917-b411-69d7fa92cfd2",
   "metadata": {},
   "outputs": [
    {
     "name": "stdout",
     "output_type": "stream",
     "text": [
      "10\n"
     ]
    }
   ],
   "source": [
    "s=\" Hi welcome    to Python   \"\n",
    "count=[c for c in s if c==' ']\n",
    "print(len(count))"
   ]
  },
  {
   "cell_type": "code",
   "execution_count": 7,
   "id": "662a451e-d905-4cba-af9e-35a277b1e124",
   "metadata": {},
   "outputs": [
    {
     "name": "stdout",
     "output_type": "stream",
     "text": [
      "[1, 5, 9, 13]\n",
      "[2, 6, 10, 14]\n",
      "[3, 7, 11, 15]\n",
      "[4, 8, 12, 16]\n"
     ]
    }
   ],
   "source": [
    "matrix = [[1,2,3,4], \n",
    "          [5,6,7,8], \n",
    "          [9,10,11,12], \n",
    "          [13,14,15,16]]\n",
    "mat_trans= [[0 for x in range(4)] for y in range(4)] \n",
    "#print(mat_trans)\n",
    "\n",
    "#print(mat_trans)\n",
    "for i in range(len(matrix)):\n",
    "    for j in range(len(matrix[i])):\n",
    "        mat_trans[i][j]=matrix[j][i]\n",
    "for row in mat_trans:\n",
    "    print(row)"
   ]
  },
  {
   "cell_type": "code",
   "execution_count": 81,
   "id": "21c262e4-000f-4992-b6a1-59a69e15d762",
   "metadata": {},
   "outputs": [
    {
     "name": "stdout",
     "output_type": "stream",
     "text": [
      "[[0, 0, 0, 0], [0, 0, 0, 0], [0, 0, 0, 0], [0, 0, 0, 0]]\n",
      "[1, 5, 9, 13]\n",
      "[2, 6, 10, 14]\n",
      "[3, 7, 11, 15]\n",
      "[4, 8, 12, 16]\n"
     ]
    }
   ],
   "source": [
    "matrix = [[1,2,3,4], \n",
    "          [5,6,7,8], \n",
    "          [9,10,11,12], \n",
    "          [13,14,15,16]]\n",
    "\n",
    "#mat_trans= [[0 for x in range(len(matrix))] for y in range(len(matrix[0]))] \n",
    "print(mat_trans)\n",
    "for i in range(len(matrix)):\n",
    "    for j in range(len(matrix[0])):\n",
    "        mat_trans[i][j]=matrix[j][i]\n",
    "for row in mat_trans:\n",
    "    print(row)"
   ]
  },
  {
   "cell_type": "code",
   "execution_count": 11,
   "id": "d2afea98-f95e-48cc-a77e-9a8352117222",
   "metadata": {},
   "outputs": [
    {
     "name": "stdout",
     "output_type": "stream",
     "text": [
      "Result matrix is\n",
      "1  2  3  \n",
      "1  2  3  \n",
      "1  2  3  \n",
      "1  2  3  \n"
     ]
    }
   ],
   "source": [
    "# Python3 Program to find \n",
    "# transpose of a matrix \n",
    "\n",
    "M = 3\n",
    "N = 4\n",
    "\n",
    "# This function stores \n",
    "# transpose of A[][] in B[][] \n",
    "def transpose(A, B): \n",
    "    for i in range(N): \n",
    "        for j in range(M): \n",
    "            B[i][j] = A[j][i] \n",
    "# driver code \n",
    "A = [ [1, 1, 1, 1], \n",
    "[2, 2, 2, 2], \n",
    "[3, 3, 3, 3]] \n",
    "# To store result \n",
    "B = [[0 for x in range(M)] for y in range(N)] \n",
    "transpose(A, B) \n",
    "print(\"Result matrix is\") \n",
    "for i in range(N): \n",
    "    for j in range(M): \n",
    "        print(B[i][j], \" \", end='') \n",
    "    print() \n"
   ]
  },
  {
   "cell_type": "code",
   "execution_count": 15,
   "id": "900df493-3fe7-40c9-ad3e-32fae9e2b7a8",
   "metadata": {},
   "outputs": [
    {
     "name": "stdout",
     "output_type": "stream",
     "text": [
      "[2, 3, 4]\n"
     ]
    }
   ],
   "source": [
    "list1 = [1, 2, 3, 4]\n",
    "list2 = [2, 3, 4, 5]\n",
    "com_l=[a for a in list1 if a in list2]\n",
    "common_num = [a for a in list1 for b in list2 if a == b]\n",
    "#print(com_l)\n",
    "print(common_num)"
   ]
  },
  {
   "cell_type": "code",
   "execution_count": 31,
   "id": "7aa02b9e-7d15-4de3-a834-e16d86582c68",
   "metadata": {},
   "outputs": [
    {
     "name": "stdin",
     "output_type": "stream",
     "text": [
      "Enter the string:: jlk;lk\n"
     ]
    },
    {
     "name": "stdout",
     "output_type": "stream",
     "text": [
      "The string without vowel:: jlk;lk\n"
     ]
    }
   ],
   "source": [
    "string=input(\"Enter the string::\")\n",
    "str_no_vowel = \"\".join([char for char in string.lower() if char not in [\"a\",\"e\",\"i\",\"o\",\"u\"]])\n",
    "print(\"The string without vowel::\",str_no_vowel)"
   ]
  },
  {
   "cell_type": "code",
   "execution_count": 51,
   "id": "832ad899-d257-4d9d-b3a8-35bf732f8a2b",
   "metadata": {},
   "outputs": [
    {
     "name": "stdout",
     "output_type": "stream",
     "text": [
      "Zipped result as a list:\n",
      "['Baskar', 35]\n",
      "['Monica', 26]\n",
      "['Riya', 28]\n",
      "['Madhav', 14]\n"
     ]
    }
   ],
   "source": [
    "#Define lists for 'persons’,and a tuple for 'ages'\n",
    "persons = [\"Baskar\", \"Monica\", \"Riya\", \"Madhav\", \"John\", \"Prashanth\"]\n",
    "ages = (35, 26, 28, 14)\n",
    "#lists along with the 'ages' tuple\n",
    "zipped_result = zip(persons,ages)\n",
    "print(\"Zipped result as a list:\") \n",
    "for i in list(zipped_result):\n",
    "    print(list(i))"
   ]
  },
  {
   "cell_type": "code",
   "execution_count": 63,
   "id": "3446ef61-1eb6-4684-8b8a-47c44eb42a6e",
   "metadata": {},
   "outputs": [
    {
     "name": "stdout",
     "output_type": "stream",
     "text": [
      "<zip object at 0x000001E59D15FB40>\n",
      "{1: 4, 2: 5, 3: 6}\n",
      "{1: 4, 2: 5, 3: 6}\n"
     ]
    }
   ],
   "source": [
    "lis1 = [1,2,3]\n",
    "lis2 = [4,5,6,7]\n",
    "#print(list(zip(lis1,lis2)))\n",
    "z=zip(list1,list2)\n",
    "print(z)\n",
    "print(dict(zip(lis1,lis2)))\n",
    "print({k:v for k,v in (zip(lis1,lis2))})"
   ]
  },
  {
   "cell_type": "code",
   "execution_count": 87,
   "id": "6e770eee-1cc9-4895-995f-3170bf3ae224",
   "metadata": {},
   "outputs": [
    {
     "name": "stdout",
     "output_type": "stream",
     "text": [
      "[3.1, 2.72, 1.618, 0.5772]\n"
     ]
    }
   ],
   "source": [
    "def round_up_to_position(areas):\n",
    "    rounded_areas = []\n",
    "    for i in range(len(areas)):\n",
    "        rounded_area = round(areas[i], i + 1)  # Round to (i+1) decimal places\n",
    "        rounded_areas.append(rounded_area)\n",
    "    return rounded_areas\n",
    "\n",
    "# Example list of circle areas\n",
    "areas = [3.14159, 2.71828, 1.61803, 0.57721]\n",
    "\n",
    "# Get rounded areas\n",
    "rounded_areas = round_up_to_position(areas)\n",
    "print(rounded_areas)"
   ]
  },
  {
   "cell_type": "code",
   "execution_count": 29,
   "id": "bcfc223e-c1b4-4c9e-82df-635e90299ae5",
   "metadata": {},
   "outputs": [
    {
     "name": "stdout",
     "output_type": "stream",
     "text": [
      "('a', 1)\n",
      "('b', 2)\n",
      "('c', 3)\n",
      "('d', 4)\n",
      "('e', 5)\n"
     ]
    }
   ],
   "source": [
    "list1= [1,2,3,4,5]\n",
    "Chars= ['a', 'b', 'c', 'd', 'e']\n",
    "n_l=zip(Chars,list1)\n",
    "\n",
    "for i in n_l:\n",
    "    print(i)"
   ]
  },
  {
   "cell_type": "code",
   "execution_count": 3,
   "id": "397555cc-6ac1-4b27-80b6-fc54020b2ea3",
   "metadata": {},
   "outputs": [
    {
     "name": "stdout",
     "output_type": "stream",
     "text": [
      "[78, 90, 88]\n"
     ]
    }
   ],
   "source": [
    "scores=[12,34,78,90,45,34,67,88]\n",
    "m_list = [y for y in scores if y >75]\n",
    "print(m_list)"
   ]
  },
  {
   "cell_type": "code",
   "execution_count": 5,
   "id": "3f842b6e-afce-4c48-beae-9a350cf3ec0d",
   "metadata": {},
   "outputs": [
    {
     "name": "stdout",
     "output_type": "stream",
     "text": [
      "['Apple', 'Apricot']\n",
      "['Apple', 'Apricot']\n"
     ]
    }
   ],
   "source": [
    "Lst=['Orange', 'Apple' , 'Mango', 'Apricot']\n",
    "A_lst = [y for y in Lst if y[0] == 'A']\n",
    "def filt(s):\n",
    "    if s[0] == 'A':\n",
    "        return True\n",
    "    else:\n",
    "        return False\n",
    "b = filter(filt, Lst)\n",
    "\n",
    "print(list(b))\n",
    "print(A_lst)"
   ]
  },
  {
   "cell_type": "code",
   "execution_count": 7,
   "id": "903f54aa-2044-4610-8724-83ca40a4bfad",
   "metadata": {},
   "outputs": [
    {
     "name": "stdin",
     "output_type": "stream",
     "text": [
      "enter a number 4567\n"
     ]
    },
    {
     "name": "stdout",
     "output_type": "stream",
     "text": [
      "22\n"
     ]
    }
   ],
   "source": [
    "#sum of digits using reduce\n",
    "from functools import reduce\n",
    "num=input(\"enter a number\")\n",
    "res=reduce(lambda x, y: int(x) + int(y), num)\n",
    "print(res)"
   ]
  },
  {
   "cell_type": "code",
   "execution_count": 9,
   "id": "1097e518-e59d-48ca-a8e0-32e2b4c29e50",
   "metadata": {},
   "outputs": [
    {
     "name": "stdout",
     "output_type": "stream",
     "text": [
      "12\n"
     ]
    }
   ],
   "source": [
    "from functools import reduce\n",
    "l=[12,34,43,56,36,33,22,67,456]\n",
    "min=reduce(lambda a,b : a if a<b else b,l)\n",
    "print(min)"
   ]
  },
  {
   "cell_type": "code",
   "execution_count": 23,
   "id": "a774a8ba-6a96-4186-b66d-e287668626ea",
   "metadata": {},
   "outputs": [
    {
     "name": "stdout",
     "output_type": "stream",
     "text": [
      "maruthi\n",
      "Benz\n",
      "<__main__.car object at 0x000002838F78A590>\n"
     ]
    }
   ],
   "source": [
    "class car:\n",
    "    car_name=\"Benz\"\n",
    "c1=car()\n",
    "c1.car_name=\"maruthi\"\n",
    "print(c1.car_name)\n",
    "c2=car()\n",
    "print(c2.car_name)\n",
    "print(c1)"
   ]
  },
  {
   "cell_type": "code",
   "execution_count": 25,
   "id": "f3df81e1-2735-4994-9e73-3e72b1f085bd",
   "metadata": {},
   "outputs": [
    {
     "name": "stdout",
     "output_type": "stream",
     "text": [
      "10\n",
      "20\n",
      " This is my first class\n"
     ]
    }
   ],
   "source": [
    "class Point:\n",
    "    \"\"\" This is my first class\"\"\"\n",
    "  \n",
    "p=Point()\n",
    "p.x=10\n",
    "p.y=20\n",
    "print(p.x)\n",
    "print(p.y)\n",
    "print(Point.__doc__)"
   ]
  },
  {
   "cell_type": "code",
   "execution_count": 75,
   "id": "bb25c01b-bc27-4e91-a146-7a69d96cd3ee",
   "metadata": {},
   "outputs": [
    {
     "name": "stdout",
     "output_type": "stream",
     "text": [
      "10.0 20.0\n",
      "15\n",
      "15\n",
      "7\n"
     ]
    },
    {
     "ename": "AttributeError",
     "evalue": "'Point' object has no attribute 'z'",
     "output_type": "error",
     "traceback": [
      "\u001b[1;31m---------------------------------------------------------------------------\u001b[0m",
      "\u001b[1;31mAttributeError\u001b[0m                            Traceback (most recent call last)",
      "Cell \u001b[1;32mIn[75], line 15\u001b[0m\n\u001b[0;32m     13\u001b[0m \u001b[38;5;28mprint\u001b[39m(p2\u001b[38;5;241m.\u001b[39mx)\n\u001b[0;32m     14\u001b[0m \u001b[38;5;28mprint\u001b[39m(p2\u001b[38;5;241m.\u001b[39my)\n\u001b[1;32m---> 15\u001b[0m \u001b[38;5;28mprint\u001b[39m(p2\u001b[38;5;241m.\u001b[39mz)\n",
      "\u001b[1;31mAttributeError\u001b[0m: 'Point' object has no attribute 'z'"
     ]
    }
   ],
   "source": [
    "class Point:\n",
    "  x=5\n",
    "  y=7\n",
    "\n",
    "p1= Point()\t#first object of the class\n",
    "p1.x=10.0\t#attributes for p1 \n",
    "p1.y=20.0\n",
    "print(p1.x, p1.y)\t#prints 10.0 20.0\n",
    "Point.x=Point.x+10\n",
    "print(Point.x)\n",
    "\n",
    "p2= Point()\t#second object of the class\n",
    "print(p2.x)\n",
    "print(p2.y)\n",
    "print(p2.z)"
   ]
  },
  {
   "cell_type": "code",
   "execution_count": 33,
   "id": "e50f213f-122f-4e61-af8f-2f7ec8ff4123",
   "metadata": {},
   "outputs": [
    {
     "name": "stdin",
     "output_type": "stream",
     "text": [
      "x coordinate: 5\n",
      "y coordinate: 10\n",
      "x coordinate: 20\n",
      "y coordinate: 13\n"
     ]
    },
    {
     "name": "stdout",
     "output_type": "stream",
     "text": [
      "(5,10)\n",
      "(20,13)\n",
      "Distance is: 15.2971\n"
     ]
    }
   ],
   "source": [
    "import math \n",
    "class Point:\n",
    "  \"\"\" This is a class Point representing a coordinate point\n",
    "  \"\"\"\n",
    "\n",
    "def read_point(p):\n",
    "  p.x=float(input(\"x coordinate:\")) \n",
    "  p.y=float(input(\"y coordinate:\"))\n",
    "\n",
    "def print_point(p): \n",
    "  print(\"(%g,%g)\"%(p.x, p.y))\n",
    "\n",
    "def distance(p1,p2):\n",
    "  d=math.sqrt((p1.x-p2.x)**2+(p1.y-p2.y)**2) \n",
    "  return d\n",
    "\n",
    "p1=Point()\t#create first object print(\"Enter First point:\")\n",
    "read_point(p1)\t#read x and y for p1\n",
    "\n",
    "p2=Point()\t#create second object print(\"Enter Second point:\")\n",
    "read_point(p2)\t#read x and y for p2\n",
    "\n",
    "dist=distance(p1,p2)\t#compute distance print(\"First point is:\")\n",
    "print_point(p1)\t#print p1 print(\"Second point is:\") \n",
    "print_point(p2)\t#print p2\n",
    "print(\"Distance is: %g\" % dist)\t\n",
    "print(\"Distance is: %g\" %(distance(p1,p2)))\t#print d\n"
   ]
  },
  {
   "cell_type": "code",
   "execution_count": 77,
   "id": "46c0083d-c727-4e73-9b1a-d47c739e598b",
   "metadata": {},
   "outputs": [
    {
     "name": "stdin",
     "output_type": "stream",
     "text": [
      "Enter Hour: 5\n",
      "Enter minute: 45\n",
      "Enter second: 32\n",
      "Enter Hour: 12\n",
      "Enter minute: 35\n",
      "Enter second: 42\n"
     ]
    },
    {
     "name": "stdout",
     "output_type": "stream",
     "text": [
      "(5:45:32)\n",
      "(12:35:42)\n",
      "(18:21:14)\n"
     ]
    }
   ],
   "source": [
    "class Time:\n",
    "    \"\"\"This is my time class\"\"\"\n",
    "\n",
    "def read_time(t):\n",
    "    t.h=int(input(\"Enter Hour:\")) \n",
    "    t.m=int(input(\"Enter minute:\")) \n",
    "    t.s=int(input(\"Enter second:\")) \n",
    "\n",
    "def add_time(t1,t2):\n",
    "    t3=Time()\n",
    "    t3.h=t1.h+t2.h\n",
    "    t3.m=t1.m+t2.m\n",
    "    t3.s=t1.s+t2.s\n",
    "    if t3.s >= 60:\n",
    "        t3.s=t3.s-60\n",
    "        t3.m=t3.m+1\n",
    "    if t3.m>= 60:\n",
    "        t3.m=t3.m-60\n",
    "        t3.h=t3.h+1\n",
    "    return t3\n",
    "def print_time(t): \n",
    "  print(\"(%d:%d:%d)\"%(t.h, t.m,t.s))\n",
    "\n",
    "t1=Time()\n",
    "read_time(t1)\n",
    "t2=Time()\n",
    "read_time(t2)\n",
    "print_time(t1)\n",
    "print_time(t2)\n",
    "t3=add_time(t1,t2)\n",
    "print_time(t3)    \n",
    "    "
   ]
  },
  {
   "cell_type": "code",
   "execution_count": 81,
   "id": "60944387-d023-48dc-bb0e-8ce5b32c7162",
   "metadata": {},
   "outputs": [
    {
     "name": "stdin",
     "output_type": "stream",
     "text": [
      "Enter Hour 5\n",
      "Enter minute 45\n",
      "Enter seconds 32\n",
      "Enter Hour 12\n",
      "Enter minute 25\n",
      "Enter seconds 42\n"
     ]
    },
    {
     "name": "stdout",
     "output_type": "stream",
     "text": [
      "(5:45:32)\n",
      "(12:25:42)\n",
      "(18:11:14)\n"
     ]
    }
   ],
   "source": [
    "class Time:\n",
    "  \n",
    "  def __init__(self, h=0,m=0,s=0): \n",
    "    self.hour=h\n",
    "    self.min=m \n",
    "    self.sec=s\n",
    "    \n",
    "  def read_time(self):\n",
    "    self.h=int(input(\"Enter Hour\"))\n",
    "    self.m=int(input(\"Enter minute\"))\n",
    "    self.s=int(input(\"Enter seconds\"))\n",
    "\n",
    "  def add(self,t2):\n",
    "    t3=Time()\n",
    "    t3.h=self.h+t2.h\n",
    "    t3.m=self.m+t2.m\n",
    "    t3.s=self.s+t2.s\n",
    "    if t3.s >= 60:\n",
    "        t3.s=t3.s-60\n",
    "        t3.m=t3.m+1\n",
    "    if t3.m>= 60:\n",
    "        t3.m=t3.m-60\n",
    "        t3.h=t3.h+1\n",
    "    return t3\n",
    "\n",
    "  def print_time(self): \n",
    "    print(\"(%d:%d:%d)\"%(self.h, self.m,self.s))\n",
    "\n",
    "t1=Time()\n",
    "t1.read_time()\n",
    "t2=Time()\n",
    "t2.read_time()\n",
    "t1.print_time()\n",
    "t2.print_time()\n",
    "t3=t1.add(t2)\n",
    "t3.print_time() \n",
    "    \n",
    "  "
   ]
  },
  {
   "cell_type": "code",
   "execution_count": null,
   "id": "9905f6b7-67d6-4027-aeff-93a0e2ca7ce1",
   "metadata": {},
   "outputs": [],
   "source": [
    "import math \n",
    "class Point:\n",
    "  def __init__(self,a,b): \n",
    "    self.x=a \n",
    "    self.y=b\n",
    "\n",
    "  def dist(self,p2):\n",
    "    d=math.sqrt((self.x-p2.x)**2 + (self.y-p2.y)**2) \n",
    "    return d\n",
    "\n",
    "  def __str__(self):\n",
    "    return \"(%d,%d)\" %(self.x, self.y)\n",
    "\n",
    "p1=Point(10,20)\t             # init () is called automatically \n",
    "\n",
    "p2=Point(4,5)\t# init () is called automatically\n",
    "print(\"P1 is:\",p1)\t# str () is called automatically \n",
    "print(\"P2 is:\",p2)\t# str () is called automatically\n",
    "print(p2)\n",
    "\n",
    "d=p1.dist(p2)\t#explicit call for dist() \n",
    "print(\"The distance is:\",d)\n"
   ]
  },
  {
   "cell_type": "code",
   "execution_count": null,
   "id": "080945d3-0920-4ec4-8a55-d16d72baa13c",
   "metadata": {},
   "outputs": [],
   "source": []
  },
  {
   "cell_type": "code",
   "execution_count": 46,
   "id": "e0e1e8f5-9e30-4ee4-b97d-388ce2639ed1",
   "metadata": {},
   "outputs": [
    {
     "name": "stdout",
     "output_type": "stream",
     "text": [
      "1827180600400\n",
      "My car is Ambasiter\n",
      "1827188425552\n",
      "My car is Maruthi\n",
      "I am Car class\n"
     ]
    }
   ],
   "source": [
    "class Car:\n",
    "    \n",
    "    def classfun():\n",
    "        print(\"I am Car class\")\n",
    "    def __init__(self,n=\"Ambasiter\"):\n",
    "        self.name=n\n",
    "        \n",
    "    def disp(self):\n",
    "        print(id(self))\n",
    "        print(\"My car is\",self.name)\n",
    "        \n",
    "c1=Car()\n",
    "c1.disp()\n",
    "\n",
    "c2=Car(\"Maruthi\")\n",
    "c2.disp()\n",
    "Car.classfun()\n",
    "#print(id(c1))\n",
    "\n",
    "#print(type(Car))"
   ]
  },
  {
   "cell_type": "code",
   "execution_count": 61,
   "id": "727a5086-3730-41ca-b716-7f2fba4ba3a9",
   "metadata": {},
   "outputs": [
    {
     "name": "stdout",
     "output_type": "stream",
     "text": [
      "Benz\n",
      "Benz\n",
      "BMW\n",
      "Benz\n"
     ]
    }
   ],
   "source": [
    "class car:\n",
    "    carname=\"Benz\"\n",
    "\n",
    "c1=car()\n",
    "print(car.carname)\n",
    "print(c1.carname)\n",
    "c1.carname=\"BMW\"\n",
    "print(c1.carname)\n",
    "c2=car()\n",
    "print(c2.carname)"
   ]
  },
  {
   "cell_type": "code",
   "execution_count": 63,
   "id": "1cdcdaf8-9ca7-4ab8-89d7-9547304bad0c",
   "metadata": {},
   "outputs": [
    {
     "name": "stdout",
     "output_type": "stream",
     "text": [
      "Name: Arun\n",
      "RollNo:1011\n",
      "Name: Aruna\n",
      "RollNo:10111\n"
     ]
    }
   ],
   "source": [
    "class student:\n",
    "    \n",
    "    def __init__(self,n=\"Aruna\",r=10111):\n",
    "        self.name=n\n",
    "        self.rollno=r\n",
    "        \n",
    "    #Parameterized constructor   \n",
    "   # def __init__(self,n,r):\n",
    "     #  self.name=n\n",
    "       #self.rollno=r\n",
    "    def disp(self):\n",
    "        print(\"Name: %s\" % self.name)\n",
    "        print(\"RollNo:%d\" % self.rollno)\n",
    "        \n",
    "s1=student(\"Arun\",1011)\n",
    "s2=student()\n",
    "s1.disp() \n",
    "s2.disp()"
   ]
  },
  {
   "cell_type": "code",
   "execution_count": 65,
   "id": "047223bd-dc25-45e7-9c99-1bb50a4647a1",
   "metadata": {},
   "outputs": [
    {
     "name": "stdout",
     "output_type": "stream",
     "text": [
      "Name: Alice, Age: 25\n",
      "Name: Arun, Age: 34\n"
     ]
    }
   ],
   "source": [
    "class Person:\n",
    "    # Default constructor\n",
    "    #def __init__(self):\n",
    "     #   self.name = \"John Doe\"\n",
    "      #  self.age = 30\n",
    "    \n",
    "    # Parameterized constructor\n",
    "    def __init__(self, name=\"Arun\", age=34):\n",
    "        self.name = name\n",
    "        self.age = age\n",
    "    \n",
    "    def display(self):\n",
    "        print(f\"Name: {self.name}, Age: {self.age}\")\n",
    "\n",
    "# Using the parameterized constructor\n",
    "person1 = Person(\"Alice\", 25)\n",
    "person1.display()\n",
    "\n",
    "# Using the default constructor\n",
    "person2 = Person()  # It uses default values\n",
    "person2.display()\n"
   ]
  },
  {
   "cell_type": "code",
   "execution_count": 63,
   "id": "24e2684e-125e-49bf-9ee6-c8462d86a2de",
   "metadata": {},
   "outputs": [
    {
     "name": "stdout",
     "output_type": "stream",
     "text": [
      "Alice\n",
      "30\n",
      "Homo sapiens\n",
      "Homo sapiens\n",
      "Homo neanderthalensis\n",
      "Homo neanderthalensis\n",
      "Name: Alice, Age: 25, Species: Homo neanderthalensis\n",
      "Name: Bob, Age: 30, Species: Homo neanderthalensis\n"
     ]
    }
   ],
   "source": [
    "class Person:\n",
    "    # Class attribute (shared by all instances)\n",
    "    species = \"Homo sapiens\"\n",
    "    \n",
    "    def __init__(self, name, age):\n",
    "        # Object (instance) attributes (unique to each object)\n",
    "        self.name = name\n",
    "        self.age = age\n",
    "\n",
    "    def display(self):\n",
    "        print(f\"Name: {self.name}, Age: {self.age}, Species: {Person.species}\")\n",
    "\n",
    "# Creating objects of the Person class\n",
    "person1 = Person(\"Alice\", 25)\n",
    "person2 = Person(\"Bob\", 30)\n",
    "\n",
    "# Accessing object attributes\n",
    "print(person1.name)  # Alice\n",
    "print(person2.age)   # 30\n",
    "\n",
    "# Accessing class attribute\n",
    "print(person1.species)  # Homo sapiens\n",
    "print(person2.species)  # Homo sapiens\n",
    "\n",
    "# Changing the class attribute\n",
    "Person.species = \"Homo neanderthalensis\"\n",
    "\n",
    "# Accessing the updated class attribute\n",
    "print(person1.species)  # Homo neanderthalensis\n",
    "print(person2.species)  # Homo neanderthalensis\n",
    "\n",
    "# Displaying all attributes using the display method\n",
    "person1.display()\n",
    "person2.display()\n"
   ]
  },
  {
   "cell_type": "code",
   "execution_count": 73,
   "id": "31d8a89b-db28-4b0a-9e03-cf8d86278443",
   "metadata": {},
   "outputs": [
    {
     "name": "stdout",
     "output_type": "stream",
     "text": [
      "Petrol\n",
      "object fuel is called\n"
     ]
    }
   ],
   "source": [
    "class Car:\n",
    "    def fuel():\n",
    "        print(\"Petrol\")\n",
    "    def fuel_1(self):\n",
    "        print(\"object fuel is called\")\n",
    "Car.fuel()\n",
    "c1=Car()\n",
    "c1.fuel_1()"
   ]
  },
  {
   "cell_type": "code",
   "execution_count": 7,
   "id": "cd88feca-1505-4df4-ae83-95a99a2fbab9",
   "metadata": {},
   "outputs": [
    {
     "name": "stdout",
     "output_type": "stream",
     "text": [
      "36\n",
      "40\n",
      "True\n",
      "50\n",
      "36\n",
      "50\n"
     ]
    }
   ],
   "source": [
    "class Person:\n",
    "    name = \"John\"\n",
    "    age = 36\n",
    "    country = \"Norway\"\n",
    "\n",
    "person=Person()\n",
    "x = getattr(person, 'age')\n",
    "print(x)\n",
    "setattr(person,'age',\"40\")\n",
    "x = getattr(person, 'age')\n",
    "print(x)\n",
    "x =hasattr(person,\"age\")\n",
    "print(x)\n",
    "person.age=50\n",
    "x = getattr(person, 'age')\n",
    "print(person.age)\n",
    "print(Person.age)\n",
    "print(x)\n"
   ]
  },
  {
   "cell_type": "code",
   "execution_count": 9,
   "id": "6805e0e9-040b-4f0a-b85c-2e891c6d08fd",
   "metadata": {},
   "outputs": [
    {
     "name": "stdout",
     "output_type": "stream",
     "text": [
      "111 \n",
      " 67 \n",
      " Not selected\n"
     ]
    }
   ],
   "source": [
    "class candidate:\n",
    "    def __init__(self,r,s):\n",
    "        self.regno=r\n",
    "        self.score=s\n",
    "    def selection(self):\n",
    "        if self.score > 70:\n",
    "            self.remarks=\"Selected\"\n",
    "        else:\n",
    "            self.remarks=\"Not selected\"\n",
    "    def display(self):\n",
    "        self.selection()\n",
    "        print(self.regno,\"\\n\",self.score,\"\\n\",self.remarks)\n",
    "\n",
    "c1=candidate(111,67)\n",
    "c1.display()"
   ]
  },
  {
   "cell_type": "code",
   "execution_count": 7,
   "id": "50df4bc2-029f-4f91-bb79-d4cbafd71532",
   "metadata": {},
   "outputs": [
    {
     "name": "stdin",
     "output_type": "stream",
     "text": [
      "Enter Travel Code:  345\n",
      "Enter Place:  Chennai\n",
      "Enter Number of Travelers:  8\n"
     ]
    },
    {
     "name": "stdout",
     "output_type": "stream",
     "text": [
      "Travel Code: 105\n",
      "Place: Bombay\n",
      "Number of Travelers: 15\n",
      "Number of Buses: 5\n",
      "Travel Code: 345\n",
      "Place: Chennai\n",
      "Number of Travelers: 8\n",
      "Number of Buses: 0\n"
     ]
    }
   ],
   "source": [
    "class Travel:\n",
    "    Travel_Code=int()\n",
    "    Place=str()\n",
    "    Number_of_travelers=int()\n",
    "    Number_of_buses=int()\n",
    "    def __init__(self, Travel_Code=105, Place=\"Bombay\", Number_of_travelers=15, Number_of_buses=5):\n",
    "        # Initialize the class members with default values\n",
    "        self.Travel_Code = Travel_Code\n",
    "        self.Place = Place\n",
    "        self.Number_of_travelers = Number_of_travelers\n",
    "        self.Number_of_buses = Number_of_buses\n",
    "    def read_input(self): \n",
    "        # Take input from the user to update class members\n",
    "        self.Travel_Code = int(input(\"Enter Travel Code: \"))\n",
    "        self.Place = input(\"Enter Place: \")\n",
    "        self.Number_of_travelers = int(input(\"Enter Number of Travelers: \"))\n",
    "        \n",
    "        # Assign number of buses based on the number of travelers\n",
    "        if self.Number_of_travelers >= 10:\n",
    "            self.Number_of_buses = 1\n",
    "        else:\n",
    "            self.Number_of_buses = 0\n",
    "        \n",
    "    def display(self):\n",
    "        print(f\"Travel Code: {self.Travel_Code}\")\n",
    "        print(f\"Place: {self.Place}\")\n",
    "        print(f\"Number of Travelers: {self.Number_of_travelers}\")\n",
    "        print(f\"Number of Buses: {self.Number_of_buses}\")\n",
    "\n",
    "# Create an object of Travel class\n",
    "travel = Travel()\n",
    "travel1=Travel()\n",
    "travel1.read_input()\n",
    "\n",
    "# Display the attributes of the object\n",
    "travel.display()\n",
    "travel1.display()\n"
   ]
  },
  {
   "cell_type": "code",
   "execution_count": null,
   "id": "fdb2d12f-c1ee-4724-acad-5cdcc84c08bc",
   "metadata": {},
   "outputs": [],
   "source": [
    "class Stock:\n",
    "    def __init__(self):\n",
    "        # Initialize data members with default values\n",
    "        self.item_code = 0\n",
    "        self.item_name = \"\"\n",
    "        self.price = 0.0\n",
    "        self.quantity = 0\n",
    "        self.discount = 0.0\n",
    "\n",
    "    # Method to calculate the discount\n",
    "    def CalcDisc(self):\n",
    "        if self.quantity <= 100:\n",
    "            self.discount = 0  # No discount for quantity <= 100\n",
    "        elif self.quantity <= 150:\n",
    "            self.discount = 5  # 5% discount for quantity <= 150\n",
    "        else:\n",
    "            self.discount = 10  # 10% discount for quantity > 150\n",
    "\n",
    "    # Method to enter item details from the user\n",
    "    def Enter_Details(self):\n",
    "        self.item_code = int(input(\"Enter Item Code: \"))\n",
    "        self.item_name = input(\"Enter Item Name: \")\n",
    "        self.price = float(input(\"Enter Price: \"))\n",
    "        self.quantity = int(input(\"Enter Quantity: \"))\n",
    "        self.CalcDisc()  # Call CalcDisc to calculate the discount based on quantity\n",
    "\n",
    "    # Method to display all details\n",
    "    def Display(self):\n",
    "        print(f\"Item Code: {self.item_code}\")\n",
    "        print(f\"Item Name: {self.item_name}\")\n",
    "        print(f\"Price: {self.price}\")\n",
    "        print(f\"Quantity: {self.quantity}\")\n",
    "        print(f\"Discount: {self.discount}%\")\n",
    "\n",
    "# Example of using the Stock class\n",
    "stock_item = Stock()\n",
    "\n",
    "# Enter details of the item\n",
    "stock_item.Enter_Details()\n",
    "\n",
    "# Display the entered details along with the discount\n",
    "stock_item.Display()"
   ]
  },
  {
   "cell_type": "code",
   "execution_count": 41,
   "id": "dc98b48f-8653-4d2b-9676-99d25818cd3f",
   "metadata": {},
   "outputs": [
    {
     "name": "stdout",
     "output_type": "stream",
     "text": [
      "\n",
      "Bank Account Menu:\n",
      "0. Input\n",
      "1. Deposit\n",
      "2. Withdraw\n",
      "3. Check Balance\n",
      "4. Exit\n"
     ]
    },
    {
     "name": "stdin",
     "output_type": "stream",
     "text": [
      "Choose an option:  0\n",
      "Enter Customer Name Arun\n",
      "Enter Customer Acct No 111\n",
      "Enter balance 2500\n"
     ]
    },
    {
     "name": "stdout",
     "output_type": "stream",
     "text": [
      "\n",
      "Bank Account Menu:\n",
      "0. Input\n",
      "1. Deposit\n",
      "2. Withdraw\n",
      "3. Check Balance\n",
      "4. Exit\n"
     ]
    },
    {
     "ename": "KeyboardInterrupt",
     "evalue": "Interrupted by user",
     "output_type": "error",
     "traceback": [
      "\u001b[1;31m---------------------------------------------------------------------------\u001b[0m",
      "\u001b[1;31mKeyboardInterrupt\u001b[0m                         Traceback (most recent call last)",
      "Cell \u001b[1;32mIn[41], line 42\u001b[0m\n\u001b[0;32m     39\u001b[0m \u001b[38;5;28mprint\u001b[39m(\u001b[38;5;124m\"\u001b[39m\u001b[38;5;124m4. Exit\u001b[39m\u001b[38;5;124m\"\u001b[39m)\n\u001b[0;32m     41\u001b[0m \u001b[38;5;28;01mtry\u001b[39;00m:\n\u001b[1;32m---> 42\u001b[0m     choice \u001b[38;5;241m=\u001b[39m \u001b[38;5;28mint\u001b[39m(\u001b[38;5;28minput\u001b[39m(\u001b[38;5;124m\"\u001b[39m\u001b[38;5;124mChoose an option: \u001b[39m\u001b[38;5;124m\"\u001b[39m))\n\u001b[0;32m     43\u001b[0m     \u001b[38;5;28;01mif\u001b[39;00m choice \u001b[38;5;241m==\u001b[39m \u001b[38;5;241m0\u001b[39m:\n\u001b[0;32m     44\u001b[0m         read(account)\n",
      "File \u001b[1;32m~\\anaconda3\\Lib\\site-packages\\ipykernel\\kernelbase.py:1262\u001b[0m, in \u001b[0;36mKernel.raw_input\u001b[1;34m(self, prompt)\u001b[0m\n\u001b[0;32m   1260\u001b[0m     msg \u001b[38;5;241m=\u001b[39m \u001b[38;5;124m\"\u001b[39m\u001b[38;5;124mraw_input was called, but this frontend does not support input requests.\u001b[39m\u001b[38;5;124m\"\u001b[39m\n\u001b[0;32m   1261\u001b[0m     \u001b[38;5;28;01mraise\u001b[39;00m StdinNotImplementedError(msg)\n\u001b[1;32m-> 1262\u001b[0m \u001b[38;5;28;01mreturn\u001b[39;00m \u001b[38;5;28mself\u001b[39m\u001b[38;5;241m.\u001b[39m_input_request(\n\u001b[0;32m   1263\u001b[0m     \u001b[38;5;28mstr\u001b[39m(prompt),\n\u001b[0;32m   1264\u001b[0m     \u001b[38;5;28mself\u001b[39m\u001b[38;5;241m.\u001b[39m_parent_ident[\u001b[38;5;124m\"\u001b[39m\u001b[38;5;124mshell\u001b[39m\u001b[38;5;124m\"\u001b[39m],\n\u001b[0;32m   1265\u001b[0m     \u001b[38;5;28mself\u001b[39m\u001b[38;5;241m.\u001b[39mget_parent(\u001b[38;5;124m\"\u001b[39m\u001b[38;5;124mshell\u001b[39m\u001b[38;5;124m\"\u001b[39m),\n\u001b[0;32m   1266\u001b[0m     password\u001b[38;5;241m=\u001b[39m\u001b[38;5;28;01mFalse\u001b[39;00m,\n\u001b[0;32m   1267\u001b[0m )\n",
      "File \u001b[1;32m~\\anaconda3\\Lib\\site-packages\\ipykernel\\kernelbase.py:1305\u001b[0m, in \u001b[0;36mKernel._input_request\u001b[1;34m(self, prompt, ident, parent, password)\u001b[0m\n\u001b[0;32m   1302\u001b[0m \u001b[38;5;28;01mexcept\u001b[39;00m \u001b[38;5;167;01mKeyboardInterrupt\u001b[39;00m:\n\u001b[0;32m   1303\u001b[0m     \u001b[38;5;66;03m# re-raise KeyboardInterrupt, to truncate traceback\u001b[39;00m\n\u001b[0;32m   1304\u001b[0m     msg \u001b[38;5;241m=\u001b[39m \u001b[38;5;124m\"\u001b[39m\u001b[38;5;124mInterrupted by user\u001b[39m\u001b[38;5;124m\"\u001b[39m\n\u001b[1;32m-> 1305\u001b[0m     \u001b[38;5;28;01mraise\u001b[39;00m \u001b[38;5;167;01mKeyboardInterrupt\u001b[39;00m(msg) \u001b[38;5;28;01mfrom\u001b[39;00m \u001b[38;5;28;01mNone\u001b[39;00m\n\u001b[0;32m   1306\u001b[0m \u001b[38;5;28;01mexcept\u001b[39;00m \u001b[38;5;167;01mException\u001b[39;00m:\n\u001b[0;32m   1307\u001b[0m     \u001b[38;5;28mself\u001b[39m\u001b[38;5;241m.\u001b[39mlog\u001b[38;5;241m.\u001b[39mwarning(\u001b[38;5;124m\"\u001b[39m\u001b[38;5;124mInvalid Message:\u001b[39m\u001b[38;5;124m\"\u001b[39m, exc_info\u001b[38;5;241m=\u001b[39m\u001b[38;5;28;01mTrue\u001b[39;00m)\n",
      "\u001b[1;31mKeyboardInterrupt\u001b[0m: Interrupted by user"
     ]
    }
   ],
   "source": [
    "class BankAccount:\n",
    "    \"\"\" This is Banaccount class\"\"\"\n",
    "    \n",
    "def read(a):\n",
    "        a.name = input(\"Enter Customer Name\")\n",
    "        a.acctno = input(\"Enter Customer Acct No\")\n",
    "        a.balance = int(input(\"Enter balance\"))\n",
    "\n",
    "def deposit(a):\n",
    "    amount=int(input(\"enter amount to deposit\"))\n",
    "    if amount > 0:\n",
    "        a.balance += amount\n",
    "        print(f\"Deposited: ${amount}\")\n",
    "    else:\n",
    "        print(\"Deposit amount must be greater than zero.\")\n",
    "\n",
    "def withdraw(a):\n",
    "    amount=int(input(\"enter amount to withdraw\"))\n",
    "    if amount > 0:\n",
    "        if a.balance >= amount:\n",
    "                a.balance -= amount\n",
    "                print(f\"Withdrawn: ${amount}\")\n",
    "        else:\n",
    "                print(\"Insufficient balance.\")\n",
    "    else:\n",
    "            print(\"Withdrawal amount must be greater than zero.\")\n",
    "\n",
    "def check_balance(a):\n",
    "        print(f\"Current balance: ${a.balance}\")\n",
    "\n",
    "account = BankAccount()  # Creating an account with an initial balance of 0\n",
    "\n",
    "while True:\n",
    "    print(\"\\nBank Account Menu:\")\n",
    "    print(\"0. Input\")\n",
    "    print(\"1. Deposit\")\n",
    "    print(\"2. Withdraw\")\n",
    "    print(\"3. Check Balance\")\n",
    "    print(\"4. Exit\")\n",
    "\n",
    "    try:\n",
    "        choice = int(input(\"Choose an option: \"))\n",
    "        if choice == 0:\n",
    "            read(account)\n",
    "        elif choice == 1:\n",
    "            deposit(account)\n",
    "        elif choice == 2:\n",
    "            withdraw(account)\n",
    "        elif choice == 3:\n",
    "            check_balance(account)\n",
    "        elif choice == 4:\n",
    "            print(\"Exiting the program.\")\n",
    "            break\n",
    "        else:\n",
    "            print(\"Invalid option. Please try again.\")\n",
    "    except ValueError:\n",
    "            print(\"Invalid input. Please enter a number.\")\n"
   ]
  },
  {
   "cell_type": "code",
   "execution_count": 5,
   "id": "7001e280-e4b0-46cd-93b7-58fd3950abb5",
   "metadata": {},
   "outputs": [
    {
     "name": "stdout",
     "output_type": "stream",
     "text": [
      "Constructor called. Object 1 created.\n",
      "Destructor called.Object 1 deleted.\n",
      "Hello from Object 1!\n",
      "Destructor called.Object 1 deleted.\n"
     ]
    }
   ],
   "source": [
    "class MyClass:\n",
    "    def __init__(self, name):\n",
    "        self.name = name\n",
    "        print(f\"Constructor called. {self.name} created.\")\n",
    "\n",
    "    def some_method(self):\n",
    "        print(f\"Hello from {self.name}!\")\n",
    "    def __del__(self):\n",
    "        print(f\"Destructor called.{self.name} deleted.\")\n",
    "obj1 = MyClass(\"Object 1\") # Creating objects \n",
    "obj1.some_method()\n",
    "del obj1"
   ]
  },
  {
   "cell_type": "code",
   "execution_count": 1,
   "id": "ce34dcd7-7c91-4103-8c83-febb9cd04d5e",
   "metadata": {},
   "outputs": [
    {
     "name": "stdout",
     "output_type": "stream",
     "text": [
      "Alice\n",
      "No address provided\n"
     ]
    }
   ],
   "source": [
    "class Person:\n",
    "    def __init__(self, name, age):\n",
    "        self.name = name\n",
    "        self.age = age\n",
    "\n",
    "# Create an instance of the Person class\n",
    "person = Person(\"Alice\", 30)\n",
    "\n",
    "# Get the 'name' attribute (exists)\n",
    "name = getattr(person, 'name', 'Unknown')\n",
    "print(name)  # Output: Alice\n",
    "\n",
    "# Get a non-existing 'address' attribute (doesn't exist)\n",
    "address = getattr(person, 'address', 'No address provided')\n",
    "print(address)  # Output: No address provided\n"
   ]
  },
  {
   "cell_type": "code",
   "execution_count": 83,
   "id": "c1178f40-a0a2-4eb9-a315-6c6d538edf13",
   "metadata": {
    "scrolled": true
   },
   "outputs": [
    {
     "name": "stdin",
     "output_type": "stream",
     "text": [
      "Enter name of the custome Arun\n",
      "Enter account no of cutomer 111\n",
      "Enter balance of cutomer 3000\n"
     ]
    },
    {
     "name": "stdout",
     "output_type": "stream",
     "text": [
      "\n",
      "Bank Account Menu:\n",
      "1. Deposit\n",
      "2. Withdraw\n",
      "3. Check Balance\n",
      "4. Exit\n"
     ]
    },
    {
     "name": "stdin",
     "output_type": "stream",
     "text": [
      "Choose an option:  8\n"
     ]
    },
    {
     "name": "stdout",
     "output_type": "stream",
     "text": [
      "Invalid option. Please try again.\n",
      "\n",
      "Bank Account Menu:\n",
      "1. Deposit\n",
      "2. Withdraw\n",
      "3. Check Balance\n",
      "4. Exit\n"
     ]
    },
    {
     "name": "stdin",
     "output_type": "stream",
     "text": [
      "Choose an option:  1\n",
      "Enter the amount to deposit: $ 500\n"
     ]
    },
    {
     "name": "stdout",
     "output_type": "stream",
     "text": [
      "Deposited: $500.0\n",
      "\n",
      "Bank Account Menu:\n",
      "1. Deposit\n",
      "2. Withdraw\n",
      "3. Check Balance\n",
      "4. Exit\n"
     ]
    },
    {
     "name": "stdin",
     "output_type": "stream",
     "text": [
      "Choose an option:  3\n"
     ]
    },
    {
     "name": "stdout",
     "output_type": "stream",
     "text": [
      "Current balance: $3500.0\n",
      "\n",
      "Bank Account Menu:\n",
      "1. Deposit\n",
      "2. Withdraw\n",
      "3. Check Balance\n",
      "4. Exit\n"
     ]
    },
    {
     "name": "stdin",
     "output_type": "stream",
     "text": [
      "Choose an option:  2\n",
      "Enter the amount to withdraw: $ 7000\n"
     ]
    },
    {
     "name": "stdout",
     "output_type": "stream",
     "text": [
      "Insufficient balance.\n",
      "\n",
      "Bank Account Menu:\n",
      "1. Deposit\n",
      "2. Withdraw\n",
      "3. Check Balance\n",
      "4. Exit\n"
     ]
    },
    {
     "name": "stdin",
     "output_type": "stream",
     "text": [
      "Choose an option:  2\n",
      "Enter the amount to withdraw: $ 700\n"
     ]
    },
    {
     "name": "stdout",
     "output_type": "stream",
     "text": [
      "Withdrawn: $700.0\n",
      "\n",
      "Bank Account Menu:\n",
      "1. Deposit\n",
      "2. Withdraw\n",
      "3. Check Balance\n",
      "4. Exit\n"
     ]
    },
    {
     "name": "stdin",
     "output_type": "stream",
     "text": [
      "Choose an option:  3\n"
     ]
    },
    {
     "name": "stdout",
     "output_type": "stream",
     "text": [
      "Current balance: $2800.0\n",
      "\n",
      "Bank Account Menu:\n",
      "1. Deposit\n",
      "2. Withdraw\n",
      "3. Check Balance\n",
      "4. Exit\n"
     ]
    },
    {
     "name": "stdin",
     "output_type": "stream",
     "text": [
      "Choose an option:  4\n"
     ]
    },
    {
     "name": "stdout",
     "output_type": "stream",
     "text": [
      "Exiting the program.\n"
     ]
    }
   ],
   "source": [
    "class BankAccount:\n",
    "    def __init__(self, name, ano, balance=0):\n",
    "        self.name = name\n",
    "        self.acctno = ano\n",
    "        self.balance = balance\n",
    "\n",
    "    def deposit(self, amount):\n",
    "        if amount > 0:\n",
    "            self.balance += amount\n",
    "            print(f\"Deposited: ${amount}\")\n",
    "        else:\n",
    "            print(\"Deposit amount must be greater than zero.\")\n",
    "\n",
    "    def withdraw(self, amount):\n",
    "        if amount > 0:\n",
    "            if self.balance >= amount:\n",
    "                self.balance -= amount\n",
    "                print(f\"Withdrawn: ${amount}\")\n",
    "            else:\n",
    "                print(\"Insufficient balance.\")\n",
    "        else:\n",
    "            print(\"Withdrawal amount must be greater than zero.\")\n",
    "\n",
    "    def check_balance(self):\n",
    "        print(f\"Current balance: ${self.balance}\")\n",
    "\n",
    "\n",
    "cus_name=input(\"Enter name of the custome\")\n",
    "acctno=input(\"Enter account no of cutomer\")\n",
    "bal=float(input(\"Enter balance of cutomer\"))\n",
    "account = BankAccount(cus_name,acctno,bal)  # Creating an account with an initial balance of 0\n",
    "\n",
    "while True:\n",
    "    print(\"\\nBank Account Menu:\")\n",
    "    print(\"1. Deposit\")\n",
    "    print(\"2. Withdraw\")\n",
    "    print(\"3. Check Balance\")\n",
    "    print(\"4. Exit\")\n",
    "\n",
    "    try:\n",
    "        choice = int(input(\"Choose an option: \"))\n",
    "\n",
    "        if choice == 1:\n",
    "            amount = float(input(\"Enter the amount to deposit: $\"))\n",
    "            account.deposit(amount)\n",
    "        elif choice == 2:\n",
    "            amount = float(input(\"Enter the amount to withdraw: $\"))\n",
    "            account.withdraw(amount)\n",
    "        elif choice == 3:\n",
    "            account.check_balance()\n",
    "        elif choice == 4:\n",
    "            print(\"Exiting the program.\")\n",
    "            break\n",
    "        else:\n",
    "            print(\"Invalid option. Please try again.\")\n",
    "    except ValueError:\n",
    "            print(\n",
    "                \n"
   ]
  },
  {
   "cell_type": "code",
   "execution_count": null,
   "id": "2d6413fc-312b-4bd5-b34a-36eaee43e986",
   "metadata": {},
   "outputs": [],
   "source": []
  },
  {
   "cell_type": "code",
   "execution_count": null,
   "id": "2e763ac1-2bae-4100-b972-53641f840ebd",
   "metadata": {},
   "outputs": [],
   "source": []
  },
  {
   "cell_type": "code",
   "execution_count": 9,
   "id": "ca63e7f9-db38-4c86-8b31-790db3a2ab18",
   "metadata": {},
   "outputs": [
    {
     "ename": "AttributeError",
     "evalue": "'B' object has no attribute 'name'",
     "output_type": "error",
     "traceback": [
      "\u001b[1;31m---------------------------------------------------------------------------\u001b[0m",
      "\u001b[1;31mAttributeError\u001b[0m                            Traceback (most recent call last)",
      "Cell \u001b[1;32mIn[9], line 8\u001b[0m\n\u001b[0;32m      6\u001b[0m         \u001b[38;5;28mself\u001b[39m\u001b[38;5;241m.\u001b[39mroll \u001b[38;5;241m=\u001b[39m roll\n\u001b[0;32m      7\u001b[0m b1 \u001b[38;5;241m=\u001b[39m B(\u001b[38;5;241m23\u001b[39m)\n\u001b[1;32m----> 8\u001b[0m \u001b[38;5;28mprint\u001b[39m(b1\u001b[38;5;241m.\u001b[39mname)\n",
      "\u001b[1;31mAttributeError\u001b[0m: 'B' object has no attribute 'name'"
     ]
    }
   ],
   "source": [
    "class A:\n",
    "    def __init__(self, n='Rahul'):\n",
    "        self.name = n\n",
    "class B(A):\n",
    "    def __init__(self, roll):\n",
    "        self.roll = roll\n",
    "b1 = B(23)\n",
    "print(b1.name)"
   ]
  },
  {
   "cell_type": "code",
   "execution_count": 15,
   "id": "763ad97f-4a37-4ebb-a247-2ef266e395e1",
   "metadata": {},
   "outputs": [
    {
     "name": "stdout",
     "output_type": "stream",
     "text": [
      "Ravi\n"
     ]
    }
   ],
   "source": [
    "class A:\n",
    "    def __init__(self, n='Rahul'):\n",
    "        self.name = n\n",
    "class B(A):\n",
    "    def __init__(self, name,roll):\n",
    "        super().__init__(name)\n",
    "        self.roll = roll\n",
    "b1 = B(\"Ravi\", 23)\n",
    "print(b1.name)"
   ]
  },
  {
   "cell_type": "code",
   "execution_count": 51,
   "id": "ff1a2782-8329-4ba9-a66d-e5c15c96d5d2",
   "metadata": {},
   "outputs": [
    {
     "name": "stdout",
     "output_type": "stream",
     "text": [
      "1 -- 2 -- 3 -- 4\n"
     ]
    }
   ],
   "source": [
    "class sample:\n",
    "    def __init__(self,m,n,o):\n",
    "        self.a=m\n",
    "        self.b=n\n",
    "        self.c=o\n",
    "        \n",
    "class sample_child(sample):\n",
    "    def __init__(self,m,n,o,q):\n",
    "        #super().__init__(m,n,o)\n",
    "        sample.__init__(self,m,n,o)\n",
    "        self.e=q\n",
    "    def display(self):\n",
    "        print(self.a,\"--\",self.b,\"--\",self.c,\"--\",self.e)\n",
    "s1=sample_child(1,2,3,4)\n",
    "s1.display()"
   ]
  },
  {
   "cell_type": "code",
   "execution_count": 13,
   "id": "5e16ac4f-a2f9-4525-bced-6ee1cbc33093",
   "metadata": {},
   "outputs": [
    {
     "name": "stdout",
     "output_type": "stream",
     "text": [
      "in disp B\n",
      "in disp C\n"
     ]
    }
   ],
   "source": [
    "class A:\n",
    "    def disp(self):\n",
    "        print(\"in disp A\")\n",
    "class B:\n",
    "    def disp(self):\n",
    "        print(\"in disp B\")\n",
    "class C(B,A): #reverse the order of A and B and observe the output\n",
    "    def disp(self):\n",
    "        super().disp()\n",
    "        print(\"in disp C\")\n",
    "c1=C()\n",
    "c1.disp()"
   ]
  },
  {
   "cell_type": "code",
   "execution_count": null,
   "id": "b8526213-baba-4ae7-b65c-18cf01c6bb28",
   "metadata": {},
   "outputs": [],
   "source": []
  },
  {
   "cell_type": "code",
   "execution_count": null,
   "id": "2f4d1d42-e341-4241-be10-c650eae85572",
   "metadata": {},
   "outputs": [],
   "source": []
  },
  {
   "cell_type": "code",
   "execution_count": 16,
   "id": "5ca214aa-2bb4-4c33-950c-259c1ff83f8f",
   "metadata": {},
   "outputs": [
    {
     "name": "stdout",
     "output_type": "stream",
     "text": [
      "Akash 1001\n",
      "stud class called\n",
      "Madan 103\n"
     ]
    }
   ],
   "source": [
    "#Constructor\n",
    "\n",
    "class Person:\n",
    "    def __init__(self, name, id_no):\n",
    "        self.name = name\n",
    "        self.id_no = id_no\n",
    "    def Display(self):\n",
    "        print(self.name, self.id_no)\n",
    "class stud(Person):\n",
    "    def Print(self):\n",
    "        print(\"stud class called\")       \n",
    " \n",
    "#creating an object of a person\n",
    "p = Person(\"Akash\", 1001) \n",
    "p.Display()\n",
    "# Calling child class function\n",
    "student = stud(\"Madan\", 103)\n",
    "student.Print()\n",
    "# calling parent class function\n",
    "student.Display()"
   ]
  },
  {
   "cell_type": "code",
   "execution_count": 45,
   "id": "deba036d-6632-474d-8a29-1245f9b9963a",
   "metadata": {},
   "outputs": [
    {
     "name": "stdout",
     "output_type": "stream",
     "text": [
      "Riya\n",
      "802\n",
      "50000\n",
      "Admin\n",
      "50\n",
      "Reyan\n",
      "802\n",
      "30000\n",
      "Developer\n",
      "50\n"
     ]
    }
   ],
   "source": [
    "class Person:\n",
    "    strength=50\n",
    "    def __init__(self, name, idnumber):\n",
    "        self.name = name\n",
    "        self.idnumber = idnumber\n",
    "    def display(self):\n",
    "        print(self.name)\n",
    "        print(self.idnumber)\n",
    "class Employee(Person):\n",
    "    def __init__(self, name, idnumber, salary, desgn):\n",
    "        self.salary = salary\n",
    "        self.desgn = desgn\n",
    "        Person.__init__(self, name, idnumber) #observe carefully\n",
    "    def display(self):\n",
    "        super().display()\n",
    "        print(self.salary)\n",
    "        print(self.desgn)\n",
    "        print(super().strength)\n",
    "emp = Employee('Riya', 802, 50000, \"Admin\")\n",
    "emp1 = Employee('Reyan', 802,30000,\"Developer\")\n",
    "emp.display()\n",
    "emp1.display()"
   ]
  },
  {
   "cell_type": "code",
   "execution_count": 53,
   "id": "7e4fab75-c758-478a-bc0b-3f1ff489bf27",
   "metadata": {},
   "outputs": [
    {
     "name": "stdout",
     "output_type": "stream",
     "text": [
      "True\n"
     ]
    }
   ],
   "source": [
    "t=isinstance(emp,Person)\n",
    "print(t)"
   ]
  },
  {
   "cell_type": "code",
   "execution_count": 49,
   "id": "f5401eff-e45d-4732-ad6d-fb318b55c11a",
   "metadata": {},
   "outputs": [
    {
     "name": "stdout",
     "output_type": "stream",
     "text": [
      "Arvind\n"
     ]
    }
   ],
   "source": [
    "class A:\n",
    "    def __init__(self, n='Rahul'):\n",
    "        self.name = n\n",
    "class B(A):\n",
    "    def __init__(self, roll):\n",
    "        super().__init__(\"Arvind\")\n",
    "        self.roll = roll\n",
    "b1 = B(23)\n",
    "print(b1.name)"
   ]
  },
  {
   "cell_type": "code",
   "execution_count": 55,
   "id": "e33fca9b-44c7-4c44-ab59-831bddb941ef",
   "metadata": {},
   "outputs": [
    {
     "name": "stdout",
     "output_type": "stream",
     "text": [
      "The book 'Harry Potter and the Sorcerer's Stone' was written by J.K. Rowling\n"
     ]
    }
   ],
   "source": [
    "class Author:\n",
    "    def __init__(self, name):\n",
    "        self.name = name\n",
    "        self.name = name\n",
    "class Book:\n",
    "    def __init__(self, title, author):\n",
    "        self.title = title\n",
    "        self.author = author\n",
    "author1 = Author(\"J.K. Rowling\")\n",
    "book1 = Book(\"Harry Potter and the Sorcerer's Stone\", author1)\n",
    "# Accessing Book and Author attributes\n",
    "print(f\"The book '{book1.title}' was written by {book1.author.name}\")"
   ]
  },
  {
   "cell_type": "code",
   "execution_count": null,
   "id": "1b938f7f-b31c-4ed9-9774-853604949445",
   "metadata": {},
   "outputs": [],
   "source": []
  },
  {
   "cell_type": "code",
   "execution_count": 2,
   "id": "c964db0d-4846-4f9b-a0df-891a2a69135f",
   "metadata": {},
   "outputs": [
    {
     "ename": "AttributeError",
     "evalue": "'MP3File' object has no attribute 'play1'",
     "output_type": "error",
     "traceback": [
      "\u001b[1;31m---------------------------------------------------------------------------\u001b[0m",
      "\u001b[1;31mAttributeError\u001b[0m                            Traceback (most recent call last)",
      "Cell \u001b[1;32mIn[2], line 31\u001b[0m\n\u001b[0;32m     29\u001b[0m mp3_file \u001b[38;5;241m=\u001b[39m MP3File(\u001b[38;5;124m\"\u001b[39m\u001b[38;5;124msong.mp3\u001b[39m\u001b[38;5;124m\"\u001b[39m)\n\u001b[0;32m     30\u001b[0m wav_file \u001b[38;5;241m=\u001b[39m WAVFile(\u001b[38;5;124m\"\u001b[39m\u001b[38;5;124maudio.wav\u001b[39m\u001b[38;5;124m\"\u001b[39m)\n\u001b[1;32m---> 31\u001b[0m mp3_file\u001b[38;5;241m.\u001b[39mplay1()\n\u001b[0;32m     32\u001b[0m \u001b[38;5;28mprint\u001b[39m()\n\u001b[0;32m     33\u001b[0m wav_file\u001b[38;5;241m.\u001b[39mplay()\n",
      "\u001b[1;31mAttributeError\u001b[0m: 'MP3File' object has no attribute 'play1'"
     ]
    }
   ],
   "source": [
    "# Base class: AudioFile\n",
    "class AudioFile:\n",
    "    def __init__(self, filename):\n",
    "        self.filename = filename\n",
    "\n",
    "    def play(self):\n",
    "        pass\n",
    "# MP3File class inheriting AudioFile\n",
    "class MP3File(AudioFile):\n",
    "    def __init__(self, filename):\n",
    "        super().__init__(filename)\n",
    "\n",
    "    def play(self):\n",
    "        print(f\"Playing MP3 file: {self.filename}\")\n",
    "        # Add specific MP3 play functionality (e.g., using an MP3 player library)\n",
    "        print(\"Initializing MP3 player...\")\n",
    "        print(\"MP3 file is now playing.\")\n",
    "# WAVFile class inheriting AudioFile\n",
    "class WAVFile(AudioFile):\n",
    "    def __init__(self, filename):\n",
    "        super().__init__(filename)\n",
    "\n",
    "    def play(self):\n",
    "        print(f\"Playing WAV file: {self.filename}\")\n",
    "        # Add specific WAV play functionality (e.g., using a WAV player library)\n",
    "        print(\"Initializing WAV player...\")\n",
    "        print(\"WAV file is now playing.\")\n",
    "\n",
    "mp3_file = MP3File(\"song.mp3\")\n",
    "wav_file = WAVFile(\"audio.wav\")\n",
    "mp3_file.play1()\n",
    "print()\n",
    "wav_file.play()\n"
   ]
  },
  {
   "cell_type": "code",
   "execution_count": 27,
   "id": "8930e836-cef0-4388-986a-c5264d0cc107",
   "metadata": {},
   "outputs": [
    {
     "name": "stdout",
     "output_type": "stream",
     "text": [
      "Car speed: 10.00 km/h\n",
      "Bike speed: 30.00 km/h\n"
     ]
    }
   ],
   "source": [
    "# Base class: Vehicle\n",
    "class Vehicle():\n",
    "    def __init__(self, weight):\n",
    "        self.weight = weight  # weight of the vehicle in kilograms\n",
    "\n",
    "    def calculate_speed(self):\n",
    "        pass\n",
    "\n",
    "# Subclass: Car\n",
    "class Car(Vehicle):\n",
    "    def __init__(self, weight, horsepower):\n",
    "        super().__init__(weight)\n",
    "        self.horsepower = horsepower  # horsepower of the car\n",
    "\n",
    "    def calculate_speed(self):\n",
    "        # Speed calculation for Car (simplified formula)\n",
    "        # speed = (horsepower / weight) * constant_factor (for simplicity, constant_factor = 100)\n",
    "        speed = (self.horsepower / self.weight) * 100\n",
    "        return speed\n",
    "\n",
    "# Subclass: Bike\n",
    "class Bike(Vehicle):\n",
    "    def __init__(self, weight, engine_displacement):\n",
    "        super().__init__(weight)\n",
    "        self.engine_displacement = engine_displacement  # engine displacement in cc (cubic centimeters)\n",
    "\n",
    "    def calculate_speed(self):\n",
    "        # Speed calculation for Bike (simplified formula)\n",
    "        # speed = (engine_displacement / weight) * constant_factor (for simplicity, constant_factor = 10)\n",
    "        speed = (self.engine_displacement / self.weight) * 10\n",
    "        return speed\n",
    "\n",
    "# Example usage:\n",
    "car = Car(weight=1500, horsepower=150)\n",
    "bike = Bike(weight=200, engine_displacement=600)\n",
    "print(f\"Car speed: {car.calculate_speed():.2f} km/h\")\n",
    "print(f\"Bike speed: {bike.calculate_speed():.2f} km/h\")\n"
   ]
  },
  {
   "cell_type": "code",
   "execution_count": 11,
   "id": "a32589c5-62ec-48ef-a987-3e4601af0dc3",
   "metadata": {},
   "outputs": [
    {
     "name": "stdout",
     "output_type": "stream",
     "text": [
      "Error: division by zero\n",
      "This will always execute, regardless of exceptions.\n"
     ]
    }
   ],
   "source": [
    "try:\n",
    "    result = 10 / 0 # This will raise a ZeroDivisionError\n",
    "except ZeroDivisionError as e:\n",
    "    print(\"Error:\", e)  # Handling the ZeroDivisionError\n",
    "else:\n",
    "    print(\"No exceptions occurred.\")\n",
    "finally:\n",
    "    print(\"This will always execute, regardless of exceptions.\")\n"
   ]
  },
  {
   "cell_type": "code",
   "execution_count": 33,
   "id": "25fcf801-ad98-4049-9c46-673592bd68f3",
   "metadata": {},
   "outputs": [
    {
     "name": "stdin",
     "output_type": "stream",
     "text": [
      "Enter first number:  7\n",
      "Enter second number:  2\n",
      "Enter an index for the list:  4\n"
     ]
    },
    {
     "name": "stdout",
     "output_type": "stream",
     "text": [
      "IndexError: Index is out of range.\n",
      "This will always execute, regardless of exceptions.\n"
     ]
    }
   ],
   "source": [
    "try:\n",
    "    num1 = int(input(\"Enter first number: \"))\n",
    "    num2 = int(input(\"Enter second number: \"))\n",
    "    result = num1 / num2 # This might raise a ZeroDivisionError\n",
    "    my_list = [1, 2, 3]\n",
    "    index = int(input(\"Enter an index for the list: \"))\n",
    "    value = my_list[index] # This might raise an IndexError\n",
    "except ValueError:\n",
    "    print(\"ValueError: Please enter a valid number.\")\n",
    "except ZeroDivisionError:\n",
    "    print(\"ZeroDivisionError: Cannot divide by zero.\")\n",
    "except IndexError:\n",
    "    print(\"IndexError: Index is out of range.\")\n",
    "else:\n",
    "    print(\"No exceptions occurred.\")\n",
    "finally:\n",
    "    print(\"This will always execute, regardless of exceptions.\")"
   ]
  },
  {
   "cell_type": "code",
   "execution_count": 35,
   "id": "b543b221-a145-464e-ba4f-0645944892ed",
   "metadata": {},
   "outputs": [
    {
     "name": "stdout",
     "output_type": "stream",
     "text": [
      "1\n",
      "2\n",
      "3\n",
      "4\n"
     ]
    }
   ],
   "source": [
    "#user defined Iterator\n",
    "class MyRange:\n",
    "    def __init__(self, start, end):\n",
    "        self.start = start\n",
    "        self.end = end\n",
    "\n",
    "    def __iter__(self):\n",
    "        # This method returns an iterator object\n",
    "        self.current = self.start\n",
    "        return self\n",
    "\n",
    "    def __next__(self):\n",
    "        if self.current >= self.end:\n",
    "            raise StopIteration  # End of iteration\n",
    "        self.current += 1\n",
    "        return self.current - 1\n",
    "\n",
    "# Usage of the MyRange class\n",
    "my_range = MyRange(1, 5)\n",
    "for num in my_range:\n",
    "    print(num)"
   ]
  },
  {
   "cell_type": "code",
   "execution_count": 37,
   "id": "93473c56-0a9a-4542-802a-c02b291debcc",
   "metadata": {},
   "outputs": [
    {
     "name": "stdout",
     "output_type": "stream",
     "text": [
      "apple\n",
      "banana\n",
      "orange\n",
      "dates\n",
      "cherry\n"
     ]
    }
   ],
   "source": [
    "#user defined Iterator\n",
    "class MyContainer:\n",
    "    def __init__(self, mylist):\n",
    "        self.mylist = mylist\n",
    "    def __iter__(self):\n",
    "        self.i=0\n",
    "        return self\n",
    "    def __next__ (self):\n",
    "        self.i += 1\n",
    "        if self.i <= len(self.mylist):\n",
    "            return self.mylist[self.i - 1]\n",
    "        else: \n",
    "            raise StopIteration\n",
    "a = ['apple', 'banana', 'orange', 'dates', 'cherry']\n",
    "c = MyContainer(a) \n",
    "for w in c : \n",
    "    print(w)\n"
   ]
  },
  {
   "cell_type": "code",
   "execution_count": null,
   "id": "a07d3771-7e14-4c54-b1de-a696c27115f0",
   "metadata": {},
   "outputs": [],
   "source": [
    "#interface concept in Python\n",
    "from abc import ABC, abstractmethod\n",
    "\n",
    "class MyInterface(ABC):\n",
    "    @abstractmethod\n",
    "    def method1(self):\n",
    "        #print(\"abstract method\")\n",
    "        pass\n",
    "\n",
    "    @abstractmethod\n",
    "    def method2(self):\n",
    "        pass\n",
    "\n",
    "class MyClass(MyInterface):\n",
    "    def method1(self):\n",
    "        print(\"Method 1 implemented\")\n",
    "\n",
    "    def method2(self):\n",
    "        print(\"Method 2 implemented\")\n",
    "\n",
    "# Trying to instantiate MyInterface would raise an error\n",
    "# obj = MyInterface()  # TypeError: Can't instantiate abstract class MyInterface with abstract methods method1, method2\n",
    "#aobj=MyInterface()\n",
    "#aobj.method1()\n",
    "obj = MyClass()\n",
    "obj.method1()  # Output: Method 1 implemented\n",
    "obj.method2()  # Output: Method 2 implemented"
   ]
  },
  {
   "cell_type": "code",
   "execution_count": 9,
   "id": "68f336a5-84ad-4404-9862-cb38f4b8170c",
   "metadata": {},
   "outputs": [
    {
     "name": "stdout",
     "output_type": "stream",
     "text": [
      "An error occurred: invalid literal for int() with base 10: 'abc'\n"
     ]
    }
   ],
   "source": [
    "try:\n",
    "    # Some code that may raise an exception\n",
    "    #y=\"a\"+2 #typeerror\n",
    "    number = int(\"abc\")\n",
    "    x = 1 / 0  # This will raise a ZeroDivisionError\n",
    "except (ZeroDivisionError, ValueError, TypeError) as e:\n",
    "    print(f\"An error occurred: {e}\")"
   ]
  },
  {
   "cell_type": "code",
   "execution_count": 7,
   "id": "65abc4a4-3d0b-4458-83c0-ddc298a5fcdc",
   "metadata": {},
   "outputs": [
    {
     "name": "stdout",
     "output_type": "stream",
     "text": [
      "A ValueError occurred: invalid literal for int() with base 10: 'abc'\n"
     ]
    }
   ],
   "source": [
    "try:\n",
    "    # Try to convert a string to an integer\n",
    "    number = int(\"abc\")  # This will raise a ValueError\n",
    "except ValueError as e:\n",
    "    print(f\"A ValueError occurred: {e}\")"
   ]
  },
  {
   "cell_type": "code",
   "execution_count": 19,
   "id": "8334d2cb-6320-44c6-8913-ba24c1dad3df",
   "metadata": {},
   "outputs": [
    {
     "name": "stdin",
     "output_type": "stream",
     "text": [
      "Enter the number 189\n"
     ]
    },
    {
     "name": "stdout",
     "output_type": "stream",
     "text": [
      "Number not in range\n",
      "Program Terminated\n"
     ]
    }
   ],
   "source": [
    "class MyException(Exception): #inherits from the Exception class\n",
    "    def __init__(self, str):\n",
    "        self.str = str\n",
    "    def __str__(self):\n",
    "        return self.str\n",
    "# check whether n is between 1 and 100\n",
    "#n = int(input(\"Enter a number:\"))\n",
    "try:\n",
    "    n = int(input(\"Enter the number\"))\n",
    "    if not 1 <= n <= 100 :\n",
    "        raise MyException(\"Number not in range\")\n",
    "except MyException as e:\n",
    "    print(e)\n",
    "else:\n",
    "    print(\"Number well within the range\")\n",
    "print(\"Program Terminated\")"
   ]
  },
  {
   "cell_type": "code",
   "execution_count": 23,
   "id": "e6f40c3c-abd5-45c0-80e6-398117d759b5",
   "metadata": {},
   "outputs": [
    {
     "name": "stdin",
     "output_type": "stream",
     "text": [
      "Enter the first number 56\n",
      "Enter the second number 5\n"
     ]
    },
    {
     "name": "stdout",
     "output_type": "stream",
     "text": [
      "Dividing by 5 not possible\n",
      "Program ends\n"
     ]
    }
   ],
   "source": [
    "class FiveDivisionError(Exception):\n",
    "    pass\n",
    "try:\n",
    "    n1=int(input(\"Enter the first number\"))\n",
    "    n2=int(input(\"Enter the second number\"))\n",
    "    if n2==5:\n",
    "        raise FiveDivisionError(\"Dividing by 5 not possible\")\n",
    "    d=n1/n2\n",
    "    print(\"The answer is\",d)\n",
    "except (FiveDivisionError,ZeroDivisionError) as e:\n",
    "    print(e)\n",
    "print(\"Program ends\")"
   ]
  }
 ],
 "metadata": {
  "kernelspec": {
   "display_name": "Python 3 (ipykernel)",
   "language": "python",
   "name": "python3"
  },
  "language_info": {
   "codemirror_mode": {
    "name": "ipython",
    "version": 3
   },
   "file_extension": ".py",
   "mimetype": "text/x-python",
   "name": "python",
   "nbconvert_exporter": "python",
   "pygments_lexer": "ipython3",
   "version": "3.11.7"
  }
 },
 "nbformat": 4,
 "nbformat_minor": 5
}
