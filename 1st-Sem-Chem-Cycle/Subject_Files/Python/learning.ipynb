{
 "cells": [
  {
   "cell_type": "code",
   "execution_count": 3,
   "metadata": {},
   "outputs": [
    {
     "data": {
      "text/plain": [
       "'nap'"
      ]
     },
     "execution_count": 3,
     "metadata": {},
     "output_type": "execute_result"
    }
   ],
   "source": [
    "'''\n",
    "    Reversing a word using recusion\n",
    "'''\n",
    "def reverse(word: str) ->str:\n",
    "    if not word:\n",
    "        return \"\"\n",
    "    return word[-1] + reverse(word[:-1])\n",
    "\n",
    "print(\"The reverse is:\",reverse(input(\"Enter the string: \")))"
   ]
  },
  {
   "cell_type": "code",
   "execution_count": 11,
   "metadata": {},
   "outputs": [
    {
     "name": "stdout",
     "output_type": "stream",
     "text": [
      "(0, 909)\n",
      "909\n"
     ]
    }
   ],
   "source": [
    "li = [29, 909,34]\n",
    "print(min(((int(str(x)[1]), x) for x in li if x > 10)))\n",
    "print(min(li, key = lambda x: int(str(x)[1]) if x >10 else 10))"
   ]
  },
  {
   "cell_type": "code",
   "execution_count": 2,
   "metadata": {},
   "outputs": [
    {
     "name": "stdout",
     "output_type": "stream",
     "text": [
      "['C7', 'Nr', 'Mi']\n",
      "3\n"
     ]
    }
   ],
   "source": [
    "name = [\"CR7\", \"Neymar\", \"Messi\"]\n",
    "out = [x[0]+x[-1] for x in name if len(x) >=3]\n",
    "print(out)\n",
    "\n",
    "s = \"This is final exam\"\n",
    "out = [x for x in s if x.isspace()]\n",
    "print(len(out))"
   ]
  },
  {
   "cell_type": "code",
   "execution_count": 2,
   "metadata": {},
   "outputs": [
    {
     "name": "stdout",
     "output_type": "stream",
     "text": [
      "[(2, 1), (2, 3), (2, 5), (2, 7), (2, 9), (4, 1), (4, 3), (4, 5), (4, 7), (4, 9), (6, 1), (6, 3), (6, 5), (6, 7), (6, 9), (8, 1), (8, 3), (8, 5), (8, 7), (8, 9), (10, 1), (10, 3), (10, 5), (10, 7), (10, 9)]\n",
      "[2, 3, 4, 5, 6, 7, 8, 9, 10, 11, 3, 4, 5, 6, 7, 8, 9, 10, 11, 12, 4, 5, 6, 7, 8, 9, 10, 11, 12, 13, 5, 6, 7, 8, 9, 10, 11, 12, 13, 14, 6, 7, 8, 9, 10, 11, 12, 13, 14, 15, 7, 8, 9, 10, 11, 12, 13, 14, 15, 16, 8, 9, 10, 11, 12, 13, 14, 15, 16, 17, 9, 10, 11, 12, 13, 14, 15, 16, 17, 18, 10, 11, 12, 13, 14, 15, 16, 17, 18, 19, 11, 12, 13, 14, 15, 16, 17, 18, 19, 20]\n"
     ]
    }
   ],
   "source": [
    "x = [1,2,3,4,5,6,7,8,9,10]\n",
    "y = [1,2,3,4,5,6,7,8,9,10]\n",
    "print([(v,w) for v in x if v%2==0 for w in y if w%2 != 0])\n",
    "print([(v+w) for v in x for w in y])\n"
   ]
  },
  {
   "cell_type": "code",
   "execution_count": 3,
   "metadata": {},
   "outputs": [
    {
     "name": "stdout",
     "output_type": "stream",
     "text": [
      "Within Bound\n"
     ]
    }
   ],
   "source": [
    "class OutOfBoundsError(Exception):\n",
    "    def __str__(self):\n",
    "        return \"Number Out of Bounds\"\n",
    "    \n",
    "try:\n",
    "    n = 10\n",
    "    if n >100:\n",
    "        raise OutOfBoundsError()\n",
    "    \n",
    "except OutOfBoundsError as e:\n",
    "    print(e)\n",
    "\n",
    "else:\n",
    "    print(\"Within Bound\")"
   ]
  },
  {
   "cell_type": "code",
   "execution_count": 3,
   "metadata": {},
   "outputs": [
    {
     "name": "stdout",
     "output_type": "stream",
     "text": [
      "0\n",
      "1\n",
      "2\n",
      "3\n",
      "4\n"
     ]
    }
   ],
   "source": [
    "import time\n",
    "\n",
    "for i in range(5):\n",
    "    print(i, flush=True)\n",
    "    time.sleep(1)"
   ]
  },
  {
   "cell_type": "code",
   "execution_count": 3,
   "metadata": {},
   "outputs": [
    {
     "name": "stdout",
     "output_type": "stream",
     "text": [
      "The factors are: 1 89\n"
     ]
    }
   ],
   "source": [
    "user = int(input(\"Enter a number: \"))\n",
    "factors = []\n",
    "n = user\n",
    "i = 2\n",
    "while True:\n",
    "    if n % i == 0:\n",
    "        n = n // i\n",
    "        factors.append(i)\n",
    "        i = 2\n",
    "    else:\n",
    "        i += 1\n",
    "    \n",
    "    \n",
    "    if n == 1:\n",
    "        break\n",
    "\n",
    "\n",
    "factors.insert(0, 1)\n",
    "if user not in factors:\n",
    "    factors.insert(len(factors), user)\n",
    "print('The factors are:', *factors)"
   ]
  },
  {
   "cell_type": "code",
   "execution_count": null,
   "metadata": {},
   "outputs": [],
   "source": []
  },
  {
   "cell_type": "code",
   "execution_count": null,
   "metadata": {},
   "outputs": [],
   "source": []
  }
 ],
 "metadata": {
  "kernelspec": {
   "display_name": "Python 3",
   "language": "python",
   "name": "python3"
  },
  "language_info": {
   "codemirror_mode": {
    "name": "ipython",
    "version": 3
   },
   "file_extension": ".py",
   "mimetype": "text/x-python",
   "name": "python",
   "nbconvert_exporter": "python",
   "pygments_lexer": "ipython3",
   "version": "3.12.6"
  }
 },
 "nbformat": 4,
 "nbformat_minor": 2
}
