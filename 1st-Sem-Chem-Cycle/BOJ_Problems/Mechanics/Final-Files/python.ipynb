{
 "cells": [
  {
   "cell_type": "markdown",
   "metadata": {},
   "source": [
    "Python Solution for Mechanics Problems"
   ]
  },
  {
   "cell_type": "code",
   "execution_count": 1,
   "metadata": {},
   "outputs": [
    {
     "name": "stdout",
     "output_type": "stream",
     "text": [
      "The angle between the forces is: 51.3178 degrees\n"
     ]
    }
   ],
   "source": [
    "\n",
    "'''\n",
    "    Type: Bananna\n",
    "    Program no.: 1\n",
    "    Question no.: 1\n",
    "    Problem no. as per Question PDF: 2 \n",
    "'''\n",
    "from math import acos, degrees\n",
    "F1 = float(input(\"Enter the magnitude of F1 (in N): \"))\n",
    "F2 = float(input(\"Enter the magnitude of F2 (in N): \"))\n",
    "R = float(input(\"Enter the resultant force (in N): \"))\n",
    "cos_theta = (R**2 - F1**2 - F2**2) / (2 * F1 * F2)\n",
    "theta = degrees(acos(cos_theta))\n",
    "print(f\"The angle between the forces is: {theta:.4f} degrees\")\n"
   ]
  },
  {
   "cell_type": "code",
   "execution_count": 16,
   "metadata": {},
   "outputs": [
    {
     "name": "stdout",
     "output_type": "stream",
     "text": [
      "The Tension T in vector Form: 266.78i - 732.96j N\n",
      "Moment at B: 178.06\n",
      "The Moment at O: 253.94\n"
     ]
    }
   ],
   "source": [
    "'''\n",
    "    Type: Bananna\n",
    "    Program no.: 2\n",
    "    Question no.: 2\n",
    "    Problem no. as per Question PDF: 5\n",
    "'''\n",
    "from math import sin, cos, tan, radians\n",
    "tension = float(input('Enter The Tension T: '))\n",
    "\n",
    "#To Find Tension T in Vector Form\n",
    "print(f'The Tension T in vector Form: {'{:.2f}'.format(tension * sin(radians(20)))}i - {'{:.2f}'.format(tension * cos(radians(20)))}j N')\n",
    "\n",
    "#To Calculate Moment at Mb and Mo\n",
    "M_b = float('{:.2f}'.format((tension * sin(radians(50)) * (0.298))))\n",
    "print(f'Moment at B: {M_b} Nm')\n",
    "print(f'The Moment at O: {'{:.2f}'.format(M_b + (tension * sin(radians(50)) * (0.127)))} Nm')"
   ]
  },
  {
   "cell_type": "code",
   "execution_count": 3,
   "metadata": {},
   "outputs": [
    {
     "name": "stdout",
     "output_type": "stream",
     "text": [
      "Total tension in the cable system (T): 981.00 N\n",
      "Tension in each segment (T/4): 245.25 N\n"
     ]
    }
   ],
   "source": [
    "'''\n",
    "    Type: Orange\n",
    "    Program no.: 3\n",
    "    Question no.: 3\n",
    "    Problem no. as per Question PDF: 8 \n",
    "'''\n",
    "\n",
    "mass = float(input(\"Enter the mass of the load (in kg): \"))\n",
    "num_segments = int(input(\"Enter the number of cable segments supporting the load: \"))\n",
    "\n",
    "g = 9.81  # Acceleration due to gravity in m/s^2\n",
    "\n",
    "total_tension = mass * g  # Total tension in the system\n",
    "tension_per_segment = total_tension / num_segments  # Tension per segment\n",
    "\n",
    "print(f\"Total tension in the cable system (T): {total_tension:.2f} N\")\n",
    "print(f\"Tension in each segment (T/{num_segments}): {tension_per_segment:.2f} N\")"
   ]
  },
  {
   "cell_type": "code",
   "execution_count": 6,
   "metadata": {},
   "outputs": [
    {
     "name": "stdout",
     "output_type": "stream",
     "text": [
      "Tension in CD (T_CD): 294.30 N\n",
      "Tension in AC (T_AC): 147.15 N\n",
      "Tension in BC (T_BC): 208.10 N\n"
     ]
    }
   ],
   "source": [
    "'''\n",
    "    Type: Orange\n",
    "    Program no.: 4\n",
    "    Question no.: 4\n",
    "    Problem no. as per Question PDF: 9\n",
    "'''\n",
    "from math import sin, cos, tan, radians\n",
    "\n",
    "weight = float(input(\"Enter the weight of the object (kg): \"))\n",
    "angle_AC = float(input(\"Enter the angle between AC and vertical (degrees): \"))\n",
    "angle_BC = float(input(\"Enter the angle between BC and vertical (degrees): \"))\n",
    "\n",
    "g = 9.81\n",
    "\n",
    "T_CD = weight * g\n",
    "print(f\"Tension in CD (T_CD): {T_CD:.2f} N\")\n",
    "T_AC = T_CD * cos(radians(angle_AC))\n",
    "print(f\"Tension in AC (T_AC): {T_AC:.2f} N\")\n",
    "T_BC = T_CD * cos(radians(angle_BC))\n",
    "print(f\"Tension in BC (T_BC): {T_BC:.2f} N\")\n"
   ]
  },
  {
   "cell_type": "code",
   "execution_count": 5,
   "metadata": {},
   "outputs": [
    {
     "name": "stdout",
     "output_type": "stream",
     "text": [
      "The Co-efficient of Friction is: 0.398\n",
      "The Minimum Distance is: 126.02 m\n"
     ]
    }
   ],
   "source": [
    "'''\n",
    "    Type: Jackkfruit\n",
    "    Program no.: 5\n",
    "    Question no.: 5\n",
    "    Problem no. as per Question PDF: 18 \n",
    "'''\n",
    "from math import sin, cos, tan, radians\n",
    "man_weight = float(input('Enter the weigth of the Man: '))\n",
    "cart_weight = float(input('Enter the weigth of the Cart: '))\n",
    "\n",
    "theta = 16.667\n",
    "\n",
    "# To find T\n",
    "T = float('{:.2f}'.format((cart_weight * sin(radians(theta))) / cos(radians(40))))\n",
    "\n",
    "#To Find N\n",
    "N = float('{:.2f}'.format(man_weight * sin(radians(theta)) + T * cos(radians(40))))\n",
    "\n",
    "#To Find F\n",
    "F  = float('{:.2f}'.format(man_weight * cos(radians(theta)) + T * cos(radians(40))))\n",
    "\n",
    "#To Find Mu\n",
    "print(f\"The Co-efficient of Friction is: {'{:.3f}'.format(N/F)}\")\n",
    "\n",
    "#To Find Distance\n",
    "dist = '{:.2f}'.format((T * 175 * sin(radians(40 + theta)) + T * 850 * cos(radians(40 + theta)))/82)\n",
    "print(f\"The Minimum Distance is: {dist} m\")\n"
   ]
  },
  {
   "cell_type": "code",
   "execution_count": 7,
   "metadata": {},
   "outputs": [
    {
     "name": "stdout",
     "output_type": "stream",
     "text": [
      "The Maximum Distance that Painter Can Climb without Sliping is: 2.55 m\n"
     ]
    }
   ],
   "source": [
    "'''\n",
    "    Type: Jackkfruit\n",
    "    Program no.: 6\n",
    "    Question no.: 6\n",
    "    Problem no. as per Question PDF: 19 \n",
    "'''\n",
    "from math import sin, cos, tan, radians\n",
    "painter_weight = float(input('Enter mass of the painter: '))\n",
    "ladder_weight = float(input('Enter the mass of the ladder: '))\n",
    "ladder_height = float(input('Enter Ladder Height: '))\n",
    "static_friction = float(input('Enter the Co-Efficient of static friction: '))\n",
    "\n",
    "\n",
    "#To Find Na\n",
    "N_a = painter_weight * 9.81 + ladder_weight * 9.81\n",
    "\n",
    "#To Find X\n",
    "X = (N_a * 1.5 - ladder_weight * 9.81 * 0.75 - static_friction * N_a * 3.71 ) / (painter_weight * 9.81)\n",
    "X = float('{:.3f}'.format(X))\n",
    "D = 1.5 - X\n",
    "cosine_of_ladder = ladder_height / 1.5\n",
    "\n",
    "#To Find Distance S\n",
    "S = D * cosine_of_ladder\n",
    "\n",
    "print(f'The Maximum Distance that Painter Can Climb without Sliping is: {'{:.2f}'.format(S)} m')"
   ]
  },
  {
   "cell_type": "code",
   "execution_count": null,
   "metadata": {},
   "outputs": [],
   "source": []
  },
  {
   "cell_type": "code",
   "execution_count": null,
   "metadata": {},
   "outputs": [],
   "source": []
  }
 ],
 "metadata": {
  "kernelspec": {
   "display_name": "Python 3",
   "language": "python",
   "name": "python3"
  },
  "language_info": {
   "codemirror_mode": {
    "name": "ipython",
    "version": 3
   },
   "file_extension": ".py",
   "mimetype": "text/x-python",
   "name": "python",
   "nbconvert_exporter": "python",
   "pygments_lexer": "ipython3",
   "version": "3.12.6"
  }
 },
 "nbformat": 4,
 "nbformat_minor": 2
}
